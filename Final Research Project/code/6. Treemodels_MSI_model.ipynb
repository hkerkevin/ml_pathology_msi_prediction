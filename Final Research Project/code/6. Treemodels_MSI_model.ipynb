{
 "cells": [
  {
   "cell_type": "code",
   "execution_count": 1,
   "metadata": {},
   "outputs": [],
   "source": [
    "from sklearn.metrics import roc_curve\n",
    "from sklearn.metrics import auc\n",
    "import matplotlib.pyplot as plt\n",
    "from sklearn.metrics import accuracy_score\n",
    "from sklearn.metrics import roc_auc_score\n",
    "from sklearn.metrics import confusion_matrix\n",
    "from sklearn.model_selection import train_test_split\n",
    "from sklearn.model_selection import GridSearchCV\n",
    "from sklearn.model_selection import validation_curve\n",
    "\n",
    "import numpy as np\n",
    "import pandas as pd\n",
    "import itertools\n",
    "from sklearn import tree\n",
    "from imblearn.over_sampling import SMOTE\n",
    "from sklearn.preprocessing import StandardScaler\n",
    "from sklearn.preprocessing import MinMaxScaler\n",
    "from sklearn import *\n",
    "from lightgbm import LGBMClassifier\n",
    "\n",
    "from mlxtend.evaluate import confusion_matrix\n",
    "from mlxtend.plotting import plot_confusion_matrix\n",
    "import seaborn as sns\n",
    "%matplotlib inline"
   ]
  },
  {
   "cell_type": "code",
   "execution_count": 2,
   "metadata": {},
   "outputs": [],
   "source": [
    "def get_auc_scores(clf, X_train, X_test, y_train, y_test):\n",
    "    '''Prints the AUC scores for training and testing data\n",
    "    and returns testing score'''\n",
    "\n",
    "    y_train_score = clf.predict_proba(X_train)[:, 1]\n",
    "    y_test_score = clf.predict_proba(X_test)[:, 1]\n",
    "    print('Training AUC:' , roc_auc_score(y_train, y_train_score))\n",
    "    print('Testing AUC: ', roc_auc_score(y_test, y_test_score))\n",
    " \n",
    "    return y_test_score\n",
    "\n",
    "def plot_roc_curve(y_test, y_test_score):\n",
    "    '''Plot ROC curve for testing data'''\n",
    "    fpr, tpr, _ = roc_curve(y_test, y_test_score)\n",
    "    roc_auc = auc(fpr, tpr)\n",
    "    plt.figure()\n",
    "    plt.plot(fpr, tpr, label='ROC curve (area = %0.2f)' % roc_auc)\n",
    "#     plt.plot([0, 1], [0, 1], 'k — ')\n",
    "    plt.xlim([0.0, 1.0])\n",
    "    plt.ylim([0.0, 1.05])\n",
    "    plt.xlabel('False Positive Rate')\n",
    "    plt.ylabel('True Positive Rate')\n",
    "    plt.title('Receiver operating characteristic')\n",
    "    plt.legend(loc='lower right')\n",
    "    plt.show()\n",
    "\n",
    "#https://medium.com/swlh/how-to-code-and-evaluate-of-decision-trees-2d94093b3c1a"
   ]
  },
  {
   "cell_type": "code",
   "execution_count": 3,
   "metadata": {},
   "outputs": [],
   "source": [
    "## fix random seed\n",
    "import random\n",
    "random.seed(222)"
   ]
  },
  {
   "cell_type": "markdown",
   "metadata": {},
   "source": [
    "# Data Preprocessing"
   ]
  },
  {
   "cell_type": "code",
   "execution_count": 4,
   "metadata": {},
   "outputs": [],
   "source": [
    "path = pd.read_csv(\"../Data/cleansed_final.csv\")"
   ]
  },
  {
   "cell_type": "code",
   "execution_count": 5,
   "metadata": {},
   "outputs": [],
   "source": [
    "final = path[[\"MSI\",\"Under50\",\"TILS\", \"Stage12\", \"Signet\", \"RightSide\",\"NoNecrosis\", \"Mucin\", \"ModDiff\", \"HistHet\", \"Female\", \"Expansile\", \"CrohnMissing\", \"Crohn\", \"AngioLymph\"]]"
   ]
  },
  {
   "cell_type": "code",
   "execution_count": 6,
   "metadata": {},
   "outputs": [
    {
     "data": {
      "text/html": [
       "<div>\n",
       "<style scoped>\n",
       "    .dataframe tbody tr th:only-of-type {\n",
       "        vertical-align: middle;\n",
       "    }\n",
       "\n",
       "    .dataframe tbody tr th {\n",
       "        vertical-align: top;\n",
       "    }\n",
       "\n",
       "    .dataframe thead th {\n",
       "        text-align: right;\n",
       "    }\n",
       "</style>\n",
       "<table border=\"1\" class=\"dataframe\">\n",
       "  <thead>\n",
       "    <tr style=\"text-align: right;\">\n",
       "      <th></th>\n",
       "      <th>MSI</th>\n",
       "      <th>Under50</th>\n",
       "      <th>TILS</th>\n",
       "      <th>Stage12</th>\n",
       "      <th>Signet</th>\n",
       "      <th>RightSide</th>\n",
       "      <th>NoNecrosis</th>\n",
       "      <th>Mucin</th>\n",
       "      <th>ModDiff</th>\n",
       "      <th>HistHet</th>\n",
       "      <th>Female</th>\n",
       "      <th>Expansile</th>\n",
       "      <th>CrohnMissing</th>\n",
       "      <th>Crohn</th>\n",
       "      <th>AngioLymph</th>\n",
       "    </tr>\n",
       "  </thead>\n",
       "  <tbody>\n",
       "    <tr>\n",
       "      <th>MSI</th>\n",
       "      <td>1.000000</td>\n",
       "      <td>0.016604</td>\n",
       "      <td>0.254277</td>\n",
       "      <td>0.054910</td>\n",
       "      <td>0.092552</td>\n",
       "      <td>0.193266</td>\n",
       "      <td>0.236852</td>\n",
       "      <td>0.191733</td>\n",
       "      <td>0.259828</td>\n",
       "      <td>0.092695</td>\n",
       "      <td>0.071438</td>\n",
       "      <td>0.110845</td>\n",
       "      <td>0.044430</td>\n",
       "      <td>0.071424</td>\n",
       "      <td>0.004327</td>\n",
       "    </tr>\n",
       "    <tr>\n",
       "      <th>Under50</th>\n",
       "      <td>0.016604</td>\n",
       "      <td>1.000000</td>\n",
       "      <td>-0.031544</td>\n",
       "      <td>-0.065956</td>\n",
       "      <td>0.031272</td>\n",
       "      <td>-0.033558</td>\n",
       "      <td>0.009924</td>\n",
       "      <td>-0.003553</td>\n",
       "      <td>0.000703</td>\n",
       "      <td>0.019226</td>\n",
       "      <td>0.071099</td>\n",
       "      <td>-0.105421</td>\n",
       "      <td>-0.014788</td>\n",
       "      <td>-0.002096</td>\n",
       "      <td>0.065491</td>\n",
       "    </tr>\n",
       "    <tr>\n",
       "      <th>TILS</th>\n",
       "      <td>0.254277</td>\n",
       "      <td>-0.031544</td>\n",
       "      <td>1.000000</td>\n",
       "      <td>0.145131</td>\n",
       "      <td>0.014077</td>\n",
       "      <td>0.139370</td>\n",
       "      <td>0.216396</td>\n",
       "      <td>0.201026</td>\n",
       "      <td>0.279354</td>\n",
       "      <td>0.117937</td>\n",
       "      <td>0.002330</td>\n",
       "      <td>0.211644</td>\n",
       "      <td>-0.004162</td>\n",
       "      <td>0.141986</td>\n",
       "      <td>-0.122893</td>\n",
       "    </tr>\n",
       "    <tr>\n",
       "      <th>Stage12</th>\n",
       "      <td>0.054910</td>\n",
       "      <td>-0.065956</td>\n",
       "      <td>0.145131</td>\n",
       "      <td>1.000000</td>\n",
       "      <td>-0.095906</td>\n",
       "      <td>0.029547</td>\n",
       "      <td>-0.011021</td>\n",
       "      <td>0.004360</td>\n",
       "      <td>-0.029065</td>\n",
       "      <td>-0.077724</td>\n",
       "      <td>-0.034166</td>\n",
       "      <td>0.245760</td>\n",
       "      <td>0.045722</td>\n",
       "      <td>0.097821</td>\n",
       "      <td>-0.262233</td>\n",
       "    </tr>\n",
       "    <tr>\n",
       "      <th>Signet</th>\n",
       "      <td>0.092552</td>\n",
       "      <td>0.031272</td>\n",
       "      <td>0.014077</td>\n",
       "      <td>-0.095906</td>\n",
       "      <td>1.000000</td>\n",
       "      <td>0.065117</td>\n",
       "      <td>0.237065</td>\n",
       "      <td>0.148202</td>\n",
       "      <td>0.230998</td>\n",
       "      <td>0.197953</td>\n",
       "      <td>0.026323</td>\n",
       "      <td>-0.030985</td>\n",
       "      <td>-0.001004</td>\n",
       "      <td>-0.005464</td>\n",
       "      <td>0.159666</td>\n",
       "    </tr>\n",
       "    <tr>\n",
       "      <th>RightSide</th>\n",
       "      <td>0.193266</td>\n",
       "      <td>-0.033558</td>\n",
       "      <td>0.139370</td>\n",
       "      <td>0.029547</td>\n",
       "      <td>0.065117</td>\n",
       "      <td>1.000000</td>\n",
       "      <td>0.125062</td>\n",
       "      <td>0.150758</td>\n",
       "      <td>0.170959</td>\n",
       "      <td>0.119610</td>\n",
       "      <td>0.081890</td>\n",
       "      <td>0.086323</td>\n",
       "      <td>0.033216</td>\n",
       "      <td>0.088632</td>\n",
       "      <td>0.008884</td>\n",
       "    </tr>\n",
       "    <tr>\n",
       "      <th>NoNecrosis</th>\n",
       "      <td>0.236852</td>\n",
       "      <td>0.009924</td>\n",
       "      <td>0.216396</td>\n",
       "      <td>-0.011021</td>\n",
       "      <td>0.237065</td>\n",
       "      <td>0.125062</td>\n",
       "      <td>1.000000</td>\n",
       "      <td>0.425246</td>\n",
       "      <td>0.494461</td>\n",
       "      <td>0.145757</td>\n",
       "      <td>0.045354</td>\n",
       "      <td>0.114346</td>\n",
       "      <td>0.021402</td>\n",
       "      <td>0.017174</td>\n",
       "      <td>0.036437</td>\n",
       "    </tr>\n",
       "    <tr>\n",
       "      <th>Mucin</th>\n",
       "      <td>0.191733</td>\n",
       "      <td>-0.003553</td>\n",
       "      <td>0.201026</td>\n",
       "      <td>0.004360</td>\n",
       "      <td>0.148202</td>\n",
       "      <td>0.150758</td>\n",
       "      <td>0.425246</td>\n",
       "      <td>1.000000</td>\n",
       "      <td>0.363871</td>\n",
       "      <td>0.241524</td>\n",
       "      <td>0.060469</td>\n",
       "      <td>0.155596</td>\n",
       "      <td>0.053415</td>\n",
       "      <td>0.007660</td>\n",
       "      <td>-0.031113</td>\n",
       "    </tr>\n",
       "    <tr>\n",
       "      <th>ModDiff</th>\n",
       "      <td>0.259828</td>\n",
       "      <td>0.000703</td>\n",
       "      <td>0.279354</td>\n",
       "      <td>-0.029065</td>\n",
       "      <td>0.230998</td>\n",
       "      <td>0.170959</td>\n",
       "      <td>0.494461</td>\n",
       "      <td>0.363871</td>\n",
       "      <td>1.000000</td>\n",
       "      <td>0.155940</td>\n",
       "      <td>0.023690</td>\n",
       "      <td>0.115039</td>\n",
       "      <td>0.070173</td>\n",
       "      <td>0.015696</td>\n",
       "      <td>0.044423</td>\n",
       "    </tr>\n",
       "    <tr>\n",
       "      <th>HistHet</th>\n",
       "      <td>0.092695</td>\n",
       "      <td>0.019226</td>\n",
       "      <td>0.117937</td>\n",
       "      <td>-0.077724</td>\n",
       "      <td>0.197953</td>\n",
       "      <td>0.119610</td>\n",
       "      <td>0.145757</td>\n",
       "      <td>0.241524</td>\n",
       "      <td>0.155940</td>\n",
       "      <td>1.000000</td>\n",
       "      <td>0.005980</td>\n",
       "      <td>-0.014575</td>\n",
       "      <td>-0.018499</td>\n",
       "      <td>0.046165</td>\n",
       "      <td>0.136273</td>\n",
       "    </tr>\n",
       "    <tr>\n",
       "      <th>Female</th>\n",
       "      <td>0.071438</td>\n",
       "      <td>0.071099</td>\n",
       "      <td>0.002330</td>\n",
       "      <td>-0.034166</td>\n",
       "      <td>0.026323</td>\n",
       "      <td>0.081890</td>\n",
       "      <td>0.045354</td>\n",
       "      <td>0.060469</td>\n",
       "      <td>0.023690</td>\n",
       "      <td>0.005980</td>\n",
       "      <td>1.000000</td>\n",
       "      <td>0.024582</td>\n",
       "      <td>0.001897</td>\n",
       "      <td>0.016309</td>\n",
       "      <td>0.018740</td>\n",
       "    </tr>\n",
       "    <tr>\n",
       "      <th>Expansile</th>\n",
       "      <td>0.110845</td>\n",
       "      <td>-0.105421</td>\n",
       "      <td>0.211644</td>\n",
       "      <td>0.245760</td>\n",
       "      <td>-0.030985</td>\n",
       "      <td>0.086323</td>\n",
       "      <td>0.114346</td>\n",
       "      <td>0.155596</td>\n",
       "      <td>0.115039</td>\n",
       "      <td>-0.014575</td>\n",
       "      <td>0.024582</td>\n",
       "      <td>1.000000</td>\n",
       "      <td>0.029044</td>\n",
       "      <td>0.152868</td>\n",
       "      <td>-0.356339</td>\n",
       "    </tr>\n",
       "    <tr>\n",
       "      <th>CrohnMissing</th>\n",
       "      <td>0.044430</td>\n",
       "      <td>-0.014788</td>\n",
       "      <td>-0.004162</td>\n",
       "      <td>0.045722</td>\n",
       "      <td>-0.001004</td>\n",
       "      <td>0.033216</td>\n",
       "      <td>0.021402</td>\n",
       "      <td>0.053415</td>\n",
       "      <td>0.070173</td>\n",
       "      <td>-0.018499</td>\n",
       "      <td>0.001897</td>\n",
       "      <td>0.029044</td>\n",
       "      <td>1.000000</td>\n",
       "      <td>-0.380392</td>\n",
       "      <td>-0.018386</td>\n",
       "    </tr>\n",
       "    <tr>\n",
       "      <th>Crohn</th>\n",
       "      <td>0.071424</td>\n",
       "      <td>-0.002096</td>\n",
       "      <td>0.141986</td>\n",
       "      <td>0.097821</td>\n",
       "      <td>-0.005464</td>\n",
       "      <td>0.088632</td>\n",
       "      <td>0.017174</td>\n",
       "      <td>0.007660</td>\n",
       "      <td>0.015696</td>\n",
       "      <td>0.046165</td>\n",
       "      <td>0.016309</td>\n",
       "      <td>0.152868</td>\n",
       "      <td>-0.380392</td>\n",
       "      <td>1.000000</td>\n",
       "      <td>-0.061075</td>\n",
       "    </tr>\n",
       "    <tr>\n",
       "      <th>AngioLymph</th>\n",
       "      <td>0.004327</td>\n",
       "      <td>0.065491</td>\n",
       "      <td>-0.122893</td>\n",
       "      <td>-0.262233</td>\n",
       "      <td>0.159666</td>\n",
       "      <td>0.008884</td>\n",
       "      <td>0.036437</td>\n",
       "      <td>-0.031113</td>\n",
       "      <td>0.044423</td>\n",
       "      <td>0.136273</td>\n",
       "      <td>0.018740</td>\n",
       "      <td>-0.356339</td>\n",
       "      <td>-0.018386</td>\n",
       "      <td>-0.061075</td>\n",
       "      <td>1.000000</td>\n",
       "    </tr>\n",
       "  </tbody>\n",
       "</table>\n",
       "</div>"
      ],
      "text/plain": [
       "                   MSI   Under50      TILS   Stage12    Signet  RightSide  \\\n",
       "MSI           1.000000  0.016604  0.254277  0.054910  0.092552   0.193266   \n",
       "Under50       0.016604  1.000000 -0.031544 -0.065956  0.031272  -0.033558   \n",
       "TILS          0.254277 -0.031544  1.000000  0.145131  0.014077   0.139370   \n",
       "Stage12       0.054910 -0.065956  0.145131  1.000000 -0.095906   0.029547   \n",
       "Signet        0.092552  0.031272  0.014077 -0.095906  1.000000   0.065117   \n",
       "RightSide     0.193266 -0.033558  0.139370  0.029547  0.065117   1.000000   \n",
       "NoNecrosis    0.236852  0.009924  0.216396 -0.011021  0.237065   0.125062   \n",
       "Mucin         0.191733 -0.003553  0.201026  0.004360  0.148202   0.150758   \n",
       "ModDiff       0.259828  0.000703  0.279354 -0.029065  0.230998   0.170959   \n",
       "HistHet       0.092695  0.019226  0.117937 -0.077724  0.197953   0.119610   \n",
       "Female        0.071438  0.071099  0.002330 -0.034166  0.026323   0.081890   \n",
       "Expansile     0.110845 -0.105421  0.211644  0.245760 -0.030985   0.086323   \n",
       "CrohnMissing  0.044430 -0.014788 -0.004162  0.045722 -0.001004   0.033216   \n",
       "Crohn         0.071424 -0.002096  0.141986  0.097821 -0.005464   0.088632   \n",
       "AngioLymph    0.004327  0.065491 -0.122893 -0.262233  0.159666   0.008884   \n",
       "\n",
       "              NoNecrosis     Mucin   ModDiff   HistHet    Female  Expansile  \\\n",
       "MSI             0.236852  0.191733  0.259828  0.092695  0.071438   0.110845   \n",
       "Under50         0.009924 -0.003553  0.000703  0.019226  0.071099  -0.105421   \n",
       "TILS            0.216396  0.201026  0.279354  0.117937  0.002330   0.211644   \n",
       "Stage12        -0.011021  0.004360 -0.029065 -0.077724 -0.034166   0.245760   \n",
       "Signet          0.237065  0.148202  0.230998  0.197953  0.026323  -0.030985   \n",
       "RightSide       0.125062  0.150758  0.170959  0.119610  0.081890   0.086323   \n",
       "NoNecrosis      1.000000  0.425246  0.494461  0.145757  0.045354   0.114346   \n",
       "Mucin           0.425246  1.000000  0.363871  0.241524  0.060469   0.155596   \n",
       "ModDiff         0.494461  0.363871  1.000000  0.155940  0.023690   0.115039   \n",
       "HistHet         0.145757  0.241524  0.155940  1.000000  0.005980  -0.014575   \n",
       "Female          0.045354  0.060469  0.023690  0.005980  1.000000   0.024582   \n",
       "Expansile       0.114346  0.155596  0.115039 -0.014575  0.024582   1.000000   \n",
       "CrohnMissing    0.021402  0.053415  0.070173 -0.018499  0.001897   0.029044   \n",
       "Crohn           0.017174  0.007660  0.015696  0.046165  0.016309   0.152868   \n",
       "AngioLymph      0.036437 -0.031113  0.044423  0.136273  0.018740  -0.356339   \n",
       "\n",
       "              CrohnMissing     Crohn  AngioLymph  \n",
       "MSI               0.044430  0.071424    0.004327  \n",
       "Under50          -0.014788 -0.002096    0.065491  \n",
       "TILS             -0.004162  0.141986   -0.122893  \n",
       "Stage12           0.045722  0.097821   -0.262233  \n",
       "Signet           -0.001004 -0.005464    0.159666  \n",
       "RightSide         0.033216  0.088632    0.008884  \n",
       "NoNecrosis        0.021402  0.017174    0.036437  \n",
       "Mucin             0.053415  0.007660   -0.031113  \n",
       "ModDiff           0.070173  0.015696    0.044423  \n",
       "HistHet          -0.018499  0.046165    0.136273  \n",
       "Female            0.001897  0.016309    0.018740  \n",
       "Expansile         0.029044  0.152868   -0.356339  \n",
       "CrohnMissing      1.000000 -0.380392   -0.018386  \n",
       "Crohn            -0.380392  1.000000   -0.061075  \n",
       "AngioLymph       -0.018386 -0.061075    1.000000  "
      ]
     },
     "execution_count": 6,
     "metadata": {},
     "output_type": "execute_result"
    }
   ],
   "source": [
    "final.corr()"
   ]
  },
  {
   "cell_type": "code",
   "execution_count": 7,
   "metadata": {},
   "outputs": [],
   "source": [
    "y = final[\"MSI\"]\n",
    "X = final.loc[:, final.columns != 'MSI']"
   ]
  },
  {
   "cell_type": "code",
   "execution_count": 8,
   "metadata": {},
   "outputs": [],
   "source": [
    "## train test val\n",
    "## 81 : 9 : 10\n",
    "X_train, X_test, y_train, y_test = train_test_split(\n",
    "    X, y, test_size=0.1, random_state=1)\n",
    "\n",
    "X_train, X_val, y_train, y_val = train_test_split(\n",
    "    X_train, y_train, test_size=0.1, random_state=1)"
   ]
  },
  {
   "cell_type": "code",
   "execution_count": 9,
   "metadata": {},
   "outputs": [
    {
     "data": {
      "text/html": [
       "<div>\n",
       "<style scoped>\n",
       "    .dataframe tbody tr th:only-of-type {\n",
       "        vertical-align: middle;\n",
       "    }\n",
       "\n",
       "    .dataframe tbody tr th {\n",
       "        vertical-align: top;\n",
       "    }\n",
       "\n",
       "    .dataframe thead th {\n",
       "        text-align: right;\n",
       "    }\n",
       "</style>\n",
       "<table border=\"1\" class=\"dataframe\">\n",
       "  <thead>\n",
       "    <tr style=\"text-align: right;\">\n",
       "      <th></th>\n",
       "      <th>Under50</th>\n",
       "      <th>TILS</th>\n",
       "      <th>Stage12</th>\n",
       "      <th>Signet</th>\n",
       "      <th>RightSide</th>\n",
       "      <th>NoNecrosis</th>\n",
       "      <th>Mucin</th>\n",
       "      <th>ModDiff</th>\n",
       "      <th>HistHet</th>\n",
       "      <th>Female</th>\n",
       "      <th>Expansile</th>\n",
       "      <th>CrohnMissing</th>\n",
       "      <th>Crohn</th>\n",
       "      <th>AngioLymph</th>\n",
       "    </tr>\n",
       "  </thead>\n",
       "  <tbody>\n",
       "    <tr>\n",
       "      <th>828</th>\n",
       "      <td>0</td>\n",
       "      <td>1</td>\n",
       "      <td>1</td>\n",
       "      <td>0</td>\n",
       "      <td>1</td>\n",
       "      <td>0</td>\n",
       "      <td>0</td>\n",
       "      <td>1</td>\n",
       "      <td>0</td>\n",
       "      <td>1</td>\n",
       "      <td>0</td>\n",
       "      <td>1</td>\n",
       "      <td>0</td>\n",
       "      <td>0</td>\n",
       "    </tr>\n",
       "    <tr>\n",
       "      <th>137</th>\n",
       "      <td>0</td>\n",
       "      <td>0</td>\n",
       "      <td>1</td>\n",
       "      <td>0</td>\n",
       "      <td>1</td>\n",
       "      <td>0</td>\n",
       "      <td>0</td>\n",
       "      <td>0</td>\n",
       "      <td>0</td>\n",
       "      <td>1</td>\n",
       "      <td>0</td>\n",
       "      <td>0</td>\n",
       "      <td>1</td>\n",
       "      <td>0</td>\n",
       "    </tr>\n",
       "    <tr>\n",
       "      <th>1420</th>\n",
       "      <td>0</td>\n",
       "      <td>0</td>\n",
       "      <td>0</td>\n",
       "      <td>0</td>\n",
       "      <td>0</td>\n",
       "      <td>0</td>\n",
       "      <td>0</td>\n",
       "      <td>1</td>\n",
       "      <td>0</td>\n",
       "      <td>0</td>\n",
       "      <td>0</td>\n",
       "      <td>0</td>\n",
       "      <td>0</td>\n",
       "      <td>0</td>\n",
       "    </tr>\n",
       "    <tr>\n",
       "      <th>267</th>\n",
       "      <td>0</td>\n",
       "      <td>0</td>\n",
       "      <td>1</td>\n",
       "      <td>0</td>\n",
       "      <td>0</td>\n",
       "      <td>0</td>\n",
       "      <td>1</td>\n",
       "      <td>1</td>\n",
       "      <td>1</td>\n",
       "      <td>0</td>\n",
       "      <td>0</td>\n",
       "      <td>0</td>\n",
       "      <td>0</td>\n",
       "      <td>1</td>\n",
       "    </tr>\n",
       "    <tr>\n",
       "      <th>186</th>\n",
       "      <td>0</td>\n",
       "      <td>0</td>\n",
       "      <td>0</td>\n",
       "      <td>0</td>\n",
       "      <td>0</td>\n",
       "      <td>0</td>\n",
       "      <td>0</td>\n",
       "      <td>0</td>\n",
       "      <td>0</td>\n",
       "      <td>1</td>\n",
       "      <td>0</td>\n",
       "      <td>0</td>\n",
       "      <td>1</td>\n",
       "      <td>1</td>\n",
       "    </tr>\n",
       "    <tr>\n",
       "      <th>...</th>\n",
       "      <td>...</td>\n",
       "      <td>...</td>\n",
       "      <td>...</td>\n",
       "      <td>...</td>\n",
       "      <td>...</td>\n",
       "      <td>...</td>\n",
       "      <td>...</td>\n",
       "      <td>...</td>\n",
       "      <td>...</td>\n",
       "      <td>...</td>\n",
       "      <td>...</td>\n",
       "      <td>...</td>\n",
       "      <td>...</td>\n",
       "      <td>...</td>\n",
       "    </tr>\n",
       "    <tr>\n",
       "      <th>1450</th>\n",
       "      <td>0</td>\n",
       "      <td>1</td>\n",
       "      <td>1</td>\n",
       "      <td>0</td>\n",
       "      <td>0</td>\n",
       "      <td>0</td>\n",
       "      <td>0</td>\n",
       "      <td>0</td>\n",
       "      <td>0</td>\n",
       "      <td>0</td>\n",
       "      <td>0</td>\n",
       "      <td>0</td>\n",
       "      <td>1</td>\n",
       "      <td>1</td>\n",
       "    </tr>\n",
       "    <tr>\n",
       "      <th>1824</th>\n",
       "      <td>0</td>\n",
       "      <td>0</td>\n",
       "      <td>0</td>\n",
       "      <td>0</td>\n",
       "      <td>0</td>\n",
       "      <td>0</td>\n",
       "      <td>0</td>\n",
       "      <td>0</td>\n",
       "      <td>0</td>\n",
       "      <td>0</td>\n",
       "      <td>0</td>\n",
       "      <td>0</td>\n",
       "      <td>0</td>\n",
       "      <td>1</td>\n",
       "    </tr>\n",
       "    <tr>\n",
       "      <th>895</th>\n",
       "      <td>0</td>\n",
       "      <td>0</td>\n",
       "      <td>1</td>\n",
       "      <td>0</td>\n",
       "      <td>0</td>\n",
       "      <td>0</td>\n",
       "      <td>0</td>\n",
       "      <td>0</td>\n",
       "      <td>0</td>\n",
       "      <td>1</td>\n",
       "      <td>1</td>\n",
       "      <td>0</td>\n",
       "      <td>0</td>\n",
       "      <td>0</td>\n",
       "    </tr>\n",
       "    <tr>\n",
       "      <th>285</th>\n",
       "      <td>0</td>\n",
       "      <td>0</td>\n",
       "      <td>0</td>\n",
       "      <td>0</td>\n",
       "      <td>1</td>\n",
       "      <td>0</td>\n",
       "      <td>0</td>\n",
       "      <td>0</td>\n",
       "      <td>0</td>\n",
       "      <td>1</td>\n",
       "      <td>0</td>\n",
       "      <td>0</td>\n",
       "      <td>1</td>\n",
       "      <td>0</td>\n",
       "    </tr>\n",
       "    <tr>\n",
       "      <th>1556</th>\n",
       "      <td>0</td>\n",
       "      <td>0</td>\n",
       "      <td>0</td>\n",
       "      <td>0</td>\n",
       "      <td>0</td>\n",
       "      <td>0</td>\n",
       "      <td>1</td>\n",
       "      <td>1</td>\n",
       "      <td>0</td>\n",
       "      <td>0</td>\n",
       "      <td>1</td>\n",
       "      <td>0</td>\n",
       "      <td>0</td>\n",
       "      <td>0</td>\n",
       "    </tr>\n",
       "  </tbody>\n",
       "</table>\n",
       "<p>191 rows × 14 columns</p>\n",
       "</div>"
      ],
      "text/plain": [
       "      Under50  TILS  Stage12  Signet  RightSide  NoNecrosis  Mucin  ModDiff  \\\n",
       "828         0     1        1       0          1           0      0        1   \n",
       "137         0     0        1       0          1           0      0        0   \n",
       "1420        0     0        0       0          0           0      0        1   \n",
       "267         0     0        1       0          0           0      1        1   \n",
       "186         0     0        0       0          0           0      0        0   \n",
       "...       ...   ...      ...     ...        ...         ...    ...      ...   \n",
       "1450        0     1        1       0          0           0      0        0   \n",
       "1824        0     0        0       0          0           0      0        0   \n",
       "895         0     0        1       0          0           0      0        0   \n",
       "285         0     0        0       0          1           0      0        0   \n",
       "1556        0     0        0       0          0           0      1        1   \n",
       "\n",
       "      HistHet  Female  Expansile  CrohnMissing  Crohn  AngioLymph  \n",
       "828         0       1          0             1      0           0  \n",
       "137         0       1          0             0      1           0  \n",
       "1420        0       0          0             0      0           0  \n",
       "267         1       0          0             0      0           1  \n",
       "186         0       1          0             0      1           1  \n",
       "...       ...     ...        ...           ...    ...         ...  \n",
       "1450        0       0          0             0      1           1  \n",
       "1824        0       0          0             0      0           1  \n",
       "895         0       1          1             0      0           0  \n",
       "285         0       1          0             0      1           0  \n",
       "1556        0       0          1             0      0           0  \n",
       "\n",
       "[191 rows x 14 columns]"
      ]
     },
     "execution_count": 9,
     "metadata": {},
     "output_type": "execute_result"
    }
   ],
   "source": [
    "X_test"
   ]
  },
  {
   "cell_type": "code",
   "execution_count": 10,
   "metadata": {},
   "outputs": [],
   "source": [
    "# ## train_test split\n",
    "# X_train, X_test, y_train, y_test = train_test_split(X,y ,test_size=.3, random_state=1)"
   ]
  },
  {
   "cell_type": "code",
   "execution_count": 11,
   "metadata": {},
   "outputs": [],
   "source": [
    "# X_train_dum = X_train_dum.fillna(X_train_dum.mean())\n",
    "# X_test_dum = X_test_dum.fillna(X_train_dum.mean())"
   ]
  },
  {
   "cell_type": "code",
   "execution_count": 12,
   "metadata": {},
   "outputs": [],
   "source": [
    "# sc=MinMaxScaler()\n",
    "# # sc = StandardScaler()\n",
    "# X_train_dum = pd.DataFrame(sc.fit_transform(X_train_dum), columns = X_train_dum.columns)\n",
    "# X_test_dum = pd.DataFrame(sc.transform(X_test_dum), columns = X_test_dum.columns)"
   ]
  },
  {
   "cell_type": "code",
   "execution_count": 13,
   "metadata": {},
   "outputs": [],
   "source": [
    "## use smote to deal with imbalanced data by oversampling\n",
    "oversample = SMOTE(random_state = 1)\n",
    "X_smote, y_smote = oversample.fit_resample(X_train, y_train)"
   ]
  },
  {
   "cell_type": "code",
   "execution_count": null,
   "metadata": {},
   "outputs": [],
   "source": []
  },
  {
   "cell_type": "code",
   "execution_count": null,
   "metadata": {},
   "outputs": [],
   "source": []
  },
  {
   "cell_type": "markdown",
   "metadata": {},
   "source": [
    "# Decistion Tree"
   ]
  },
  {
   "cell_type": "code",
   "execution_count": 14,
   "metadata": {},
   "outputs": [],
   "source": [
    "## decision tree\n",
    "clf = tree.DecisionTreeClassifier(criterion = \"entropy\", max_depth = 100, min_samples_split = 5, min_samples_leaf = 6,  min_weight_fraction_leaf=0.0, max_features=1.0,  random_state=1, min_impurity_decrease=0.005,  min_impurity_split=None,   )\n",
    "clf = clf.fit(X_smote, y_smote)"
   ]
  },
  {
   "cell_type": "code",
   "execution_count": 15,
   "metadata": {},
   "outputs": [
    {
     "name": "stdout",
     "output_type": "stream",
     "text": [
      "Training AUC: 0.7329136867059921\n",
      "Testing AUC:  0.609037558685446\n"
     ]
    },
    {
     "data": {
      "image/png": "[encoded data removed]",
      "text/plain": [
       "<Figure size 432x288 with 1 Axes>"
      ]
     },
     "metadata": {
      "needs_background": "light"
     },
     "output_type": "display_data"
    }
   ],
   "source": [
    "## AUC ROC curve\n",
    "y_val_score = get_auc_scores(clf, X_smote, X_val, y_smote, y_val)\n",
    "\n",
    "plot_roc_curve(y_val, y_val_score)"
   ]
  },
  {
   "cell_type": "code",
   "execution_count": 16,
   "metadata": {},
   "outputs": [
    {
     "name": "stdout",
     "output_type": "stream",
     "text": [
      "Training AUC: 0.7329136867059921\n",
      "Testing AUC:  0.6875564588979223\n"
     ]
    },
    {
     "data": {
      "image/png": "[encoded data removed]",
      "text/plain": [
       "<Figure size 432x288 with 1 Axes>"
      ]
     },
     "metadata": {
      "needs_background": "light"
     },
     "output_type": "display_data"
    }
   ],
   "source": [
    "## AUC ROC curve\n",
    "y_test_score = get_auc_scores(clf, X_smote, X_test, y_smote, y_test)\n",
    "\n",
    "plot_roc_curve(y_test, y_test_score)"
   ]
  },
  {
   "cell_type": "code",
   "execution_count": 17,
   "metadata": {},
   "outputs": [],
   "source": [
    "## get feature importance\n",
    "feature_importance = pd.DataFrame()\n",
    "feature_importance[\"value\"] = clf.feature_importances_\n",
    "feature_importance[\"feature\"] = X_smote.columns\n",
    "feature_importance.sort_values(by = 'value', ascending=False, inplace=True)"
   ]
  },
  {
   "cell_type": "code",
   "execution_count": 18,
   "metadata": {},
   "outputs": [
    {
     "data": {
      "image/png": "[encoded data removed]",
      "text/plain": [
       "<Figure size 576x720 with 1 Axes>"
      ]
     },
     "metadata": {
      "needs_background": "light"
     },
     "output_type": "display_data"
    }
   ],
   "source": [
    "plt.figure(figsize=(8,10))\n",
    "ax = sns.barplot(y=\"feature\", x=\"value\", data=feature_importance)"
   ]
  },
  {
   "cell_type": "markdown",
   "metadata": {},
   "source": [
    "# Random Forest"
   ]
  },
  {
   "cell_type": "code",
   "execution_count": 19,
   "metadata": {},
   "outputs": [],
   "source": [
    "from sklearn.ensemble import RandomForestClassifier"
   ]
  },
  {
   "cell_type": "code",
   "execution_count": 20,
   "metadata": {},
   "outputs": [],
   "source": [
    "forest = RandomForestClassifier(random_state = 1)\n",
    "modelF = forest.fit(X_smote, y_smote)\n",
    "y_predF = modelF.predict(X_val)"
   ]
  },
  {
   "cell_type": "code",
   "execution_count": null,
   "metadata": {},
   "outputs": [],
   "source": []
  },
  {
   "cell_type": "code",
   "execution_count": 21,
   "metadata": {},
   "outputs": [
    {
     "name": "stdout",
     "output_type": "stream",
     "text": [
      "Fitting 5 folds for each of 192 candidates, totalling 960 fits\n"
     ]
    },
    {
     "name": "stderr",
     "output_type": "stream",
     "text": [
      "[Parallel(n_jobs=-1)]: Using backend LokyBackend with 8 concurrent workers.\n",
      "[Parallel(n_jobs=-1)]: Done  34 tasks      | elapsed:    9.1s\n",
      "[Parallel(n_jobs=-1)]: Done 184 tasks      | elapsed:   55.2s\n",
      "[Parallel(n_jobs=-1)]: Done 434 tasks      | elapsed:  2.4min\n",
      "[Parallel(n_jobs=-1)]: Done 784 tasks      | elapsed:  4.4min\n",
      "[Parallel(n_jobs=-1)]: Done 960 out of 960 | elapsed:  5.4min finished\n"
     ]
    }
   ],
   "source": [
    "n_estimators = [100, 300, 500, 800]\n",
    "max_depth = [3, 4, 5]\n",
    "min_samples_split = [2, 5, 10, 15]\n",
    "min_samples_leaf = [1, 2, 5, 10] \n",
    "\n",
    "hyperF = dict(n_estimators = n_estimators, max_depth = max_depth,  \n",
    "              min_samples_split = min_samples_split, \n",
    "             min_samples_leaf = min_samples_leaf)\n",
    "\n",
    "gridF = GridSearchCV(forest, hyperF, cv = 5, verbose = 1, \n",
    "                      n_jobs = -1)\n",
    "bestF = gridF.fit(X_smote, y_smote)"
   ]
  },
  {
   "cell_type": "code",
   "execution_count": 22,
   "metadata": {},
   "outputs": [
    {
     "name": "stdout",
     "output_type": "stream",
     "text": [
      "{'max_depth': 5, 'min_samples_leaf': 2, 'min_samples_split': 2, 'n_estimators': 100}\n"
     ]
    }
   ],
   "source": [
    "print(bestF.best_params_)"
   ]
  },
  {
   "cell_type": "code",
   "execution_count": 23,
   "metadata": {},
   "outputs": [],
   "source": [
    "forest = RandomForestClassifier(random_state = 1, max_depth =  15, min_samples_leaf = 1, min_samples_split = 2, n_estimators = 800)\n"
   ]
  },
  {
   "cell_type": "code",
   "execution_count": 24,
   "metadata": {},
   "outputs": [
    {
     "data": {
      "text/plain": [
       "RandomForestClassifier(max_depth=15, n_estimators=800, random_state=1)"
      ]
     },
     "execution_count": 24,
     "metadata": {},
     "output_type": "execute_result"
    }
   ],
   "source": [
    "forest.fit(X_smote, y_smote)"
   ]
  },
  {
   "cell_type": "code",
   "execution_count": 25,
   "metadata": {},
   "outputs": [
    {
     "name": "stdout",
     "output_type": "stream",
     "text": [
      "rf accuracy :  0.6395348837209303\n",
      "rf ROC_AUC :  0.4862676056338028\n"
     ]
    }
   ],
   "source": [
    "## Accuracy and AUC\n",
    "print(\"rf accuracy : \", accuracy_score(forest.predict(X_val), y_val))\n",
    "print(\"rf ROC_AUC : \", roc_auc_score(y_val.values, forest.predict_proba(X_val)[:, 1]))"
   ]
  },
  {
   "cell_type": "code",
   "execution_count": 26,
   "metadata": {},
   "outputs": [
    {
     "name": "stdout",
     "output_type": "stream",
     "text": [
      "rf accuracy :  0.6858638743455497\n",
      "rf ROC_AUC :  0.6044489611562782\n"
     ]
    }
   ],
   "source": [
    "## Accuracy and AUC\n",
    "print(\"rf accuracy : \", accuracy_score(forest.predict(X_test), y_test))\n",
    "print(\"rf ROC_AUC : \", roc_auc_score(y_test.values, forest.predict_proba(X_test)[:, 1]))"
   ]
  },
  {
   "cell_type": "code",
   "execution_count": 37,
   "metadata": {},
   "outputs": [
    {
     "name": "stdout",
     "output_type": "stream",
     "text": [
      "Training AUC: 0.9320215264571763\n",
      "Testing AUC:  0.6044489611562782\n"
     ]
    },
    {
     "data": {
      "image/png": "[encoded data removed]",
      "text/plain": [
       "<Figure size 432x288 with 1 Axes>"
      ]
     },
     "metadata": {
      "needs_background": "light"
     },
     "output_type": "display_data"
    }
   ],
   "source": [
    "## AUC ROC curve\n",
    "y_test_score = get_auc_scores(forest, X_smote, X_test, y_smote, y_test)\n",
    "\n",
    "plot_roc_curve(y_test, y_test_score)"
   ]
  },
  {
   "cell_type": "markdown",
   "metadata": {},
   "source": [
    "# LightGBM"
   ]
  },
  {
   "cell_type": "code",
   "execution_count": 60,
   "metadata": {},
   "outputs": [
    {
     "name": "stdout",
     "output_type": "stream",
     "text": [
      "[LightGBM] [Warning] bagging_freq is set=1, subsample_freq=0 will be ignored. Current value: bagging_freq=1\n",
      "[LightGBM] [Warning] feature_fraction is set=0.4, colsample_bytree=1.0 will be ignored. Current value: feature_fraction=0.4\n",
      "[LightGBM] [Warning] bagging_fraction is set=0.8, subsample=1.0 will be ignored. Current value: bagging_fraction=0.8\n"
     ]
    },
    {
     "data": {
      "text/plain": [
       "LGBMClassifier(bagging_fraction=0.8, bagging_freq=1, feature_fraction=0.4,\n",
       "               learning_rate=1e-06, min_child_samples=6, min_split_gain=0.7,\n",
       "               n_estimators=170, num_leaves=50, objective='binary',\n",
       "               random_state=74, reg_alpha=0.7, reg_lambda=0.005)"
      ]
     },
     "execution_count": 60,
     "metadata": {},
     "output_type": "execute_result"
    }
   ],
   "source": [
    "## LightGBM classifier\n",
    "# an = []\n",
    "## hyperparameters from AutoML\n",
    "lgb = LGBMClassifier(\n",
    "    objective='binary',\n",
    "    bagging_fraction=0.8, bagging_freq=1, boosting_type='gbdt',\n",
    "               class_weight=None, colsample_bytree=1.0, feature_fraction=0.4,\n",
    "               importance_type='split', learning_rate=1e-06, max_depth=-1,\n",
    "               min_child_samples=6, min_child_weight=0.001, min_split_gain=0.7,\n",
    "               n_estimators=170, n_jobs=-1, num_leaves=50,\n",
    "               random_state=74, reg_alpha=0.7, reg_lambda=0.005, silent=True,\n",
    "               subsample=1.0, subsample_for_bin=200000, subsample_freq=0)\n",
    "\n",
    "## fit\n",
    "lgb.fit(X_smote,y_smote)\n",
    "#     if roc_auc_score(y_test_dum.values, lgb.predict_proba(X_test_dum)[:, 1])>0.77:\n",
    "#         print(i)\n",
    "#         an.append(i)"
   ]
  },
  {
   "cell_type": "code",
   "execution_count": 61,
   "metadata": {
    "scrolled": true
   },
   "outputs": [
    {
     "name": "stdout",
     "output_type": "stream",
     "text": [
      "lgb accuracy :  0.7151162790697675\n",
      "lgb AUC :  0.6171361502347418\n"
     ]
    }
   ],
   "source": [
    "    ## Accuracy and AUC\n",
    "    print(\"lgb accuracy : \", accuracy_score(lgb.predict(X_val), y_val))\n",
    "    print(\"lgb AUC : \", roc_auc_score(y_val.values, lgb.predict_proba(X_val)[:, 1]))"
   ]
  },
  {
   "cell_type": "code",
   "execution_count": 62,
   "metadata": {},
   "outputs": [
    {
     "data": {
      "image/png": "[encoded data removed]",
      "text/plain": [
       "<Figure size 432x288 with 1 Axes>"
      ]
     },
     "metadata": {
      "needs_background": "light"
     },
     "output_type": "display_data"
    }
   ],
   "source": [
    "## confusion matrix\n",
    "fig, ax = plot_confusion_matrix(confusion_matrix(np.array(y_val), \n",
    "                       lgb.predict(X_val).tolist()))\n",
    "plt.show()"
   ]
  },
  {
   "cell_type": "code",
   "execution_count": 63,
   "metadata": {},
   "outputs": [],
   "source": [
    "## get feature importance\n",
    "feature_importance = pd.DataFrame()\n",
    "feature_importance[\"value\"] = lgb.feature_importances_\n",
    "feature_importance[\"feature\"] = X_smote.columns\n",
    "feature_importance.sort_values(by = 'value', ascending=False, inplace=True)"
   ]
  },
  {
   "cell_type": "code",
   "execution_count": 64,
   "metadata": {},
   "outputs": [
    {
     "data": {
      "image/png": "[encoded data removed]",
      "text/plain": [
       "<Figure size 576x720 with 1 Axes>"
      ]
     },
     "metadata": {
      "needs_background": "light"
     },
     "output_type": "display_data"
    }
   ],
   "source": [
    "plt.figure(figsize=(8,10))\n",
    "ax = sns.barplot(y=\"feature\", x=\"value\", data=feature_importance)"
   ]
  },
  {
   "cell_type": "code",
   "execution_count": 65,
   "metadata": {},
   "outputs": [
    {
     "data": {
      "text/html": [
       "<div>\n",
       "<style scoped>\n",
       "    .dataframe tbody tr th:only-of-type {\n",
       "        vertical-align: middle;\n",
       "    }\n",
       "\n",
       "    .dataframe tbody tr th {\n",
       "        vertical-align: top;\n",
       "    }\n",
       "\n",
       "    .dataframe thead th {\n",
       "        text-align: right;\n",
       "    }\n",
       "</style>\n",
       "<table border=\"1\" class=\"dataframe\">\n",
       "  <thead>\n",
       "    <tr style=\"text-align: right;\">\n",
       "      <th></th>\n",
       "      <th>value</th>\n",
       "      <th>feature</th>\n",
       "    </tr>\n",
       "  </thead>\n",
       "  <tbody>\n",
       "    <tr>\n",
       "      <th>9</th>\n",
       "      <td>222</td>\n",
       "      <td>Female</td>\n",
       "    </tr>\n",
       "    <tr>\n",
       "      <th>10</th>\n",
       "      <td>193</td>\n",
       "      <td>Expansile</td>\n",
       "    </tr>\n",
       "    <tr>\n",
       "      <th>0</th>\n",
       "      <td>153</td>\n",
       "      <td>Under50</td>\n",
       "    </tr>\n",
       "    <tr>\n",
       "      <th>12</th>\n",
       "      <td>150</td>\n",
       "      <td>Crohn</td>\n",
       "    </tr>\n",
       "    <tr>\n",
       "      <th>4</th>\n",
       "      <td>135</td>\n",
       "      <td>RightSide</td>\n",
       "    </tr>\n",
       "    <tr>\n",
       "      <th>6</th>\n",
       "      <td>135</td>\n",
       "      <td>Mucin</td>\n",
       "    </tr>\n",
       "    <tr>\n",
       "      <th>13</th>\n",
       "      <td>133</td>\n",
       "      <td>AngioLymph</td>\n",
       "    </tr>\n",
       "    <tr>\n",
       "      <th>2</th>\n",
       "      <td>117</td>\n",
       "      <td>Stage12</td>\n",
       "    </tr>\n",
       "    <tr>\n",
       "      <th>5</th>\n",
       "      <td>113</td>\n",
       "      <td>NoNecrosis</td>\n",
       "    </tr>\n",
       "    <tr>\n",
       "      <th>1</th>\n",
       "      <td>110</td>\n",
       "      <td>TILS</td>\n",
       "    </tr>\n",
       "    <tr>\n",
       "      <th>7</th>\n",
       "      <td>75</td>\n",
       "      <td>ModDiff</td>\n",
       "    </tr>\n",
       "    <tr>\n",
       "      <th>8</th>\n",
       "      <td>63</td>\n",
       "      <td>HistHet</td>\n",
       "    </tr>\n",
       "    <tr>\n",
       "      <th>3</th>\n",
       "      <td>26</td>\n",
       "      <td>Signet</td>\n",
       "    </tr>\n",
       "    <tr>\n",
       "      <th>11</th>\n",
       "      <td>10</td>\n",
       "      <td>CrohnMissing</td>\n",
       "    </tr>\n",
       "  </tbody>\n",
       "</table>\n",
       "</div>"
      ],
      "text/plain": [
       "    value       feature\n",
       "9     222        Female\n",
       "10    193     Expansile\n",
       "0     153       Under50\n",
       "12    150         Crohn\n",
       "4     135     RightSide\n",
       "6     135         Mucin\n",
       "13    133    AngioLymph\n",
       "2     117       Stage12\n",
       "5     113    NoNecrosis\n",
       "1     110          TILS\n",
       "7      75       ModDiff\n",
       "8      63       HistHet\n",
       "3      26        Signet\n",
       "11     10  CrohnMissing"
      ]
     },
     "execution_count": 65,
     "metadata": {},
     "output_type": "execute_result"
    }
   ],
   "source": [
    "feature_importance"
   ]
  },
  {
   "cell_type": "code",
   "execution_count": 66,
   "metadata": {},
   "outputs": [
    {
     "data": {
      "image/png": "[encoded data removed]",
      "text/plain": [
       "<Figure size 432x288 with 1 Axes>"
      ]
     },
     "metadata": {
      "needs_background": "light"
     },
     "output_type": "display_data"
    }
   ],
   "source": [
    "## confusion matrix\n",
    "fig, ax = plot_confusion_matrix(confusion_matrix(np.array(y_test), \n",
    "                       lgb.predict(X_test).tolist()))\n",
    "plt.show()"
   ]
  },
  {
   "cell_type": "code",
   "execution_count": 67,
   "metadata": {},
   "outputs": [
    {
     "name": "stdout",
     "output_type": "stream",
     "text": [
      "Training AUC: 0.7541262708735954\n",
      "Testing AUC:  0.6171361502347418\n"
     ]
    },
    {
     "data": {
      "image/png": "[encoded data removed]",
      "text/plain": [
       "<Figure size 432x288 with 1 Axes>"
      ]
     },
     "metadata": {
      "needs_background": "light"
     },
     "output_type": "display_data"
    }
   ],
   "source": [
    "## AUC ROC curve\n",
    "y_val_score = get_auc_scores(lgb, X_smote, X_val, y_smote, y_val)\n",
    "\n",
    "plot_roc_curve(y_val, y_val_score)"
   ]
  },
  {
   "cell_type": "code",
   "execution_count": 68,
   "metadata": {},
   "outputs": [
    {
     "name": "stdout",
     "output_type": "stream",
     "text": [
      "Training AUC: 0.7541262708735954\n",
      "Testing AUC:  0.7564363143631436\n"
     ]
    },
    {
     "data": {
      "image/png": "[encoded data removed]",
      "text/plain": [
       "<Figure size 432x288 with 1 Axes>"
      ]
     },
     "metadata": {
      "needs_background": "light"
     },
     "output_type": "display_data"
    }
   ],
   "source": [
    "## AUC ROC curve\n",
    "y_test_score = get_auc_scores(lgb, X_smote, X_test, y_smote, y_test)\n",
    "\n",
    "plot_roc_curve(y_test, y_test_score)"
   ]
  },
  {
   "cell_type": "markdown",
   "metadata": {},
   "source": [
    "# XGBoost"
   ]
  },
  {
   "cell_type": "code",
   "execution_count": 38,
   "metadata": {},
   "outputs": [],
   "source": [
    "import xgboost as xgb"
   ]
  },
  {
   "cell_type": "code",
   "execution_count": 73,
   "metadata": {},
   "outputs": [],
   "source": [
    "xgb_classifier = xgb.XGBClassifier(colsample_bytree = 0.3, learning_rate = 0.1,\n",
    "                max_depth = 5, alpha = 10, n_estimators = 10)"
   ]
  },
  {
   "cell_type": "code",
   "execution_count": 74,
   "metadata": {},
   "outputs": [
    {
     "name": "stdout",
     "output_type": "stream",
     "text": [
      "[18:48:26] WARNING: /Users/travis/build/dmlc/xgboost/src/learner.cc:1061: Starting in XGBoost 1.3.0, the default evaluation metric used with the objective 'binary:logistic' was changed from 'error' to 'logloss'. Explicitly set eval_metric if you'd like to restore the old behavior.\n"
     ]
    },
    {
     "name": "stderr",
     "output_type": "stream",
     "text": [
      "/opt/anaconda3/envs/jaeyoung/lib/python3.7/site-packages/xgboost/sklearn.py:888: UserWarning: The use of label encoder in XGBClassifier is deprecated and will be removed in a future release. To remove this warning, do the following: 1) Pass option use_label_encoder=False when constructing XGBClassifier object; and 2) Encode your labels (y) as integers starting with 0, i.e. 0, 1, 2, ..., [num_class - 1].\n",
      "  warnings.warn(label_encoder_deprecation_msg, UserWarning)\n"
     ]
    }
   ],
   "source": [
    "xgb_classifier = xgb_classifier.fit(X_smote, y_smote)"
   ]
  },
  {
   "cell_type": "code",
   "execution_count": 76,
   "metadata": {},
   "outputs": [
    {
     "name": "stdout",
     "output_type": "stream",
     "text": [
      "Training AUC: 0.7185100067827481\n",
      "Testing AUC:  0.746386630532972\n"
     ]
    },
    {
     "data": {
      "image/png": "[encoded data removed]",
      "text/plain": [
       "<Figure size 432x288 with 1 Axes>"
      ]
     },
     "metadata": {
      "needs_background": "light"
     },
     "output_type": "display_data"
    }
   ],
   "source": [
    "## AUC ROC curve\n",
    "y_test_score = get_auc_scores(xgb_classifier, X_smote, X_test, y_smote, y_test)\n",
    "\n",
    "plot_roc_curve(y_test, y_test_score)"
   ]
  },
  {
   "cell_type": "code",
   "execution_count": 82,
   "metadata": {
    "scrolled": true
   },
   "outputs": [
    {
     "data": {
      "image/png": "[encoded data removed]",
      "text/plain": [
       "<Figure size 504x720 with 1 Axes>"
      ]
     },
     "metadata": {
      "needs_background": "light"
     },
     "output_type": "display_data"
    }
   ],
   "source": [
    "xgb.plot_importance(xgb_classifier)\n",
    "plt.rcParams['figure.figsize'] = [10, 10]\n",
    "plt.show()"
   ]
  },
  {
   "cell_type": "code",
   "execution_count": 83,
   "metadata": {},
   "outputs": [],
   "source": [
    "## get feature importance\n",
    "feature_importance = pd.DataFrame()\n",
    "feature_importance[\"value\"] = xgb_classifier.feature_importances_\n",
    "feature_importance[\"feature\"] = X_smote.columns\n",
    "feature_importance.sort_values(by = 'value', ascending=False, inplace=True)"
   ]
  },
  {
   "cell_type": "code",
   "execution_count": 84,
   "metadata": {},
   "outputs": [
    {
     "data": {
      "image/png": "[encoded data removed]",
      "text/plain": [
       "<Figure size 576x720 with 1 Axes>"
      ]
     },
     "metadata": {
      "needs_background": "light"
     },
     "output_type": "display_data"
    }
   ],
   "source": [
    "plt.figure(figsize=(8,10))\n",
    "ax = sns.barplot(y=\"feature\", x=\"value\", data=feature_importance)"
   ]
  },
  {
   "cell_type": "code",
   "execution_count": 85,
   "metadata": {},
   "outputs": [
    {
     "data": {
      "text/html": [
       "<div>\n",
       "<style scoped>\n",
       "    .dataframe tbody tr th:only-of-type {\n",
       "        vertical-align: middle;\n",
       "    }\n",
       "\n",
       "    .dataframe tbody tr th {\n",
       "        vertical-align: top;\n",
       "    }\n",
       "\n",
       "    .dataframe thead th {\n",
       "        text-align: right;\n",
       "    }\n",
       "</style>\n",
       "<table border=\"1\" class=\"dataframe\">\n",
       "  <thead>\n",
       "    <tr style=\"text-align: right;\">\n",
       "      <th></th>\n",
       "      <th>value</th>\n",
       "      <th>feature</th>\n",
       "    </tr>\n",
       "  </thead>\n",
       "  <tbody>\n",
       "    <tr>\n",
       "      <th>1</th>\n",
       "      <td>0.295377</td>\n",
       "      <td>TILS</td>\n",
       "    </tr>\n",
       "    <tr>\n",
       "      <th>7</th>\n",
       "      <td>0.221796</td>\n",
       "      <td>ModDiff</td>\n",
       "    </tr>\n",
       "    <tr>\n",
       "      <th>4</th>\n",
       "      <td>0.193129</td>\n",
       "      <td>RightSide</td>\n",
       "    </tr>\n",
       "    <tr>\n",
       "      <th>5</th>\n",
       "      <td>0.139908</td>\n",
       "      <td>NoNecrosis</td>\n",
       "    </tr>\n",
       "    <tr>\n",
       "      <th>6</th>\n",
       "      <td>0.051088</td>\n",
       "      <td>Mucin</td>\n",
       "    </tr>\n",
       "    <tr>\n",
       "      <th>10</th>\n",
       "      <td>0.039548</td>\n",
       "      <td>Expansile</td>\n",
       "    </tr>\n",
       "    <tr>\n",
       "      <th>2</th>\n",
       "      <td>0.021170</td>\n",
       "      <td>Stage12</td>\n",
       "    </tr>\n",
       "    <tr>\n",
       "      <th>8</th>\n",
       "      <td>0.010107</td>\n",
       "      <td>HistHet</td>\n",
       "    </tr>\n",
       "    <tr>\n",
       "      <th>11</th>\n",
       "      <td>0.006592</td>\n",
       "      <td>CrohnMissing</td>\n",
       "    </tr>\n",
       "    <tr>\n",
       "      <th>9</th>\n",
       "      <td>0.006345</td>\n",
       "      <td>Female</td>\n",
       "    </tr>\n",
       "    <tr>\n",
       "      <th>0</th>\n",
       "      <td>0.005519</td>\n",
       "      <td>Under50</td>\n",
       "    </tr>\n",
       "    <tr>\n",
       "      <th>12</th>\n",
       "      <td>0.005158</td>\n",
       "      <td>Crohn</td>\n",
       "    </tr>\n",
       "    <tr>\n",
       "      <th>3</th>\n",
       "      <td>0.002220</td>\n",
       "      <td>Signet</td>\n",
       "    </tr>\n",
       "    <tr>\n",
       "      <th>13</th>\n",
       "      <td>0.002041</td>\n",
       "      <td>AngioLymph</td>\n",
       "    </tr>\n",
       "  </tbody>\n",
       "</table>\n",
       "</div>"
      ],
      "text/plain": [
       "       value       feature\n",
       "1   0.295377          TILS\n",
       "7   0.221796       ModDiff\n",
       "4   0.193129     RightSide\n",
       "5   0.139908    NoNecrosis\n",
       "6   0.051088         Mucin\n",
       "10  0.039548     Expansile\n",
       "2   0.021170       Stage12\n",
       "8   0.010107       HistHet\n",
       "11  0.006592  CrohnMissing\n",
       "9   0.006345        Female\n",
       "0   0.005519       Under50\n",
       "12  0.005158         Crohn\n",
       "3   0.002220        Signet\n",
       "13  0.002041    AngioLymph"
      ]
     },
     "execution_count": 85,
     "metadata": {},
     "output_type": "execute_result"
    }
   ],
   "source": [
    "feature_importance"
   ]
  },
  {
   "cell_type": "code",
   "execution_count": null,
   "metadata": {},
   "outputs": [],
   "source": []
  }
 ],
 "metadata": {
  "kernelspec": {
   "display_name": "Python 3",
   "language": "python",
   "name": "python3"
  },
  "language_info": {
   "codemirror_mode": {
    "name": "ipython",
    "version": 3
   },
   "file_extension": ".py",
   "mimetype": "text/x-python",
   "name": "python",
   "nbconvert_exporter": "python",
   "pygments_lexer": "ipython3",
   "version": "3.7.7"
  }
 },
 "nbformat": 4,
 "nbformat_minor": 4
}
