{
 "cells": [
  {
   "cell_type": "code",
   "execution_count": 138,
   "metadata": {},
   "outputs": [],
   "source": [
    "import pandas as pd\n",
    "import numpy as np\n",
    "import seaborn as sns\n",
    "import matplotlib.pyplot as plt\n",
    "import warnings\n",
    "from sklearn.metrics import confusion_matrix\n",
    "from sklearn.linear_model import LogisticRegression\n",
    "from sklearn.model_selection import train_test_split\n",
    "import statsmodels.api as sm\n",
    "from sklearn.svm import l1_min_c\n",
    "from sklearn import linear_model\n",
    "from sklearn.metrics import roc_auc_score\n",
    "import statsmodels\n",
    "import math\n",
    "from sklearn.preprocessing import MinMaxScaler\n",
    "from statsmodels.formula.api import ols\n",
    "warnings.filterwarnings(\"ignore\")"
   ]
  },
  {
   "cell_type": "code",
   "execution_count": 139,
   "metadata": {},
   "outputs": [],
   "source": [
    "input_file_path = \"../data/\""
   ]
  },
  {
   "cell_type": "code",
   "execution_count": 140,
   "metadata": {},
   "outputs": [],
   "source": [
    "data = pd.read_csv(input_file_path+\"ps2_public.csv\")"
   ]
  },
  {
   "cell_type": "markdown",
   "metadata": {},
   "source": [
    "# Preprocessing & Exploration"
   ]
  },
  {
   "cell_type": "markdown",
   "metadata": {},
   "source": [
    "## Deal with na values and create dummy variables for categorical data"
   ]
  },
  {
   "cell_type": "code",
   "execution_count": 141,
   "metadata": {},
   "outputs": [
    {
     "data": {
      "text/plain": [
       "1    4144\n",
       "0    3356\n",
       "Name: treatment, dtype: int64"
      ]
     },
     "execution_count": 141,
     "metadata": {},
     "output_type": "execute_result"
    }
   ],
   "source": [
    "## the ratio between treatment 0 and 1 looks fine --> not much skewed\n",
    "data[\"treatment\"].value_counts()"
   ]
  },
  {
   "cell_type": "code",
   "execution_count": 142,
   "metadata": {
    "scrolled": false
   },
   "outputs": [
    {
     "name": "stdout",
     "output_type": "stream",
     "text": [
      "0\n",
      "0\n",
      "0\n",
      "0\n",
      "0\n",
      "2607\n",
      "0\n",
      "0\n",
      "0\n",
      "0\n",
      "0\n",
      "0\n"
     ]
    }
   ],
   "source": [
    "### na values only exist in Family History column\n",
    "## as the proportion of rows with nan value in family history column was not small, I decided to let it as a value of feature.\n",
    "for i in data.columns:\n",
    "    print(len(data[data[i].isnull()==True]))"
   ]
  },
  {
   "cell_type": "code",
   "execution_count": 143,
   "metadata": {},
   "outputs": [
    {
     "data": {
      "text/plain": [
       "0.3476"
      ]
     },
     "execution_count": 143,
     "metadata": {},
     "output_type": "execute_result"
    }
   ],
   "source": [
    "2607/7500"
   ]
  },
  {
   "cell_type": "code",
   "execution_count": 144,
   "metadata": {},
   "outputs": [
    {
     "data": {
      "text/plain": [
       "False    4824\n",
       "True       69\n",
       "Name: family_history, dtype: int64"
      ]
     },
     "execution_count": 144,
     "metadata": {},
     "output_type": "execute_result"
    }
   ],
   "source": [
    "data[\"family_history\"].value_counts()"
   ]
  },
  {
   "cell_type": "code",
   "execution_count": 145,
   "metadata": {},
   "outputs": [],
   "source": [
    "### Family history False --> -1, True --> 1, nan --> 0\n",
    "data = data.fillna(100)\n",
    "def family_history(x):\n",
    "    if x == False:\n",
    "        return -1\n",
    "    if x == True:\n",
    "        return 1\n",
    "    if x == 100:\n",
    "        return 0\n",
    "    else:\n",
    "        print(\"error\")\n",
    "data[\"family_history\"] = data[\"family_history\"].apply(lambda x: family_history(x))"
   ]
  },
  {
   "cell_type": "code",
   "execution_count": 146,
   "metadata": {},
   "outputs": [],
   "source": [
    "## Male --> 1, Female --> 0\n",
    "def gender(x):\n",
    "    if x == \"non-female\":\n",
    "        return 1\n",
    "    if x == \"female\":\n",
    "        return 0\n",
    "    else:\n",
    "        print(\"error\")\n",
    "data[\"gender\"] = data[\"gender\"].apply(lambda x: gender(x))"
   ]
  },
  {
   "cell_type": "code",
   "execution_count": 147,
   "metadata": {},
   "outputs": [],
   "source": [
    "## Blood_test positive --> 1, negative --> 0\n",
    "def blood_test(x):\n",
    "    if x == \"negative\":\n",
    "        return 0\n",
    "    if x == \"positive\":\n",
    "        return 1\n",
    "    else:\n",
    "        print(\"error\")\n",
    "data[\"blood_test\"] = data[\"blood_test\"].apply(lambda x: blood_test(x))"
   ]
  },
  {
   "cell_type": "code",
   "execution_count": 148,
   "metadata": {},
   "outputs": [],
   "source": [
    "## GeneC not active--> 0, active --> 1\n",
    "def GeneC(x):\n",
    "    if x == \"not active\":\n",
    "        return 0\n",
    "    if x == \"active\":\n",
    "        return 1\n",
    "    else:\n",
    "        print(\"error\")\n",
    "data[\"GeneC\"] = data[\"GeneC\"].apply(lambda x: GeneC(x))"
   ]
  },
  {
   "cell_type": "code",
   "execution_count": 149,
   "metadata": {
    "scrolled": false
   },
   "outputs": [
    {
     "name": "stdout",
     "output_type": "stream",
     "text": [
      "93\n",
      "29\n"
     ]
    }
   ],
   "source": [
    "print(data.age.max())\n",
    "print(data.age.min())"
   ]
  },
  {
   "cell_type": "markdown",
   "metadata": {},
   "source": [
    "# age"
   ]
  },
  {
   "cell_type": "code",
   "execution_count": 150,
   "metadata": {},
   "outputs": [
    {
     "data": {
      "text/plain": [
       "array([<matplotlib.axes._subplots.AxesSubplot object at 0x7fba24fe3f10>,\n",
       "       <matplotlib.axes._subplots.AxesSubplot object at 0x7fba250117d0>],\n",
       "      dtype=object)"
      ]
     },
     "execution_count": 150,
     "metadata": {},
     "output_type": "execute_result"
    },
    {
     "data": {
      "image/png": "[encoded data removed]",
      "text/plain": [
       "<Figure size 432x288 with 2 Axes>"
      ]
     },
     "metadata": {
      "needs_background": "light"
     },
     "output_type": "display_data"
    }
   ],
   "source": [
    "### histogram of age groupby treatment\n",
    "data.age.hist(by=data.treatment)"
   ]
  },
  {
   "cell_type": "code",
   "execution_count": 151,
   "metadata": {
    "scrolled": true
   },
   "outputs": [
    {
     "data": {
      "text/plain": [
       "treatment\n",
       "0    AxesSubplot(0.125,0.125;0.352273x0.755)\n",
       "1    AxesSubplot(0.125,0.125;0.352273x0.755)\n",
       "Name: age, dtype: object"
      ]
     },
     "execution_count": 151,
     "metadata": {},
     "output_type": "execute_result"
    },
    {
     "data": {
      "image/png": "[encoded data removed]",
      "text/plain": [
       "<Figure size 432x288 with 2 Axes>"
      ]
     },
     "metadata": {
      "needs_background": "light"
     },
     "output_type": "display_data"
    }
   ],
   "source": [
    "### histogram of age groupby treatment and kernel density estimation plot\n",
    "fig, axs = plt.subplots(ncols=2)\n",
    "data.groupby(\"treatment\").age.plot(kind='kde', ax=axs[1], legend = True)\n",
    "data.groupby(\"treatment\").age.hist(alpha=0.4, ax=axs[0])\n",
    "\n",
    "#https://stackoverflow.com/questions/21548750/plotting-histograms-against-classes-in-pandas-matplotlib"
   ]
  },
  {
   "cell_type": "code",
   "execution_count": 152,
   "metadata": {},
   "outputs": [],
   "source": [
    "pval_list = []\n",
    "tstat, pval, freedom = statsmodels.stats.weightstats.ttest_ind(data[data[\"treatment\"]==0][\"age\"],data[data[\"treatment\"]==1][\"age\"],alternative=\"two-sided\",usevar=\"unequal\")\n",
    "pval_list.append((\"age\", pval))\n",
    "#https://www.statsmodels.org/stable/generated/statsmodels.stats.weightstats.ttest_ind.html"
   ]
  },
  {
   "cell_type": "markdown",
   "metadata": {},
   "source": [
    "# Blood_Pressure"
   ]
  },
  {
   "cell_type": "code",
   "execution_count": 153,
   "metadata": {},
   "outputs": [
    {
     "data": {
      "text/plain": [
       "<matplotlib.axes._subplots.AxesSubplot at 0x7fba2553c290>"
      ]
     },
     "execution_count": 153,
     "metadata": {},
     "output_type": "execute_result"
    },
    {
     "data": {
      "image/png": "[encoded data removed]",
      "text/plain": [
       "<Figure size 432x288 with 1 Axes>"
      ]
     },
     "metadata": {
      "needs_background": "light"
     },
     "output_type": "display_data"
    }
   ],
   "source": [
    "#### remove outliers!\n",
    "sns.boxplot(x=data[\"blood_pressure\"])"
   ]
  },
  {
   "cell_type": "code",
   "execution_count": 154,
   "metadata": {},
   "outputs": [
    {
     "data": {
      "text/html": [
       "<div>\n",
       "<style scoped>\n",
       "    .dataframe tbody tr th:only-of-type {\n",
       "        vertical-align: middle;\n",
       "    }\n",
       "\n",
       "    .dataframe tbody tr th {\n",
       "        vertical-align: top;\n",
       "    }\n",
       "\n",
       "    .dataframe thead th {\n",
       "        text-align: right;\n",
       "    }\n",
       "</style>\n",
       "<table border=\"1\" class=\"dataframe\">\n",
       "  <thead>\n",
       "    <tr style=\"text-align: right;\">\n",
       "      <th></th>\n",
       "      <th>treatment</th>\n",
       "      <th>age</th>\n",
       "      <th>blood_pressure</th>\n",
       "      <th>gender</th>\n",
       "      <th>blood_test</th>\n",
       "      <th>family_history</th>\n",
       "      <th>TestA</th>\n",
       "      <th>TestB</th>\n",
       "      <th>GeneC</th>\n",
       "      <th>GeneD</th>\n",
       "      <th>GeneE</th>\n",
       "      <th>GeneF</th>\n",
       "    </tr>\n",
       "  </thead>\n",
       "  <tbody>\n",
       "    <tr>\n",
       "      <th>379</th>\n",
       "      <td>1</td>\n",
       "      <td>52</td>\n",
       "      <td>-999.0</td>\n",
       "      <td>0</td>\n",
       "      <td>0</td>\n",
       "      <td>-1</td>\n",
       "      <td>-0.367084</td>\n",
       "      <td>-0.125044</td>\n",
       "      <td>1</td>\n",
       "      <td>1</td>\n",
       "      <td>0</td>\n",
       "      <td>0</td>\n",
       "    </tr>\n",
       "    <tr>\n",
       "      <th>1539</th>\n",
       "      <td>1</td>\n",
       "      <td>59</td>\n",
       "      <td>-999.0</td>\n",
       "      <td>0</td>\n",
       "      <td>0</td>\n",
       "      <td>-1</td>\n",
       "      <td>4.776677</td>\n",
       "      <td>-0.088575</td>\n",
       "      <td>0</td>\n",
       "      <td>0</td>\n",
       "      <td>0</td>\n",
       "      <td>1</td>\n",
       "    </tr>\n",
       "    <tr>\n",
       "      <th>1685</th>\n",
       "      <td>1</td>\n",
       "      <td>65</td>\n",
       "      <td>-999.0</td>\n",
       "      <td>0</td>\n",
       "      <td>0</td>\n",
       "      <td>-1</td>\n",
       "      <td>4.026843</td>\n",
       "      <td>-0.122242</td>\n",
       "      <td>1</td>\n",
       "      <td>0</td>\n",
       "      <td>0</td>\n",
       "      <td>1</td>\n",
       "    </tr>\n",
       "    <tr>\n",
       "      <th>2123</th>\n",
       "      <td>1</td>\n",
       "      <td>51</td>\n",
       "      <td>-999.0</td>\n",
       "      <td>0</td>\n",
       "      <td>0</td>\n",
       "      <td>0</td>\n",
       "      <td>0.677114</td>\n",
       "      <td>0.047250</td>\n",
       "      <td>1</td>\n",
       "      <td>1</td>\n",
       "      <td>1</td>\n",
       "      <td>1</td>\n",
       "    </tr>\n",
       "    <tr>\n",
       "      <th>5773</th>\n",
       "      <td>1</td>\n",
       "      <td>68</td>\n",
       "      <td>-999.0</td>\n",
       "      <td>0</td>\n",
       "      <td>0</td>\n",
       "      <td>-1</td>\n",
       "      <td>8.524262</td>\n",
       "      <td>-0.244947</td>\n",
       "      <td>0</td>\n",
       "      <td>1</td>\n",
       "      <td>0</td>\n",
       "      <td>1</td>\n",
       "    </tr>\n",
       "    <tr>\n",
       "      <th>6301</th>\n",
       "      <td>0</td>\n",
       "      <td>46</td>\n",
       "      <td>-999.0</td>\n",
       "      <td>1</td>\n",
       "      <td>0</td>\n",
       "      <td>-1</td>\n",
       "      <td>-1.834005</td>\n",
       "      <td>-0.265692</td>\n",
       "      <td>0</td>\n",
       "      <td>0</td>\n",
       "      <td>1</td>\n",
       "      <td>0</td>\n",
       "    </tr>\n",
       "    <tr>\n",
       "      <th>6502</th>\n",
       "      <td>1</td>\n",
       "      <td>58</td>\n",
       "      <td>-999.0</td>\n",
       "      <td>0</td>\n",
       "      <td>1</td>\n",
       "      <td>-1</td>\n",
       "      <td>3.480871</td>\n",
       "      <td>0.022472</td>\n",
       "      <td>0</td>\n",
       "      <td>1</td>\n",
       "      <td>1</td>\n",
       "      <td>1</td>\n",
       "    </tr>\n",
       "  </tbody>\n",
       "</table>\n",
       "</div>"
      ],
      "text/plain": [
       "      treatment  age  blood_pressure  gender  blood_test  family_history  \\\n",
       "379           1   52          -999.0       0           0              -1   \n",
       "1539          1   59          -999.0       0           0              -1   \n",
       "1685          1   65          -999.0       0           0              -1   \n",
       "2123          1   51          -999.0       0           0               0   \n",
       "5773          1   68          -999.0       0           0              -1   \n",
       "6301          0   46          -999.0       1           0              -1   \n",
       "6502          1   58          -999.0       0           1              -1   \n",
       "\n",
       "         TestA     TestB  GeneC  GeneD  GeneE  GeneF  \n",
       "379  -0.367084 -0.125044      1      1      0      0  \n",
       "1539  4.776677 -0.088575      0      0      0      1  \n",
       "1685  4.026843 -0.122242      1      0      0      1  \n",
       "2123  0.677114  0.047250      1      1      1      1  \n",
       "5773  8.524262 -0.244947      0      1      0      1  \n",
       "6301 -1.834005 -0.265692      0      0      1      0  \n",
       "6502  3.480871  0.022472      0      1      1      1  "
      ]
     },
     "execution_count": 154,
     "metadata": {},
     "output_type": "execute_result"
    }
   ],
   "source": [
    "## -999 seems to be nan value\n",
    "data[data[\"blood_pressure\"]<0]"
   ]
  },
  {
   "cell_type": "code",
   "execution_count": 155,
   "metadata": {},
   "outputs": [],
   "source": [
    "## Split Train, Test data\n",
    "## allocate predictors to X\n",
    "X = data.iloc[:,1:]\n",
    "\n",
    "## allocate test value to y\n",
    "y = data[\"treatment\"]\n",
    "\n",
    "## Train, validation, test split applying random state\n",
    "## Train : Validation : Test = 8:1:1\n",
    "X_train, X_test, y_train, y_test = train_test_split(\n",
    "    X, y, test_size=0.1, random_state=1)\n",
    "\n",
    "X_train, X_val, y_train, y_val = train_test_split(\n",
    "    X_train, y_train, test_size=0.1, random_state=1)"
   ]
  },
  {
   "cell_type": "code",
   "execution_count": 162,
   "metadata": {
    "scrolled": true
   },
   "outputs": [
    {
     "data": {
      "text/plain": [
       "102.14176448747929"
      ]
     },
     "execution_count": 162,
     "metadata": {},
     "output_type": "execute_result"
    }
   ],
   "source": [
    "# change -999 blood_pressure to mean value of train set\n",
    "mean_blood_pressure = X_train[X_train.blood_pressure != -999].blood_pressure.mean()\n",
    "data[\"blood_pressure\"] = data[\"blood_pressure\"].replace(-999,mean_blood_pressure)\n",
    "mean_blood_pressure\n"
   ]
  },
  {
   "cell_type": "code",
   "execution_count": null,
   "metadata": {},
   "outputs": [],
   "source": []
  },
  {
   "cell_type": "code",
   "execution_count": 163,
   "metadata": {},
   "outputs": [
    {
     "data": {
      "text/plain": [
       "treatment\n",
       "0    AxesSubplot(0.125,0.125;0.352273x0.755)\n",
       "1    AxesSubplot(0.125,0.125;0.352273x0.755)\n",
       "Name: blood_pressure, dtype: object"
      ]
     },
     "execution_count": 163,
     "metadata": {},
     "output_type": "execute_result"
    },
    {
     "data": {
      "image/png": "[encoded data removed]",
      "text/plain": [
       "<Figure size 432x288 with 2 Axes>"
      ]
     },
     "metadata": {
      "needs_background": "light"
     },
     "output_type": "display_data"
    }
   ],
   "source": [
    "### histogram of age groupby treatment and kernel density estimation plot\n",
    "fig, axs = plt.subplots(ncols=2)\n",
    "data.groupby(\"treatment\").blood_pressure.plot(kind='kde', ax=axs[1], legend = True)\n",
    "data.groupby(\"treatment\").blood_pressure.hist(alpha=0.4, ax=axs[0])\n",
    "\n",
    "#https://stackoverflow.com/questions/21548750/plotting-histograms-against-classes-in-pandas-matplotlib"
   ]
  },
  {
   "cell_type": "code",
   "execution_count": 164,
   "metadata": {},
   "outputs": [
    {
     "name": "stdout",
     "output_type": "stream",
     "text": [
      "P-value :  8.566937971827714e-23\n"
     ]
    }
   ],
   "source": [
    "tstat, pval, freedom = statsmodels.stats.weightstats.ttest_ind(data[data[\"treatment\"]==0][\"blood_pressure\"],data[data[\"treatment\"]==1][\"blood_pressure\"],alternative=\"two-sided\",usevar=\"unequal\")\n",
    "pval_list.append((\"blood_pressure\", pval))\n",
    "print(\"P-value : \",pval)\n",
    "#https://www.statsmodels.org/stable/generated/statsmodels.stats.weightstats.ttest_ind.html"
   ]
  },
  {
   "cell_type": "markdown",
   "metadata": {},
   "source": [
    "# gender"
   ]
  },
  {
   "cell_type": "code",
   "execution_count": 165,
   "metadata": {},
   "outputs": [],
   "source": [
    "def stacked_barplot_btw_columns(data, col1, col2, label1, label2):##col1 : target\n",
    "\n",
    "## count numbers\n",
    "    count_gender = data[[col1,col2]].groupby([col1,col2]).size()\n",
    "\n",
    "    male_0 = count_gender[0,1]\n",
    "    male_1 = count_gender[1,1]\n",
    "    female_0 = count_gender[0,0]\n",
    "    female_1 = count_gender[1,0]\n",
    "\n",
    "    treatment_1 = [male_1, female_1]\n",
    "    treatment_0 = [male_0, female_0]\n",
    "    width = 0.5\n",
    "\n",
    "    p1 = plt.bar([label1, label2],[male_0,female_0])\n",
    "    p2 = plt.bar([label1, label2],[male_1,female_1], bottom = [male_0,female_0])\n",
    "\n",
    "    plt.ylabel('Count by treatment')\n",
    "    plt.xlabel(col2)\n",
    "    plt.legend((p1[0], p2[0]), ('Treatment 0', 'Treatment 1'))\n",
    "\n",
    "    plt.show()"
   ]
  },
  {
   "cell_type": "code",
   "execution_count": 166,
   "metadata": {},
   "outputs": [
    {
     "data": {
      "image/png": "[encoded data removed]",
      "text/plain": [
       "<Figure size 432x288 with 1 Axes>"
      ]
     },
     "metadata": {
      "needs_background": "light"
     },
     "output_type": "display_data"
    }
   ],
   "source": [
    "stacked_barplot_btw_columns(data, \"treatment\", \"gender\", \"male\", \"female\")"
   ]
  },
  {
   "cell_type": "markdown",
   "metadata": {},
   "source": [
    "### Female had higher proportion of Treatment 1"
   ]
  },
  {
   "cell_type": "code",
   "execution_count": 167,
   "metadata": {},
   "outputs": [
    {
     "name": "stdout",
     "output_type": "stream",
     "text": [
      "P-value :  0.0\n"
     ]
    }
   ],
   "source": [
    "tstat, pval, freedom = statsmodels.stats.weightstats.ttest_ind(data[data[\"treatment\"]==0][\"gender\"],data[data[\"treatment\"]==1][\"gender\"],alternative=\"two-sided\",usevar=\"unequal\")\n",
    "pval_list.append((\"gender\", pval))\n",
    "print(\"P-value : \",pval)\n",
    "#https://www.statsmodels.org/stable/generated/statsmodels.stats.weightstats.ttest_ind.html"
   ]
  },
  {
   "cell_type": "markdown",
   "metadata": {},
   "source": [
    "# Blood_test"
   ]
  },
  {
   "cell_type": "code",
   "execution_count": 168,
   "metadata": {
    "scrolled": true
   },
   "outputs": [
    {
     "data": {
      "image/png": "[encoded data removed]",
      "text/plain": [
       "<Figure size 432x288 with 1 Axes>"
      ]
     },
     "metadata": {
      "needs_background": "light"
     },
     "output_type": "display_data"
    }
   ],
   "source": [
    "stacked_barplot_btw_columns(data, \"treatment\", \"blood_test\", \"negative\", \"positive\")"
   ]
  },
  {
   "cell_type": "code",
   "execution_count": 169,
   "metadata": {
    "scrolled": true
   },
   "outputs": [
    {
     "name": "stdout",
     "output_type": "stream",
     "text": [
      "P-value :  0.016763878878604723\n"
     ]
    }
   ],
   "source": [
    "tstat, pval, freedom = statsmodels.stats.weightstats.ttest_ind(data[data[\"treatment\"]==0][\"blood_test\"],data[data[\"treatment\"]==1][\"blood_test\"],alternative=\"two-sided\",usevar=\"unequal\")\n",
    "pval_list.append((\"blood_test\", pval))\n",
    "print(\"P-value : \",pval)\n",
    "#https://www.statsmodels.org/stable/generated/statsmodels.stats.weightstats.ttest_ind.html"
   ]
  },
  {
   "cell_type": "markdown",
   "metadata": {},
   "source": [
    "# Family_History"
   ]
  },
  {
   "cell_type": "code",
   "execution_count": 170,
   "metadata": {},
   "outputs": [],
   "source": [
    "count_family_history = data[[\"treatment\", \"family_history\"]].groupby([\"treatment\", \"family_history\"]).size()"
   ]
  },
  {
   "cell_type": "code",
   "execution_count": 171,
   "metadata": {},
   "outputs": [
    {
     "data": {
      "image/png": "[encoded data removed]",
      "text/plain": [
       "<Figure size 432x288 with 1 Axes>"
      ]
     },
     "metadata": {
      "needs_background": "light"
     },
     "output_type": "display_data"
    }
   ],
   "source": [
    "neg_0 = count_family_history [0,-1]\n",
    "nan_0 = count_family_history [0,0]\n",
    "pos_0 = count_family_history [0,1]\n",
    "neg_1 = count_family_history [1,-1]\n",
    "nan_1 = count_family_history [1,0]\n",
    "pos_1 = count_family_history [1,1]\n",
    "\n",
    "\n",
    "treatment_1 = [neg_1, nan_1, pos_1]\n",
    "treatment_0 = [neg_0, nan_0, pos_0]\n",
    "width = 0.5\n",
    "\n",
    "p1 = plt.bar([\"Negative\", \"0\", \"Positive\"], treatment_0)\n",
    "p2 = plt.bar([\"Negative\", \"0\", \"Positive\"], treatment_1, bottom = treatment_0)\n",
    "\n",
    "plt.ylabel('Count by treatment')\n",
    "plt.xlabel(\"Family_History\")\n",
    "plt.legend((p1[0], p2[0]), ('Treatment 0', 'Treatment 1'))\n",
    "\n",
    "plt.show()"
   ]
  },
  {
   "cell_type": "code",
   "execution_count": 172,
   "metadata": {
    "scrolled": true
   },
   "outputs": [
    {
     "name": "stdout",
     "output_type": "stream",
     "text": [
      "P-value :  0.008474968788835285\n"
     ]
    }
   ],
   "source": [
    "tstat, pval, freedom = statsmodels.stats.weightstats.ttest_ind(data[data[\"treatment\"]==0][\"family_history\"],data[data[\"treatment\"]==1][\"family_history\"],alternative=\"two-sided\",usevar=\"unequal\")\n",
    "pval_list.append((\"Family_History\", pval))\n",
    "print(\"P-value : \",pval)\n",
    "#https://www.statsmodels.org/stable/generated/statsmodels.stats.weightstats.ttest_ind.html"
   ]
  },
  {
   "cell_type": "markdown",
   "metadata": {},
   "source": [
    "# TestA"
   ]
  },
  {
   "cell_type": "code",
   "execution_count": 173,
   "metadata": {},
   "outputs": [
    {
     "data": {
      "text/plain": [
       "<matplotlib.axes._subplots.AxesSubplot at 0x7fba25c020d0>"
      ]
     },
     "execution_count": 173,
     "metadata": {},
     "output_type": "execute_result"
    },
    {
     "data": {
      "image/png": "[encoded data removed]",
      "text/plain": [
       "<Figure size 432x288 with 1 Axes>"
      ]
     },
     "metadata": {
      "needs_background": "light"
     },
     "output_type": "display_data"
    }
   ],
   "source": [
    "## Box plot\n",
    "sns.boxplot(x=data[\"TestA\"])"
   ]
  },
  {
   "cell_type": "code",
   "execution_count": 174,
   "metadata": {
    "scrolled": false
   },
   "outputs": [
    {
     "data": {
      "text/plain": [
       "array([<matplotlib.axes._subplots.AxesSubplot object at 0x7fba25dc2bd0>,\n",
       "       <matplotlib.axes._subplots.AxesSubplot object at 0x7fba25decd50>],\n",
       "      dtype=object)"
      ]
     },
     "execution_count": 174,
     "metadata": {},
     "output_type": "execute_result"
    },
    {
     "data": {
      "image/png": "[encoded data removed]",
      "text/plain": [
       "<Figure size 432x288 with 2 Axes>"
      ]
     },
     "metadata": {
      "needs_background": "light"
     },
     "output_type": "display_data"
    }
   ],
   "source": [
    "### histogram of TestA groupby treatment\n",
    "data.TestA.hist(by=data.treatment)"
   ]
  },
  {
   "cell_type": "code",
   "execution_count": 175,
   "metadata": {},
   "outputs": [
    {
     "data": {
      "text/plain": [
       "treatment\n",
       "0    AxesSubplot(0.125,0.125;0.352273x0.755)\n",
       "1    AxesSubplot(0.125,0.125;0.352273x0.755)\n",
       "Name: TestA, dtype: object"
      ]
     },
     "execution_count": 175,
     "metadata": {},
     "output_type": "execute_result"
    },
    {
     "data": {
      "image/png": "[encoded data removed]",
      "text/plain": [
       "<Figure size 432x288 with 2 Axes>"
      ]
     },
     "metadata": {
      "needs_background": "light"
     },
     "output_type": "display_data"
    }
   ],
   "source": [
    "### histogram of TestA groupby treatment and kernel density estimation plot\n",
    "fig, axs = plt.subplots(ncols=2)\n",
    "data.groupby(\"treatment\").TestA.plot(kind='kde', ax=axs[1], legend =True)\n",
    "data.groupby(\"treatment\").TestA.hist(alpha=0.4, ax=axs[0])"
   ]
  },
  {
   "cell_type": "code",
   "execution_count": 176,
   "metadata": {},
   "outputs": [
    {
     "name": "stdout",
     "output_type": "stream",
     "text": [
      "P-value :  3.371280032526245e-59\n"
     ]
    }
   ],
   "source": [
    "tstat, pval, freedom = statsmodels.stats.weightstats.ttest_ind(data[data[\"treatment\"]==0][\"TestA\"],data[data[\"treatment\"]==1][\"TestA\"],alternative=\"two-sided\",usevar=\"unequal\")\n",
    "pval_list.append((\"TestA\", pval))\n",
    "print(\"P-value : \",pval)\n",
    "#https://www.statsmodels.org/stable/generated/statsmodels.stats.weightstats.ttest_ind.html"
   ]
  },
  {
   "cell_type": "markdown",
   "metadata": {},
   "source": [
    "# TestB"
   ]
  },
  {
   "cell_type": "code",
   "execution_count": 177,
   "metadata": {
    "scrolled": false
   },
   "outputs": [
    {
     "data": {
      "text/plain": [
       "<matplotlib.axes._subplots.AxesSubplot at 0x7fba245d65d0>"
      ]
     },
     "execution_count": 177,
     "metadata": {},
     "output_type": "execute_result"
    },
    {
     "data": {
      "image/png": "[encoded data removed]",
      "text/plain": [
       "<Figure size 432x288 with 1 Axes>"
      ]
     },
     "metadata": {
      "needs_background": "light"
     },
     "output_type": "display_data"
    }
   ],
   "source": [
    "## Boxplot\n",
    "sns.boxplot(x=data[\"TestB\"])"
   ]
  },
  {
   "cell_type": "code",
   "execution_count": 178,
   "metadata": {
    "scrolled": true
   },
   "outputs": [
    {
     "data": {
      "text/plain": [
       "array([<matplotlib.axes._subplots.AxesSubplot object at 0x7fba26016510>,\n",
       "       <matplotlib.axes._subplots.AxesSubplot object at 0x7fba262a4bd0>],\n",
       "      dtype=object)"
      ]
     },
     "execution_count": 178,
     "metadata": {},
     "output_type": "execute_result"
    },
    {
     "data": {
      "image/png": "[encoded data removed]",
      "text/plain": [
       "<Figure size 432x288 with 2 Axes>"
      ]
     },
     "metadata": {
      "needs_background": "light"
     },
     "output_type": "display_data"
    }
   ],
   "source": [
    "### histogram of TestB groupby treatment\n",
    "data.TestB.hist(by=data.treatment)"
   ]
  },
  {
   "cell_type": "code",
   "execution_count": 179,
   "metadata": {
    "scrolled": true
   },
   "outputs": [
    {
     "data": {
      "text/plain": [
       "treatment\n",
       "0    AxesSubplot(0.125,0.125;0.352273x0.755)\n",
       "1    AxesSubplot(0.125,0.125;0.352273x0.755)\n",
       "Name: TestB, dtype: object"
      ]
     },
     "execution_count": 179,
     "metadata": {},
     "output_type": "execute_result"
    },
    {
     "data": {
      "image/png": "[encoded data removed]",
      "text/plain": [
       "<Figure size 432x288 with 2 Axes>"
      ]
     },
     "metadata": {
      "needs_background": "light"
     },
     "output_type": "display_data"
    }
   ],
   "source": [
    "### histogram of TestB groupby treatment and kernel density estimation plot\n",
    "fig, axs = plt.subplots(ncols=2)\n",
    "data.groupby(\"treatment\").TestB.plot(kind='kde', ax=axs[1], legend = True)\n",
    "data.groupby(\"treatment\").TestB.hist(alpha=0.4, ax=axs[0])"
   ]
  },
  {
   "cell_type": "code",
   "execution_count": 180,
   "metadata": {},
   "outputs": [
    {
     "name": "stdout",
     "output_type": "stream",
     "text": [
      "P-value :  2.564103416101554e-12\n"
     ]
    }
   ],
   "source": [
    "tstat, pval, freedom = statsmodels.stats.weightstats.ttest_ind(data[data[\"treatment\"]==0][\"TestB\"],data[data[\"treatment\"]==1][\"TestB\"],alternative=\"two-sided\",usevar=\"unequal\")\n",
    "# pval_list.append((\"TestB\", pval))\n",
    "print(\"P-value : \",pval)"
   ]
  },
  {
   "cell_type": "code",
   "execution_count": 181,
   "metadata": {},
   "outputs": [],
   "source": [
    "data[\"TestB\"] = data[\"TestB\"].apply(lambda x : (x**2))"
   ]
  },
  {
   "cell_type": "code",
   "execution_count": 182,
   "metadata": {},
   "outputs": [],
   "source": [
    "# minB = data[\"TestB\"].min()\n",
    "# maxB = data[\"TestB\"].max()\n",
    "\n",
    "# data[\"TestB\"] = data[\"TestB\"].apply(lambda x : (x-minB)/(maxB-minB))"
   ]
  },
  {
   "cell_type": "code",
   "execution_count": 183,
   "metadata": {},
   "outputs": [
    {
     "data": {
      "text/plain": [
       "treatment\n",
       "0    AxesSubplot(0.125,0.125;0.352273x0.755)\n",
       "1    AxesSubplot(0.125,0.125;0.352273x0.755)\n",
       "Name: TestB, dtype: object"
      ]
     },
     "execution_count": 183,
     "metadata": {},
     "output_type": "execute_result"
    },
    {
     "data": {
      "image/png": "[encoded data removed]",
      "text/plain": [
       "<Figure size 432x288 with 2 Axes>"
      ]
     },
     "metadata": {
      "needs_background": "light"
     },
     "output_type": "display_data"
    }
   ],
   "source": [
    "### histogram of TestB groupby treatment and kernel density estimation plot\n",
    "fig, axs = plt.subplots(ncols=2)\n",
    "data.groupby(\"treatment\").TestB.plot(kind='kde', ax=axs[1], legend = True)\n",
    "data.groupby(\"treatment\").TestB.hist(alpha=0.4, ax=axs[0])"
   ]
  },
  {
   "cell_type": "code",
   "execution_count": 184,
   "metadata": {
    "scrolled": true
   },
   "outputs": [
    {
     "name": "stdout",
     "output_type": "stream",
     "text": [
      "P-value :  2.0497915520390705e-178\n"
     ]
    }
   ],
   "source": [
    "tstat, pval, freedom = statsmodels.stats.weightstats.ttest_ind(data[data[\"treatment\"]==0][\"TestB\"],data[data[\"treatment\"]==1][\"TestB\"],alternative=\"two-sided\",usevar=\"unequal\")\n",
    "pval_list.append((\"TestB\", pval))\n",
    "print(\"P-value : \",pval)\n"
   ]
  },
  {
   "cell_type": "markdown",
   "metadata": {},
   "source": [
    "## Found that there is significant difference in distribution between two groups"
   ]
  },
  {
   "cell_type": "markdown",
   "metadata": {},
   "source": [
    "# GeneC"
   ]
  },
  {
   "cell_type": "code",
   "execution_count": 185,
   "metadata": {},
   "outputs": [
    {
     "data": {
      "image/png": "[encoded data removed]",
      "text/plain": [
       "<Figure size 432x288 with 1 Axes>"
      ]
     },
     "metadata": {
      "needs_background": "light"
     },
     "output_type": "display_data"
    }
   ],
   "source": [
    "stacked_barplot_btw_columns(data, \"treatment\", \"GeneC\", \"0\", \"1\")"
   ]
  },
  {
   "cell_type": "code",
   "execution_count": 186,
   "metadata": {},
   "outputs": [
    {
     "name": "stdout",
     "output_type": "stream",
     "text": [
      "P-value :  0.44655288842904617\n"
     ]
    }
   ],
   "source": [
    "tstat, pval, freedom = statsmodels.stats.weightstats.ttest_ind(data[data[\"treatment\"]==0][\"GeneC\"],data[data[\"treatment\"]==1][\"GeneC\"],alternative=\"two-sided\",usevar=\"unequal\")\n",
    "pval_list.append((\"GeneC\", pval))\n",
    "print(\"P-value : \",pval)\n",
    "#https://www.statsmodels.org/stable/generated/statsmodels.stats.weightstats.ttest_ind.html"
   ]
  },
  {
   "cell_type": "code",
   "execution_count": 187,
   "metadata": {},
   "outputs": [
    {
     "name": "stdout",
     "output_type": "stream",
     "text": [
      "               sum_sq      df         F    PR(>F)\n",
      "GeneC        0.143237     1.0  0.579234  0.446637\n",
      "Residual  1854.158630  7498.0       NaN       NaN\n"
     ]
    }
   ],
   "source": [
    "linear_model=ols('treatment ~ GeneC', data=data).fit()\n",
    "print(sm.stats.anova_lm(linear_model, typ=2))"
   ]
  },
  {
   "cell_type": "markdown",
   "metadata": {},
   "source": [
    "# GeneD"
   ]
  },
  {
   "cell_type": "code",
   "execution_count": 188,
   "metadata": {
    "scrolled": true
   },
   "outputs": [
    {
     "data": {
      "image/png": "[encoded data removed]",
      "text/plain": [
       "<Figure size 432x288 with 1 Axes>"
      ]
     },
     "metadata": {
      "needs_background": "light"
     },
     "output_type": "display_data"
    }
   ],
   "source": [
    "stacked_barplot_btw_columns(data, \"treatment\", \"GeneD\", \"0\", \"1\")"
   ]
  },
  {
   "cell_type": "code",
   "execution_count": 189,
   "metadata": {},
   "outputs": [
    {
     "name": "stdout",
     "output_type": "stream",
     "text": [
      "P-value :  0.6410407237875908\n"
     ]
    }
   ],
   "source": [
    "tstat, pval, freedom = statsmodels.stats.weightstats.ttest_ind(data[data[\"treatment\"]==0][\"GeneD\"],data[data[\"treatment\"]==1][\"GeneD\"],alternative=\"two-sided\",usevar=\"unequal\")\n",
    "pval_list.append((\"GeneD\", pval))\n",
    "print(\"P-value : \",pval)\n",
    "#https://www.statsmodels.org/stable/generated/statsmodels.stats.weightstats.ttest_ind.html"
   ]
  },
  {
   "cell_type": "code",
   "execution_count": 190,
   "metadata": {},
   "outputs": [
    {
     "name": "stdout",
     "output_type": "stream",
     "text": [
      "               sum_sq      df         F    PR(>F)\n",
      "GeneD        0.053751     1.0  0.217354  0.641077\n",
      "Residual  1854.248115  7498.0       NaN       NaN\n"
     ]
    }
   ],
   "source": [
    "linear_model=ols('treatment ~ GeneD', data=data).fit()\n",
    "print(sm.stats.anova_lm(linear_model, typ=2))"
   ]
  },
  {
   "cell_type": "markdown",
   "metadata": {},
   "source": [
    "# GeneE"
   ]
  },
  {
   "cell_type": "code",
   "execution_count": 191,
   "metadata": {
    "scrolled": true
   },
   "outputs": [
    {
     "data": {
      "image/png": "[encoded data removed]",
      "text/plain": [
       "<Figure size 432x288 with 1 Axes>"
      ]
     },
     "metadata": {
      "needs_background": "light"
     },
     "output_type": "display_data"
    }
   ],
   "source": [
    "stacked_barplot_btw_columns(data, \"treatment\", \"GeneE\", \"0\", \"1\")"
   ]
  },
  {
   "cell_type": "code",
   "execution_count": 192,
   "metadata": {},
   "outputs": [
    {
     "name": "stdout",
     "output_type": "stream",
     "text": [
      "P-value :  0.0001274084269056386\n"
     ]
    }
   ],
   "source": [
    "tstat, pval, freedom = statsmodels.stats.weightstats.ttest_ind(data[data[\"treatment\"]==0][\"GeneE\"],data[data[\"treatment\"]==1][\"GeneE\"],alternative=\"two-sided\",usevar=\"unequal\")\n",
    "pval_list.append((\"GeneE\", pval))\n",
    "print(\"P-value : \",pval)\n",
    "#https://www.statsmodels.org/stable/generated/statsmodels.stats.weightstats.ttest_ind.html"
   ]
  },
  {
   "cell_type": "code",
   "execution_count": 193,
   "metadata": {},
   "outputs": [
    {
     "name": "stdout",
     "output_type": "stream",
     "text": [
      "               sum_sq      df          F    PR(>F)\n",
      "GeneE        3.620041     1.0  14.666522  0.000129\n",
      "Residual  1850.681826  7498.0        NaN       NaN\n"
     ]
    }
   ],
   "source": [
    "linear_model=ols('treatment ~ GeneE', data=data).fit()\n",
    "print(sm.stats.anova_lm(linear_model, typ=2))"
   ]
  },
  {
   "cell_type": "markdown",
   "metadata": {},
   "source": [
    "# GeneF"
   ]
  },
  {
   "cell_type": "code",
   "execution_count": 194,
   "metadata": {},
   "outputs": [
    {
     "data": {
      "image/png": "[encoded data removed]",
      "text/plain": [
       "<Figure size 432x288 with 1 Axes>"
      ]
     },
     "metadata": {
      "needs_background": "light"
     },
     "output_type": "display_data"
    }
   ],
   "source": [
    "stacked_barplot_btw_columns(data, \"treatment\", \"GeneF\", \"0\", \"1\")"
   ]
  },
  {
   "cell_type": "code",
   "execution_count": 195,
   "metadata": {},
   "outputs": [
    {
     "name": "stdout",
     "output_type": "stream",
     "text": [
      "P-value :  0.06728879970716177\n"
     ]
    }
   ],
   "source": [
    "tstat, pval, freedom = statsmodels.stats.weightstats.ttest_ind(data[data[\"treatment\"]==0][\"GeneF\"],data[data[\"treatment\"]==1][\"GeneF\"],alternative=\"two-sided\",usevar=\"unequal\")\n",
    "pval_list.append((\"GeneF\", pval))\n",
    "print(\"P-value : \",pval)\n",
    "#https://www.statsmodels.org/stable/generated/statsmodels.stats.weightstats.ttest_ind.html"
   ]
  },
  {
   "cell_type": "code",
   "execution_count": 196,
   "metadata": {},
   "outputs": [
    {
     "name": "stdout",
     "output_type": "stream",
     "text": [
      "               sum_sq      df         F    PR(>F)\n",
      "GeneF        0.827077     1.0  3.345836  0.067415\n",
      "Residual  1853.474790  7498.0       NaN       NaN\n"
     ]
    }
   ],
   "source": [
    "linear_model=ols('treatment ~ GeneF', data=data).fit()\n",
    "print(sm.stats.anova_lm(linear_model, typ=2))"
   ]
  },
  {
   "cell_type": "code",
   "execution_count": 197,
   "metadata": {},
   "outputs": [
    {
     "data": {
      "text/html": [
       "<div>\n",
       "<style scoped>\n",
       "    .dataframe tbody tr th:only-of-type {\n",
       "        vertical-align: middle;\n",
       "    }\n",
       "\n",
       "    .dataframe tbody tr th {\n",
       "        vertical-align: top;\n",
       "    }\n",
       "\n",
       "    .dataframe thead th {\n",
       "        text-align: right;\n",
       "    }\n",
       "</style>\n",
       "<table border=\"1\" class=\"dataframe\">\n",
       "  <thead>\n",
       "    <tr style=\"text-align: right;\">\n",
       "      <th></th>\n",
       "      <th>feature</th>\n",
       "      <th>p_val</th>\n",
       "    </tr>\n",
       "  </thead>\n",
       "  <tbody>\n",
       "    <tr>\n",
       "      <th>9</th>\n",
       "      <td>GeneD</td>\n",
       "      <td>6.410407e-01</td>\n",
       "    </tr>\n",
       "    <tr>\n",
       "      <th>8</th>\n",
       "      <td>GeneC</td>\n",
       "      <td>4.465529e-01</td>\n",
       "    </tr>\n",
       "    <tr>\n",
       "      <th>11</th>\n",
       "      <td>GeneF</td>\n",
       "      <td>6.728880e-02</td>\n",
       "    </tr>\n",
       "    <tr>\n",
       "      <th>4</th>\n",
       "      <td>blood_test</td>\n",
       "      <td>1.676388e-02</td>\n",
       "    </tr>\n",
       "    <tr>\n",
       "      <th>5</th>\n",
       "      <td>Family_History</td>\n",
       "      <td>8.474969e-03</td>\n",
       "    </tr>\n",
       "    <tr>\n",
       "      <th>10</th>\n",
       "      <td>GeneE</td>\n",
       "      <td>1.274084e-04</td>\n",
       "    </tr>\n",
       "    <tr>\n",
       "      <th>1</th>\n",
       "      <td>blood_pressure</td>\n",
       "      <td>8.566938e-23</td>\n",
       "    </tr>\n",
       "    <tr>\n",
       "      <th>2</th>\n",
       "      <td>blood_pressure</td>\n",
       "      <td>8.566938e-23</td>\n",
       "    </tr>\n",
       "    <tr>\n",
       "      <th>6</th>\n",
       "      <td>TestA</td>\n",
       "      <td>3.371280e-59</td>\n",
       "    </tr>\n",
       "    <tr>\n",
       "      <th>0</th>\n",
       "      <td>age</td>\n",
       "      <td>1.856751e-63</td>\n",
       "    </tr>\n",
       "    <tr>\n",
       "      <th>7</th>\n",
       "      <td>TestB</td>\n",
       "      <td>2.049792e-178</td>\n",
       "    </tr>\n",
       "    <tr>\n",
       "      <th>3</th>\n",
       "      <td>gender</td>\n",
       "      <td>0.000000e+00</td>\n",
       "    </tr>\n",
       "  </tbody>\n",
       "</table>\n",
       "</div>"
      ],
      "text/plain": [
       "           feature          p_val\n",
       "9            GeneD   6.410407e-01\n",
       "8            GeneC   4.465529e-01\n",
       "11           GeneF   6.728880e-02\n",
       "4       blood_test   1.676388e-02\n",
       "5   Family_History   8.474969e-03\n",
       "10           GeneE   1.274084e-04\n",
       "1   blood_pressure   8.566938e-23\n",
       "2   blood_pressure   8.566938e-23\n",
       "6            TestA   3.371280e-59\n",
       "0              age   1.856751e-63\n",
       "7            TestB  2.049792e-178\n",
       "3           gender   0.000000e+00"
      ]
     },
     "execution_count": 197,
     "metadata": {},
     "output_type": "execute_result"
    }
   ],
   "source": [
    "p_val = pd.DataFrame(pval_list, columns = [\"feature\", \"p_val\"]).sort_values(by = \"p_val\", ascending = False)\n",
    "p_val"
   ]
  },
  {
   "cell_type": "code",
   "execution_count": 198,
   "metadata": {},
   "outputs": [
    {
     "data": {
      "text/html": [
       "<div>\n",
       "<style scoped>\n",
       "    .dataframe tbody tr th:only-of-type {\n",
       "        vertical-align: middle;\n",
       "    }\n",
       "\n",
       "    .dataframe tbody tr th {\n",
       "        vertical-align: top;\n",
       "    }\n",
       "\n",
       "    .dataframe thead th {\n",
       "        text-align: right;\n",
       "    }\n",
       "</style>\n",
       "<table border=\"1\" class=\"dataframe\">\n",
       "  <thead>\n",
       "    <tr style=\"text-align: right;\">\n",
       "      <th></th>\n",
       "      <th>feature</th>\n",
       "      <th>p_val</th>\n",
       "    </tr>\n",
       "  </thead>\n",
       "  <tbody>\n",
       "    <tr>\n",
       "      <th>9</th>\n",
       "      <td>GeneD</td>\n",
       "      <td>0.641041</td>\n",
       "    </tr>\n",
       "    <tr>\n",
       "      <th>8</th>\n",
       "      <td>GeneC</td>\n",
       "      <td>0.446553</td>\n",
       "    </tr>\n",
       "    <tr>\n",
       "      <th>11</th>\n",
       "      <td>GeneF</td>\n",
       "      <td>0.067289</td>\n",
       "    </tr>\n",
       "  </tbody>\n",
       "</table>\n",
       "</div>"
      ],
      "text/plain": [
       "   feature     p_val\n",
       "9    GeneD  0.641041\n",
       "8    GeneC  0.446553\n",
       "11   GeneF  0.067289"
      ]
     },
     "execution_count": 198,
     "metadata": {},
     "output_type": "execute_result"
    }
   ],
   "source": [
    "## features that will be removed\n",
    "p_val[p_val[\"p_val\"]>0.05]"
   ]
  },
  {
   "cell_type": "markdown",
   "metadata": {},
   "source": [
    "## GeneD, GeneE, GeneC are not informative since pvalue of ttest is larger than 0.1\n",
    "## pvalue of GeneF is larger than 0.05"
   ]
  },
  {
   "cell_type": "code",
   "execution_count": 199,
   "metadata": {},
   "outputs": [
    {
     "data": {
      "text/html": [
       "<div>\n",
       "<style scoped>\n",
       "    .dataframe tbody tr th:only-of-type {\n",
       "        vertical-align: middle;\n",
       "    }\n",
       "\n",
       "    .dataframe tbody tr th {\n",
       "        vertical-align: top;\n",
       "    }\n",
       "\n",
       "    .dataframe thead th {\n",
       "        text-align: right;\n",
       "    }\n",
       "</style>\n",
       "<table border=\"1\" class=\"dataframe\">\n",
       "  <thead>\n",
       "    <tr style=\"text-align: right;\">\n",
       "      <th></th>\n",
       "      <th>treatment</th>\n",
       "      <th>age</th>\n",
       "      <th>blood_pressure</th>\n",
       "      <th>gender</th>\n",
       "      <th>blood_test</th>\n",
       "      <th>family_history</th>\n",
       "      <th>TestA</th>\n",
       "      <th>TestB</th>\n",
       "      <th>GeneC</th>\n",
       "      <th>GeneD</th>\n",
       "      <th>GeneE</th>\n",
       "      <th>GeneF</th>\n",
       "    </tr>\n",
       "  </thead>\n",
       "  <tbody>\n",
       "    <tr>\n",
       "      <th>treatment</th>\n",
       "      <td>1.000000</td>\n",
       "      <td>-0.192643</td>\n",
       "      <td>0.112383</td>\n",
       "      <td>-0.457285</td>\n",
       "      <td>-0.027859</td>\n",
       "      <td>0.030165</td>\n",
       "      <td>-0.185840</td>\n",
       "      <td>-0.340274</td>\n",
       "      <td>0.008789</td>\n",
       "      <td>-0.005384</td>\n",
       "      <td>-0.044184</td>\n",
       "      <td>-0.021119</td>\n",
       "    </tr>\n",
       "    <tr>\n",
       "      <th>age</th>\n",
       "      <td>-0.192643</td>\n",
       "      <td>1.000000</td>\n",
       "      <td>0.005734</td>\n",
       "      <td>-0.007886</td>\n",
       "      <td>-0.013876</td>\n",
       "      <td>-0.024855</td>\n",
       "      <td>0.969773</td>\n",
       "      <td>-0.012216</td>\n",
       "      <td>-0.006479</td>\n",
       "      <td>0.002007</td>\n",
       "      <td>0.015119</td>\n",
       "      <td>-0.013572</td>\n",
       "    </tr>\n",
       "    <tr>\n",
       "      <th>blood_pressure</th>\n",
       "      <td>0.112383</td>\n",
       "      <td>0.005734</td>\n",
       "      <td>1.000000</td>\n",
       "      <td>-0.000068</td>\n",
       "      <td>0.009422</td>\n",
       "      <td>0.009936</td>\n",
       "      <td>0.004832</td>\n",
       "      <td>0.020739</td>\n",
       "      <td>0.004218</td>\n",
       "      <td>0.008333</td>\n",
       "      <td>-0.003862</td>\n",
       "      <td>-0.004004</td>\n",
       "    </tr>\n",
       "    <tr>\n",
       "      <th>gender</th>\n",
       "      <td>-0.457285</td>\n",
       "      <td>-0.007886</td>\n",
       "      <td>-0.000068</td>\n",
       "      <td>1.000000</td>\n",
       "      <td>-0.009414</td>\n",
       "      <td>0.007741</td>\n",
       "      <td>-0.009346</td>\n",
       "      <td>0.025504</td>\n",
       "      <td>-0.009414</td>\n",
       "      <td>-0.013633</td>\n",
       "      <td>-0.008340</td>\n",
       "      <td>-0.006969</td>\n",
       "    </tr>\n",
       "    <tr>\n",
       "      <th>blood_test</th>\n",
       "      <td>-0.027859</td>\n",
       "      <td>-0.013876</td>\n",
       "      <td>0.009422</td>\n",
       "      <td>-0.009414</td>\n",
       "      <td>1.000000</td>\n",
       "      <td>-0.006826</td>\n",
       "      <td>-0.013463</td>\n",
       "      <td>0.024082</td>\n",
       "      <td>0.024535</td>\n",
       "      <td>-0.016351</td>\n",
       "      <td>0.008870</td>\n",
       "      <td>-0.004918</td>\n",
       "    </tr>\n",
       "    <tr>\n",
       "      <th>family_history</th>\n",
       "      <td>0.030165</td>\n",
       "      <td>-0.024855</td>\n",
       "      <td>0.009936</td>\n",
       "      <td>0.007741</td>\n",
       "      <td>-0.006826</td>\n",
       "      <td>1.000000</td>\n",
       "      <td>-0.025380</td>\n",
       "      <td>0.005320</td>\n",
       "      <td>0.024895</td>\n",
       "      <td>0.013234</td>\n",
       "      <td>0.003974</td>\n",
       "      <td>0.001583</td>\n",
       "    </tr>\n",
       "    <tr>\n",
       "      <th>TestA</th>\n",
       "      <td>-0.185840</td>\n",
       "      <td>0.969773</td>\n",
       "      <td>0.004832</td>\n",
       "      <td>-0.009346</td>\n",
       "      <td>-0.013463</td>\n",
       "      <td>-0.025380</td>\n",
       "      <td>1.000000</td>\n",
       "      <td>-0.012091</td>\n",
       "      <td>-0.004774</td>\n",
       "      <td>0.004863</td>\n",
       "      <td>0.016239</td>\n",
       "      <td>-0.014315</td>\n",
       "    </tr>\n",
       "    <tr>\n",
       "      <th>TestB</th>\n",
       "      <td>-0.340274</td>\n",
       "      <td>-0.012216</td>\n",
       "      <td>0.020739</td>\n",
       "      <td>0.025504</td>\n",
       "      <td>0.024082</td>\n",
       "      <td>0.005320</td>\n",
       "      <td>-0.012091</td>\n",
       "      <td>1.000000</td>\n",
       "      <td>-0.016952</td>\n",
       "      <td>-0.003177</td>\n",
       "      <td>-0.007520</td>\n",
       "      <td>0.003457</td>\n",
       "    </tr>\n",
       "    <tr>\n",
       "      <th>GeneC</th>\n",
       "      <td>0.008789</td>\n",
       "      <td>-0.006479</td>\n",
       "      <td>0.004218</td>\n",
       "      <td>-0.009414</td>\n",
       "      <td>0.024535</td>\n",
       "      <td>0.024895</td>\n",
       "      <td>-0.004774</td>\n",
       "      <td>-0.016952</td>\n",
       "      <td>1.000000</td>\n",
       "      <td>0.008430</td>\n",
       "      <td>-0.001292</td>\n",
       "      <td>0.009055</td>\n",
       "    </tr>\n",
       "    <tr>\n",
       "      <th>GeneD</th>\n",
       "      <td>-0.005384</td>\n",
       "      <td>0.002007</td>\n",
       "      <td>0.008333</td>\n",
       "      <td>-0.013633</td>\n",
       "      <td>-0.016351</td>\n",
       "      <td>0.013234</td>\n",
       "      <td>0.004863</td>\n",
       "      <td>-0.003177</td>\n",
       "      <td>0.008430</td>\n",
       "      <td>1.000000</td>\n",
       "      <td>0.006305</td>\n",
       "      <td>0.011048</td>\n",
       "    </tr>\n",
       "    <tr>\n",
       "      <th>GeneE</th>\n",
       "      <td>-0.044184</td>\n",
       "      <td>0.015119</td>\n",
       "      <td>-0.003862</td>\n",
       "      <td>-0.008340</td>\n",
       "      <td>0.008870</td>\n",
       "      <td>0.003974</td>\n",
       "      <td>0.016239</td>\n",
       "      <td>-0.007520</td>\n",
       "      <td>-0.001292</td>\n",
       "      <td>0.006305</td>\n",
       "      <td>1.000000</td>\n",
       "      <td>-0.009407</td>\n",
       "    </tr>\n",
       "    <tr>\n",
       "      <th>GeneF</th>\n",
       "      <td>-0.021119</td>\n",
       "      <td>-0.013572</td>\n",
       "      <td>-0.004004</td>\n",
       "      <td>-0.006969</td>\n",
       "      <td>-0.004918</td>\n",
       "      <td>0.001583</td>\n",
       "      <td>-0.014315</td>\n",
       "      <td>0.003457</td>\n",
       "      <td>0.009055</td>\n",
       "      <td>0.011048</td>\n",
       "      <td>-0.009407</td>\n",
       "      <td>1.000000</td>\n",
       "    </tr>\n",
       "  </tbody>\n",
       "</table>\n",
       "</div>"
      ],
      "text/plain": [
       "                treatment       age  blood_pressure    gender  blood_test  \\\n",
       "treatment        1.000000 -0.192643        0.112383 -0.457285   -0.027859   \n",
       "age             -0.192643  1.000000        0.005734 -0.007886   -0.013876   \n",
       "blood_pressure   0.112383  0.005734        1.000000 -0.000068    0.009422   \n",
       "gender          -0.457285 -0.007886       -0.000068  1.000000   -0.009414   \n",
       "blood_test      -0.027859 -0.013876        0.009422 -0.009414    1.000000   \n",
       "family_history   0.030165 -0.024855        0.009936  0.007741   -0.006826   \n",
       "TestA           -0.185840  0.969773        0.004832 -0.009346   -0.013463   \n",
       "TestB           -0.340274 -0.012216        0.020739  0.025504    0.024082   \n",
       "GeneC            0.008789 -0.006479        0.004218 -0.009414    0.024535   \n",
       "GeneD           -0.005384  0.002007        0.008333 -0.013633   -0.016351   \n",
       "GeneE           -0.044184  0.015119       -0.003862 -0.008340    0.008870   \n",
       "GeneF           -0.021119 -0.013572       -0.004004 -0.006969   -0.004918   \n",
       "\n",
       "                family_history     TestA     TestB     GeneC     GeneD  \\\n",
       "treatment             0.030165 -0.185840 -0.340274  0.008789 -0.005384   \n",
       "age                  -0.024855  0.969773 -0.012216 -0.006479  0.002007   \n",
       "blood_pressure        0.009936  0.004832  0.020739  0.004218  0.008333   \n",
       "gender                0.007741 -0.009346  0.025504 -0.009414 -0.013633   \n",
       "blood_test           -0.006826 -0.013463  0.024082  0.024535 -0.016351   \n",
       "family_history        1.000000 -0.025380  0.005320  0.024895  0.013234   \n",
       "TestA                -0.025380  1.000000 -0.012091 -0.004774  0.004863   \n",
       "TestB                 0.005320 -0.012091  1.000000 -0.016952 -0.003177   \n",
       "GeneC                 0.024895 -0.004774 -0.016952  1.000000  0.008430   \n",
       "GeneD                 0.013234  0.004863 -0.003177  0.008430  1.000000   \n",
       "GeneE                 0.003974  0.016239 -0.007520 -0.001292  0.006305   \n",
       "GeneF                 0.001583 -0.014315  0.003457  0.009055  0.011048   \n",
       "\n",
       "                   GeneE     GeneF  \n",
       "treatment      -0.044184 -0.021119  \n",
       "age             0.015119 -0.013572  \n",
       "blood_pressure -0.003862 -0.004004  \n",
       "gender         -0.008340 -0.006969  \n",
       "blood_test      0.008870 -0.004918  \n",
       "family_history  0.003974  0.001583  \n",
       "TestA           0.016239 -0.014315  \n",
       "TestB          -0.007520  0.003457  \n",
       "GeneC          -0.001292  0.009055  \n",
       "GeneD           0.006305  0.011048  \n",
       "GeneE           1.000000 -0.009407  \n",
       "GeneF          -0.009407  1.000000  "
      ]
     },
     "execution_count": 199,
     "metadata": {},
     "output_type": "execute_result"
    }
   ],
   "source": [
    "data.corr()"
   ]
  },
  {
   "cell_type": "code",
   "execution_count": 200,
   "metadata": {},
   "outputs": [
    {
     "data": {
      "image/png": "[encoded data removed]",
      "text/plain": [
       "<Figure size 1440x1440 with 2 Axes>"
      ]
     },
     "metadata": {
      "needs_background": "light"
     },
     "output_type": "display_data"
    }
   ],
   "source": [
    "## correlation heatmap of data\n",
    "\n",
    "f, ax = plt.subplots(figsize=(20, 20))\n",
    "ax = sns.heatmap(data.corr())\n",
    "\n",
    "#https://seaborn.pydata.org/generated/seaborn.heatmap.html"
   ]
  },
  {
   "cell_type": "markdown",
   "metadata": {},
   "source": [
    "# train, validation, test split"
   ]
  },
  {
   "cell_type": "code",
   "execution_count": 201,
   "metadata": {
    "scrolled": true
   },
   "outputs": [
    {
     "data": {
      "text/html": [
       "<div>\n",
       "<style scoped>\n",
       "    .dataframe tbody tr th:only-of-type {\n",
       "        vertical-align: middle;\n",
       "    }\n",
       "\n",
       "    .dataframe tbody tr th {\n",
       "        vertical-align: top;\n",
       "    }\n",
       "\n",
       "    .dataframe thead th {\n",
       "        text-align: right;\n",
       "    }\n",
       "</style>\n",
       "<table border=\"1\" class=\"dataframe\">\n",
       "  <thead>\n",
       "    <tr style=\"text-align: right;\">\n",
       "      <th></th>\n",
       "      <th>treatment</th>\n",
       "      <th>age</th>\n",
       "      <th>blood_pressure</th>\n",
       "      <th>gender</th>\n",
       "      <th>blood_test</th>\n",
       "      <th>family_history</th>\n",
       "      <th>TestA</th>\n",
       "      <th>TestB</th>\n",
       "      <th>GeneC</th>\n",
       "      <th>GeneD</th>\n",
       "      <th>GeneE</th>\n",
       "      <th>GeneF</th>\n",
       "    </tr>\n",
       "  </thead>\n",
       "  <tbody>\n",
       "    <tr>\n",
       "      <th>0</th>\n",
       "      <td>0</td>\n",
       "      <td>64</td>\n",
       "      <td>103.820809</td>\n",
       "      <td>1</td>\n",
       "      <td>0</td>\n",
       "      <td>-1</td>\n",
       "      <td>4.334376</td>\n",
       "      <td>0.105218</td>\n",
       "      <td>0</td>\n",
       "      <td>1</td>\n",
       "      <td>1</td>\n",
       "      <td>0</td>\n",
       "    </tr>\n",
       "    <tr>\n",
       "      <th>1</th>\n",
       "      <td>0</td>\n",
       "      <td>52</td>\n",
       "      <td>107.071369</td>\n",
       "      <td>0</td>\n",
       "      <td>0</td>\n",
       "      <td>-1</td>\n",
       "      <td>0.361847</td>\n",
       "      <td>0.045375</td>\n",
       "      <td>1</td>\n",
       "      <td>1</td>\n",
       "      <td>0</td>\n",
       "      <td>0</td>\n",
       "    </tr>\n",
       "    <tr>\n",
       "      <th>2</th>\n",
       "      <td>1</td>\n",
       "      <td>55</td>\n",
       "      <td>113.116130</td>\n",
       "      <td>0</td>\n",
       "      <td>1</td>\n",
       "      <td>-1</td>\n",
       "      <td>3.611842</td>\n",
       "      <td>0.005147</td>\n",
       "      <td>0</td>\n",
       "      <td>0</td>\n",
       "      <td>0</td>\n",
       "      <td>1</td>\n",
       "    </tr>\n",
       "    <tr>\n",
       "      <th>3</th>\n",
       "      <td>0</td>\n",
       "      <td>45</td>\n",
       "      <td>83.760932</td>\n",
       "      <td>0</td>\n",
       "      <td>0</td>\n",
       "      <td>0</td>\n",
       "      <td>-5.282537</td>\n",
       "      <td>0.056226</td>\n",
       "      <td>1</td>\n",
       "      <td>0</td>\n",
       "      <td>0</td>\n",
       "      <td>0</td>\n",
       "    </tr>\n",
       "    <tr>\n",
       "      <th>4</th>\n",
       "      <td>0</td>\n",
       "      <td>58</td>\n",
       "      <td>131.135933</td>\n",
       "      <td>0</td>\n",
       "      <td>0</td>\n",
       "      <td>-1</td>\n",
       "      <td>2.787207</td>\n",
       "      <td>0.038208</td>\n",
       "      <td>0</td>\n",
       "      <td>0</td>\n",
       "      <td>1</td>\n",
       "      <td>1</td>\n",
       "    </tr>\n",
       "    <tr>\n",
       "      <th>...</th>\n",
       "      <td>...</td>\n",
       "      <td>...</td>\n",
       "      <td>...</td>\n",
       "      <td>...</td>\n",
       "      <td>...</td>\n",
       "      <td>...</td>\n",
       "      <td>...</td>\n",
       "      <td>...</td>\n",
       "      <td>...</td>\n",
       "      <td>...</td>\n",
       "      <td>...</td>\n",
       "      <td>...</td>\n",
       "    </tr>\n",
       "    <tr>\n",
       "      <th>7495</th>\n",
       "      <td>1</td>\n",
       "      <td>56</td>\n",
       "      <td>99.640132</td>\n",
       "      <td>0</td>\n",
       "      <td>1</td>\n",
       "      <td>-1</td>\n",
       "      <td>2.442280</td>\n",
       "      <td>0.003927</td>\n",
       "      <td>1</td>\n",
       "      <td>0</td>\n",
       "      <td>1</td>\n",
       "      <td>1</td>\n",
       "    </tr>\n",
       "    <tr>\n",
       "      <th>7496</th>\n",
       "      <td>1</td>\n",
       "      <td>42</td>\n",
       "      <td>87.712685</td>\n",
       "      <td>0</td>\n",
       "      <td>0</td>\n",
       "      <td>-1</td>\n",
       "      <td>-6.010248</td>\n",
       "      <td>0.011259</td>\n",
       "      <td>0</td>\n",
       "      <td>0</td>\n",
       "      <td>1</td>\n",
       "      <td>0</td>\n",
       "    </tr>\n",
       "    <tr>\n",
       "      <th>7497</th>\n",
       "      <td>1</td>\n",
       "      <td>49</td>\n",
       "      <td>95.136721</td>\n",
       "      <td>0</td>\n",
       "      <td>0</td>\n",
       "      <td>0</td>\n",
       "      <td>-0.196411</td>\n",
       "      <td>0.008007</td>\n",
       "      <td>0</td>\n",
       "      <td>1</td>\n",
       "      <td>0</td>\n",
       "      <td>0</td>\n",
       "    </tr>\n",
       "    <tr>\n",
       "      <th>7498</th>\n",
       "      <td>1</td>\n",
       "      <td>44</td>\n",
       "      <td>102.552413</td>\n",
       "      <td>0</td>\n",
       "      <td>0</td>\n",
       "      <td>0</td>\n",
       "      <td>-4.116299</td>\n",
       "      <td>0.001477</td>\n",
       "      <td>0</td>\n",
       "      <td>0</td>\n",
       "      <td>0</td>\n",
       "      <td>1</td>\n",
       "    </tr>\n",
       "    <tr>\n",
       "      <th>7499</th>\n",
       "      <td>0</td>\n",
       "      <td>53</td>\n",
       "      <td>83.356142</td>\n",
       "      <td>0</td>\n",
       "      <td>0</td>\n",
       "      <td>-1</td>\n",
       "      <td>0.235244</td>\n",
       "      <td>0.049443</td>\n",
       "      <td>1</td>\n",
       "      <td>1</td>\n",
       "      <td>0</td>\n",
       "      <td>0</td>\n",
       "    </tr>\n",
       "  </tbody>\n",
       "</table>\n",
       "<p>7500 rows × 12 columns</p>\n",
       "</div>"
      ],
      "text/plain": [
       "      treatment  age  blood_pressure  gender  blood_test  family_history  \\\n",
       "0             0   64      103.820809       1           0              -1   \n",
       "1             0   52      107.071369       0           0              -1   \n",
       "2             1   55      113.116130       0           1              -1   \n",
       "3             0   45       83.760932       0           0               0   \n",
       "4             0   58      131.135933       0           0              -1   \n",
       "...         ...  ...             ...     ...         ...             ...   \n",
       "7495          1   56       99.640132       0           1              -1   \n",
       "7496          1   42       87.712685       0           0              -1   \n",
       "7497          1   49       95.136721       0           0               0   \n",
       "7498          1   44      102.552413       0           0               0   \n",
       "7499          0   53       83.356142       0           0              -1   \n",
       "\n",
       "         TestA     TestB  GeneC  GeneD  GeneE  GeneF  \n",
       "0     4.334376  0.105218      0      1      1      0  \n",
       "1     0.361847  0.045375      1      1      0      0  \n",
       "2     3.611842  0.005147      0      0      0      1  \n",
       "3    -5.282537  0.056226      1      0      0      0  \n",
       "4     2.787207  0.038208      0      0      1      1  \n",
       "...        ...       ...    ...    ...    ...    ...  \n",
       "7495  2.442280  0.003927      1      0      1      1  \n",
       "7496 -6.010248  0.011259      0      0      1      0  \n",
       "7497 -0.196411  0.008007      0      1      0      0  \n",
       "7498 -4.116299  0.001477      0      0      0      1  \n",
       "7499  0.235244  0.049443      1      1      0      0  \n",
       "\n",
       "[7500 rows x 12 columns]"
      ]
     },
     "execution_count": 201,
     "metadata": {},
     "output_type": "execute_result"
    }
   ],
   "source": [
    "data"
   ]
  },
  {
   "cell_type": "code",
   "execution_count": 202,
   "metadata": {},
   "outputs": [],
   "source": [
    "## Split Train, Test data\n",
    "## allocate predictors to X\n",
    "X = data.iloc[:,1:]\n",
    "\n",
    "## allocate test value to y\n",
    "y = data[\"treatment\"]\n",
    "\n",
    "## Train, validation, test split applying random state\n",
    "## Train : Validation : Test = 8:1:1\n",
    "X_train, X_test, y_train, y_test = train_test_split(\n",
    "    X, y, test_size=0.1, random_state=1)\n",
    "\n",
    "X_train, X_val, y_train, y_val = train_test_split(\n",
    "    X_train, y_train, test_size=0.1, random_state=1)\n",
    "\n",
    "## https://datascience.stackexchange.com/questions/15135/train-test-validation-set-splitting-in-sklearn"
   ]
  },
  {
   "cell_type": "code",
   "execution_count": null,
   "metadata": {},
   "outputs": [],
   "source": []
  },
  {
   "cell_type": "code",
   "execution_count": 203,
   "metadata": {},
   "outputs": [],
   "source": [
    "### use minmax scaler to scale the input features (just for feature importance)\n",
    "\n",
    "scaler = MinMaxScaler() \n",
    "X_train_scaled = scaler.fit_transform(X_train)\n",
    "X_val_scaled = scaler.transform(X_val)\n",
    "X_test_scaled = scaler.transform(X_test)"
   ]
  },
  {
   "cell_type": "markdown",
   "metadata": {},
   "source": [
    "# train logistic regression model"
   ]
  },
  {
   "cell_type": "code",
   "execution_count": 219,
   "metadata": {
    "scrolled": false
   },
   "outputs": [
    {
     "name": "stdout",
     "output_type": "stream",
     "text": [
      "Optimization terminated successfully.\n",
      "         Current function value: 0.431003\n",
      "         Iterations 7\n",
      "                           Logit Regression Results                           \n",
      "==============================================================================\n",
      "Dep. Variable:              treatment   No. Observations:                 6075\n",
      "Model:                          Logit   Df Residuals:                     6064\n",
      "Method:                           MLE   Df Model:                           10\n",
      "Date:                Sun, 21 Feb 2021   Pseudo R-squ.:                  0.3729\n",
      "Time:                        19:09:55   Log-Likelihood:                -2618.3\n",
      "converged:                       True   LL-Null:                       -4175.1\n",
      "Covariance Type:            nonrobust   LLR p-value:                     0.000\n",
      "==================================================================================\n",
      "                     coef    std err          z      P>|z|      [0.025      0.975]\n",
      "----------------------------------------------------------------------------------\n",
      "age               -0.0051      0.005     -0.978      0.328      -0.015       0.005\n",
      "blood_pressure     0.0374      0.003     14.169      0.000       0.032       0.043\n",
      "gender            -2.8239      0.079    -35.638      0.000      -2.979      -2.669\n",
      "blood_test        -0.3715      0.122     -3.040      0.002      -0.611      -0.132\n",
      "family_history     0.1888      0.069      2.738      0.006       0.054       0.324\n",
      "TestA             -0.1490      0.014    -10.719      0.000      -0.176      -0.122\n",
      "TestB            -44.4169      1.643    -27.026      0.000     -47.638     -41.196\n",
      "GeneC             -0.0168      0.069     -0.242      0.808      -0.153       0.119\n",
      "GeneD             -0.0382      0.069     -0.553      0.580      -0.174       0.097\n",
      "GeneE             -0.2834      0.070     -4.076      0.000      -0.420      -0.147\n",
      "GeneF             -0.2070      0.069     -2.985      0.003      -0.343      -0.071\n",
      "==================================================================================\n"
     ]
    }
   ],
   "source": [
    "logistic = sm.Logit(y_train, X_train).fit()\n",
    "print(logistic.summary()) "
   ]
  },
  {
   "cell_type": "code",
   "execution_count": 220,
   "metadata": {},
   "outputs": [
    {
     "data": {
      "text/html": [
       "<div>\n",
       "<style scoped>\n",
       "    .dataframe tbody tr th:only-of-type {\n",
       "        vertical-align: middle;\n",
       "    }\n",
       "\n",
       "    .dataframe tbody tr th {\n",
       "        vertical-align: top;\n",
       "    }\n",
       "\n",
       "    .dataframe thead th {\n",
       "        text-align: right;\n",
       "    }\n",
       "</style>\n",
       "<table border=\"1\" class=\"dataframe\">\n",
       "  <thead>\n",
       "    <tr style=\"text-align: right;\">\n",
       "      <th></th>\n",
       "      <th>Parameters</th>\n",
       "      <th>ABS_Parameters</th>\n",
       "    </tr>\n",
       "  </thead>\n",
       "  <tbody>\n",
       "    <tr>\n",
       "      <th>TestB</th>\n",
       "      <td>-15.665280</td>\n",
       "      <td>15.665280</td>\n",
       "    </tr>\n",
       "    <tr>\n",
       "      <th>age</th>\n",
       "      <td>-3.438508</td>\n",
       "      <td>3.438508</td>\n",
       "    </tr>\n",
       "    <tr>\n",
       "      <th>gender</th>\n",
       "      <td>-2.528465</td>\n",
       "      <td>2.528465</td>\n",
       "    </tr>\n",
       "    <tr>\n",
       "      <th>blood_pressure</th>\n",
       "      <td>2.115568</td>\n",
       "      <td>2.115568</td>\n",
       "    </tr>\n",
       "    <tr>\n",
       "      <th>TestA</th>\n",
       "      <td>-1.374972</td>\n",
       "      <td>1.374972</td>\n",
       "    </tr>\n",
       "    <tr>\n",
       "      <th>family_history</th>\n",
       "      <td>0.345904</td>\n",
       "      <td>0.345904</td>\n",
       "    </tr>\n",
       "    <tr>\n",
       "      <th>blood_test</th>\n",
       "      <td>-0.326797</td>\n",
       "      <td>0.326797</td>\n",
       "    </tr>\n",
       "    <tr>\n",
       "      <th>GeneE</th>\n",
       "      <td>-0.272195</td>\n",
       "      <td>0.272195</td>\n",
       "    </tr>\n",
       "    <tr>\n",
       "      <th>GeneF</th>\n",
       "      <td>-0.176320</td>\n",
       "      <td>0.176320</td>\n",
       "    </tr>\n",
       "    <tr>\n",
       "      <th>GeneD</th>\n",
       "      <td>-0.043306</td>\n",
       "      <td>0.043306</td>\n",
       "    </tr>\n",
       "    <tr>\n",
       "      <th>GeneC</th>\n",
       "      <td>-0.012826</td>\n",
       "      <td>0.012826</td>\n",
       "    </tr>\n",
       "  </tbody>\n",
       "</table>\n",
       "</div>"
      ],
      "text/plain": [
       "                Parameters  ABS_Parameters\n",
       "TestB           -15.665280       15.665280\n",
       "age              -3.438508        3.438508\n",
       "gender           -2.528465        2.528465\n",
       "blood_pressure    2.115568        2.115568\n",
       "TestA            -1.374972        1.374972\n",
       "family_history    0.345904        0.345904\n",
       "blood_test       -0.326797        0.326797\n",
       "GeneE            -0.272195        0.272195\n",
       "GeneF            -0.176320        0.176320\n",
       "GeneD            -0.043306        0.043306\n",
       "GeneC            -0.012826        0.012826"
      ]
     },
     "execution_count": 220,
     "metadata": {},
     "output_type": "execute_result"
    }
   ],
   "source": [
    "# print the parameters\n",
    "clf = LogisticRegression(random_state=0).fit(pd.DataFrame(X_train_scaled).append(pd.DataFrame(X_val_scaled)), y_train.append(y_val))\n",
    "parameters = pd.DataFrame(clf.coef_.flatten(),X_train.columns,columns=['Parameters'])\n",
    "parameters[\"ABS_Parameters\"] = parameters[\"Parameters\"].apply(abs)\n",
    "parameters = parameters.sort_values(\"ABS_Parameters\", ascending = False)\n",
    "parameters"
   ]
  },
  {
   "cell_type": "code",
   "execution_count": 221,
   "metadata": {},
   "outputs": [],
   "source": [
    "clf = LogisticRegression(random_state=0).fit(X_train.append(X_val), y_train.append(y_val))\n",
    "y_pred = clf.predict(X_test)"
   ]
  },
  {
   "cell_type": "code",
   "execution_count": 222,
   "metadata": {},
   "outputs": [],
   "source": [
    "confusion_mat = confusion_matrix(y_test, y_pred)"
   ]
  },
  {
   "cell_type": "code",
   "execution_count": 223,
   "metadata": {},
   "outputs": [],
   "source": [
    "tn, fp, fn, tp = confusion_mat.ravel()\n",
    "# https://scikit-learn.org/stable/modules/generated/sklearn.metrics.confusion_matrix.html"
   ]
  },
  {
   "cell_type": "code",
   "execution_count": 224,
   "metadata": {},
   "outputs": [
    {
     "data": {
      "text/plain": [
       "array([[243, 102],\n",
       "       [ 76, 329]])"
      ]
     },
     "execution_count": 224,
     "metadata": {},
     "output_type": "execute_result"
    }
   ],
   "source": [
    "confusion_mat"
   ]
  },
  {
   "cell_type": "code",
   "execution_count": 225,
   "metadata": {},
   "outputs": [],
   "source": [
    "f1 = tp/(tp+0.5*(fp+fn))\n",
    "\n",
    "precision = tp/(tp+fp)\n",
    "\n",
    "accuracy = (tp+tn)/(tp+tn+fn+fp)\n"
   ]
  },
  {
   "cell_type": "code",
   "execution_count": 226,
   "metadata": {},
   "outputs": [
    {
     "name": "stdout",
     "output_type": "stream",
     "text": [
      "F1 Score  :  0.7870813397129187\n",
      "Precision :  0.7633410672853829\n",
      "Accuracy  :  0.7626666666666667\n",
      "False postitive :  102\n",
      "False negative :  76\n"
     ]
    }
   ],
   "source": [
    "print(\"F1 Score  : \", f1)\n",
    "print(\"Precision : \", precision)\n",
    "print(\"Accuracy  : \", accuracy)\n",
    "print(\"False postitive : \", fp)\n",
    "print(\"False negative : \", fn)"
   ]
  },
  {
   "cell_type": "code",
   "execution_count": 227,
   "metadata": {},
   "outputs": [
    {
     "name": "stdout",
     "output_type": "stream",
     "text": [
      "roc_auc score :  0.8610127035247808\n"
     ]
    }
   ],
   "source": [
    "yhat = clf.predict_proba(X_test)\n",
    "\n",
    "pos_probs = yhat[:, 1]\n",
    "\n",
    "print('roc_auc score : ', roc_auc_score(y_test, pos_probs))"
   ]
  },
  {
   "cell_type": "markdown",
   "metadata": {},
   "source": [
    "# L1 regularization"
   ]
  },
  {
   "cell_type": "code",
   "execution_count": 215,
   "metadata": {},
   "outputs": [
    {
     "name": "stdout",
     "output_type": "stream",
     "text": [
      "best parameter :  10\n",
      "Accuracy :  0.8044444444444444\n"
     ]
    }
   ],
   "source": [
    "clf = LogisticRegression(penalty='l1',  solver='liblinear')\n",
    "\n",
    "coefs_ = []\n",
    "best_f1 = -10**10\n",
    "best_precision = -10**10\n",
    "best_accuracy = -10**10\n",
    "best_c = 10*10\n",
    "\n",
    "auc_list = []\n",
    "param_list = []\n",
    "\n",
    "parameters = np.arange(1,100,1)\n",
    "for param in parameters:\n",
    "    clf.set_params(C=param)\n",
    "    clf.fit(X_train, y_train)\n",
    "    y_pred = clf.predict(X_val)\n",
    "    confusion_mat = confusion_matrix(y_val, y_pred)\n",
    "    tn, fp, fn, tp = confusion_mat.ravel()\n",
    "    accuracy = (tp+tn)/(tp+tn+fn+fp)\n",
    "    auc_list.append(accuracy)\n",
    "    param_list.append(param)\n",
    "    if accuracy>best_accuracy:\n",
    "        best_accuracy = accuracy\n",
    "        best_param = param\n",
    "print(\"best parameter : \",best_param)\n",
    "print(\"Accuracy : \", best_accuracy)\n",
    "# https://scikit-learn.org/stable/auto_examples/linear_model/plot_logistic_path.html  "
   ]
  },
  {
   "cell_type": "code",
   "execution_count": 228,
   "metadata": {},
   "outputs": [
    {
     "data": {
      "text/plain": [
       "[<matplotlib.lines.Line2D at 0x7fba0699ec50>]"
      ]
     },
     "execution_count": 228,
     "metadata": {},
     "output_type": "execute_result"
    },
    {
     "data": {
      "image/png": "[encoded data removed]",
      "text/plain": [
       "<Figure size 432x288 with 1 Axes>"
      ]
     },
     "metadata": {
      "needs_background": "light"
     },
     "output_type": "display_data"
    }
   ],
   "source": [
    "plt.plot(param_list, auc_list)"
   ]
  },
  {
   "cell_type": "code",
   "execution_count": 229,
   "metadata": {},
   "outputs": [],
   "source": [
    "clf = LogisticRegression(penalty='l1',  solver='liblinear')\n",
    "\n",
    "\n",
    "best_f1 = -10**10\n",
    "best_precision = -10**10\n",
    "best_accuracy = -10**10\n",
    "best_c = 10*10\n",
    "\n",
    "auc_list = []\n",
    "f1_list = []\n",
    "precision_list = []\n",
    "param_list = []\n",
    "\n",
    "parameters = np.arange(9,11,0.01)\n",
    "for param in parameters:\n",
    "    clf.set_params(C=param)\n",
    "    clf.fit(X_train, y_train)\n",
    "    y_pred = clf.predict(X_val)\n",
    "    confusion_mat = confusion_matrix(y_val, y_pred)\n",
    "    tn, fp, fn, tp = confusion_mat.ravel()\n",
    "    \n",
    "    f1 = tp/(tp+0.5*(fp+fn))\n",
    "    precision = tp/(tp+fp)\n",
    "    accuracy = (tp+tn)/(tp+tn+fn+fp)\n",
    "    \n",
    "    auc_list.append(accuracy)\n",
    "    f1_list.append(f1)\n",
    "    precision_list.append(precision)\n",
    "    param_list.append(param)\n",
    "    \n",
    "    if accuracy>best_accuracy:\n",
    "        best_accuracy = accuracy\n",
    "        best_auc_param = param\n",
    "        \n",
    "    if f1>best_f1:\n",
    "        best_f1 = f1\n",
    "        best_f1param = param\n",
    "        \n",
    "    if precision>best_precision:\n",
    "        best_precision = precision\n",
    "        best_precision_param = param\n",
    "     "
   ]
  },
  {
   "cell_type": "code",
   "execution_count": 230,
   "metadata": {},
   "outputs": [
    {
     "name": "stdout",
     "output_type": "stream",
     "text": [
      "best auc parameter :  9.319999999999993\n",
      "Accuracy :  0.8044444444444444\n",
      "\n",
      "best f1 parameter :  9.319999999999993\n",
      "F1 :  0.8221024258760108\n",
      "\n",
      "best precisioin parameter :  9.319999999999993\n",
      "Precision :  0.8243243243243243\n"
     ]
    }
   ],
   "source": [
    "print(\"best auc parameter : \",best_auc_param)\n",
    "print(\"Accuracy : \", best_accuracy)\n",
    "print()\n",
    "print(\"best f1 parameter : \",best_f1param)\n",
    "print(\"F1 : \", best_f1)\n",
    "print()\n",
    "print(\"best precisioin parameter : \",best_precision_param)\n",
    "print(\"Precision : \", best_precision)\n",
    "# https://scikit-learn.org/stable/auto_examples/linear_model/plot_logistic_path.html  "
   ]
  },
  {
   "cell_type": "code",
   "execution_count": 231,
   "metadata": {},
   "outputs": [
    {
     "data": {
      "text/plain": [
       "Text(0, 0.5, 'AUC')"
      ]
     },
     "execution_count": 231,
     "metadata": {},
     "output_type": "execute_result"
    },
    {
     "data": {
      "image/png": "[encoded data removed]",
      "text/plain": [
       "<Figure size 432x288 with 1 Axes>"
      ]
     },
     "metadata": {
      "needs_background": "light"
     },
     "output_type": "display_data"
    }
   ],
   "source": [
    "plt.plot(param_list, auc_list)\n",
    "plt.xlabel(\"param\")\n",
    "plt.ylabel(\"AUC\")"
   ]
  },
  {
   "cell_type": "code",
   "execution_count": 232,
   "metadata": {},
   "outputs": [
    {
     "data": {
      "text/plain": [
       "Text(0, 0.5, 'F1 Score')"
      ]
     },
     "execution_count": 232,
     "metadata": {},
     "output_type": "execute_result"
    },
    {
     "data": {
      "image/png": "[encoded data removed]",
      "text/plain": [
       "<Figure size 432x288 with 1 Axes>"
      ]
     },
     "metadata": {
      "needs_background": "light"
     },
     "output_type": "display_data"
    }
   ],
   "source": [
    "plt.plot(param_list, f1_list)\n",
    "plt.xlabel(\"param\")\n",
    "plt.ylabel(\"F1 Score\")"
   ]
  },
  {
   "cell_type": "code",
   "execution_count": 233,
   "metadata": {},
   "outputs": [
    {
     "data": {
      "text/plain": [
       "Text(0, 0.5, 'Precision')"
      ]
     },
     "execution_count": 233,
     "metadata": {},
     "output_type": "execute_result"
    },
    {
     "data": {
      "image/png": "[encoded data removed]",
      "text/plain": [
       "<Figure size 432x288 with 1 Axes>"
      ]
     },
     "metadata": {
      "needs_background": "light"
     },
     "output_type": "display_data"
    }
   ],
   "source": [
    "plt.plot(param_list, precision_list)\n",
    "plt.xlabel(\"param\")\n",
    "plt.ylabel(\"Precision\")"
   ]
  },
  {
   "cell_type": "markdown",
   "metadata": {},
   "source": [
    "# Logistic regression with l1 regularization without feature drop"
   ]
  },
  {
   "cell_type": "code",
   "execution_count": 251,
   "metadata": {},
   "outputs": [],
   "source": [
    "clf = LogisticRegression(penalty='l1',  solver='liblinear')\n",
    "clf.set_params(C=9.32)\n",
    "clf.fit(X_train.append(X_val), y_train.append(y_val))\n",
    "y_pred = clf.predict(X_test)\n",
    "\n",
    "confusion_mat = confusion_matrix(y_test, y_pred)\n",
    "tn, fp, fn, tp = confusion_mat.ravel()\n",
    "\n",
    "f1 = tp/(tp+0.5*(fp+fn))\n",
    "precision = tp/(tp+fp)\n",
    "accuracy = (tp+tn)/(tp+tn+fn+fp)"
   ]
  },
  {
   "cell_type": "code",
   "execution_count": 252,
   "metadata": {},
   "outputs": [
    {
     "name": "stdout",
     "output_type": "stream",
     "text": [
      "F1 Score  :  0.8220858895705522\n",
      "Precision :  0.8170731707317073\n",
      "Accuracy  :  0.8066666666666666\n",
      "False postitive :  75\n",
      "False negative :  70\n"
     ]
    }
   ],
   "source": [
    "print(\"F1 Score  : \", f1)\n",
    "print(\"Precision : \", precision)\n",
    "print(\"Accuracy  : \", accuracy)\n",
    "print(\"False postitive : \", fp)\n",
    "print(\"False negative : \", fn)"
   ]
  },
  {
   "cell_type": "code",
   "execution_count": 253,
   "metadata": {},
   "outputs": [
    {
     "name": "stdout",
     "output_type": "stream",
     "text": [
      "roc_auc score :  0.8931687242798354\n"
     ]
    }
   ],
   "source": [
    "yhat = clf.predict_proba(X_test)\n",
    "\n",
    "pos_probs = yhat[:, 1]\n",
    "\n",
    "print('roc_auc score : ', roc_auc_score(y_test, pos_probs))"
   ]
  },
  {
   "cell_type": "code",
   "execution_count": null,
   "metadata": {},
   "outputs": [],
   "source": []
  },
  {
   "cell_type": "code",
   "execution_count": null,
   "metadata": {},
   "outputs": [],
   "source": []
  },
  {
   "cell_type": "code",
   "execution_count": null,
   "metadata": {},
   "outputs": [],
   "source": []
  },
  {
   "cell_type": "markdown",
   "metadata": {},
   "source": [
    "# Feature selected version"
   ]
  },
  {
   "cell_type": "code",
   "execution_count": 237,
   "metadata": {},
   "outputs": [
    {
     "data": {
      "text/plain": [
       "Index(['treatment', 'age', 'blood_pressure', 'gender', 'blood_test',\n",
       "       'family_history', 'TestA', 'TestB', 'GeneC', 'GeneD', 'GeneE', 'GeneF'],\n",
       "      dtype='object')"
      ]
     },
     "execution_count": 237,
     "metadata": {},
     "output_type": "execute_result"
    }
   ],
   "source": [
    "data.columns"
   ]
  },
  {
   "cell_type": "code",
   "execution_count": 238,
   "metadata": {},
   "outputs": [],
   "source": [
    "fselected_data = data[['treatment', 'age', 'blood_pressure', 'gender', 'blood_test','family_history', 'TestB', \"GeneE\"]]\n"
   ]
  },
  {
   "cell_type": "code",
   "execution_count": 239,
   "metadata": {},
   "outputs": [],
   "source": [
    "## Split Train, Test data\n",
    "## allocate predictors to X\n",
    "X = fselected_data.iloc[:,1:]\n",
    "\n",
    "## allocate test value to y\n",
    "y = fselected_data[\"treatment\"]\n",
    "\n",
    "## Train, validation, test split applying random state\n",
    "## Train : Validation : Test = 8:1:1\n",
    "X_train, X_test, y_train, y_test = train_test_split(\n",
    "    X, y, test_size=0.1, random_state=1)\n",
    "\n",
    "X_train, X_val, y_train, y_val = train_test_split(\n",
    "    X_train, y_train, test_size=0.1, random_state=1)\n",
    "\n",
    "## https://datascience.stackexchange.com/questions/15135/train-test-validation-set-splitting-in-sklearn"
   ]
  },
  {
   "cell_type": "markdown",
   "metadata": {},
   "source": [
    "# Baseline logistic regression"
   ]
  },
  {
   "cell_type": "code",
   "execution_count": 240,
   "metadata": {},
   "outputs": [
    {
     "name": "stdout",
     "output_type": "stream",
     "text": [
      "Optimization terminated successfully.\n",
      "         Current function value: 0.441067\n",
      "         Iterations 7\n",
      "                           Logit Regression Results                           \n",
      "==============================================================================\n",
      "Dep. Variable:              treatment   No. Observations:                 6075\n",
      "Model:                          Logit   Df Residuals:                     6068\n",
      "Method:                           MLE   Df Model:                            6\n",
      "Date:                Sun, 21 Feb 2021   Pseudo R-squ.:                  0.3582\n",
      "Time:                        19:13:19   Log-Likelihood:                -2679.5\n",
      "converged:                       True   LL-Null:                       -4175.1\n",
      "Covariance Type:            nonrobust   LLR p-value:                     0.000\n",
      "==================================================================================\n",
      "                     coef    std err          z      P>|z|      [0.025      0.975]\n",
      "----------------------------------------------------------------------------------\n",
      "age               -0.0501      0.003    -15.280      0.000      -0.057      -0.044\n",
      "blood_pressure     0.0546      0.002     25.436      0.000       0.050       0.059\n",
      "gender            -2.7156      0.077    -35.155      0.000      -2.867      -2.564\n",
      "blood_test        -0.3292      0.120     -2.732      0.006      -0.565      -0.093\n",
      "family_history     0.1027      0.067      1.526      0.127      -0.029       0.235\n",
      "TestB            -42.5184      1.595    -26.654      0.000     -45.645     -39.392\n",
      "GeneE             -0.2194      0.068     -3.212      0.001      -0.353      -0.085\n",
      "==================================================================================\n"
     ]
    }
   ],
   "source": [
    "logistic = sm.Logit(y_train, X_train).fit()\n",
    "print(logistic.summary()) "
   ]
  },
  {
   "cell_type": "code",
   "execution_count": 241,
   "metadata": {},
   "outputs": [
    {
     "name": "stdout",
     "output_type": "stream",
     "text": [
      "F1 Score  :  0.7933491686460807\n",
      "Precision :  0.7643020594965675\n",
      "Accuracy  :  0.768\n",
      "False postitive :  103\n",
      "False negative :  71\n"
     ]
    }
   ],
   "source": [
    "clf = LogisticRegression(random_state=0).fit(X_train.append(X_val), y_train.append(y_val))\n",
    "\n",
    "y_pred = clf.predict(X_test)\n",
    "\n",
    "confusion_mat = confusion_matrix(y_test, y_pred)\n",
    "\n",
    "tn, fp, fn, tp = confusion_mat.ravel()\n",
    "# https://scikit-learn.org/stable/modules/generated/sklearn.metrics.confusion_matrix.html\n",
    "\n",
    "confusion_mat\n",
    "\n",
    "f1 = tp/(tp+0.5*(fp+fn))\n",
    "\n",
    "precision = tp/(tp+fp)\n",
    "\n",
    "accuracy = (tp+tn)/(tp+tn+fn+fp)\n",
    "\n",
    "print(\"F1 Score  : \", f1)\n",
    "print(\"Precision : \", precision)\n",
    "print(\"Accuracy  : \", accuracy)\n",
    "print(\"False postitive : \", fp)\n",
    "print(\"False negative : \", fn)"
   ]
  },
  {
   "cell_type": "code",
   "execution_count": 242,
   "metadata": {},
   "outputs": [
    {
     "name": "stdout",
     "output_type": "stream",
     "text": [
      "roc_auc score :  0.8607049561638933\n"
     ]
    }
   ],
   "source": [
    "yhat = clf.predict_proba(X_test)\n",
    "\n",
    "pos_probs = yhat[:, 1]\n",
    "\n",
    "print('roc_auc score : ', roc_auc_score(y_test, pos_probs))"
   ]
  },
  {
   "cell_type": "markdown",
   "metadata": {},
   "source": [
    "# L1 regularization"
   ]
  },
  {
   "cell_type": "code",
   "execution_count": 243,
   "metadata": {},
   "outputs": [
    {
     "name": "stdout",
     "output_type": "stream",
     "text": [
      "best parameter :  2\n",
      "Accuracy :  0.802962962962963\n"
     ]
    }
   ],
   "source": [
    "clf = LogisticRegression(penalty='l1',  solver='liblinear')\n",
    "\n",
    "coefs_ = []\n",
    "best_f1 = -10**10\n",
    "best_precision = -10**10\n",
    "best_accuracy = -10**10\n",
    "best_c = 10*10\n",
    "\n",
    "auc_list = []\n",
    "param_list = []\n",
    "\n",
    "parameters = np.arange(1,100,1)\n",
    "for param in parameters:\n",
    "    clf.set_params(C=param)\n",
    "    clf.fit(X_train, y_train)\n",
    "    y_pred = clf.predict(X_val)\n",
    "    confusion_mat = confusion_matrix(y_val, y_pred)\n",
    "    tn, fp, fn, tp = confusion_mat.ravel()\n",
    "    accuracy = (tp+tn)/(tp+tn+fn+fp)\n",
    "    auc_list.append(accuracy)\n",
    "    param_list.append(param)\n",
    "    if accuracy>best_accuracy:\n",
    "        best_accuracy = accuracy\n",
    "        best_param = param\n",
    "print(\"best parameter : \",best_param)\n",
    "print(\"Accuracy : \", best_accuracy)\n",
    "# https://scikit-learn.org/stable/auto_examples/linear_model/plot_logistic_path.html  "
   ]
  },
  {
   "cell_type": "code",
   "execution_count": 244,
   "metadata": {},
   "outputs": [
    {
     "data": {
      "text/plain": [
       "[<matplotlib.lines.Line2D at 0x7fba06adf9d0>]"
      ]
     },
     "execution_count": 244,
     "metadata": {},
     "output_type": "execute_result"
    },
    {
     "data": {
      "image/png": "[encoded data removed]",
      "text/plain": [
       "<Figure size 432x288 with 1 Axes>"
      ]
     },
     "metadata": {
      "needs_background": "light"
     },
     "output_type": "display_data"
    }
   ],
   "source": [
    "plt.plot(param_list, auc_list)"
   ]
  },
  {
   "cell_type": "code",
   "execution_count": 245,
   "metadata": {},
   "outputs": [],
   "source": [
    "clf = LogisticRegression(penalty='l1',  solver='liblinear')\n",
    "\n",
    "\n",
    "best_f1 = -10**10\n",
    "best_precision = -10**10\n",
    "best_accuracy = -10**10\n",
    "best_c = 10*10\n",
    "\n",
    "auc_list = []\n",
    "f1_list = []\n",
    "precision_list = []\n",
    "param_list = []\n",
    "\n",
    "parameters = np.arange(1,3,0.01)\n",
    "for param in parameters:\n",
    "    clf.set_params(C=param)\n",
    "    clf.fit(X_train, y_train)\n",
    "    y_pred = clf.predict(X_val)\n",
    "    confusion_mat = confusion_matrix(y_val, y_pred)\n",
    "    tn, fp, fn, tp = confusion_mat.ravel()\n",
    "    \n",
    "    f1 = tp/(tp+0.5*(fp+fn))\n",
    "    precision = tp/(tp+fp)\n",
    "    accuracy = (tp+tn)/(tp+tn+fn+fp)\n",
    "    \n",
    "    auc_list.append(accuracy)\n",
    "    f1_list.append(f1)\n",
    "    precision_list.append(precision)\n",
    "    param_list.append(param)\n",
    "    \n",
    "    if accuracy>best_accuracy:\n",
    "        best_accuracy = accuracy\n",
    "        best_auc_param = param\n",
    "        \n",
    "    if f1>best_f1:\n",
    "        best_f1 = f1\n",
    "        best_f1param = param\n",
    "        \n",
    "    if precision>best_precision:\n",
    "        best_precision = precision\n",
    "        best_precision_param = param\n",
    "     "
   ]
  },
  {
   "cell_type": "code",
   "execution_count": 246,
   "metadata": {},
   "outputs": [
    {
     "name": "stdout",
     "output_type": "stream",
     "text": [
      "best auc parameter :  1.9600000000000009\n",
      "Accuracy :  0.8044444444444444\n",
      "\n",
      "best f1 parameter :  1.9600000000000009\n",
      "F1 :  0.8206521739130435\n",
      "\n",
      "best precisioin parameter :  1.9600000000000009\n",
      "Precision :  0.8296703296703297\n"
     ]
    }
   ],
   "source": [
    "print(\"best auc parameter : \",best_auc_param)\n",
    "print(\"Accuracy : \", best_accuracy)\n",
    "print()\n",
    "print(\"best f1 parameter : \",best_f1param)\n",
    "print(\"F1 : \", best_f1)\n",
    "print()\n",
    "print(\"best precisioin parameter : \",best_precision_param)\n",
    "print(\"Precision : \", best_precision)\n",
    "# https://scikit-learn.org/stable/auto_examples/linear_model/plot_logistic_path.html  "
   ]
  },
  {
   "cell_type": "code",
   "execution_count": 247,
   "metadata": {},
   "outputs": [
    {
     "data": {
      "text/plain": [
       "Text(0, 0.5, 'AUC')"
      ]
     },
     "execution_count": 247,
     "metadata": {},
     "output_type": "execute_result"
    },
    {
     "data": {
      "image/png": "[encoded data removed]",
      "text/plain": [
       "<Figure size 432x288 with 1 Axes>"
      ]
     },
     "metadata": {
      "needs_background": "light"
     },
     "output_type": "display_data"
    }
   ],
   "source": [
    "plt.plot(param_list, auc_list)\n",
    "plt.xlabel(\"param\")\n",
    "plt.ylabel(\"AUC\")"
   ]
  },
  {
   "cell_type": "code",
   "execution_count": 248,
   "metadata": {},
   "outputs": [
    {
     "data": {
      "text/plain": [
       "Text(0, 0.5, 'F1 Score')"
      ]
     },
     "execution_count": 248,
     "metadata": {},
     "output_type": "execute_result"
    },
    {
     "data": {
      "image/png": "[encoded data removed]",
      "text/plain": [
       "<Figure size 432x288 with 1 Axes>"
      ]
     },
     "metadata": {
      "needs_background": "light"
     },
     "output_type": "display_data"
    }
   ],
   "source": [
    "plt.plot(param_list, f1_list)\n",
    "plt.xlabel(\"param\")\n",
    "plt.ylabel(\"F1 Score\")"
   ]
  },
  {
   "cell_type": "code",
   "execution_count": 249,
   "metadata": {},
   "outputs": [
    {
     "data": {
      "text/plain": [
       "Text(0, 0.5, 'Precision')"
      ]
     },
     "execution_count": 249,
     "metadata": {},
     "output_type": "execute_result"
    },
    {
     "data": {
      "image/png": "[encoded data removed]",
      "text/plain": [
       "<Figure size 432x288 with 1 Axes>"
      ]
     },
     "metadata": {
      "needs_background": "light"
     },
     "output_type": "display_data"
    }
   ],
   "source": [
    "plt.plot(param_list, precision_list)\n",
    "plt.xlabel(\"param\")\n",
    "plt.ylabel(\"Precision\")"
   ]
  },
  {
   "cell_type": "markdown",
   "metadata": {},
   "source": [
    "# final model"
   ]
  },
  {
   "cell_type": "code",
   "execution_count": 254,
   "metadata": {},
   "outputs": [
    {
     "name": "stdout",
     "output_type": "stream",
     "text": [
      "F1 Score  :  0.8220858895705522\n",
      "Precision :  0.8170731707317073\n",
      "Accuracy  :  0.8066666666666666\n",
      "False postitive :  75\n",
      "False negative :  70\n",
      "roc_auc score :  0.8927178386115584\n"
     ]
    }
   ],
   "source": [
    "clf = LogisticRegression(penalty='l1',  solver='liblinear')\n",
    "clf.set_params(C=1.96)\n",
    "clf.fit(X_train.append(X_val), y_train.append(y_val))\n",
    "y_pred = clf.predict(X_test)\n",
    "\n",
    "confusion_mat = confusion_matrix(y_test, y_pred)\n",
    "tn, fp, fn, tp = confusion_mat.ravel()\n",
    "\n",
    "f1 = tp/(tp+0.5*(fp+fn))\n",
    "precision = tp/(tp+fp)\n",
    "accuracy = (tp+tn)/(tp+tn+fn+fp)\n",
    "\n",
    "print(\"F1 Score  : \", f1)\n",
    "print(\"Precision : \", precision)\n",
    "print(\"Accuracy  : \", accuracy)\n",
    "print(\"False postitive : \", fp)\n",
    "print(\"False negative : \", fn)\n",
    "\n",
    "yhat = clf.predict_proba(X_test)\n",
    "\n",
    "pos_probs = yhat[:, 1]\n",
    "\n",
    "print('roc_auc score : ', roc_auc_score(y_test, pos_probs))"
   ]
  },
  {
   "cell_type": "code",
   "execution_count": null,
   "metadata": {},
   "outputs": [],
   "source": []
  },
  {
   "cell_type": "code",
   "execution_count": null,
   "metadata": {},
   "outputs": [],
   "source": []
  },
  {
   "cell_type": "code",
   "execution_count": null,
   "metadata": {},
   "outputs": [],
   "source": []
  },
  {
   "cell_type": "code",
   "execution_count": null,
   "metadata": {},
   "outputs": [],
   "source": []
  }
 ],
 "metadata": {
  "kernelspec": {
   "display_name": "Python 3",
   "language": "python",
   "name": "python3"
  },
  "language_info": {
   "codemirror_mode": {
    "name": "ipython",
    "version": 3
   },
   "file_extension": ".py",
   "mimetype": "text/x-python",
   "name": "python",
   "nbconvert_exporter": "python",
   "pygments_lexer": "ipython3",
   "version": "3.7.7"
  }
 },
 "nbformat": 4,
 "nbformat_minor": 4
}
