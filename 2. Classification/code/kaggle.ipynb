{
 "cells": [
  {
   "cell_type": "code",
   "execution_count": 1,
   "metadata": {},
   "outputs": [],
   "source": [
    "import pandas as pd\n",
    "import numpy as np\n",
    "import seaborn as sns\n",
    "import matplotlib.pyplot as plt\n",
    "import warnings\n",
    "from sklearn.metrics import confusion_matrix\n",
    "from sklearn.linear_model import LogisticRegression\n",
    "from sklearn.model_selection import train_test_split\n",
    "import statsmodels.api as sm\n",
    "from sklearn.svm import l1_min_c\n",
    "from sklearn import linear_model\n",
    "from sklearn.metrics import roc_auc_score\n",
    "import statsmodels\n",
    "warnings.filterwarnings(\"ignore\")"
   ]
  },
  {
   "cell_type": "code",
   "execution_count": 2,
   "metadata": {},
   "outputs": [],
   "source": [
    "input_file_path = \"../data/\""
   ]
  },
  {
   "cell_type": "code",
   "execution_count": 3,
   "metadata": {},
   "outputs": [],
   "source": [
    "data = pd.read_csv(input_file_path+\"ps2_public.csv\")\n",
    "test = pd.read_csv(input_file_path+\"ps2_kaggle_predict.csv\")\n",
    "\n"
   ]
  },
  {
   "cell_type": "markdown",
   "metadata": {},
   "source": [
    "# Preprocessing & Exploration"
   ]
  },
  {
   "cell_type": "markdown",
   "metadata": {},
   "source": [
    "## Deal with na values and create dummy variables for categorical data"
   ]
  },
  {
   "cell_type": "code",
   "execution_count": 4,
   "metadata": {},
   "outputs": [
    {
     "data": {
      "text/plain": [
       "1    4144\n",
       "0    3356\n",
       "Name: treatment, dtype: int64"
      ]
     },
     "execution_count": 4,
     "metadata": {},
     "output_type": "execute_result"
    }
   ],
   "source": [
    "## the ratio between treatment 0 and 1 looks fine --> not much skewed\n",
    "data[\"treatment\"].value_counts()"
   ]
  },
  {
   "cell_type": "code",
   "execution_count": 5,
   "metadata": {
    "scrolled": false
   },
   "outputs": [
    {
     "name": "stdout",
     "output_type": "stream",
     "text": [
      "0\n",
      "0\n",
      "0\n",
      "0\n",
      "0\n",
      "2607\n",
      "0\n",
      "0\n",
      "0\n",
      "0\n",
      "0\n",
      "0\n"
     ]
    }
   ],
   "source": [
    "### na values only exist in Family History column\n",
    "## as the proportion of rows with nan value in family history column was not small, I decided to let it as a value of feature.\n",
    "for i in data.columns:\n",
    "    print(len(data[data[i].isnull()==True]))"
   ]
  },
  {
   "cell_type": "code",
   "execution_count": 6,
   "metadata": {},
   "outputs": [
    {
     "data": {
      "text/plain": [
       "0.3476"
      ]
     },
     "execution_count": 6,
     "metadata": {},
     "output_type": "execute_result"
    }
   ],
   "source": [
    "2607/7500"
   ]
  },
  {
   "cell_type": "code",
   "execution_count": 7,
   "metadata": {},
   "outputs": [
    {
     "data": {
      "text/plain": [
       "False    4824\n",
       "True       69\n",
       "Name: family_history, dtype: int64"
      ]
     },
     "execution_count": 7,
     "metadata": {},
     "output_type": "execute_result"
    }
   ],
   "source": [
    "data[\"family_history\"].value_counts()"
   ]
  },
  {
   "cell_type": "code",
   "execution_count": 8,
   "metadata": {},
   "outputs": [],
   "source": [
    "### Family history False --> -1, True --> 1, nan --> 0\n",
    "data = data.fillna(100)\n",
    "def family_history(x):\n",
    "    if x == False:\n",
    "        return -1\n",
    "    if x == True:\n",
    "        return 1\n",
    "    if x == 100:\n",
    "        return 0\n",
    "    else:\n",
    "        print(\"error\")\n",
    "data[\"family_history\"] = data[\"family_history\"].apply(lambda x: family_history(x))\n",
    "test[\"family_history\"] = test[\"family_history\"].apply(lambda x: family_history(x))"
   ]
  },
  {
   "cell_type": "code",
   "execution_count": 9,
   "metadata": {},
   "outputs": [],
   "source": [
    "## Male --> 1, Female --> 0\n",
    "def gender(x):\n",
    "    if x == \"non-female\":\n",
    "        return 1\n",
    "    if x == \"female\":\n",
    "        return 0\n",
    "    else:\n",
    "        print(\"error\")\n",
    "data[\"gender\"] = data[\"gender\"].apply(lambda x: gender(x))\n",
    "test[\"gender\"] = test[\"gender\"].apply(lambda x: gender(x))"
   ]
  },
  {
   "cell_type": "code",
   "execution_count": 10,
   "metadata": {},
   "outputs": [],
   "source": [
    "## Blood_test positive --> 1, negative --> 0\n",
    "def blood_test(x):\n",
    "    if x == \"negative\":\n",
    "        return 0\n",
    "    if x == \"positive\":\n",
    "        return 1\n",
    "    else:\n",
    "        print(\"error\")\n",
    "data[\"blood_test\"] = data[\"blood_test\"].apply(lambda x: blood_test(x))\n",
    "test[\"blood_test\"] = test[\"blood_test\"].apply(lambda x: blood_test(x))"
   ]
  },
  {
   "cell_type": "code",
   "execution_count": 11,
   "metadata": {},
   "outputs": [],
   "source": [
    "## GeneC not active--> 0, active --> 1\n",
    "def GeneC(x):\n",
    "    if x == \"not active\":\n",
    "        return 0\n",
    "    if x == \"active\":\n",
    "        return 1\n",
    "    else:\n",
    "        print(\"error\")\n",
    "data[\"GeneC\"] = data[\"GeneC\"].apply(lambda x: GeneC(x))\n",
    "test[\"GeneC\"] = test[\"GeneC\"].apply(lambda x: GeneC(x))"
   ]
  },
  {
   "cell_type": "code",
   "execution_count": 12,
   "metadata": {
    "scrolled": false
   },
   "outputs": [
    {
     "name": "stdout",
     "output_type": "stream",
     "text": [
      "93\n",
      "29\n"
     ]
    }
   ],
   "source": [
    "print(data.age.max())\n",
    "print(data.age.min())"
   ]
  },
  {
   "cell_type": "markdown",
   "metadata": {},
   "source": [
    "# age"
   ]
  },
  {
   "cell_type": "code",
   "execution_count": 13,
   "metadata": {},
   "outputs": [
    {
     "data": {
      "text/plain": [
       "array([<matplotlib.axes._subplots.AxesSubplot object at 0x7fcd2804be90>,\n",
       "       <matplotlib.axes._subplots.AxesSubplot object at 0x7fcd2779eb50>],\n",
       "      dtype=object)"
      ]
     },
     "execution_count": 13,
     "metadata": {},
     "output_type": "execute_result"
    },
    {
     "data": {
      "image/png": "[encoded data removed]",
      "text/plain": [
       "<Figure size 432x288 with 2 Axes>"
      ]
     },
     "metadata": {
      "needs_background": "light"
     },
     "output_type": "display_data"
    }
   ],
   "source": [
    "### histogram of age groupby treatment\n",
    "data.age.hist(by=data.treatment)"
   ]
  },
  {
   "cell_type": "code",
   "execution_count": 14,
   "metadata": {
    "scrolled": false
   },
   "outputs": [
    {
     "data": {
      "text/plain": [
       "treatment\n",
       "0    AxesSubplot(0.125,0.125;0.352273x0.755)\n",
       "1    AxesSubplot(0.125,0.125;0.352273x0.755)\n",
       "Name: age, dtype: object"
      ]
     },
     "execution_count": 14,
     "metadata": {},
     "output_type": "execute_result"
    },
    {
     "data": {
      "image/png": "[encoded data removed]",
      "text/plain": [
       "<Figure size 432x288 with 2 Axes>"
      ]
     },
     "metadata": {
      "needs_background": "light"
     },
     "output_type": "display_data"
    }
   ],
   "source": [
    "### histogram of age groupby treatment and kernel density estimation plot\n",
    "fig, axs = plt.subplots(ncols=2)\n",
    "data.groupby(\"treatment\").age.plot(kind='kde', ax=axs[1], legend = True)\n",
    "data.groupby(\"treatment\").age.hist(alpha=0.4, ax=axs[0])\n",
    "\n",
    "#https://stackoverflow.com/questions/21548750/plotting-histograms-against-classes-in-pandas-matplotlib"
   ]
  },
  {
   "cell_type": "code",
   "execution_count": 15,
   "metadata": {},
   "outputs": [],
   "source": [
    "pval_list = []\n",
    "tstat, pval, freedom = statsmodels.stats.weightstats.ttest_ind(data[data[\"treatment\"]==0][\"age\"],data[data[\"treatment\"]==1][\"age\"],alternative=\"two-sided\",usevar=\"unequal\")\n",
    "pval_list.append((\"age\", pval))\n",
    "#https://www.statsmodels.org/stable/generated/statsmodels.stats.weightstats.ttest_ind.html"
   ]
  },
  {
   "cell_type": "markdown",
   "metadata": {},
   "source": [
    "# Blood_Pressure"
   ]
  },
  {
   "cell_type": "code",
   "execution_count": 16,
   "metadata": {},
   "outputs": [
    {
     "data": {
      "text/plain": [
       "<matplotlib.axes._subplots.AxesSubplot at 0x7fcd2cbf4910>"
      ]
     },
     "execution_count": 16,
     "metadata": {},
     "output_type": "execute_result"
    },
    {
     "data": {
      "image/png": "[encoded data removed]",
      "text/plain": [
       "<Figure size 432x288 with 1 Axes>"
      ]
     },
     "metadata": {
      "needs_background": "light"
     },
     "output_type": "display_data"
    }
   ],
   "source": [
    "#### remove outliers!\n",
    "sns.boxplot(x=data[\"blood_pressure\"])"
   ]
  },
  {
   "cell_type": "code",
   "execution_count": 17,
   "metadata": {},
   "outputs": [
    {
     "data": {
      "text/html": [
       "<div>\n",
       "<style scoped>\n",
       "    .dataframe tbody tr th:only-of-type {\n",
       "        vertical-align: middle;\n",
       "    }\n",
       "\n",
       "    .dataframe tbody tr th {\n",
       "        vertical-align: top;\n",
       "    }\n",
       "\n",
       "    .dataframe thead th {\n",
       "        text-align: right;\n",
       "    }\n",
       "</style>\n",
       "<table border=\"1\" class=\"dataframe\">\n",
       "  <thead>\n",
       "    <tr style=\"text-align: right;\">\n",
       "      <th></th>\n",
       "      <th>treatment</th>\n",
       "      <th>age</th>\n",
       "      <th>blood_pressure</th>\n",
       "      <th>gender</th>\n",
       "      <th>blood_test</th>\n",
       "      <th>family_history</th>\n",
       "      <th>TestA</th>\n",
       "      <th>TestB</th>\n",
       "      <th>GeneC</th>\n",
       "      <th>GeneD</th>\n",
       "      <th>GeneE</th>\n",
       "      <th>GeneF</th>\n",
       "    </tr>\n",
       "  </thead>\n",
       "  <tbody>\n",
       "    <tr>\n",
       "      <th>379</th>\n",
       "      <td>1</td>\n",
       "      <td>52</td>\n",
       "      <td>-999.0</td>\n",
       "      <td>0</td>\n",
       "      <td>0</td>\n",
       "      <td>-1</td>\n",
       "      <td>-0.367084</td>\n",
       "      <td>-0.125044</td>\n",
       "      <td>1</td>\n",
       "      <td>1</td>\n",
       "      <td>0</td>\n",
       "      <td>0</td>\n",
       "    </tr>\n",
       "    <tr>\n",
       "      <th>1539</th>\n",
       "      <td>1</td>\n",
       "      <td>59</td>\n",
       "      <td>-999.0</td>\n",
       "      <td>0</td>\n",
       "      <td>0</td>\n",
       "      <td>-1</td>\n",
       "      <td>4.776677</td>\n",
       "      <td>-0.088575</td>\n",
       "      <td>0</td>\n",
       "      <td>0</td>\n",
       "      <td>0</td>\n",
       "      <td>1</td>\n",
       "    </tr>\n",
       "    <tr>\n",
       "      <th>1685</th>\n",
       "      <td>1</td>\n",
       "      <td>65</td>\n",
       "      <td>-999.0</td>\n",
       "      <td>0</td>\n",
       "      <td>0</td>\n",
       "      <td>-1</td>\n",
       "      <td>4.026843</td>\n",
       "      <td>-0.122242</td>\n",
       "      <td>1</td>\n",
       "      <td>0</td>\n",
       "      <td>0</td>\n",
       "      <td>1</td>\n",
       "    </tr>\n",
       "    <tr>\n",
       "      <th>2123</th>\n",
       "      <td>1</td>\n",
       "      <td>51</td>\n",
       "      <td>-999.0</td>\n",
       "      <td>0</td>\n",
       "      <td>0</td>\n",
       "      <td>0</td>\n",
       "      <td>0.677114</td>\n",
       "      <td>0.047250</td>\n",
       "      <td>1</td>\n",
       "      <td>1</td>\n",
       "      <td>1</td>\n",
       "      <td>1</td>\n",
       "    </tr>\n",
       "    <tr>\n",
       "      <th>5773</th>\n",
       "      <td>1</td>\n",
       "      <td>68</td>\n",
       "      <td>-999.0</td>\n",
       "      <td>0</td>\n",
       "      <td>0</td>\n",
       "      <td>-1</td>\n",
       "      <td>8.524262</td>\n",
       "      <td>-0.244947</td>\n",
       "      <td>0</td>\n",
       "      <td>1</td>\n",
       "      <td>0</td>\n",
       "      <td>1</td>\n",
       "    </tr>\n",
       "    <tr>\n",
       "      <th>6301</th>\n",
       "      <td>0</td>\n",
       "      <td>46</td>\n",
       "      <td>-999.0</td>\n",
       "      <td>1</td>\n",
       "      <td>0</td>\n",
       "      <td>-1</td>\n",
       "      <td>-1.834005</td>\n",
       "      <td>-0.265692</td>\n",
       "      <td>0</td>\n",
       "      <td>0</td>\n",
       "      <td>1</td>\n",
       "      <td>0</td>\n",
       "    </tr>\n",
       "    <tr>\n",
       "      <th>6502</th>\n",
       "      <td>1</td>\n",
       "      <td>58</td>\n",
       "      <td>-999.0</td>\n",
       "      <td>0</td>\n",
       "      <td>1</td>\n",
       "      <td>-1</td>\n",
       "      <td>3.480871</td>\n",
       "      <td>0.022472</td>\n",
       "      <td>0</td>\n",
       "      <td>1</td>\n",
       "      <td>1</td>\n",
       "      <td>1</td>\n",
       "    </tr>\n",
       "  </tbody>\n",
       "</table>\n",
       "</div>"
      ],
      "text/plain": [
       "      treatment  age  blood_pressure  gender  blood_test  family_history  \\\n",
       "379           1   52          -999.0       0           0              -1   \n",
       "1539          1   59          -999.0       0           0              -1   \n",
       "1685          1   65          -999.0       0           0              -1   \n",
       "2123          1   51          -999.0       0           0               0   \n",
       "5773          1   68          -999.0       0           0              -1   \n",
       "6301          0   46          -999.0       1           0              -1   \n",
       "6502          1   58          -999.0       0           1              -1   \n",
       "\n",
       "         TestA     TestB  GeneC  GeneD  GeneE  GeneF  \n",
       "379  -0.367084 -0.125044      1      1      0      0  \n",
       "1539  4.776677 -0.088575      0      0      0      1  \n",
       "1685  4.026843 -0.122242      1      0      0      1  \n",
       "2123  0.677114  0.047250      1      1      1      1  \n",
       "5773  8.524262 -0.244947      0      1      0      1  \n",
       "6301 -1.834005 -0.265692      0      0      1      0  \n",
       "6502  3.480871  0.022472      0      1      1      1  "
      ]
     },
     "execution_count": 17,
     "metadata": {},
     "output_type": "execute_result"
    }
   ],
   "source": [
    "## -999 seems to be nan value\n",
    "data[data[\"blood_pressure\"]<0]"
   ]
  },
  {
   "cell_type": "code",
   "execution_count": 18,
   "metadata": {
    "scrolled": true
   },
   "outputs": [],
   "source": [
    "# change -999 blood_pressure to mean value\n",
    "mean_blood_pressure = data[data.blood_pressure != -999].blood_pressure.mean()\n",
    "data[\"blood_pressure\"] = data[\"blood_pressure\"].replace(-999,mean_blood_pressure)\n",
    "test[\"blood_pressure\"] = test[\"blood_pressure\"].replace(-999,mean_blood_pressure)\n"
   ]
  },
  {
   "cell_type": "code",
   "execution_count": 19,
   "metadata": {},
   "outputs": [
    {
     "data": {
      "text/plain": [
       "treatment\n",
       "0    AxesSubplot(0.125,0.125;0.352273x0.755)\n",
       "1    AxesSubplot(0.125,0.125;0.352273x0.755)\n",
       "Name: blood_pressure, dtype: object"
      ]
     },
     "execution_count": 19,
     "metadata": {},
     "output_type": "execute_result"
    },
    {
     "data": {
      "image/png": "[encoded data removed]",
      "text/plain": [
       "<Figure size 432x288 with 2 Axes>"
      ]
     },
     "metadata": {
      "needs_background": "light"
     },
     "output_type": "display_data"
    }
   ],
   "source": [
    "### histogram of age groupby treatment and kernel density estimation plot\n",
    "fig, axs = plt.subplots(ncols=2)\n",
    "data.groupby(\"treatment\").blood_pressure.plot(kind='kde', ax=axs[1], legend = True)\n",
    "data.groupby(\"treatment\").blood_pressure.hist(alpha=0.4, ax=axs[0])\n",
    "\n",
    "#https://stackoverflow.com/questions/21548750/plotting-histograms-against-classes-in-pandas-matplotlib"
   ]
  },
  {
   "cell_type": "code",
   "execution_count": 20,
   "metadata": {},
   "outputs": [
    {
     "name": "stdout",
     "output_type": "stream",
     "text": [
      "P-value :  8.596063243637039e-23\n"
     ]
    }
   ],
   "source": [
    "tstat, pval, freedom = statsmodels.stats.weightstats.ttest_ind(data[data[\"treatment\"]==0][\"blood_pressure\"],data[data[\"treatment\"]==1][\"blood_pressure\"],alternative=\"two-sided\",usevar=\"unequal\")\n",
    "pval_list.append((\"blood_pressure\", pval))\n",
    "print(\"P-value : \",pval)\n",
    "#https://www.statsmodels.org/stable/generated/statsmodels.stats.weightstats.ttest_ind.html"
   ]
  },
  {
   "cell_type": "markdown",
   "metadata": {},
   "source": [
    "# gender"
   ]
  },
  {
   "cell_type": "code",
   "execution_count": 21,
   "metadata": {},
   "outputs": [],
   "source": [
    "def stacked_barplot_btw_columns(data, col1, col2, label1, label2):##col1 : target\n",
    "\n",
    "## count numbers\n",
    "    count_gender = data[[col1,col2]].groupby([col1,col2]).size()\n",
    "\n",
    "    male_0 = count_gender[0,1]\n",
    "    male_1 = count_gender[1,1]\n",
    "    female_0 = count_gender[0,0]\n",
    "    female_1 = count_gender[1,0]\n",
    "\n",
    "    treatment_1 = [male_1, female_1]\n",
    "    treatment_0 = [male_0, female_0]\n",
    "    width = 0.5\n",
    "\n",
    "    p1 = plt.bar([label1, label2],[male_0,female_0])\n",
    "    p2 = plt.bar([label1, label2],[male_1,female_1], bottom = [male_0,female_0])\n",
    "\n",
    "    plt.ylabel('Count by treatment')\n",
    "    plt.xlabel(col2)\n",
    "    plt.legend((p1[0], p2[0]), ('Treatment 0', 'Treatment 1'))\n",
    "\n",
    "    plt.show()"
   ]
  },
  {
   "cell_type": "code",
   "execution_count": 22,
   "metadata": {},
   "outputs": [
    {
     "data": {
      "image/png": "[encoded data removed]",
      "text/plain": [
       "<Figure size 432x288 with 1 Axes>"
      ]
     },
     "metadata": {
      "needs_background": "light"
     },
     "output_type": "display_data"
    }
   ],
   "source": [
    "stacked_barplot_btw_columns(data, \"treatment\", \"gender\", \"male\", \"female\")"
   ]
  },
  {
   "cell_type": "markdown",
   "metadata": {},
   "source": [
    "### Female had higher proportion of Treatment 1"
   ]
  },
  {
   "cell_type": "code",
   "execution_count": 23,
   "metadata": {},
   "outputs": [
    {
     "name": "stdout",
     "output_type": "stream",
     "text": [
      "P-value :  0.0\n"
     ]
    }
   ],
   "source": [
    "tstat, pval, freedom = statsmodels.stats.weightstats.ttest_ind(data[data[\"treatment\"]==0][\"gender\"],data[data[\"treatment\"]==1][\"gender\"],alternative=\"two-sided\",usevar=\"unequal\")\n",
    "pval_list.append((\"gender\", pval))\n",
    "print(\"P-value : \",pval)\n",
    "#https://www.statsmodels.org/stable/generated/statsmodels.stats.weightstats.ttest_ind.html"
   ]
  },
  {
   "cell_type": "markdown",
   "metadata": {},
   "source": [
    "# Blood_test"
   ]
  },
  {
   "cell_type": "code",
   "execution_count": 24,
   "metadata": {
    "scrolled": true
   },
   "outputs": [
    {
     "data": {
      "image/png": "[encoded data removed]",
      "text/plain": [
       "<Figure size 432x288 with 1 Axes>"
      ]
     },
     "metadata": {
      "needs_background": "light"
     },
     "output_type": "display_data"
    }
   ],
   "source": [
    "stacked_barplot_btw_columns(data, \"treatment\", \"blood_test\", \"negative\", \"positive\")"
   ]
  },
  {
   "cell_type": "code",
   "execution_count": 25,
   "metadata": {
    "scrolled": true
   },
   "outputs": [
    {
     "name": "stdout",
     "output_type": "stream",
     "text": [
      "P-value :  0.016763878878604723\n"
     ]
    }
   ],
   "source": [
    "tstat, pval, freedom = statsmodels.stats.weightstats.ttest_ind(data[data[\"treatment\"]==0][\"blood_test\"],data[data[\"treatment\"]==1][\"blood_test\"],alternative=\"two-sided\",usevar=\"unequal\")\n",
    "pval_list.append((\"blood_test\", pval))\n",
    "print(\"P-value : \",pval)\n",
    "#https://www.statsmodels.org/stable/generated/statsmodels.stats.weightstats.ttest_ind.html"
   ]
  },
  {
   "cell_type": "markdown",
   "metadata": {},
   "source": [
    "# Family_History"
   ]
  },
  {
   "cell_type": "code",
   "execution_count": 26,
   "metadata": {},
   "outputs": [],
   "source": [
    "count_family_history = data[[\"treatment\", \"family_history\"]].groupby([\"treatment\", \"family_history\"]).size()"
   ]
  },
  {
   "cell_type": "code",
   "execution_count": 27,
   "metadata": {},
   "outputs": [
    {
     "data": {
      "image/png": "[encoded data removed]",
      "text/plain": [
       "<Figure size 432x288 with 1 Axes>"
      ]
     },
     "metadata": {
      "needs_background": "light"
     },
     "output_type": "display_data"
    }
   ],
   "source": [
    "neg_0 = count_family_history [0,-1]\n",
    "nan_0 = count_family_history [0,0]\n",
    "pos_0 = count_family_history [0,1]\n",
    "neg_1 = count_family_history [1,-1]\n",
    "nan_1 = count_family_history [1,0]\n",
    "pos_1 = count_family_history [1,1]\n",
    "\n",
    "\n",
    "treatment_1 = [neg_1, nan_1, pos_1]\n",
    "treatment_0 = [neg_0, nan_0, pos_0]\n",
    "width = 0.5\n",
    "\n",
    "p1 = plt.bar([\"Negative\", \"0\", \"Positive\"], treatment_0)\n",
    "p2 = plt.bar([\"Negative\", \"0\", \"Positive\"], treatment_1, bottom = treatment_0)\n",
    "\n",
    "plt.ylabel('Count by treatment')\n",
    "plt.xlabel(\"Family_History\")\n",
    "plt.legend((p1[0], p2[0]), ('Treatment 0', 'Treatment 1'))\n",
    "\n",
    "plt.show()"
   ]
  },
  {
   "cell_type": "code",
   "execution_count": 28,
   "metadata": {
    "scrolled": true
   },
   "outputs": [
    {
     "name": "stdout",
     "output_type": "stream",
     "text": [
      "P-value :  0.008474968788835285\n"
     ]
    }
   ],
   "source": [
    "tstat, pval, freedom = statsmodels.stats.weightstats.ttest_ind(data[data[\"treatment\"]==0][\"family_history\"],data[data[\"treatment\"]==1][\"family_history\"],alternative=\"two-sided\",usevar=\"unequal\")\n",
    "pval_list.append((\"Family_History\", pval))\n",
    "print(\"P-value : \",pval)\n",
    "#https://www.statsmodels.org/stable/generated/statsmodels.stats.weightstats.ttest_ind.html"
   ]
  },
  {
   "cell_type": "markdown",
   "metadata": {},
   "source": [
    "# TestA"
   ]
  },
  {
   "cell_type": "code",
   "execution_count": 29,
   "metadata": {},
   "outputs": [
    {
     "data": {
      "text/plain": [
       "<matplotlib.axes._subplots.AxesSubplot at 0x7fcd2d2217d0>"
      ]
     },
     "execution_count": 29,
     "metadata": {},
     "output_type": "execute_result"
    },
    {
     "data": {
      "image/png": "[encoded data removed]",
      "text/plain": [
       "<Figure size 432x288 with 1 Axes>"
      ]
     },
     "metadata": {
      "needs_background": "light"
     },
     "output_type": "display_data"
    }
   ],
   "source": [
    "## Box plot\n",
    "sns.boxplot(x=data[\"TestA\"])"
   ]
  },
  {
   "cell_type": "code",
   "execution_count": 30,
   "metadata": {
    "scrolled": false
   },
   "outputs": [
    {
     "data": {
      "text/plain": [
       "array([<matplotlib.axes._subplots.AxesSubplot object at 0x7fcd2d272350>,\n",
       "       <matplotlib.axes._subplots.AxesSubplot object at 0x7fcd2d3d37d0>],\n",
       "      dtype=object)"
      ]
     },
     "execution_count": 30,
     "metadata": {},
     "output_type": "execute_result"
    },
    {
     "data": {
      "image/png": "[encoded data removed]",
      "text/plain": [
       "<Figure size 432x288 with 2 Axes>"
      ]
     },
     "metadata": {
      "needs_background": "light"
     },
     "output_type": "display_data"
    }
   ],
   "source": [
    "### histogram of TestA groupby treatment\n",
    "data.TestA.hist(by=data.treatment)"
   ]
  },
  {
   "cell_type": "code",
   "execution_count": 31,
   "metadata": {},
   "outputs": [
    {
     "data": {
      "text/plain": [
       "treatment\n",
       "0    AxesSubplot(0.125,0.125;0.352273x0.755)\n",
       "1    AxesSubplot(0.125,0.125;0.352273x0.755)\n",
       "Name: TestA, dtype: object"
      ]
     },
     "execution_count": 31,
     "metadata": {},
     "output_type": "execute_result"
    },
    {
     "data": {
      "image/png": "[encoded data removed]",
      "text/plain": [
       "<Figure size 432x288 with 2 Axes>"
      ]
     },
     "metadata": {
      "needs_background": "light"
     },
     "output_type": "display_data"
    }
   ],
   "source": [
    "### histogram of TestA groupby treatment and kernel density estimation plot\n",
    "fig, axs = plt.subplots(ncols=2)\n",
    "data.groupby(\"treatment\").TestA.plot(kind='kde', ax=axs[1], legend =True)\n",
    "data.groupby(\"treatment\").TestA.hist(alpha=0.4, ax=axs[0])"
   ]
  },
  {
   "cell_type": "code",
   "execution_count": 32,
   "metadata": {},
   "outputs": [
    {
     "name": "stdout",
     "output_type": "stream",
     "text": [
      "P-value :  3.371280032526245e-59\n"
     ]
    }
   ],
   "source": [
    "tstat, pval, freedom = statsmodels.stats.weightstats.ttest_ind(data[data[\"treatment\"]==0][\"TestA\"],data[data[\"treatment\"]==1][\"TestA\"],alternative=\"two-sided\",usevar=\"unequal\")\n",
    "pval_list.append((\"TestA\", pval))\n",
    "print(\"P-value : \",pval)\n",
    "#https://www.statsmodels.org/stable/generated/statsmodels.stats.weightstats.ttest_ind.html"
   ]
  },
  {
   "cell_type": "markdown",
   "metadata": {},
   "source": [
    "# TestB"
   ]
  },
  {
   "cell_type": "code",
   "execution_count": 33,
   "metadata": {
    "scrolled": false
   },
   "outputs": [
    {
     "data": {
      "text/plain": [
       "<matplotlib.axes._subplots.AxesSubplot at 0x7fcd2d59f390>"
      ]
     },
     "execution_count": 33,
     "metadata": {},
     "output_type": "execute_result"
    },
    {
     "data": {
      "image/png": "[encoded data removed]",
      "text/plain": [
       "<Figure size 432x288 with 1 Axes>"
      ]
     },
     "metadata": {
      "needs_background": "light"
     },
     "output_type": "display_data"
    }
   ],
   "source": [
    "## Boxplot\n",
    "sns.boxplot(x=data[\"TestB\"])"
   ]
  },
  {
   "cell_type": "code",
   "execution_count": 34,
   "metadata": {
    "scrolled": true
   },
   "outputs": [
    {
     "data": {
      "text/plain": [
       "array([<matplotlib.axes._subplots.AxesSubplot object at 0x7fcd2d709a10>,\n",
       "       <matplotlib.axes._subplots.AxesSubplot object at 0x7fcd2d730b50>],\n",
       "      dtype=object)"
      ]
     },
     "execution_count": 34,
     "metadata": {},
     "output_type": "execute_result"
    },
    {
     "data": {
      "image/png": "[encoded data removed]",
      "text/plain": [
       "<Figure size 432x288 with 2 Axes>"
      ]
     },
     "metadata": {
      "needs_background": "light"
     },
     "output_type": "display_data"
    }
   ],
   "source": [
    "### histogram of TestB groupby treatment\n",
    "data.TestB.hist(by=data.treatment)"
   ]
  },
  {
   "cell_type": "code",
   "execution_count": 35,
   "metadata": {
    "scrolled": true
   },
   "outputs": [
    {
     "data": {
      "text/plain": [
       "treatment\n",
       "0    AxesSubplot(0.125,0.125;0.352273x0.755)\n",
       "1    AxesSubplot(0.125,0.125;0.352273x0.755)\n",
       "Name: TestB, dtype: object"
      ]
     },
     "execution_count": 35,
     "metadata": {},
     "output_type": "execute_result"
    },
    {
     "data": {
      "image/png": "[encoded data removed]",
      "text/plain": [
       "<Figure size 432x288 with 2 Axes>"
      ]
     },
     "metadata": {
      "needs_background": "light"
     },
     "output_type": "display_data"
    }
   ],
   "source": [
    "### histogram of TestB groupby treatment and kernel density estimation plot\n",
    "fig, axs = plt.subplots(ncols=2)\n",
    "data.groupby(\"treatment\").TestB.plot(kind='kde', ax=axs[1], legend = True)\n",
    "data.groupby(\"treatment\").TestB.hist(alpha=0.4, ax=axs[0])"
   ]
  },
  {
   "cell_type": "code",
   "execution_count": 36,
   "metadata": {},
   "outputs": [
    {
     "name": "stdout",
     "output_type": "stream",
     "text": [
      "P-value :  2.564103416101554e-12\n"
     ]
    }
   ],
   "source": [
    "tstat, pval, freedom = statsmodels.stats.weightstats.ttest_ind(data[data[\"treatment\"]==0][\"TestB\"],data[data[\"treatment\"]==1][\"TestB\"],alternative=\"two-sided\",usevar=\"unequal\")\n",
    "# pval_list.append((\"TestB\", pval))\n",
    "print(\"P-value : \",pval)"
   ]
  },
  {
   "cell_type": "code",
   "execution_count": 37,
   "metadata": {},
   "outputs": [],
   "source": [
    "data[\"TestB\"] = data[\"TestB\"].apply(lambda x : x**2)\n",
    "test[\"TestB\"] = test[\"TestB\"].apply(lambda x : x**2)"
   ]
  },
  {
   "cell_type": "code",
   "execution_count": 38,
   "metadata": {},
   "outputs": [
    {
     "data": {
      "text/plain": [
       "treatment\n",
       "0    AxesSubplot(0.125,0.125;0.352273x0.755)\n",
       "1    AxesSubplot(0.125,0.125;0.352273x0.755)\n",
       "Name: TestB, dtype: object"
      ]
     },
     "execution_count": 38,
     "metadata": {},
     "output_type": "execute_result"
    },
    {
     "data": {
      "image/png": "[encoded data removed]",
      "text/plain": [
       "<Figure size 432x288 with 2 Axes>"
      ]
     },
     "metadata": {
      "needs_background": "light"
     },
     "output_type": "display_data"
    }
   ],
   "source": [
    "### histogram of TestB groupby treatment and kernel density estimation plot\n",
    "fig, axs = plt.subplots(ncols=2)\n",
    "data.groupby(\"treatment\").TestB.plot(kind='kde', ax=axs[1])\n",
    "data.groupby(\"treatment\").TestB.hist(alpha=0.4, ax=axs[0])"
   ]
  },
  {
   "cell_type": "code",
   "execution_count": 39,
   "metadata": {
    "scrolled": true
   },
   "outputs": [
    {
     "name": "stdout",
     "output_type": "stream",
     "text": [
      "P-value :  2.0497915520390705e-178\n"
     ]
    }
   ],
   "source": [
    "tstat, pval, freedom = statsmodels.stats.weightstats.ttest_ind(data[data[\"treatment\"]==0][\"TestB\"],data[data[\"treatment\"]==1][\"TestB\"],alternative=\"two-sided\",usevar=\"unequal\")\n",
    "pval_list.append((\"TestB\", pval))\n",
    "print(\"P-value : \",pval)\n"
   ]
  },
  {
   "cell_type": "markdown",
   "metadata": {},
   "source": [
    "## Found that there is significant difference in distribution between two groups"
   ]
  },
  {
   "cell_type": "markdown",
   "metadata": {},
   "source": [
    "# GeneC"
   ]
  },
  {
   "cell_type": "code",
   "execution_count": 40,
   "metadata": {},
   "outputs": [
    {
     "data": {
      "image/png": "[encoded data removed]",
      "text/plain": [
       "<Figure size 432x288 with 1 Axes>"
      ]
     },
     "metadata": {
      "needs_background": "light"
     },
     "output_type": "display_data"
    }
   ],
   "source": [
    "stacked_barplot_btw_columns(data, \"treatment\", \"GeneC\", \"0\", \"1\")"
   ]
  },
  {
   "cell_type": "code",
   "execution_count": 41,
   "metadata": {},
   "outputs": [
    {
     "name": "stdout",
     "output_type": "stream",
     "text": [
      "P-value :  0.44655288842904617\n"
     ]
    }
   ],
   "source": [
    "tstat, pval, freedom = statsmodels.stats.weightstats.ttest_ind(data[data[\"treatment\"]==0][\"GeneC\"],data[data[\"treatment\"]==1][\"GeneC\"],alternative=\"two-sided\",usevar=\"unequal\")\n",
    "pval_list.append((\"GeneC\", pval))\n",
    "print(\"P-value : \",pval)\n",
    "#https://www.statsmodels.org/stable/generated/statsmodels.stats.weightstats.ttest_ind.html"
   ]
  },
  {
   "cell_type": "markdown",
   "metadata": {},
   "source": [
    "# GeneD"
   ]
  },
  {
   "cell_type": "code",
   "execution_count": 42,
   "metadata": {
    "scrolled": true
   },
   "outputs": [
    {
     "data": {
      "image/png": "[encoded data removed]",
      "text/plain": [
       "<Figure size 432x288 with 1 Axes>"
      ]
     },
     "metadata": {
      "needs_background": "light"
     },
     "output_type": "display_data"
    }
   ],
   "source": [
    "stacked_barplot_btw_columns(data, \"treatment\", \"GeneD\", \"0\", \"1\")"
   ]
  },
  {
   "cell_type": "code",
   "execution_count": 43,
   "metadata": {},
   "outputs": [
    {
     "name": "stdout",
     "output_type": "stream",
     "text": [
      "P-value :  0.6410407237875908\n"
     ]
    }
   ],
   "source": [
    "tstat, pval, freedom = statsmodels.stats.weightstats.ttest_ind(data[data[\"treatment\"]==0][\"GeneD\"],data[data[\"treatment\"]==1][\"GeneD\"],alternative=\"two-sided\",usevar=\"unequal\")\n",
    "pval_list.append((\"GeneD\", pval))\n",
    "print(\"P-value : \",pval)\n",
    "#https://www.statsmodels.org/stable/generated/statsmodels.stats.weightstats.ttest_ind.html"
   ]
  },
  {
   "cell_type": "markdown",
   "metadata": {},
   "source": [
    "# GeneE"
   ]
  },
  {
   "cell_type": "code",
   "execution_count": 44,
   "metadata": {
    "scrolled": true
   },
   "outputs": [
    {
     "data": {
      "image/png": "[encoded data removed]",
      "text/plain": [
       "<Figure size 432x288 with 1 Axes>"
      ]
     },
     "metadata": {
      "needs_background": "light"
     },
     "output_type": "display_data"
    }
   ],
   "source": [
    "stacked_barplot_btw_columns(data, \"treatment\", \"GeneE\", \"0\", \"1\")"
   ]
  },
  {
   "cell_type": "code",
   "execution_count": 45,
   "metadata": {},
   "outputs": [
    {
     "name": "stdout",
     "output_type": "stream",
     "text": [
      "P-value :  0.6410407237875908\n"
     ]
    }
   ],
   "source": [
    "statsmodels.stats.weightstats.ttest_ind(data[data[\"treatment\"]==0][\"GeneE\"],data[data[\"treatment\"]==1][\"GeneE\"],alternative=\"two-sided\",usevar=\"unequal\")\n",
    "pval_list.append((\"GeneE\", pval))\n",
    "print(\"P-value : \",pval)\n",
    "#https://www.statsmodels.org/stable/generated/statsmodels.stats.weightstats.ttest_ind.html"
   ]
  },
  {
   "cell_type": "markdown",
   "metadata": {},
   "source": [
    "# GeneF"
   ]
  },
  {
   "cell_type": "code",
   "execution_count": 46,
   "metadata": {},
   "outputs": [
    {
     "data": {
      "image/png": "[encoded data removed]",
      "text/plain": [
       "<Figure size 432x288 with 1 Axes>"
      ]
     },
     "metadata": {
      "needs_background": "light"
     },
     "output_type": "display_data"
    }
   ],
   "source": [
    "stacked_barplot_btw_columns(data, \"treatment\", \"GeneF\", \"0\", \"1\")"
   ]
  },
  {
   "cell_type": "code",
   "execution_count": 47,
   "metadata": {},
   "outputs": [
    {
     "name": "stdout",
     "output_type": "stream",
     "text": [
      "P-value :  0.06728879970716177\n"
     ]
    }
   ],
   "source": [
    "tstat, pval, freedom = statsmodels.stats.weightstats.ttest_ind(data[data[\"treatment\"]==0][\"GeneF\"],data[data[\"treatment\"]==1][\"GeneF\"],alternative=\"two-sided\",usevar=\"unequal\")\n",
    "pval_list.append((\"GeneF\", pval))\n",
    "print(\"P-value : \",pval)\n",
    "#https://www.statsmodels.org/stable/generated/statsmodels.stats.weightstats.ttest_ind.html"
   ]
  },
  {
   "cell_type": "code",
   "execution_count": 48,
   "metadata": {},
   "outputs": [
    {
     "data": {
      "text/html": [
       "<div>\n",
       "<style scoped>\n",
       "    .dataframe tbody tr th:only-of-type {\n",
       "        vertical-align: middle;\n",
       "    }\n",
       "\n",
       "    .dataframe tbody tr th {\n",
       "        vertical-align: top;\n",
       "    }\n",
       "\n",
       "    .dataframe thead th {\n",
       "        text-align: right;\n",
       "    }\n",
       "</style>\n",
       "<table border=\"1\" class=\"dataframe\">\n",
       "  <thead>\n",
       "    <tr style=\"text-align: right;\">\n",
       "      <th></th>\n",
       "      <th>feature</th>\n",
       "      <th>p_val</th>\n",
       "    </tr>\n",
       "  </thead>\n",
       "  <tbody>\n",
       "    <tr>\n",
       "      <th>8</th>\n",
       "      <td>GeneD</td>\n",
       "      <td>6.410407e-01</td>\n",
       "    </tr>\n",
       "    <tr>\n",
       "      <th>9</th>\n",
       "      <td>GeneE</td>\n",
       "      <td>6.410407e-01</td>\n",
       "    </tr>\n",
       "    <tr>\n",
       "      <th>7</th>\n",
       "      <td>GeneC</td>\n",
       "      <td>4.465529e-01</td>\n",
       "    </tr>\n",
       "    <tr>\n",
       "      <th>10</th>\n",
       "      <td>GeneF</td>\n",
       "      <td>6.728880e-02</td>\n",
       "    </tr>\n",
       "    <tr>\n",
       "      <th>3</th>\n",
       "      <td>blood_test</td>\n",
       "      <td>1.676388e-02</td>\n",
       "    </tr>\n",
       "    <tr>\n",
       "      <th>4</th>\n",
       "      <td>Family_History</td>\n",
       "      <td>8.474969e-03</td>\n",
       "    </tr>\n",
       "    <tr>\n",
       "      <th>1</th>\n",
       "      <td>blood_pressure</td>\n",
       "      <td>8.596063e-23</td>\n",
       "    </tr>\n",
       "    <tr>\n",
       "      <th>5</th>\n",
       "      <td>TestA</td>\n",
       "      <td>3.371280e-59</td>\n",
       "    </tr>\n",
       "    <tr>\n",
       "      <th>0</th>\n",
       "      <td>age</td>\n",
       "      <td>1.856751e-63</td>\n",
       "    </tr>\n",
       "    <tr>\n",
       "      <th>6</th>\n",
       "      <td>TestB</td>\n",
       "      <td>2.049792e-178</td>\n",
       "    </tr>\n",
       "    <tr>\n",
       "      <th>2</th>\n",
       "      <td>gender</td>\n",
       "      <td>0.000000e+00</td>\n",
       "    </tr>\n",
       "  </tbody>\n",
       "</table>\n",
       "</div>"
      ],
      "text/plain": [
       "           feature          p_val\n",
       "8            GeneD   6.410407e-01\n",
       "9            GeneE   6.410407e-01\n",
       "7            GeneC   4.465529e-01\n",
       "10           GeneF   6.728880e-02\n",
       "3       blood_test   1.676388e-02\n",
       "4   Family_History   8.474969e-03\n",
       "1   blood_pressure   8.596063e-23\n",
       "5            TestA   3.371280e-59\n",
       "0              age   1.856751e-63\n",
       "6            TestB  2.049792e-178\n",
       "2           gender   0.000000e+00"
      ]
     },
     "execution_count": 48,
     "metadata": {},
     "output_type": "execute_result"
    }
   ],
   "source": [
    "p_val = pd.DataFrame(pval_list, columns = [\"feature\", \"p_val\"]).sort_values(by = \"p_val\", ascending = False)\n",
    "p_val"
   ]
  },
  {
   "cell_type": "code",
   "execution_count": 49,
   "metadata": {},
   "outputs": [
    {
     "data": {
      "text/html": [
       "<div>\n",
       "<style scoped>\n",
       "    .dataframe tbody tr th:only-of-type {\n",
       "        vertical-align: middle;\n",
       "    }\n",
       "\n",
       "    .dataframe tbody tr th {\n",
       "        vertical-align: top;\n",
       "    }\n",
       "\n",
       "    .dataframe thead th {\n",
       "        text-align: right;\n",
       "    }\n",
       "</style>\n",
       "<table border=\"1\" class=\"dataframe\">\n",
       "  <thead>\n",
       "    <tr style=\"text-align: right;\">\n",
       "      <th></th>\n",
       "      <th>feature</th>\n",
       "      <th>p_val</th>\n",
       "    </tr>\n",
       "  </thead>\n",
       "  <tbody>\n",
       "    <tr>\n",
       "      <th>8</th>\n",
       "      <td>GeneD</td>\n",
       "      <td>0.641041</td>\n",
       "    </tr>\n",
       "    <tr>\n",
       "      <th>9</th>\n",
       "      <td>GeneE</td>\n",
       "      <td>0.641041</td>\n",
       "    </tr>\n",
       "    <tr>\n",
       "      <th>7</th>\n",
       "      <td>GeneC</td>\n",
       "      <td>0.446553</td>\n",
       "    </tr>\n",
       "  </tbody>\n",
       "</table>\n",
       "</div>"
      ],
      "text/plain": [
       "  feature     p_val\n",
       "8   GeneD  0.641041\n",
       "9   GeneE  0.641041\n",
       "7   GeneC  0.446553"
      ]
     },
     "execution_count": 49,
     "metadata": {},
     "output_type": "execute_result"
    }
   ],
   "source": [
    "p_val[p_val[\"p_val\"]>0.1]"
   ]
  },
  {
   "cell_type": "markdown",
   "metadata": {},
   "source": [
    "## GeneD, GeneE, GeneC are not informative since pvalue of ttest is larger than 0.1\n",
    "## pvalue of GeneF is larger than 0.05"
   ]
  },
  {
   "cell_type": "code",
   "execution_count": 50,
   "metadata": {},
   "outputs": [
    {
     "data": {
      "text/html": [
       "<div>\n",
       "<style scoped>\n",
       "    .dataframe tbody tr th:only-of-type {\n",
       "        vertical-align: middle;\n",
       "    }\n",
       "\n",
       "    .dataframe tbody tr th {\n",
       "        vertical-align: top;\n",
       "    }\n",
       "\n",
       "    .dataframe thead th {\n",
       "        text-align: right;\n",
       "    }\n",
       "</style>\n",
       "<table border=\"1\" class=\"dataframe\">\n",
       "  <thead>\n",
       "    <tr style=\"text-align: right;\">\n",
       "      <th></th>\n",
       "      <th>treatment</th>\n",
       "      <th>age</th>\n",
       "      <th>blood_pressure</th>\n",
       "      <th>gender</th>\n",
       "      <th>blood_test</th>\n",
       "      <th>family_history</th>\n",
       "      <th>TestA</th>\n",
       "      <th>TestB</th>\n",
       "      <th>GeneC</th>\n",
       "      <th>GeneD</th>\n",
       "      <th>GeneE</th>\n",
       "      <th>GeneF</th>\n",
       "    </tr>\n",
       "  </thead>\n",
       "  <tbody>\n",
       "    <tr>\n",
       "      <th>treatment</th>\n",
       "      <td>1.000000</td>\n",
       "      <td>-0.192643</td>\n",
       "      <td>0.112379</td>\n",
       "      <td>-0.457285</td>\n",
       "      <td>-0.027859</td>\n",
       "      <td>0.030165</td>\n",
       "      <td>-0.185840</td>\n",
       "      <td>-0.340274</td>\n",
       "      <td>0.008789</td>\n",
       "      <td>-0.005384</td>\n",
       "      <td>-0.044184</td>\n",
       "      <td>-0.021119</td>\n",
       "    </tr>\n",
       "    <tr>\n",
       "      <th>age</th>\n",
       "      <td>-0.192643</td>\n",
       "      <td>1.000000</td>\n",
       "      <td>0.005736</td>\n",
       "      <td>-0.007886</td>\n",
       "      <td>-0.013876</td>\n",
       "      <td>-0.024855</td>\n",
       "      <td>0.969773</td>\n",
       "      <td>-0.012216</td>\n",
       "      <td>-0.006479</td>\n",
       "      <td>0.002007</td>\n",
       "      <td>0.015119</td>\n",
       "      <td>-0.013572</td>\n",
       "    </tr>\n",
       "    <tr>\n",
       "      <th>blood_pressure</th>\n",
       "      <td>0.112379</td>\n",
       "      <td>0.005736</td>\n",
       "      <td>1.000000</td>\n",
       "      <td>-0.000064</td>\n",
       "      <td>0.009421</td>\n",
       "      <td>0.009939</td>\n",
       "      <td>0.004834</td>\n",
       "      <td>0.020739</td>\n",
       "      <td>0.004219</td>\n",
       "      <td>0.008332</td>\n",
       "      <td>-0.003861</td>\n",
       "      <td>-0.004006</td>\n",
       "    </tr>\n",
       "    <tr>\n",
       "      <th>gender</th>\n",
       "      <td>-0.457285</td>\n",
       "      <td>-0.007886</td>\n",
       "      <td>-0.000064</td>\n",
       "      <td>1.000000</td>\n",
       "      <td>-0.009414</td>\n",
       "      <td>0.007741</td>\n",
       "      <td>-0.009346</td>\n",
       "      <td>0.025504</td>\n",
       "      <td>-0.009414</td>\n",
       "      <td>-0.013633</td>\n",
       "      <td>-0.008340</td>\n",
       "      <td>-0.006969</td>\n",
       "    </tr>\n",
       "    <tr>\n",
       "      <th>blood_test</th>\n",
       "      <td>-0.027859</td>\n",
       "      <td>-0.013876</td>\n",
       "      <td>0.009421</td>\n",
       "      <td>-0.009414</td>\n",
       "      <td>1.000000</td>\n",
       "      <td>-0.006826</td>\n",
       "      <td>-0.013463</td>\n",
       "      <td>0.024082</td>\n",
       "      <td>0.024535</td>\n",
       "      <td>-0.016351</td>\n",
       "      <td>0.008870</td>\n",
       "      <td>-0.004918</td>\n",
       "    </tr>\n",
       "    <tr>\n",
       "      <th>family_history</th>\n",
       "      <td>0.030165</td>\n",
       "      <td>-0.024855</td>\n",
       "      <td>0.009939</td>\n",
       "      <td>0.007741</td>\n",
       "      <td>-0.006826</td>\n",
       "      <td>1.000000</td>\n",
       "      <td>-0.025380</td>\n",
       "      <td>0.005320</td>\n",
       "      <td>0.024895</td>\n",
       "      <td>0.013234</td>\n",
       "      <td>0.003974</td>\n",
       "      <td>0.001583</td>\n",
       "    </tr>\n",
       "    <tr>\n",
       "      <th>TestA</th>\n",
       "      <td>-0.185840</td>\n",
       "      <td>0.969773</td>\n",
       "      <td>0.004834</td>\n",
       "      <td>-0.009346</td>\n",
       "      <td>-0.013463</td>\n",
       "      <td>-0.025380</td>\n",
       "      <td>1.000000</td>\n",
       "      <td>-0.012091</td>\n",
       "      <td>-0.004774</td>\n",
       "      <td>0.004863</td>\n",
       "      <td>0.016239</td>\n",
       "      <td>-0.014315</td>\n",
       "    </tr>\n",
       "    <tr>\n",
       "      <th>TestB</th>\n",
       "      <td>-0.340274</td>\n",
       "      <td>-0.012216</td>\n",
       "      <td>0.020739</td>\n",
       "      <td>0.025504</td>\n",
       "      <td>0.024082</td>\n",
       "      <td>0.005320</td>\n",
       "      <td>-0.012091</td>\n",
       "      <td>1.000000</td>\n",
       "      <td>-0.016952</td>\n",
       "      <td>-0.003177</td>\n",
       "      <td>-0.007520</td>\n",
       "      <td>0.003457</td>\n",
       "    </tr>\n",
       "    <tr>\n",
       "      <th>GeneC</th>\n",
       "      <td>0.008789</td>\n",
       "      <td>-0.006479</td>\n",
       "      <td>0.004219</td>\n",
       "      <td>-0.009414</td>\n",
       "      <td>0.024535</td>\n",
       "      <td>0.024895</td>\n",
       "      <td>-0.004774</td>\n",
       "      <td>-0.016952</td>\n",
       "      <td>1.000000</td>\n",
       "      <td>0.008430</td>\n",
       "      <td>-0.001292</td>\n",
       "      <td>0.009055</td>\n",
       "    </tr>\n",
       "    <tr>\n",
       "      <th>GeneD</th>\n",
       "      <td>-0.005384</td>\n",
       "      <td>0.002007</td>\n",
       "      <td>0.008332</td>\n",
       "      <td>-0.013633</td>\n",
       "      <td>-0.016351</td>\n",
       "      <td>0.013234</td>\n",
       "      <td>0.004863</td>\n",
       "      <td>-0.003177</td>\n",
       "      <td>0.008430</td>\n",
       "      <td>1.000000</td>\n",
       "      <td>0.006305</td>\n",
       "      <td>0.011048</td>\n",
       "    </tr>\n",
       "    <tr>\n",
       "      <th>GeneE</th>\n",
       "      <td>-0.044184</td>\n",
       "      <td>0.015119</td>\n",
       "      <td>-0.003861</td>\n",
       "      <td>-0.008340</td>\n",
       "      <td>0.008870</td>\n",
       "      <td>0.003974</td>\n",
       "      <td>0.016239</td>\n",
       "      <td>-0.007520</td>\n",
       "      <td>-0.001292</td>\n",
       "      <td>0.006305</td>\n",
       "      <td>1.000000</td>\n",
       "      <td>-0.009407</td>\n",
       "    </tr>\n",
       "    <tr>\n",
       "      <th>GeneF</th>\n",
       "      <td>-0.021119</td>\n",
       "      <td>-0.013572</td>\n",
       "      <td>-0.004006</td>\n",
       "      <td>-0.006969</td>\n",
       "      <td>-0.004918</td>\n",
       "      <td>0.001583</td>\n",
       "      <td>-0.014315</td>\n",
       "      <td>0.003457</td>\n",
       "      <td>0.009055</td>\n",
       "      <td>0.011048</td>\n",
       "      <td>-0.009407</td>\n",
       "      <td>1.000000</td>\n",
       "    </tr>\n",
       "  </tbody>\n",
       "</table>\n",
       "</div>"
      ],
      "text/plain": [
       "                treatment       age  blood_pressure    gender  blood_test  \\\n",
       "treatment        1.000000 -0.192643        0.112379 -0.457285   -0.027859   \n",
       "age             -0.192643  1.000000        0.005736 -0.007886   -0.013876   \n",
       "blood_pressure   0.112379  0.005736        1.000000 -0.000064    0.009421   \n",
       "gender          -0.457285 -0.007886       -0.000064  1.000000   -0.009414   \n",
       "blood_test      -0.027859 -0.013876        0.009421 -0.009414    1.000000   \n",
       "family_history   0.030165 -0.024855        0.009939  0.007741   -0.006826   \n",
       "TestA           -0.185840  0.969773        0.004834 -0.009346   -0.013463   \n",
       "TestB           -0.340274 -0.012216        0.020739  0.025504    0.024082   \n",
       "GeneC            0.008789 -0.006479        0.004219 -0.009414    0.024535   \n",
       "GeneD           -0.005384  0.002007        0.008332 -0.013633   -0.016351   \n",
       "GeneE           -0.044184  0.015119       -0.003861 -0.008340    0.008870   \n",
       "GeneF           -0.021119 -0.013572       -0.004006 -0.006969   -0.004918   \n",
       "\n",
       "                family_history     TestA     TestB     GeneC     GeneD  \\\n",
       "treatment             0.030165 -0.185840 -0.340274  0.008789 -0.005384   \n",
       "age                  -0.024855  0.969773 -0.012216 -0.006479  0.002007   \n",
       "blood_pressure        0.009939  0.004834  0.020739  0.004219  0.008332   \n",
       "gender                0.007741 -0.009346  0.025504 -0.009414 -0.013633   \n",
       "blood_test           -0.006826 -0.013463  0.024082  0.024535 -0.016351   \n",
       "family_history        1.000000 -0.025380  0.005320  0.024895  0.013234   \n",
       "TestA                -0.025380  1.000000 -0.012091 -0.004774  0.004863   \n",
       "TestB                 0.005320 -0.012091  1.000000 -0.016952 -0.003177   \n",
       "GeneC                 0.024895 -0.004774 -0.016952  1.000000  0.008430   \n",
       "GeneD                 0.013234  0.004863 -0.003177  0.008430  1.000000   \n",
       "GeneE                 0.003974  0.016239 -0.007520 -0.001292  0.006305   \n",
       "GeneF                 0.001583 -0.014315  0.003457  0.009055  0.011048   \n",
       "\n",
       "                   GeneE     GeneF  \n",
       "treatment      -0.044184 -0.021119  \n",
       "age             0.015119 -0.013572  \n",
       "blood_pressure -0.003861 -0.004006  \n",
       "gender         -0.008340 -0.006969  \n",
       "blood_test      0.008870 -0.004918  \n",
       "family_history  0.003974  0.001583  \n",
       "TestA           0.016239 -0.014315  \n",
       "TestB          -0.007520  0.003457  \n",
       "GeneC          -0.001292  0.009055  \n",
       "GeneD           0.006305  0.011048  \n",
       "GeneE           1.000000 -0.009407  \n",
       "GeneF          -0.009407  1.000000  "
      ]
     },
     "execution_count": 50,
     "metadata": {},
     "output_type": "execute_result"
    }
   ],
   "source": [
    "data.corr()"
   ]
  },
  {
   "cell_type": "code",
   "execution_count": 51,
   "metadata": {},
   "outputs": [
    {
     "data": {
      "image/png": "[encoded data removed]",
      "text/plain": [
       "<Figure size 1440x1440 with 2 Axes>"
      ]
     },
     "metadata": {
      "needs_background": "light"
     },
     "output_type": "display_data"
    }
   ],
   "source": [
    "## correlation heatmap of data\n",
    "\n",
    "f, ax = plt.subplots(figsize=(20, 20))\n",
    "ax = sns.heatmap(data.corr())\n",
    "\n",
    "#https://seaborn.pydata.org/generated/seaborn.heatmap.html"
   ]
  },
  {
   "cell_type": "markdown",
   "metadata": {},
   "source": [
    "# train, validation, test split"
   ]
  },
  {
   "cell_type": "code",
   "execution_count": 52,
   "metadata": {
    "scrolled": true
   },
   "outputs": [
    {
     "data": {
      "text/html": [
       "<div>\n",
       "<style scoped>\n",
       "    .dataframe tbody tr th:only-of-type {\n",
       "        vertical-align: middle;\n",
       "    }\n",
       "\n",
       "    .dataframe tbody tr th {\n",
       "        vertical-align: top;\n",
       "    }\n",
       "\n",
       "    .dataframe thead th {\n",
       "        text-align: right;\n",
       "    }\n",
       "</style>\n",
       "<table border=\"1\" class=\"dataframe\">\n",
       "  <thead>\n",
       "    <tr style=\"text-align: right;\">\n",
       "      <th></th>\n",
       "      <th>treatment</th>\n",
       "      <th>age</th>\n",
       "      <th>blood_pressure</th>\n",
       "      <th>gender</th>\n",
       "      <th>blood_test</th>\n",
       "      <th>family_history</th>\n",
       "      <th>TestA</th>\n",
       "      <th>TestB</th>\n",
       "      <th>GeneC</th>\n",
       "      <th>GeneD</th>\n",
       "      <th>GeneE</th>\n",
       "      <th>GeneF</th>\n",
       "    </tr>\n",
       "  </thead>\n",
       "  <tbody>\n",
       "    <tr>\n",
       "      <th>0</th>\n",
       "      <td>0</td>\n",
       "      <td>64</td>\n",
       "      <td>103.820809</td>\n",
       "      <td>1</td>\n",
       "      <td>0</td>\n",
       "      <td>-1</td>\n",
       "      <td>4.334376</td>\n",
       "      <td>0.105218</td>\n",
       "      <td>0</td>\n",
       "      <td>1</td>\n",
       "      <td>1</td>\n",
       "      <td>0</td>\n",
       "    </tr>\n",
       "    <tr>\n",
       "      <th>1</th>\n",
       "      <td>0</td>\n",
       "      <td>52</td>\n",
       "      <td>107.071369</td>\n",
       "      <td>0</td>\n",
       "      <td>0</td>\n",
       "      <td>-1</td>\n",
       "      <td>0.361847</td>\n",
       "      <td>0.045375</td>\n",
       "      <td>1</td>\n",
       "      <td>1</td>\n",
       "      <td>0</td>\n",
       "      <td>0</td>\n",
       "    </tr>\n",
       "    <tr>\n",
       "      <th>2</th>\n",
       "      <td>1</td>\n",
       "      <td>55</td>\n",
       "      <td>113.116130</td>\n",
       "      <td>0</td>\n",
       "      <td>1</td>\n",
       "      <td>-1</td>\n",
       "      <td>3.611842</td>\n",
       "      <td>0.005147</td>\n",
       "      <td>0</td>\n",
       "      <td>0</td>\n",
       "      <td>0</td>\n",
       "      <td>1</td>\n",
       "    </tr>\n",
       "    <tr>\n",
       "      <th>3</th>\n",
       "      <td>0</td>\n",
       "      <td>45</td>\n",
       "      <td>83.760932</td>\n",
       "      <td>0</td>\n",
       "      <td>0</td>\n",
       "      <td>0</td>\n",
       "      <td>-5.282537</td>\n",
       "      <td>0.056226</td>\n",
       "      <td>1</td>\n",
       "      <td>0</td>\n",
       "      <td>0</td>\n",
       "      <td>0</td>\n",
       "    </tr>\n",
       "    <tr>\n",
       "      <th>4</th>\n",
       "      <td>0</td>\n",
       "      <td>58</td>\n",
       "      <td>131.135933</td>\n",
       "      <td>0</td>\n",
       "      <td>0</td>\n",
       "      <td>-1</td>\n",
       "      <td>2.787207</td>\n",
       "      <td>0.038208</td>\n",
       "      <td>0</td>\n",
       "      <td>0</td>\n",
       "      <td>1</td>\n",
       "      <td>1</td>\n",
       "    </tr>\n",
       "    <tr>\n",
       "      <th>...</th>\n",
       "      <td>...</td>\n",
       "      <td>...</td>\n",
       "      <td>...</td>\n",
       "      <td>...</td>\n",
       "      <td>...</td>\n",
       "      <td>...</td>\n",
       "      <td>...</td>\n",
       "      <td>...</td>\n",
       "      <td>...</td>\n",
       "      <td>...</td>\n",
       "      <td>...</td>\n",
       "      <td>...</td>\n",
       "    </tr>\n",
       "    <tr>\n",
       "      <th>7495</th>\n",
       "      <td>1</td>\n",
       "      <td>56</td>\n",
       "      <td>99.640132</td>\n",
       "      <td>0</td>\n",
       "      <td>1</td>\n",
       "      <td>-1</td>\n",
       "      <td>2.442280</td>\n",
       "      <td>0.003927</td>\n",
       "      <td>1</td>\n",
       "      <td>0</td>\n",
       "      <td>1</td>\n",
       "      <td>1</td>\n",
       "    </tr>\n",
       "    <tr>\n",
       "      <th>7496</th>\n",
       "      <td>1</td>\n",
       "      <td>42</td>\n",
       "      <td>87.712685</td>\n",
       "      <td>0</td>\n",
       "      <td>0</td>\n",
       "      <td>-1</td>\n",
       "      <td>-6.010248</td>\n",
       "      <td>0.011259</td>\n",
       "      <td>0</td>\n",
       "      <td>0</td>\n",
       "      <td>1</td>\n",
       "      <td>0</td>\n",
       "    </tr>\n",
       "    <tr>\n",
       "      <th>7497</th>\n",
       "      <td>1</td>\n",
       "      <td>49</td>\n",
       "      <td>95.136721</td>\n",
       "      <td>0</td>\n",
       "      <td>0</td>\n",
       "      <td>0</td>\n",
       "      <td>-0.196411</td>\n",
       "      <td>0.008007</td>\n",
       "      <td>0</td>\n",
       "      <td>1</td>\n",
       "      <td>0</td>\n",
       "      <td>0</td>\n",
       "    </tr>\n",
       "    <tr>\n",
       "      <th>7498</th>\n",
       "      <td>1</td>\n",
       "      <td>44</td>\n",
       "      <td>102.552413</td>\n",
       "      <td>0</td>\n",
       "      <td>0</td>\n",
       "      <td>0</td>\n",
       "      <td>-4.116299</td>\n",
       "      <td>0.001477</td>\n",
       "      <td>0</td>\n",
       "      <td>0</td>\n",
       "      <td>0</td>\n",
       "      <td>1</td>\n",
       "    </tr>\n",
       "    <tr>\n",
       "      <th>7499</th>\n",
       "      <td>0</td>\n",
       "      <td>53</td>\n",
       "      <td>83.356142</td>\n",
       "      <td>0</td>\n",
       "      <td>0</td>\n",
       "      <td>-1</td>\n",
       "      <td>0.235244</td>\n",
       "      <td>0.049443</td>\n",
       "      <td>1</td>\n",
       "      <td>1</td>\n",
       "      <td>0</td>\n",
       "      <td>0</td>\n",
       "    </tr>\n",
       "  </tbody>\n",
       "</table>\n",
       "<p>7500 rows × 12 columns</p>\n",
       "</div>"
      ],
      "text/plain": [
       "      treatment  age  blood_pressure  gender  blood_test  family_history  \\\n",
       "0             0   64      103.820809       1           0              -1   \n",
       "1             0   52      107.071369       0           0              -1   \n",
       "2             1   55      113.116130       0           1              -1   \n",
       "3             0   45       83.760932       0           0               0   \n",
       "4             0   58      131.135933       0           0              -1   \n",
       "...         ...  ...             ...     ...         ...             ...   \n",
       "7495          1   56       99.640132       0           1              -1   \n",
       "7496          1   42       87.712685       0           0              -1   \n",
       "7497          1   49       95.136721       0           0               0   \n",
       "7498          1   44      102.552413       0           0               0   \n",
       "7499          0   53       83.356142       0           0              -1   \n",
       "\n",
       "         TestA     TestB  GeneC  GeneD  GeneE  GeneF  \n",
       "0     4.334376  0.105218      0      1      1      0  \n",
       "1     0.361847  0.045375      1      1      0      0  \n",
       "2     3.611842  0.005147      0      0      0      1  \n",
       "3    -5.282537  0.056226      1      0      0      0  \n",
       "4     2.787207  0.038208      0      0      1      1  \n",
       "...        ...       ...    ...    ...    ...    ...  \n",
       "7495  2.442280  0.003927      1      0      1      1  \n",
       "7496 -6.010248  0.011259      0      0      1      0  \n",
       "7497 -0.196411  0.008007      0      1      0      0  \n",
       "7498 -4.116299  0.001477      0      0      0      1  \n",
       "7499  0.235244  0.049443      1      1      0      0  \n",
       "\n",
       "[7500 rows x 12 columns]"
      ]
     },
     "execution_count": 52,
     "metadata": {},
     "output_type": "execute_result"
    }
   ],
   "source": [
    "data"
   ]
  },
  {
   "cell_type": "code",
   "execution_count": 53,
   "metadata": {},
   "outputs": [],
   "source": [
    "## Split Train, Test data\n",
    "## allocate predictors to X\n",
    "X = data.iloc[:,1:]\n",
    "\n",
    "## allocate test value to y\n",
    "y = data[\"treatment\"]"
   ]
  },
  {
   "cell_type": "code",
   "execution_count": 54,
   "metadata": {},
   "outputs": [],
   "source": [
    "## Train, validation, test split applying random state\n",
    "## Train : Validation : Test = 8:1:1\n",
    "X_train, X_test, y_train, y_test = train_test_split(\n",
    "    X, y, test_size=0.1, random_state=1)\n",
    "\n",
    "\n",
    "## https://datascience.stackexchange.com/questions/15135/train-test-validation-set-splitting-in-sklearn"
   ]
  },
  {
   "cell_type": "markdown",
   "metadata": {},
   "source": [
    "# train logistic regression model"
   ]
  },
  {
   "cell_type": "code",
   "execution_count": 55,
   "metadata": {},
   "outputs": [
    {
     "ename": "AttributeError",
     "evalue": "'Logit' object has no attribute 'append'",
     "output_type": "error",
     "traceback": [
      "\u001b[0;31m---------------------------------------------------------------------------\u001b[0m",
      "\u001b[0;31mAttributeError\u001b[0m                            Traceback (most recent call last)",
      "\u001b[0;32m<ipython-input-55-547bcd6ef7f9>\u001b[0m in \u001b[0;36m<module>\u001b[0;34m\u001b[0m\n\u001b[0;32m----> 1\u001b[0;31m \u001b[0mlogistic\u001b[0m \u001b[0;34m=\u001b[0m \u001b[0msm\u001b[0m\u001b[0;34m.\u001b[0m\u001b[0mLogit\u001b[0m\u001b[0;34m(\u001b[0m\u001b[0my_train\u001b[0m\u001b[0;34m,\u001b[0m \u001b[0mX_train\u001b[0m\u001b[0;34m)\u001b[0m\u001b[0;34m.\u001b[0m\u001b[0mappend\u001b[0m\u001b[0;34m.\u001b[0m\u001b[0mfit\u001b[0m\u001b[0;34m(\u001b[0m\u001b[0;34m)\u001b[0m\u001b[0;34m\u001b[0m\u001b[0;34m\u001b[0m\u001b[0m\n\u001b[0m",
      "\u001b[0;31mAttributeError\u001b[0m: 'Logit' object has no attribute 'append'"
     ]
    }
   ],
   "source": [
    "logistic = sm.Logit(y_train, X_train).append.fit()"
   ]
  },
  {
   "cell_type": "code",
   "execution_count": null,
   "metadata": {},
   "outputs": [],
   "source": [
    "print(logistic.summary()) "
   ]
  },
  {
   "cell_type": "code",
   "execution_count": null,
   "metadata": {},
   "outputs": [],
   "source": [
    "clf = LogisticRegression(random_state=0).fit(X_train.append(X_val), y_train.append(y_val))"
   ]
  },
  {
   "cell_type": "code",
   "execution_count": null,
   "metadata": {},
   "outputs": [],
   "source": [
    "y_pred = clf.predict(X_test)"
   ]
  },
  {
   "cell_type": "code",
   "execution_count": 148,
   "metadata": {},
   "outputs": [],
   "source": [
    "confusion_mat = confusion_matrix(y_test, y_pred)"
   ]
  },
  {
   "cell_type": "code",
   "execution_count": 149,
   "metadata": {},
   "outputs": [],
   "source": [
    "tn, fp, fn, tp = confusion_mat.ravel()\n",
    "# https://scikit-learn.org/stable/modules/generated/sklearn.metrics.confusion_matrix.html"
   ]
  },
  {
   "cell_type": "code",
   "execution_count": 150,
   "metadata": {},
   "outputs": [
    {
     "data": {
      "text/plain": [
       "array([[237, 108],\n",
       "       [ 72, 333]])"
      ]
     },
     "execution_count": 150,
     "metadata": {},
     "output_type": "execute_result"
    }
   ],
   "source": [
    "confusion_mat"
   ]
  },
  {
   "cell_type": "code",
   "execution_count": 151,
   "metadata": {},
   "outputs": [],
   "source": [
    "f1 = tp/(tp+0.5*(fp+fn))\n",
    "\n",
    "precision = tp/(tp+fp)\n",
    "\n",
    "accuracy = (tp+tn)/(tp+tn+fn+fp)"
   ]
  },
  {
   "cell_type": "code",
   "execution_count": 152,
   "metadata": {},
   "outputs": [
    {
     "name": "stdout",
     "output_type": "stream",
     "text": [
      "F1 Score  :  0.7872340425531915\n",
      "Precision :  0.7551020408163265\n",
      "Accuracy  :  0.76\n"
     ]
    }
   ],
   "source": [
    "print(\"F1 Score  : \", f1)\n",
    "print(\"Precision : \", precision)\n",
    "print(\"Accuracy  : \", accuracy)"
   ]
  },
  {
   "cell_type": "markdown",
   "metadata": {},
   "source": [
    "# L1 regularization"
   ]
  },
  {
   "cell_type": "code",
   "execution_count": 87,
   "metadata": {},
   "outputs": [
    {
     "name": "stdout",
     "output_type": "stream",
     "text": [
      "best parameter :  30\n",
      "Accuracy :  0.8044444444444444\n"
     ]
    }
   ],
   "source": [
    "clf = linear_model.LogisticRegression(penalty='l1',  solver='liblinear')\n",
    "\n",
    "coefs_ = []\n",
    "best_f1 = -10**10\n",
    "best_precision = -10**10\n",
    "best_accuracy = -10**10\n",
    "best_c = 10*10\n",
    "\n",
    "auc_list = []\n",
    "param_list = []\n",
    "\n",
    "parameters = np.arange(1,100,1)\n",
    "for param in parameters:\n",
    "    clf.set_params(C=param)\n",
    "    clf.fit(X_train, y_train)\n",
    "    y_pred = clf.predict(X_val)\n",
    "    confusion_mat = confusion_matrix(y_val, y_pred)\n",
    "    tn, fp, fn, tp = confusion_mat.ravel()\n",
    "    accuracy = (tp+tn)/(tp+tn+fn+fp)\n",
    "    auc_list.append(accuracy)\n",
    "    param_list.append(param)\n",
    "    if accuracy>best_accuracy:\n",
    "        best_accuracy = accuracy\n",
    "        best_param = param\n",
    "print(\"best parameter : \",best_param)\n",
    "print(\"Accuracy : \", best_accuracy)\n",
    "# https://scikit-learn.org/stable/auto_examples/linear_model/plot_logistic_path.html  "
   ]
  },
  {
   "cell_type": "code",
   "execution_count": 88,
   "metadata": {},
   "outputs": [
    {
     "data": {
      "text/plain": [
       "[<matplotlib.lines.Line2D at 0x7fb7dd5ac510>]"
      ]
     },
     "execution_count": 88,
     "metadata": {},
     "output_type": "execute_result"
    },
    {
     "data": {
      "image/png": "[encoded data removed]",
      "text/plain": [
       "<Figure size 432x288 with 1 Axes>"
      ]
     },
     "metadata": {
      "needs_background": "light"
     },
     "output_type": "display_data"
    }
   ],
   "source": [
    "plt.plot(param_list, auc_list)"
   ]
  },
  {
   "cell_type": "code",
   "execution_count": 89,
   "metadata": {},
   "outputs": [
    {
     "ename": "KeyboardInterrupt",
     "evalue": "",
     "output_type": "error",
     "traceback": [
      "\u001b[0;31m---------------------------------------------------------------------------\u001b[0m",
      "\u001b[0;31mKeyboardInterrupt\u001b[0m                         Traceback (most recent call last)",
      "\u001b[0;32m<ipython-input-89-4938bd92acf1>\u001b[0m in \u001b[0;36m<module>\u001b[0;34m\u001b[0m\n\u001b[1;32m     15\u001b[0m \u001b[0;32mfor\u001b[0m \u001b[0mparam\u001b[0m \u001b[0;32min\u001b[0m \u001b[0mparameters\u001b[0m\u001b[0;34m:\u001b[0m\u001b[0;34m\u001b[0m\u001b[0;34m\u001b[0m\u001b[0m\n\u001b[1;32m     16\u001b[0m     \u001b[0mclf\u001b[0m\u001b[0;34m.\u001b[0m\u001b[0mset_params\u001b[0m\u001b[0;34m(\u001b[0m\u001b[0mC\u001b[0m\u001b[0;34m=\u001b[0m\u001b[0mparam\u001b[0m\u001b[0;34m)\u001b[0m\u001b[0;34m\u001b[0m\u001b[0;34m\u001b[0m\u001b[0m\n\u001b[0;32m---> 17\u001b[0;31m     \u001b[0mclf\u001b[0m\u001b[0;34m.\u001b[0m\u001b[0mfit\u001b[0m\u001b[0;34m(\u001b[0m\u001b[0mX_train\u001b[0m\u001b[0;34m,\u001b[0m \u001b[0my_train\u001b[0m\u001b[0;34m)\u001b[0m\u001b[0;34m\u001b[0m\u001b[0;34m\u001b[0m\u001b[0m\n\u001b[0m\u001b[1;32m     18\u001b[0m     \u001b[0my_pred\u001b[0m \u001b[0;34m=\u001b[0m \u001b[0mclf\u001b[0m\u001b[0;34m.\u001b[0m\u001b[0mpredict\u001b[0m\u001b[0;34m(\u001b[0m\u001b[0mX_val\u001b[0m\u001b[0;34m)\u001b[0m\u001b[0;34m\u001b[0m\u001b[0;34m\u001b[0m\u001b[0m\n\u001b[1;32m     19\u001b[0m     \u001b[0mconfusion_mat\u001b[0m \u001b[0;34m=\u001b[0m \u001b[0mconfusion_matrix\u001b[0m\u001b[0;34m(\u001b[0m\u001b[0my_val\u001b[0m\u001b[0;34m,\u001b[0m \u001b[0my_pred\u001b[0m\u001b[0;34m)\u001b[0m\u001b[0;34m\u001b[0m\u001b[0;34m\u001b[0m\u001b[0m\n",
      "\u001b[0;32m/opt/anaconda3/envs/jaeyoung/lib/python3.7/site-packages/sklearn/linear_model/_logistic.py\u001b[0m in \u001b[0;36mfit\u001b[0;34m(self, X, y, sample_weight)\u001b[0m\n\u001b[1;32m   1542\u001b[0m                 \u001b[0mself\u001b[0m\u001b[0;34m.\u001b[0m\u001b[0mclass_weight\u001b[0m\u001b[0;34m,\u001b[0m \u001b[0mself\u001b[0m\u001b[0;34m.\u001b[0m\u001b[0mpenalty\u001b[0m\u001b[0;34m,\u001b[0m \u001b[0mself\u001b[0m\u001b[0;34m.\u001b[0m\u001b[0mdual\u001b[0m\u001b[0;34m,\u001b[0m \u001b[0mself\u001b[0m\u001b[0;34m.\u001b[0m\u001b[0mverbose\u001b[0m\u001b[0;34m,\u001b[0m\u001b[0;34m\u001b[0m\u001b[0;34m\u001b[0m\u001b[0m\n\u001b[1;32m   1543\u001b[0m                 \u001b[0mself\u001b[0m\u001b[0;34m.\u001b[0m\u001b[0mmax_iter\u001b[0m\u001b[0;34m,\u001b[0m \u001b[0mself\u001b[0m\u001b[0;34m.\u001b[0m\u001b[0mtol\u001b[0m\u001b[0;34m,\u001b[0m \u001b[0mself\u001b[0m\u001b[0;34m.\u001b[0m\u001b[0mrandom_state\u001b[0m\u001b[0;34m,\u001b[0m\u001b[0;34m\u001b[0m\u001b[0;34m\u001b[0m\u001b[0m\n\u001b[0;32m-> 1544\u001b[0;31m                 sample_weight=sample_weight)\n\u001b[0m\u001b[1;32m   1545\u001b[0m             \u001b[0mself\u001b[0m\u001b[0;34m.\u001b[0m\u001b[0mn_iter_\u001b[0m \u001b[0;34m=\u001b[0m \u001b[0mnp\u001b[0m\u001b[0;34m.\u001b[0m\u001b[0marray\u001b[0m\u001b[0;34m(\u001b[0m\u001b[0;34m[\u001b[0m\u001b[0mn_iter_\u001b[0m\u001b[0;34m]\u001b[0m\u001b[0;34m)\u001b[0m\u001b[0;34m\u001b[0m\u001b[0;34m\u001b[0m\u001b[0m\n\u001b[1;32m   1546\u001b[0m             \u001b[0;32mreturn\u001b[0m \u001b[0mself\u001b[0m\u001b[0;34m\u001b[0m\u001b[0;34m\u001b[0m\u001b[0m\n",
      "\u001b[0;32m/opt/anaconda3/envs/jaeyoung/lib/python3.7/site-packages/sklearn/svm/_base.py\u001b[0m in \u001b[0;36m_fit_liblinear\u001b[0;34m(X, y, C, fit_intercept, intercept_scaling, class_weight, penalty, dual, verbose, max_iter, tol, random_state, multi_class, loss, epsilon, sample_weight)\u001b[0m\n\u001b[1;32m    937\u001b[0m         \u001b[0mX\u001b[0m\u001b[0;34m,\u001b[0m \u001b[0my_ind\u001b[0m\u001b[0;34m,\u001b[0m \u001b[0msp\u001b[0m\u001b[0;34m.\u001b[0m\u001b[0misspmatrix\u001b[0m\u001b[0;34m(\u001b[0m\u001b[0mX\u001b[0m\u001b[0;34m)\u001b[0m\u001b[0;34m,\u001b[0m \u001b[0msolver_type\u001b[0m\u001b[0;34m,\u001b[0m \u001b[0mtol\u001b[0m\u001b[0;34m,\u001b[0m \u001b[0mbias\u001b[0m\u001b[0;34m,\u001b[0m \u001b[0mC\u001b[0m\u001b[0;34m,\u001b[0m\u001b[0;34m\u001b[0m\u001b[0;34m\u001b[0m\u001b[0m\n\u001b[1;32m    938\u001b[0m         \u001b[0mclass_weight_\u001b[0m\u001b[0;34m,\u001b[0m \u001b[0mmax_iter\u001b[0m\u001b[0;34m,\u001b[0m \u001b[0mrnd\u001b[0m\u001b[0;34m.\u001b[0m\u001b[0mrandint\u001b[0m\u001b[0;34m(\u001b[0m\u001b[0mnp\u001b[0m\u001b[0;34m.\u001b[0m\u001b[0miinfo\u001b[0m\u001b[0;34m(\u001b[0m\u001b[0;34m'i'\u001b[0m\u001b[0;34m)\u001b[0m\u001b[0;34m.\u001b[0m\u001b[0mmax\u001b[0m\u001b[0;34m)\u001b[0m\u001b[0;34m,\u001b[0m\u001b[0;34m\u001b[0m\u001b[0;34m\u001b[0m\u001b[0m\n\u001b[0;32m--> 939\u001b[0;31m         epsilon, sample_weight)\n\u001b[0m\u001b[1;32m    940\u001b[0m     \u001b[0;31m# Regarding rnd.randint(..) in the above signature:\u001b[0m\u001b[0;34m\u001b[0m\u001b[0;34m\u001b[0m\u001b[0;34m\u001b[0m\u001b[0m\n\u001b[1;32m    941\u001b[0m     \u001b[0;31m# seed for srand in range [0..INT_MAX); due to limitations in Numpy\u001b[0m\u001b[0;34m\u001b[0m\u001b[0;34m\u001b[0m\u001b[0;34m\u001b[0m\u001b[0m\n",
      "\u001b[0;31mKeyboardInterrupt\u001b[0m: "
     ]
    }
   ],
   "source": [
    "clf = linear_model.LogisticRegression(penalty='l1',  solver='liblinear')\n",
    "\n",
    "\n",
    "best_f1 = -10**10\n",
    "best_precision = -10**10\n",
    "best_accuracy = -10**10\n",
    "best_c = 10*10\n",
    "\n",
    "auc_list = []\n",
    "f1_list = []\n",
    "precision_list = []\n",
    "param_list = []\n",
    "\n",
    "parameters = np.arange(20,31,0.01)\n",
    "for param in parameters:\n",
    "    clf.set_params(C=param)\n",
    "    clf.fit(X_train, y_train)\n",
    "    y_pred = clf.predict(X_val)\n",
    "    confusion_mat = confusion_matrix(y_val, y_pred)\n",
    "    tn, fp, fn, tp = confusion_mat.ravel()\n",
    "    \n",
    "    f1 = tp/(tp+0.5*(fp+fn))\n",
    "    precision = tp/(tp+fp)\n",
    "    accuracy = (tp+tn)/(tp+tn+fn+fp)\n",
    "    \n",
    "    auc_list.append(accuracy)\n",
    "    f1_list.append(f1)\n",
    "    precision_list.append(precision)\n",
    "    param_list.append(param)\n",
    "    \n",
    "    if accuracy>best_accuracy:\n",
    "        best_accuracy = accuracy\n",
    "        best_auc_param = param\n",
    "        \n",
    "    if f1>best_f1:\n",
    "        best_f1 = f1\n",
    "        best_f1param = param\n",
    "        \n",
    "    if precision>best_precision:\n",
    "        best_precision = precision\n",
    "        best_precision_param = param\n",
    "     "
   ]
  },
  {
   "cell_type": "code",
   "execution_count": null,
   "metadata": {},
   "outputs": [],
   "source": [
    "print(\"best auc parameter : \",best_auc_param)\n",
    "print(\"Accuracy : \", best_accuracy)\n",
    "print()\n",
    "print(\"best f1 parameter : \",best_f1param)\n",
    "print(\"F1 : \", best_f1)\n",
    "print()\n",
    "print(\"best precisioin parameter : \",best_precision_param)\n",
    "print(\"Precision : \", best_precision)\n",
    "# https://scikit-learn.org/stable/auto_examples/linear_model/plot_logistic_path.html  "
   ]
  },
  {
   "cell_type": "code",
   "execution_count": null,
   "metadata": {},
   "outputs": [],
   "source": [
    "plt.plot(param_list, auc_list)\n",
    "plt.xlabel(\"param\")\n",
    "plt.ylabel(\"AUC\")"
   ]
  },
  {
   "cell_type": "code",
   "execution_count": null,
   "metadata": {},
   "outputs": [],
   "source": [
    "plt.plot(param_list, f1_list)\n",
    "plt.xlabel(\"param\")\n",
    "plt.ylabel(\"F1 Score\")"
   ]
  },
  {
   "cell_type": "code",
   "execution_count": null,
   "metadata": {},
   "outputs": [],
   "source": [
    "plt.plot(param_list, precision_list)\n",
    "plt.xlabel(\"param\")\n",
    "plt.ylabel(\"Precision\")"
   ]
  },
  {
   "cell_type": "code",
   "execution_count": null,
   "metadata": {},
   "outputs": [],
   "source": []
  },
  {
   "cell_type": "code",
   "execution_count": null,
   "metadata": {},
   "outputs": [],
   "source": []
  },
  {
   "cell_type": "code",
   "execution_count": 310,
   "metadata": {},
   "outputs": [],
   "source": [
    "clf = linear_model.LogisticRegression(penalty='l1',  solver='liblinear')\n",
    "clf.set_params(C=0.56)\n",
    "clf.fit(X_train.append(X_val), y_train.append(y_val))\n",
    "y_pred = clf.predict(X_test)\n",
    "\n",
    "confusion_mat = confusion_matrix(y_test, y_pred)\n",
    "tn, fp, fn, tp = confusion_mat.ravel()\n",
    "\n",
    "f1 = tp/(tp+0.5*(fp+fn))\n",
    "precision = tp/(tp+fp)\n",
    "accuracy = (tp+tn)/(tp+tn+fn+fp)"
   ]
  },
  {
   "cell_type": "code",
   "execution_count": 311,
   "metadata": {},
   "outputs": [
    {
     "name": "stdout",
     "output_type": "stream",
     "text": [
      "F1 Score  :  0.8186274509803921\n",
      "Precision :  0.8126520681265207\n",
      "Accuracy  :  0.8026666666666666\n"
     ]
    }
   ],
   "source": [
    "print(\"F1 Score  : \", f1)\n",
    "print(\"Precision : \", precision)\n",
    "print(\"Accuracy  : \", accuracy)"
   ]
  },
  {
   "cell_type": "code",
   "execution_count": 312,
   "metadata": {},
   "outputs": [
    {
     "name": "stdout",
     "output_type": "stream",
     "text": [
      "roc_auc score :  0.8915369475755949\n"
     ]
    }
   ],
   "source": [
    "yhat = clf.predict_proba(X_test)\n",
    "\n",
    "pos_probs = yhat[:, 1]\n",
    "\n",
    "print('roc_auc score : ', roc_auc_score(y_test, pos_probs))"
   ]
  },
  {
   "cell_type": "code",
   "execution_count": null,
   "metadata": {},
   "outputs": [],
   "source": []
  },
  {
   "cell_type": "code",
   "execution_count": null,
   "metadata": {},
   "outputs": [],
   "source": []
  },
  {
   "cell_type": "code",
   "execution_count": null,
   "metadata": {},
   "outputs": [],
   "source": []
  },
  {
   "cell_type": "markdown",
   "metadata": {},
   "source": [
    "# Feature selected"
   ]
  },
  {
   "cell_type": "code",
   "execution_count": 153,
   "metadata": {},
   "outputs": [
    {
     "data": {
      "text/plain": [
       "Index(['treatment', 'age', 'blood_pressure', 'gender', 'blood_test',\n",
       "       'family_history', 'TestA', 'TestB', 'GeneC', 'GeneD', 'GeneE', 'GeneF'],\n",
       "      dtype='object')"
      ]
     },
     "execution_count": 153,
     "metadata": {},
     "output_type": "execute_result"
    }
   ],
   "source": [
    "data.columns"
   ]
  },
  {
   "cell_type": "code",
   "execution_count": 154,
   "metadata": {},
   "outputs": [
    {
     "data": {
      "text/html": [
       "<div>\n",
       "<style scoped>\n",
       "    .dataframe tbody tr th:only-of-type {\n",
       "        vertical-align: middle;\n",
       "    }\n",
       "\n",
       "    .dataframe tbody tr th {\n",
       "        vertical-align: top;\n",
       "    }\n",
       "\n",
       "    .dataframe thead th {\n",
       "        text-align: right;\n",
       "    }\n",
       "</style>\n",
       "<table border=\"1\" class=\"dataframe\">\n",
       "  <thead>\n",
       "    <tr style=\"text-align: right;\">\n",
       "      <th></th>\n",
       "      <th>Id</th>\n",
       "      <th>age</th>\n",
       "      <th>blood_pressure</th>\n",
       "      <th>gender</th>\n",
       "      <th>blood_test</th>\n",
       "      <th>family_history</th>\n",
       "      <th>TestA</th>\n",
       "      <th>TestB</th>\n",
       "      <th>GeneC</th>\n",
       "      <th>GeneD</th>\n",
       "      <th>GeneE</th>\n",
       "      <th>GeneF</th>\n",
       "    </tr>\n",
       "  </thead>\n",
       "  <tbody>\n",
       "    <tr>\n",
       "      <th>0</th>\n",
       "      <td>0</td>\n",
       "      <td>53</td>\n",
       "      <td>115.102446</td>\n",
       "      <td>1</td>\n",
       "      <td>1</td>\n",
       "      <td>-1</td>\n",
       "      <td>-0.021825</td>\n",
       "      <td>0.037783</td>\n",
       "      <td>1</td>\n",
       "      <td>1</td>\n",
       "      <td>0</td>\n",
       "      <td>1</td>\n",
       "    </tr>\n",
       "    <tr>\n",
       "      <th>1</th>\n",
       "      <td>1</td>\n",
       "      <td>64</td>\n",
       "      <td>128.260954</td>\n",
       "      <td>0</td>\n",
       "      <td>0</td>\n",
       "      <td>-1</td>\n",
       "      <td>7.678080</td>\n",
       "      <td>0.037938</td>\n",
       "      <td>0</td>\n",
       "      <td>1</td>\n",
       "      <td>0</td>\n",
       "      <td>1</td>\n",
       "    </tr>\n",
       "    <tr>\n",
       "      <th>2</th>\n",
       "      <td>2</td>\n",
       "      <td>60</td>\n",
       "      <td>94.202505</td>\n",
       "      <td>0</td>\n",
       "      <td>0</td>\n",
       "      <td>-1</td>\n",
       "      <td>2.476105</td>\n",
       "      <td>0.011213</td>\n",
       "      <td>1</td>\n",
       "      <td>1</td>\n",
       "      <td>0</td>\n",
       "      <td>0</td>\n",
       "    </tr>\n",
       "    <tr>\n",
       "      <th>3</th>\n",
       "      <td>3</td>\n",
       "      <td>61</td>\n",
       "      <td>101.630800</td>\n",
       "      <td>0</td>\n",
       "      <td>0</td>\n",
       "      <td>-1</td>\n",
       "      <td>3.497286</td>\n",
       "      <td>0.034656</td>\n",
       "      <td>0</td>\n",
       "      <td>1</td>\n",
       "      <td>1</td>\n",
       "      <td>1</td>\n",
       "    </tr>\n",
       "    <tr>\n",
       "      <th>4</th>\n",
       "      <td>4</td>\n",
       "      <td>69</td>\n",
       "      <td>120.710802</td>\n",
       "      <td>1</td>\n",
       "      <td>0</td>\n",
       "      <td>-1</td>\n",
       "      <td>9.781353</td>\n",
       "      <td>0.018351</td>\n",
       "      <td>1</td>\n",
       "      <td>1</td>\n",
       "      <td>1</td>\n",
       "      <td>1</td>\n",
       "    </tr>\n",
       "    <tr>\n",
       "      <th>...</th>\n",
       "      <td>...</td>\n",
       "      <td>...</td>\n",
       "      <td>...</td>\n",
       "      <td>...</td>\n",
       "      <td>...</td>\n",
       "      <td>...</td>\n",
       "      <td>...</td>\n",
       "      <td>...</td>\n",
       "      <td>...</td>\n",
       "      <td>...</td>\n",
       "      <td>...</td>\n",
       "      <td>...</td>\n",
       "    </tr>\n",
       "    <tr>\n",
       "      <th>7495</th>\n",
       "      <td>7495</td>\n",
       "      <td>46</td>\n",
       "      <td>110.536559</td>\n",
       "      <td>0</td>\n",
       "      <td>0</td>\n",
       "      <td>-1</td>\n",
       "      <td>-1.987730</td>\n",
       "      <td>0.045739</td>\n",
       "      <td>0</td>\n",
       "      <td>0</td>\n",
       "      <td>1</td>\n",
       "      <td>1</td>\n",
       "    </tr>\n",
       "    <tr>\n",
       "      <th>7496</th>\n",
       "      <td>7496</td>\n",
       "      <td>66</td>\n",
       "      <td>94.140814</td>\n",
       "      <td>0</td>\n",
       "      <td>0</td>\n",
       "      <td>-1</td>\n",
       "      <td>7.635846</td>\n",
       "      <td>0.001908</td>\n",
       "      <td>0</td>\n",
       "      <td>0</td>\n",
       "      <td>1</td>\n",
       "      <td>0</td>\n",
       "    </tr>\n",
       "    <tr>\n",
       "      <th>7497</th>\n",
       "      <td>7497</td>\n",
       "      <td>56</td>\n",
       "      <td>100.499343</td>\n",
       "      <td>0</td>\n",
       "      <td>0</td>\n",
       "      <td>-1</td>\n",
       "      <td>1.861948</td>\n",
       "      <td>0.015028</td>\n",
       "      <td>0</td>\n",
       "      <td>0</td>\n",
       "      <td>1</td>\n",
       "      <td>1</td>\n",
       "    </tr>\n",
       "    <tr>\n",
       "      <th>7498</th>\n",
       "      <td>7498</td>\n",
       "      <td>64</td>\n",
       "      <td>99.181979</td>\n",
       "      <td>0</td>\n",
       "      <td>0</td>\n",
       "      <td>-1</td>\n",
       "      <td>5.846495</td>\n",
       "      <td>0.034161</td>\n",
       "      <td>1</td>\n",
       "      <td>1</td>\n",
       "      <td>0</td>\n",
       "      <td>1</td>\n",
       "    </tr>\n",
       "    <tr>\n",
       "      <th>7499</th>\n",
       "      <td>7499</td>\n",
       "      <td>65</td>\n",
       "      <td>125.596468</td>\n",
       "      <td>1</td>\n",
       "      <td>0</td>\n",
       "      <td>-1</td>\n",
       "      <td>6.791431</td>\n",
       "      <td>0.000964</td>\n",
       "      <td>0</td>\n",
       "      <td>1</td>\n",
       "      <td>1</td>\n",
       "      <td>1</td>\n",
       "    </tr>\n",
       "  </tbody>\n",
       "</table>\n",
       "<p>7500 rows × 12 columns</p>\n",
       "</div>"
      ],
      "text/plain": [
       "        Id  age  blood_pressure  gender  blood_test  family_history     TestA  \\\n",
       "0        0   53      115.102446       1           1              -1 -0.021825   \n",
       "1        1   64      128.260954       0           0              -1  7.678080   \n",
       "2        2   60       94.202505       0           0              -1  2.476105   \n",
       "3        3   61      101.630800       0           0              -1  3.497286   \n",
       "4        4   69      120.710802       1           0              -1  9.781353   \n",
       "...    ...  ...             ...     ...         ...             ...       ...   \n",
       "7495  7495   46      110.536559       0           0              -1 -1.987730   \n",
       "7496  7496   66       94.140814       0           0              -1  7.635846   \n",
       "7497  7497   56      100.499343       0           0              -1  1.861948   \n",
       "7498  7498   64       99.181979       0           0              -1  5.846495   \n",
       "7499  7499   65      125.596468       1           0              -1  6.791431   \n",
       "\n",
       "         TestB  GeneC  GeneD  GeneE  GeneF  \n",
       "0     0.037783      1      1      0      1  \n",
       "1     0.037938      0      1      0      1  \n",
       "2     0.011213      1      1      0      0  \n",
       "3     0.034656      0      1      1      1  \n",
       "4     0.018351      1      1      1      1  \n",
       "...        ...    ...    ...    ...    ...  \n",
       "7495  0.045739      0      0      1      1  \n",
       "7496  0.001908      0      0      1      0  \n",
       "7497  0.015028      0      0      1      1  \n",
       "7498  0.034161      1      1      0      1  \n",
       "7499  0.000964      0      1      1      1  \n",
       "\n",
       "[7500 rows x 12 columns]"
      ]
     },
     "execution_count": 154,
     "metadata": {},
     "output_type": "execute_result"
    }
   ],
   "source": [
    "test"
   ]
  },
  {
   "cell_type": "code",
   "execution_count": 156,
   "metadata": {},
   "outputs": [],
   "source": [
    "fselected_data = data[['treatment', 'age', 'blood_pressure', 'gender', 'blood_test','family_history', 'TestB', 'GeneE', 'GeneF']]\n",
    "test = test[[\"Id\", 'age', 'blood_pressure', 'gender', 'blood_test','family_history', 'TestB', 'GeneE', 'GeneF']]\n"
   ]
  },
  {
   "cell_type": "code",
   "execution_count": 157,
   "metadata": {},
   "outputs": [],
   "source": [
    "## Split Train, Test data\n",
    "## allocate predictors to X\n",
    "X = fselected_data.iloc[:,1:]\n",
    "\n",
    "## allocate test value to y\n",
    "y = fselected_data[\"treatment\"]\n",
    "\n",
    "## Train, validation, test split applying random state\n",
    "## Train : Validation : Test = 8:1:1\n",
    "X_train, X_test, y_train, y_test = train_test_split(\n",
    "    X, y, test_size=0.1, random_state=1)\n",
    "\n",
    "## https://datascience.stackexchange.com/questions/15135/train-test-validation-set-splitting-in-sklearn"
   ]
  },
  {
   "cell_type": "markdown",
   "metadata": {},
   "source": [
    "# Baseline logistic regression"
   ]
  },
  {
   "cell_type": "code",
   "execution_count": 160,
   "metadata": {},
   "outputs": [
    {
     "name": "stdout",
     "output_type": "stream",
     "text": [
      "Optimization terminated successfully.\n",
      "         Current function value: 0.441828\n",
      "         Iterations 7\n",
      "                           Logit Regression Results                           \n",
      "==============================================================================\n",
      "Dep. Variable:              treatment   No. Observations:                 6750\n",
      "Model:                          Logit   Df Residuals:                     6742\n",
      "Method:                           MLE   Df Model:                            7\n",
      "Date:                Thu, 18 Feb 2021   Pseudo R-squ.:                  0.3572\n",
      "Time:                        17:54:35   Log-Likelihood:                -2982.3\n",
      "converged:                       True   LL-Null:                       -4639.4\n",
      "Covariance Type:            nonrobust   LLR p-value:                     0.000\n",
      "==================================================================================\n",
      "                     coef    std err          z      P>|z|      [0.025      0.975]\n",
      "----------------------------------------------------------------------------------\n",
      "age               -0.0493      0.003    -15.820      0.000      -0.055      -0.043\n",
      "blood_pressure     0.0545      0.002     26.695      0.000       0.051       0.059\n",
      "gender            -2.7075      0.073    -36.966      0.000      -2.851      -2.564\n",
      "blood_test        -0.3107      0.115     -2.693      0.007      -0.537      -0.085\n",
      "family_history     0.0798      0.064      1.253      0.210      -0.045       0.205\n",
      "TestB            -42.8259      1.513    -28.303      0.000     -45.792     -39.860\n",
      "GeneE             -0.2227      0.065     -3.442      0.001      -0.350      -0.096\n",
      "GeneF             -0.0847      0.064     -1.316      0.188      -0.211       0.041\n",
      "==================================================================================\n"
     ]
    }
   ],
   "source": [
    "logistic = sm.Logit(y_train, X_train).fit()\n",
    "print(logistic.summary()) "
   ]
  },
  {
   "cell_type": "code",
   "execution_count": null,
   "metadata": {},
   "outputs": [],
   "source": []
  },
  {
   "cell_type": "code",
   "execution_count": 162,
   "metadata": {},
   "outputs": [],
   "source": [
    "clf = LogisticRegression(random_state=0).fit(X_train, y_train)\n"
   ]
  },
  {
   "cell_type": "code",
   "execution_count": 163,
   "metadata": {},
   "outputs": [
    {
     "name": "stdout",
     "output_type": "stream",
     "text": [
      "F1 Score  :  0.7688679245283019\n",
      "Precision :  0.7358916478555305\n",
      "Accuracy  :  0.7386666666666667\n"
     ]
    }
   ],
   "source": [
    "y_pred = clf.predict(X_test)\n",
    "\n",
    "confusion_mat = confusion_matrix(y_test, y_pred)\n",
    "\n",
    "tn, fp, fn, tp = confusion_mat.ravel()\n",
    "# https://scikit-learn.org/stable/modules/generated/sklearn.metrics.confusion_matrix.html\n",
    "\n",
    "confusion_mat\n",
    "\n",
    "f1 = tp/(tp+0.5*(fp+fn))\n",
    "\n",
    "precision = tp/(tp+fp)\n",
    "\n",
    "accuracy = (tp+tn)/(tp+tn+fn+fp)\n",
    "\n",
    "print(\"F1 Score  : \", f1)\n",
    "print(\"Precision : \", precision)\n",
    "print(\"Accuracy  : \", accuracy)"
   ]
  },
  {
   "cell_type": "markdown",
   "metadata": {},
   "source": [
    "# L1 regularization"
   ]
  },
  {
   "cell_type": "code",
   "execution_count": 167,
   "metadata": {},
   "outputs": [
    {
     "name": "stdout",
     "output_type": "stream",
     "text": [
      "best parameter :  2\n",
      "Accuracy :  0.808\n"
     ]
    }
   ],
   "source": [
    "clf = linear_model.LogisticRegression(penalty='l1',  solver='liblinear')\n",
    "\n",
    "coefs_ = []\n",
    "best_f1 = -10**10\n",
    "best_precision = -10**10\n",
    "best_accuracy = -10**10\n",
    "best_c = 10*10\n",
    "\n",
    "auc_list = []\n",
    "param_list = []\n",
    "\n",
    "parameters = np.arange(1,100,1)\n",
    "for param in parameters:\n",
    "    clf.set_params(C=param)\n",
    "    clf.fit(X_train, y_train)\n",
    "    y_pred = clf.predict(X_test)\n",
    "    confusion_mat = confusion_matrix(y_test, y_pred)\n",
    "    tn, fp, fn, tp = confusion_mat.ravel()\n",
    "    accuracy = (tp+tn)/(tp+tn+fn+fp)\n",
    "    auc_list.append(accuracy)\n",
    "    param_list.append(param)\n",
    "    if accuracy>best_accuracy:\n",
    "        best_accuracy = accuracy\n",
    "        best_param = param\n",
    "print(\"best parameter : \",best_param)\n",
    "print(\"Accuracy : \", best_accuracy)\n",
    "# https://scikit-learn.org/stable/auto_examples/linear_model/plot_logistic_path.html  "
   ]
  },
  {
   "cell_type": "code",
   "execution_count": 168,
   "metadata": {},
   "outputs": [
    {
     "data": {
      "text/plain": [
       "[<matplotlib.lines.Line2D at 0x7fb7c184c2d0>]"
      ]
     },
     "execution_count": 168,
     "metadata": {},
     "output_type": "execute_result"
    },
    {
     "data": {
      "image/png": "[encoded data removed]",
      "text/plain": [
       "<Figure size 432x288 with 1 Axes>"
      ]
     },
     "metadata": {
      "needs_background": "light"
     },
     "output_type": "display_data"
    }
   ],
   "source": [
    "plt.plot(param_list, auc_list)"
   ]
  },
  {
   "cell_type": "code",
   "execution_count": 170,
   "metadata": {},
   "outputs": [],
   "source": [
    "clf = linear_model.LogisticRegression(penalty='l1',  solver='liblinear')\n",
    "\n",
    "\n",
    "best_f1 = -10**10\n",
    "best_precision = -10**10\n",
    "best_accuracy = -10**10\n",
    "best_c = 10*10\n",
    "\n",
    "auc_list = []\n",
    "f1_list = []\n",
    "precision_list = []\n",
    "param_list = []\n",
    "\n",
    "parameters = np.arange(1,3,0.01)\n",
    "for param in parameters:\n",
    "    clf.set_params(C=param)\n",
    "    clf.fit(X_train, y_train)\n",
    "    y_pred = clf.predict(X_test)\n",
    "    confusion_mat = confusion_matrix(y_test, y_pred)\n",
    "    tn, fp, fn, tp = confusion_mat.ravel()\n",
    "    \n",
    "    f1 = tp/(tp+0.5*(fp+fn))\n",
    "    precision = tp/(tp+fp)\n",
    "    accuracy = (tp+tn)/(tp+tn+fn+fp)\n",
    "    \n",
    "    auc_list.append(accuracy)\n",
    "    f1_list.append(f1)\n",
    "    precision_list.append(precision)\n",
    "    param_list.append(param)\n",
    "    \n",
    "    if accuracy>best_accuracy:\n",
    "        best_accuracy = accuracy\n",
    "        best_auc_param = param\n",
    "        \n",
    "    if f1>best_f1:\n",
    "        best_f1 = f1\n",
    "        best_f1param = param\n",
    "        \n",
    "    if precision>best_precision:\n",
    "        best_precision = precision\n",
    "        best_precision_param = param\n",
    "     "
   ]
  },
  {
   "cell_type": "code",
   "execution_count": 171,
   "metadata": {},
   "outputs": [
    {
     "name": "stdout",
     "output_type": "stream",
     "text": [
      "best auc parameter :  1.5400000000000005\n",
      "Accuracy :  0.808\n",
      "\n",
      "best f1 parameter :  1.5400000000000005\n",
      "F1 :  0.8230958230958231\n",
      "\n",
      "best precisioin parameter :  1.5400000000000005\n",
      "Precision :  0.8190709046454768\n"
     ]
    }
   ],
   "source": [
    "print(\"best auc parameter : \",best_auc_param)\n",
    "print(\"Accuracy : \", best_accuracy)\n",
    "print()\n",
    "print(\"best f1 parameter : \",best_f1param)\n",
    "print(\"F1 : \", best_f1)\n",
    "print()\n",
    "print(\"best precisioin parameter : \",best_precision_param)\n",
    "print(\"Precision : \", best_precision)\n",
    "# https://scikit-learn.org/stable/auto_examples/linear_model/plot_logistic_path.html  "
   ]
  },
  {
   "cell_type": "code",
   "execution_count": 172,
   "metadata": {},
   "outputs": [
    {
     "data": {
      "text/plain": [
       "Text(0, 0.5, 'AUC')"
      ]
     },
     "execution_count": 172,
     "metadata": {},
     "output_type": "execute_result"
    },
    {
     "data": {
      "image/png": "[encoded data removed]",
      "text/plain": [
       "<Figure size 432x288 with 1 Axes>"
      ]
     },
     "metadata": {
      "needs_background": "light"
     },
     "output_type": "display_data"
    }
   ],
   "source": [
    "plt.plot(param_list, auc_list)\n",
    "plt.xlabel(\"param\")\n",
    "plt.ylabel(\"AUC\")"
   ]
  },
  {
   "cell_type": "code",
   "execution_count": 173,
   "metadata": {},
   "outputs": [
    {
     "data": {
      "text/plain": [
       "Text(0, 0.5, 'F1 Score')"
      ]
     },
     "execution_count": 173,
     "metadata": {},
     "output_type": "execute_result"
    },
    {
     "data": {
      "image/png": "[encoded data removed]",
      "text/plain": [
       "<Figure size 432x288 with 1 Axes>"
      ]
     },
     "metadata": {
      "needs_background": "light"
     },
     "output_type": "display_data"
    }
   ],
   "source": [
    "plt.plot(param_list, f1_list)\n",
    "plt.xlabel(\"param\")\n",
    "plt.ylabel(\"F1 Score\")"
   ]
  },
  {
   "cell_type": "code",
   "execution_count": 174,
   "metadata": {},
   "outputs": [
    {
     "data": {
      "text/plain": [
       "Text(0, 0.5, 'Precision')"
      ]
     },
     "execution_count": 174,
     "metadata": {},
     "output_type": "execute_result"
    },
    {
     "data": {
      "image/png": "[encoded data removed]",
      "text/plain": [
       "<Figure size 432x288 with 1 Axes>"
      ]
     },
     "metadata": {
      "needs_background": "light"
     },
     "output_type": "display_data"
    }
   ],
   "source": [
    "plt.plot(param_list, precision_list)\n",
    "plt.xlabel(\"param\")\n",
    "plt.ylabel(\"Precision\")"
   ]
  },
  {
   "cell_type": "markdown",
   "metadata": {},
   "source": [
    "# final model"
   ]
  },
  {
   "cell_type": "code",
   "execution_count": 176,
   "metadata": {},
   "outputs": [
    {
     "name": "stdout",
     "output_type": "stream",
     "text": [
      "F1 Score  :  0.8206388206388207\n",
      "Precision :  0.8166259168704156\n",
      "Accuracy  :  0.8053333333333333\n",
      "roc_auc score :  0.892474503488996\n"
     ]
    }
   ],
   "source": [
    "clf = linear_model.LogisticRegression(penalty='l1',  solver='liblinear')\n",
    "clf.set_params(C=1.54)\n",
    "clf.fit(X_train, y_train)\n",
    "y_pred = clf.predict(X_test)\n",
    "\n",
    "confusion_mat = confusion_matrix(y_test, y_pred)\n",
    "tn, fp, fn, tp = confusion_mat.ravel()\n",
    "\n",
    "f1 = tp/(tp+0.5*(fp+fn))\n",
    "precision = tp/(tp+fp)\n",
    "accuracy = (tp+tn)/(tp+tn+fn+fp)\n",
    "\n",
    "print(\"F1 Score  : \", f1)\n",
    "print(\"Precision : \", precision)\n",
    "print(\"Accuracy  : \", accuracy)\n",
    "\n",
    "yhat = clf.predict_proba(X_test)\n",
    "\n",
    "pos_probs = yhat[:, 1]\n",
    "\n",
    "print('roc_auc score : ', roc_auc_score(y_test, pos_probs))"
   ]
  },
  {
   "cell_type": "code",
   "execution_count": null,
   "metadata": {},
   "outputs": [],
   "source": []
  },
  {
   "cell_type": "code",
   "execution_count": 182,
   "metadata": {},
   "outputs": [
    {
     "data": {
      "text/html": [
       "<div>\n",
       "<style scoped>\n",
       "    .dataframe tbody tr th:only-of-type {\n",
       "        vertical-align: middle;\n",
       "    }\n",
       "\n",
       "    .dataframe tbody tr th {\n",
       "        vertical-align: top;\n",
       "    }\n",
       "\n",
       "    .dataframe thead th {\n",
       "        text-align: right;\n",
       "    }\n",
       "</style>\n",
       "<table border=\"1\" class=\"dataframe\">\n",
       "  <thead>\n",
       "    <tr style=\"text-align: right;\">\n",
       "      <th></th>\n",
       "      <th>age</th>\n",
       "      <th>blood_pressure</th>\n",
       "      <th>gender</th>\n",
       "      <th>blood_test</th>\n",
       "      <th>family_history</th>\n",
       "      <th>TestB</th>\n",
       "      <th>GeneE</th>\n",
       "      <th>GeneF</th>\n",
       "    </tr>\n",
       "  </thead>\n",
       "  <tbody>\n",
       "    <tr>\n",
       "      <th>0</th>\n",
       "      <td>53</td>\n",
       "      <td>115.102446</td>\n",
       "      <td>1</td>\n",
       "      <td>1</td>\n",
       "      <td>-1</td>\n",
       "      <td>0.037783</td>\n",
       "      <td>0</td>\n",
       "      <td>1</td>\n",
       "    </tr>\n",
       "    <tr>\n",
       "      <th>1</th>\n",
       "      <td>64</td>\n",
       "      <td>128.260954</td>\n",
       "      <td>0</td>\n",
       "      <td>0</td>\n",
       "      <td>-1</td>\n",
       "      <td>0.037938</td>\n",
       "      <td>0</td>\n",
       "      <td>1</td>\n",
       "    </tr>\n",
       "    <tr>\n",
       "      <th>2</th>\n",
       "      <td>60</td>\n",
       "      <td>94.202505</td>\n",
       "      <td>0</td>\n",
       "      <td>0</td>\n",
       "      <td>-1</td>\n",
       "      <td>0.011213</td>\n",
       "      <td>0</td>\n",
       "      <td>0</td>\n",
       "    </tr>\n",
       "    <tr>\n",
       "      <th>3</th>\n",
       "      <td>61</td>\n",
       "      <td>101.630800</td>\n",
       "      <td>0</td>\n",
       "      <td>0</td>\n",
       "      <td>-1</td>\n",
       "      <td>0.034656</td>\n",
       "      <td>1</td>\n",
       "      <td>1</td>\n",
       "    </tr>\n",
       "    <tr>\n",
       "      <th>4</th>\n",
       "      <td>69</td>\n",
       "      <td>120.710802</td>\n",
       "      <td>1</td>\n",
       "      <td>0</td>\n",
       "      <td>-1</td>\n",
       "      <td>0.018351</td>\n",
       "      <td>1</td>\n",
       "      <td>1</td>\n",
       "    </tr>\n",
       "    <tr>\n",
       "      <th>...</th>\n",
       "      <td>...</td>\n",
       "      <td>...</td>\n",
       "      <td>...</td>\n",
       "      <td>...</td>\n",
       "      <td>...</td>\n",
       "      <td>...</td>\n",
       "      <td>...</td>\n",
       "      <td>...</td>\n",
       "    </tr>\n",
       "    <tr>\n",
       "      <th>7495</th>\n",
       "      <td>46</td>\n",
       "      <td>110.536559</td>\n",
       "      <td>0</td>\n",
       "      <td>0</td>\n",
       "      <td>-1</td>\n",
       "      <td>0.045739</td>\n",
       "      <td>1</td>\n",
       "      <td>1</td>\n",
       "    </tr>\n",
       "    <tr>\n",
       "      <th>7496</th>\n",
       "      <td>66</td>\n",
       "      <td>94.140814</td>\n",
       "      <td>0</td>\n",
       "      <td>0</td>\n",
       "      <td>-1</td>\n",
       "      <td>0.001908</td>\n",
       "      <td>1</td>\n",
       "      <td>0</td>\n",
       "    </tr>\n",
       "    <tr>\n",
       "      <th>7497</th>\n",
       "      <td>56</td>\n",
       "      <td>100.499343</td>\n",
       "      <td>0</td>\n",
       "      <td>0</td>\n",
       "      <td>-1</td>\n",
       "      <td>0.015028</td>\n",
       "      <td>1</td>\n",
       "      <td>1</td>\n",
       "    </tr>\n",
       "    <tr>\n",
       "      <th>7498</th>\n",
       "      <td>64</td>\n",
       "      <td>99.181979</td>\n",
       "      <td>0</td>\n",
       "      <td>0</td>\n",
       "      <td>-1</td>\n",
       "      <td>0.034161</td>\n",
       "      <td>0</td>\n",
       "      <td>1</td>\n",
       "    </tr>\n",
       "    <tr>\n",
       "      <th>7499</th>\n",
       "      <td>65</td>\n",
       "      <td>125.596468</td>\n",
       "      <td>1</td>\n",
       "      <td>0</td>\n",
       "      <td>-1</td>\n",
       "      <td>0.000964</td>\n",
       "      <td>1</td>\n",
       "      <td>1</td>\n",
       "    </tr>\n",
       "  </tbody>\n",
       "</table>\n",
       "<p>7500 rows × 8 columns</p>\n",
       "</div>"
      ],
      "text/plain": [
       "      age  blood_pressure  gender  blood_test  family_history     TestB  \\\n",
       "0      53      115.102446       1           1              -1  0.037783   \n",
       "1      64      128.260954       0           0              -1  0.037938   \n",
       "2      60       94.202505       0           0              -1  0.011213   \n",
       "3      61      101.630800       0           0              -1  0.034656   \n",
       "4      69      120.710802       1           0              -1  0.018351   \n",
       "...   ...             ...     ...         ...             ...       ...   \n",
       "7495   46      110.536559       0           0              -1  0.045739   \n",
       "7496   66       94.140814       0           0              -1  0.001908   \n",
       "7497   56      100.499343       0           0              -1  0.015028   \n",
       "7498   64       99.181979       0           0              -1  0.034161   \n",
       "7499   65      125.596468       1           0              -1  0.000964   \n",
       "\n",
       "      GeneE  GeneF  \n",
       "0         0      1  \n",
       "1         0      1  \n",
       "2         0      0  \n",
       "3         1      1  \n",
       "4         1      1  \n",
       "...     ...    ...  \n",
       "7495      1      1  \n",
       "7496      1      0  \n",
       "7497      1      1  \n",
       "7498      0      1  \n",
       "7499      1      1  \n",
       "\n",
       "[7500 rows x 8 columns]"
      ]
     },
     "execution_count": 182,
     "metadata": {},
     "output_type": "execute_result"
    }
   ],
   "source": [
    "test.iloc[:,1:]"
   ]
  },
  {
   "cell_type": "code",
   "execution_count": 183,
   "metadata": {},
   "outputs": [],
   "source": [
    "clf = linear_model.LogisticRegression(penalty='l1',  solver='liblinear')\n",
    "clf.set_params(C=1.54)\n",
    "clf.fit(X_train.append(X_test), y_train.append(y_test))\n",
    "y_pred = clf.predict(test.iloc[:,1:])\n",
    "\n"
   ]
  },
  {
   "cell_type": "code",
   "execution_count": 187,
   "metadata": {},
   "outputs": [],
   "source": [
    "result =pd.DataFrame()\n",
    "\n",
    "result[\"Id\"] = test.iloc[:,0]\n",
    "\n",
    "result[\"predicted\"] = y_pred\n",
    "\n",
    "result = result.set_index(\"Id\")\n",
    "\n",
    "result.to_csv(\"submission.csv\")"
   ]
  },
  {
   "cell_type": "code",
   "execution_count": 189,
   "metadata": {},
   "outputs": [],
   "source": [
    "import lightgbm as lgb\n",
    "\n",
    "params = {\n",
    "    'boosting_type': 'gbdt',\n",
    "    'objective': 'regression',\n",
    "    'metric': {'l2', 'l1'},\n",
    "    'num_leaves': 100,\n",
    "    'learning_rate': 0.05,\n",
    "    'feature_fraction': 0.9,\n",
    "    'bagging_fraction': 0.8,\n",
    "    'bagging_freq': 5,\n",
    "    'verbose': 0\n",
    "}"
   ]
  },
  {
   "cell_type": "code",
   "execution_count": 61,
   "metadata": {
    "scrolled": true
   },
   "outputs": [
    {
     "name": "stdout",
     "output_type": "stream",
     "text": [
      "[LightGBM] [Warning] Auto-choosing col-wise multi-threading, the overhead of testing was 0.001834 seconds.\n",
      "You can set `force_col_wise=true` to remove the overhead.\n",
      "[LightGBM] [Warning] No further splits with positive gain, best gain: -inf\n",
      "[1]\tvalid_0's binary_logloss: 0.659456\n",
      "Training until validation scores don't improve for 20 rounds\n",
      "[LightGBM] [Warning] No further splits with positive gain, best gain: -inf\n",
      "[2]\tvalid_0's binary_logloss: 0.647382\n",
      "[LightGBM] [Warning] No further splits with positive gain, best gain: -inf\n",
      "[3]\tvalid_0's binary_logloss: 0.620679\n",
      "[LightGBM] [Warning] No further splits with positive gain, best gain: -inf\n",
      "[4]\tvalid_0's binary_logloss: 0.59697\n",
      "[LightGBM] [Warning] No further splits with positive gain, best gain: -inf\n",
      "[5]\tvalid_0's binary_logloss: 0.577147\n",
      "[LightGBM] [Warning] No further splits with positive gain, best gain: -inf\n",
      "[6]\tvalid_0's binary_logloss: 0.568864\n",
      "[LightGBM] [Warning] No further splits with positive gain, best gain: -inf\n",
      "[7]\tvalid_0's binary_logloss: 0.551311\n",
      "[LightGBM] [Warning] No further splits with positive gain, best gain: -inf\n",
      "[8]\tvalid_0's binary_logloss: 0.533396\n",
      "[LightGBM] [Warning] No further splits with positive gain, best gain: -inf\n",
      "[9]\tvalid_0's binary_logloss: 0.517069\n",
      "[LightGBM] [Warning] No further splits with positive gain, best gain: -inf\n",
      "[10]\tvalid_0's binary_logloss: 0.510686\n",
      "[LightGBM] [Warning] No further splits with positive gain, best gain: -inf\n",
      "[11]\tvalid_0's binary_logloss: 0.495922\n",
      "[LightGBM] [Warning] No further splits with positive gain, best gain: -inf\n",
      "[12]\tvalid_0's binary_logloss: 0.483095\n",
      "[LightGBM] [Warning] No further splits with positive gain, best gain: -inf\n",
      "[13]\tvalid_0's binary_logloss: 0.471932\n",
      "[LightGBM] [Warning] No further splits with positive gain, best gain: -inf\n",
      "[14]\tvalid_0's binary_logloss: 0.460743\n",
      "[LightGBM] [Warning] No further splits with positive gain, best gain: -inf\n",
      "[15]\tvalid_0's binary_logloss: 0.456711\n",
      "[LightGBM] [Warning] No further splits with positive gain, best gain: -inf\n",
      "[16]\tvalid_0's binary_logloss: 0.445304\n",
      "[LightGBM] [Warning] No further splits with positive gain, best gain: -inf\n",
      "[17]\tvalid_0's binary_logloss: 0.436485\n",
      "[LightGBM] [Warning] No further splits with positive gain, best gain: -inf\n",
      "[18]\tvalid_0's binary_logloss: 0.42881\n",
      "[LightGBM] [Warning] No further splits with positive gain, best gain: -inf\n",
      "[19]\tvalid_0's binary_logloss: 0.418443\n",
      "[LightGBM] [Warning] No further splits with positive gain, best gain: -inf\n",
      "[20]\tvalid_0's binary_logloss: 0.408977\n",
      "[LightGBM] [Warning] No further splits with positive gain, best gain: -inf\n",
      "[21]\tvalid_0's binary_logloss: 0.402537\n",
      "[LightGBM] [Warning] No further splits with positive gain, best gain: -inf\n",
      "[22]\tvalid_0's binary_logloss: 0.394893\n",
      "[LightGBM] [Warning] No further splits with positive gain, best gain: -inf\n",
      "[23]\tvalid_0's binary_logloss: 0.389738\n",
      "[LightGBM] [Warning] No further splits with positive gain, best gain: -inf\n",
      "[24]\tvalid_0's binary_logloss: 0.383519\n",
      "[LightGBM] [Warning] No further splits with positive gain, best gain: -inf\n",
      "[25]\tvalid_0's binary_logloss: 0.378077\n",
      "[LightGBM] [Warning] No further splits with positive gain, best gain: -inf\n",
      "[26]\tvalid_0's binary_logloss: 0.370591\n",
      "[LightGBM] [Warning] No further splits with positive gain, best gain: -inf\n",
      "[27]\tvalid_0's binary_logloss: 0.366032\n",
      "[LightGBM] [Warning] No further splits with positive gain, best gain: -inf\n",
      "[28]\tvalid_0's binary_logloss: 0.359487\n",
      "[LightGBM] [Warning] No further splits with positive gain, best gain: -inf\n",
      "[29]\tvalid_0's binary_logloss: 0.353391\n",
      "[LightGBM] [Warning] No further splits with positive gain, best gain: -inf\n",
      "[30]\tvalid_0's binary_logloss: 0.348284\n",
      "[LightGBM] [Warning] No further splits with positive gain, best gain: -inf\n",
      "[31]\tvalid_0's binary_logloss: 0.343559\n",
      "[LightGBM] [Warning] No further splits with positive gain, best gain: -inf\n",
      "[32]\tvalid_0's binary_logloss: 0.33874\n",
      "[LightGBM] [Warning] No further splits with positive gain, best gain: -inf\n",
      "[33]\tvalid_0's binary_logloss: 0.333996\n",
      "[LightGBM] [Warning] No further splits with positive gain, best gain: -inf\n",
      "[34]\tvalid_0's binary_logloss: 0.327352\n",
      "[LightGBM] [Warning] No further splits with positive gain, best gain: -inf\n",
      "[35]\tvalid_0's binary_logloss: 0.325266\n",
      "[LightGBM] [Warning] No further splits with positive gain, best gain: -inf\n",
      "[36]\tvalid_0's binary_logloss: 0.321597\n",
      "[LightGBM] [Warning] No further splits with positive gain, best gain: -inf\n",
      "[37]\tvalid_0's binary_logloss: 0.317879\n",
      "[LightGBM] [Warning] No further splits with positive gain, best gain: -inf\n",
      "[38]\tvalid_0's binary_logloss: 0.313966\n",
      "[LightGBM] [Warning] No further splits with positive gain, best gain: -inf\n",
      "[39]\tvalid_0's binary_logloss: 0.309456\n",
      "[LightGBM] [Warning] No further splits with positive gain, best gain: -inf\n",
      "[40]\tvalid_0's binary_logloss: 0.307686\n",
      "[LightGBM] [Warning] No further splits with positive gain, best gain: -inf\n",
      "[41]\tvalid_0's binary_logloss: 0.305017\n",
      "[LightGBM] [Warning] No further splits with positive gain, best gain: -inf\n",
      "[42]\tvalid_0's binary_logloss: 0.303458\n",
      "[LightGBM] [Warning] No further splits with positive gain, best gain: -inf\n",
      "[43]\tvalid_0's binary_logloss: 0.301284\n",
      "[LightGBM] [Warning] No further splits with positive gain, best gain: -inf\n",
      "[44]\tvalid_0's binary_logloss: 0.299736\n",
      "[LightGBM] [Warning] No further splits with positive gain, best gain: -inf\n",
      "[45]\tvalid_0's binary_logloss: 0.295422\n",
      "[LightGBM] [Warning] No further splits with positive gain, best gain: -inf\n",
      "[46]\tvalid_0's binary_logloss: 0.292605\n",
      "[LightGBM] [Warning] No further splits with positive gain, best gain: -inf\n",
      "[47]\tvalid_0's binary_logloss: 0.290648\n",
      "[LightGBM] [Warning] No further splits with positive gain, best gain: -inf\n",
      "[48]\tvalid_0's binary_logloss: 0.28974\n",
      "[LightGBM] [Warning] No further splits with positive gain, best gain: -inf\n",
      "[49]\tvalid_0's binary_logloss: 0.288251\n",
      "[LightGBM] [Warning] No further splits with positive gain, best gain: -inf\n",
      "[50]\tvalid_0's binary_logloss: 0.285792\n",
      "[LightGBM] [Warning] No further splits with positive gain, best gain: -inf\n",
      "[51]\tvalid_0's binary_logloss: 0.282615\n",
      "[LightGBM] [Warning] No further splits with positive gain, best gain: -inf\n",
      "[52]\tvalid_0's binary_logloss: 0.282148\n",
      "[LightGBM] [Warning] No further splits with positive gain, best gain: -inf\n",
      "[53]\tvalid_0's binary_logloss: 0.281283\n",
      "[LightGBM] [Warning] No further splits with positive gain, best gain: -inf\n",
      "[54]\tvalid_0's binary_logloss: 0.279035\n",
      "[LightGBM] [Warning] No further splits with positive gain, best gain: -inf\n",
      "[55]\tvalid_0's binary_logloss: 0.276959\n",
      "[LightGBM] [Warning] No further splits with positive gain, best gain: -inf\n",
      "[56]\tvalid_0's binary_logloss: 0.275135\n",
      "[LightGBM] [Warning] No further splits with positive gain, best gain: -inf\n",
      "[57]\tvalid_0's binary_logloss: 0.275192\n",
      "[LightGBM] [Warning] No further splits with positive gain, best gain: -inf\n",
      "[58]\tvalid_0's binary_logloss: 0.274567\n",
      "[LightGBM] [Warning] No further splits with positive gain, best gain: -inf\n",
      "[59]\tvalid_0's binary_logloss: 0.273078\n",
      "[LightGBM] [Warning] No further splits with positive gain, best gain: -inf\n",
      "[60]\tvalid_0's binary_logloss: 0.272617\n",
      "[LightGBM] [Warning] No further splits with positive gain, best gain: -inf\n",
      "[61]\tvalid_0's binary_logloss: 0.272382\n",
      "[LightGBM] [Warning] No further splits with positive gain, best gain: -inf\n",
      "[62]\tvalid_0's binary_logloss: 0.272116\n",
      "[LightGBM] [Warning] No further splits with positive gain, best gain: -inf\n",
      "[63]\tvalid_0's binary_logloss: 0.271317\n",
      "[LightGBM] [Warning] No further splits with positive gain, best gain: -inf\n",
      "[64]\tvalid_0's binary_logloss: 0.271405\n",
      "[LightGBM] [Warning] No further splits with positive gain, best gain: -inf\n",
      "[65]\tvalid_0's binary_logloss: 0.269939\n",
      "[LightGBM] [Warning] No further splits with positive gain, best gain: -inf\n",
      "[66]\tvalid_0's binary_logloss: 0.269714\n",
      "[LightGBM] [Warning] No further splits with positive gain, best gain: -inf\n",
      "[67]\tvalid_0's binary_logloss: 0.269856\n",
      "[LightGBM] [Warning] No further splits with positive gain, best gain: -inf\n",
      "[68]\tvalid_0's binary_logloss: 0.269537\n",
      "[LightGBM] [Warning] No further splits with positive gain, best gain: -inf\n",
      "[69]\tvalid_0's binary_logloss: 0.269067\n",
      "[LightGBM] [Warning] No further splits with positive gain, best gain: -inf\n",
      "[70]\tvalid_0's binary_logloss: 0.267392\n",
      "[LightGBM] [Warning] No further splits with positive gain, best gain: -inf\n",
      "[71]\tvalid_0's binary_logloss: 0.266575\n"
     ]
    },
    {
     "name": "stdout",
     "output_type": "stream",
     "text": [
      "[LightGBM] [Warning] No further splits with positive gain, best gain: -inf\n",
      "[72]\tvalid_0's binary_logloss: 0.265923\n",
      "[LightGBM] [Warning] No further splits with positive gain, best gain: -inf\n",
      "[73]\tvalid_0's binary_logloss: 0.265949\n",
      "[LightGBM] [Warning] No further splits with positive gain, best gain: -inf\n",
      "[74]\tvalid_0's binary_logloss: 0.265136\n",
      "[LightGBM] [Warning] No further splits with positive gain, best gain: -inf\n",
      "[75]\tvalid_0's binary_logloss: 0.265047\n",
      "[LightGBM] [Warning] No further splits with positive gain, best gain: -inf\n",
      "[76]\tvalid_0's binary_logloss: 0.264965\n",
      "[LightGBM] [Warning] No further splits with positive gain, best gain: -inf\n",
      "[77]\tvalid_0's binary_logloss: 0.263027\n",
      "[LightGBM] [Warning] No further splits with positive gain, best gain: -inf\n",
      "[78]\tvalid_0's binary_logloss: 0.261616\n",
      "[LightGBM] [Warning] No further splits with positive gain, best gain: -inf\n",
      "[79]\tvalid_0's binary_logloss: 0.261177\n",
      "[LightGBM] [Warning] No further splits with positive gain, best gain: -inf\n",
      "[80]\tvalid_0's binary_logloss: 0.25998\n",
      "[LightGBM] [Warning] No further splits with positive gain, best gain: -inf\n",
      "[81]\tvalid_0's binary_logloss: 0.259435\n",
      "[LightGBM] [Warning] No further splits with positive gain, best gain: -inf\n",
      "[82]\tvalid_0's binary_logloss: 0.258981\n",
      "[LightGBM] [Warning] No further splits with positive gain, best gain: -inf\n",
      "[83]\tvalid_0's binary_logloss: 0.258187\n",
      "[LightGBM] [Warning] No further splits with positive gain, best gain: -inf\n",
      "[84]\tvalid_0's binary_logloss: 0.256957\n",
      "[LightGBM] [Warning] No further splits with positive gain, best gain: -inf\n",
      "[85]\tvalid_0's binary_logloss: 0.257195\n",
      "[LightGBM] [Warning] No further splits with positive gain, best gain: -inf\n",
      "[86]\tvalid_0's binary_logloss: 0.256686\n",
      "[LightGBM] [Warning] No further splits with positive gain, best gain: -inf\n",
      "[87]\tvalid_0's binary_logloss: 0.255734\n",
      "[LightGBM] [Warning] No further splits with positive gain, best gain: -inf\n",
      "[88]\tvalid_0's binary_logloss: 0.25605\n",
      "[LightGBM] [Warning] No further splits with positive gain, best gain: -inf\n",
      "[89]\tvalid_0's binary_logloss: 0.254977\n",
      "[LightGBM] [Warning] No further splits with positive gain, best gain: -inf\n",
      "[90]\tvalid_0's binary_logloss: 0.253627\n",
      "[LightGBM] [Warning] No further splits with positive gain, best gain: -inf\n",
      "[91]\tvalid_0's binary_logloss: 0.253754\n",
      "[LightGBM] [Warning] No further splits with positive gain, best gain: -inf\n",
      "[92]\tvalid_0's binary_logloss: 0.253573\n",
      "[LightGBM] [Warning] No further splits with positive gain, best gain: -inf\n",
      "[93]\tvalid_0's binary_logloss: 0.253547\n",
      "[LightGBM] [Warning] No further splits with positive gain, best gain: -inf\n",
      "[94]\tvalid_0's binary_logloss: 0.253378\n",
      "[LightGBM] [Warning] No further splits with positive gain, best gain: -inf\n",
      "[95]\tvalid_0's binary_logloss: 0.254118\n",
      "[LightGBM] [Warning] No further splits with positive gain, best gain: -inf\n",
      "[96]\tvalid_0's binary_logloss: 0.25297\n",
      "[LightGBM] [Warning] No further splits with positive gain, best gain: -inf\n",
      "[97]\tvalid_0's binary_logloss: 0.25329\n",
      "[LightGBM] [Warning] No further splits with positive gain, best gain: -inf\n",
      "[98]\tvalid_0's binary_logloss: 0.253621\n",
      "[LightGBM] [Warning] No further splits with positive gain, best gain: -inf\n",
      "[99]\tvalid_0's binary_logloss: 0.252792\n",
      "[LightGBM] [Warning] No further splits with positive gain, best gain: -inf\n",
      "[100]\tvalid_0's binary_logloss: 0.252785\n",
      "[LightGBM] [Warning] No further splits with positive gain, best gain: -inf\n",
      "[101]\tvalid_0's binary_logloss: 0.252592\n",
      "[LightGBM] [Warning] No further splits with positive gain, best gain: -inf\n",
      "[102]\tvalid_0's binary_logloss: 0.252524\n",
      "[LightGBM] [Warning] No further splits with positive gain, best gain: -inf\n",
      "[103]\tvalid_0's binary_logloss: 0.25298\n",
      "[LightGBM] [Warning] No further splits with positive gain, best gain: -inf\n",
      "[104]\tvalid_0's binary_logloss: 0.253134\n",
      "[LightGBM] [Warning] No further splits with positive gain, best gain: -inf\n",
      "[105]\tvalid_0's binary_logloss: 0.252787\n",
      "[LightGBM] [Warning] No further splits with positive gain, best gain: -inf\n",
      "[106]\tvalid_0's binary_logloss: 0.253134\n",
      "[LightGBM] [Warning] No further splits with positive gain, best gain: -inf\n",
      "[107]\tvalid_0's binary_logloss: 0.253886\n",
      "[LightGBM] [Warning] No further splits with positive gain, best gain: -inf\n",
      "[108]\tvalid_0's binary_logloss: 0.253647\n",
      "[LightGBM] [Warning] No further splits with positive gain, best gain: -inf\n",
      "[109]\tvalid_0's binary_logloss: 0.253607\n",
      "[LightGBM] [Warning] No further splits with positive gain, best gain: -inf\n",
      "[110]\tvalid_0's binary_logloss: 0.253798\n",
      "[LightGBM] [Warning] No further splits with positive gain, best gain: -inf\n",
      "[111]\tvalid_0's binary_logloss: 0.253995\n",
      "[LightGBM] [Warning] No further splits with positive gain, best gain: -inf\n",
      "[112]\tvalid_0's binary_logloss: 0.255041\n",
      "[LightGBM] [Warning] No further splits with positive gain, best gain: -inf\n",
      "[113]\tvalid_0's binary_logloss: 0.256143\n",
      "[LightGBM] [Warning] No further splits with positive gain, best gain: -inf\n",
      "[114]\tvalid_0's binary_logloss: 0.256193\n",
      "[LightGBM] [Warning] No further splits with positive gain, best gain: -inf\n",
      "[115]\tvalid_0's binary_logloss: 0.256648\n",
      "[LightGBM] [Warning] No further splits with positive gain, best gain: -inf\n",
      "[116]\tvalid_0's binary_logloss: 0.25563\n",
      "[LightGBM] [Warning] No further splits with positive gain, best gain: -inf\n",
      "[117]\tvalid_0's binary_logloss: 0.255074\n",
      "[LightGBM] [Warning] No further splits with positive gain, best gain: -inf\n",
      "[118]\tvalid_0's binary_logloss: 0.25465\n",
      "[LightGBM] [Warning] No further splits with positive gain, best gain: -inf\n",
      "[119]\tvalid_0's binary_logloss: 0.254164\n",
      "[LightGBM] [Warning] No further splits with positive gain, best gain: -inf\n",
      "[120]\tvalid_0's binary_logloss: 0.254282\n",
      "[LightGBM] [Warning] No further splits with positive gain, best gain: -inf\n",
      "[121]\tvalid_0's binary_logloss: 0.254971\n",
      "[LightGBM] [Warning] No further splits with positive gain, best gain: -inf\n",
      "[122]\tvalid_0's binary_logloss: 0.255723\n",
      "Early stopping, best iteration is:\n",
      "[102]\tvalid_0's binary_logloss: 0.252524\n"
     ]
    }
   ],
   "source": [
    "import lightgbm as lgb\n",
    "params = {\n",
    "    'boosting_type': 'gbdt',\n",
    "    'objective': 'binary',\n",
    "    'metric': 'binary_logloss',\n",
    "    'num_leaves': 10000,\n",
    "    'learning_rate': 0.05,\n",
    "    'feature_fraction': 0.9,\n",
    "    'bagging_fraction': 0.8,\n",
    "    'bagging_freq': 5,\n",
    "    'verbose': 0\n",
    "}\n",
    "\n",
    "lgb_train = lgb.Dataset(X_train, y_train)\n",
    "lgb_eval = lgb.Dataset(X_test, y_test, reference=lgb_train)\n",
    "\n",
    "gbm = lgb.train(params,\n",
    "                lgb_train,\n",
    "                num_boost_round=1000,\n",
    "                valid_sets=lgb_eval,\n",
    "                early_stopping_rounds=20)"
   ]
  },
  {
   "cell_type": "code",
   "execution_count": 62,
   "metadata": {},
   "outputs": [],
   "source": [
    "predictions = gbm.predict(test.iloc[:,1:], num_iteration=gbm.best_iteration)"
   ]
  },
  {
   "cell_type": "code",
   "execution_count": 63,
   "metadata": {},
   "outputs": [
    {
     "data": {
      "text/plain": [
       "array([0.01045207, 0.54181995, 0.97918386, ..., 0.99162269, 0.08592216,\n",
       "       0.24615946])"
      ]
     },
     "execution_count": 63,
     "metadata": {},
     "output_type": "execute_result"
    }
   ],
   "source": [
    "predictions"
   ]
  },
  {
   "cell_type": "code",
   "execution_count": 64,
   "metadata": {},
   "outputs": [],
   "source": [
    "def ftn(x):\n",
    "    if x>=0.5:\n",
    "        return 1\n",
    "    else:\n",
    "        return 0\n",
    "predictions = [ftn(x) for x in predictions]"
   ]
  },
  {
   "cell_type": "code",
   "execution_count": 65,
   "metadata": {},
   "outputs": [],
   "source": [
    "result =pd.DataFrame()\n",
    "\n",
    "result[\"Id\"] = test.iloc[:,0]\n",
    "\n",
    "result[\"predicted\"] = predictions\n",
    "\n",
    "result = result.set_index(\"Id\")\n",
    "\n",
    "result.to_csv(\"submission.csv\")"
   ]
  },
  {
   "cell_type": "code",
   "execution_count": 67,
   "metadata": {},
   "outputs": [
    {
     "data": {
      "text/html": [
       "<div>\n",
       "<style scoped>\n",
       "    .dataframe tbody tr th:only-of-type {\n",
       "        vertical-align: middle;\n",
       "    }\n",
       "\n",
       "    .dataframe tbody tr th {\n",
       "        vertical-align: top;\n",
       "    }\n",
       "\n",
       "    .dataframe thead th {\n",
       "        text-align: right;\n",
       "    }\n",
       "</style>\n",
       "<table border=\"1\" class=\"dataframe\">\n",
       "  <thead>\n",
       "    <tr style=\"text-align: right;\">\n",
       "      <th></th>\n",
       "      <th>age</th>\n",
       "      <th>blood_pressure</th>\n",
       "      <th>gender</th>\n",
       "      <th>blood_test</th>\n",
       "      <th>family_history</th>\n",
       "      <th>TestA</th>\n",
       "      <th>TestB</th>\n",
       "      <th>GeneC</th>\n",
       "      <th>GeneD</th>\n",
       "      <th>GeneE</th>\n",
       "      <th>GeneF</th>\n",
       "    </tr>\n",
       "  </thead>\n",
       "  <tbody>\n",
       "    <tr>\n",
       "      <th>1167</th>\n",
       "      <td>72</td>\n",
       "      <td>104.178442</td>\n",
       "      <td>0</td>\n",
       "      <td>0</td>\n",
       "      <td>0</td>\n",
       "      <td>8.128177</td>\n",
       "      <td>0.031841</td>\n",
       "      <td>0</td>\n",
       "      <td>1</td>\n",
       "      <td>1</td>\n",
       "      <td>1</td>\n",
       "    </tr>\n",
       "    <tr>\n",
       "      <th>6595</th>\n",
       "      <td>59</td>\n",
       "      <td>89.794172</td>\n",
       "      <td>0</td>\n",
       "      <td>0</td>\n",
       "      <td>-1</td>\n",
       "      <td>3.787263</td>\n",
       "      <td>0.033189</td>\n",
       "      <td>0</td>\n",
       "      <td>1</td>\n",
       "      <td>1</td>\n",
       "      <td>1</td>\n",
       "    </tr>\n",
       "    <tr>\n",
       "      <th>2688</th>\n",
       "      <td>60</td>\n",
       "      <td>109.017037</td>\n",
       "      <td>1</td>\n",
       "      <td>0</td>\n",
       "      <td>0</td>\n",
       "      <td>5.629395</td>\n",
       "      <td>0.004681</td>\n",
       "      <td>1</td>\n",
       "      <td>1</td>\n",
       "      <td>0</td>\n",
       "      <td>1</td>\n",
       "    </tr>\n",
       "    <tr>\n",
       "      <th>5631</th>\n",
       "      <td>60</td>\n",
       "      <td>94.118508</td>\n",
       "      <td>0</td>\n",
       "      <td>0</td>\n",
       "      <td>0</td>\n",
       "      <td>1.862399</td>\n",
       "      <td>0.028322</td>\n",
       "      <td>0</td>\n",
       "      <td>1</td>\n",
       "      <td>0</td>\n",
       "      <td>1</td>\n",
       "    </tr>\n",
       "    <tr>\n",
       "      <th>6236</th>\n",
       "      <td>55</td>\n",
       "      <td>85.029496</td>\n",
       "      <td>0</td>\n",
       "      <td>0</td>\n",
       "      <td>0</td>\n",
       "      <td>0.737072</td>\n",
       "      <td>0.006219</td>\n",
       "      <td>1</td>\n",
       "      <td>1</td>\n",
       "      <td>0</td>\n",
       "      <td>0</td>\n",
       "    </tr>\n",
       "    <tr>\n",
       "      <th>...</th>\n",
       "      <td>...</td>\n",
       "      <td>...</td>\n",
       "      <td>...</td>\n",
       "      <td>...</td>\n",
       "      <td>...</td>\n",
       "      <td>...</td>\n",
       "      <td>...</td>\n",
       "      <td>...</td>\n",
       "      <td>...</td>\n",
       "      <td>...</td>\n",
       "      <td>...</td>\n",
       "    </tr>\n",
       "    <tr>\n",
       "      <th>905</th>\n",
       "      <td>57</td>\n",
       "      <td>92.323169</td>\n",
       "      <td>0</td>\n",
       "      <td>1</td>\n",
       "      <td>0</td>\n",
       "      <td>3.320676</td>\n",
       "      <td>0.015909</td>\n",
       "      <td>0</td>\n",
       "      <td>0</td>\n",
       "      <td>0</td>\n",
       "      <td>0</td>\n",
       "    </tr>\n",
       "    <tr>\n",
       "      <th>5192</th>\n",
       "      <td>58</td>\n",
       "      <td>100.156229</td>\n",
       "      <td>1</td>\n",
       "      <td>0</td>\n",
       "      <td>-1</td>\n",
       "      <td>4.222863</td>\n",
       "      <td>0.052408</td>\n",
       "      <td>1</td>\n",
       "      <td>1</td>\n",
       "      <td>0</td>\n",
       "      <td>0</td>\n",
       "    </tr>\n",
       "    <tr>\n",
       "      <th>3980</th>\n",
       "      <td>63</td>\n",
       "      <td>92.940286</td>\n",
       "      <td>1</td>\n",
       "      <td>0</td>\n",
       "      <td>-1</td>\n",
       "      <td>5.817644</td>\n",
       "      <td>0.021791</td>\n",
       "      <td>0</td>\n",
       "      <td>0</td>\n",
       "      <td>0</td>\n",
       "      <td>1</td>\n",
       "    </tr>\n",
       "    <tr>\n",
       "      <th>235</th>\n",
       "      <td>60</td>\n",
       "      <td>94.898685</td>\n",
       "      <td>1</td>\n",
       "      <td>0</td>\n",
       "      <td>0</td>\n",
       "      <td>5.184291</td>\n",
       "      <td>0.293670</td>\n",
       "      <td>1</td>\n",
       "      <td>1</td>\n",
       "      <td>1</td>\n",
       "      <td>1</td>\n",
       "    </tr>\n",
       "    <tr>\n",
       "      <th>5157</th>\n",
       "      <td>65</td>\n",
       "      <td>118.506686</td>\n",
       "      <td>0</td>\n",
       "      <td>0</td>\n",
       "      <td>-1</td>\n",
       "      <td>5.987507</td>\n",
       "      <td>0.006776</td>\n",
       "      <td>0</td>\n",
       "      <td>1</td>\n",
       "      <td>0</td>\n",
       "      <td>1</td>\n",
       "    </tr>\n",
       "  </tbody>\n",
       "</table>\n",
       "<p>6750 rows × 11 columns</p>\n",
       "</div>"
      ],
      "text/plain": [
       "      age  blood_pressure  gender  blood_test  family_history     TestA  \\\n",
       "1167   72      104.178442       0           0               0  8.128177   \n",
       "6595   59       89.794172       0           0              -1  3.787263   \n",
       "2688   60      109.017037       1           0               0  5.629395   \n",
       "5631   60       94.118508       0           0               0  1.862399   \n",
       "6236   55       85.029496       0           0               0  0.737072   \n",
       "...   ...             ...     ...         ...             ...       ...   \n",
       "905    57       92.323169       0           1               0  3.320676   \n",
       "5192   58      100.156229       1           0              -1  4.222863   \n",
       "3980   63       92.940286       1           0              -1  5.817644   \n",
       "235    60       94.898685       1           0               0  5.184291   \n",
       "5157   65      118.506686       0           0              -1  5.987507   \n",
       "\n",
       "         TestB  GeneC  GeneD  GeneE  GeneF  \n",
       "1167  0.031841      0      1      1      1  \n",
       "6595  0.033189      0      1      1      1  \n",
       "2688  0.004681      1      1      0      1  \n",
       "5631  0.028322      0      1      0      1  \n",
       "6236  0.006219      1      1      0      0  \n",
       "...        ...    ...    ...    ...    ...  \n",
       "905   0.015909      0      0      0      0  \n",
       "5192  0.052408      1      1      0      0  \n",
       "3980  0.021791      0      0      0      1  \n",
       "235   0.293670      1      1      1      1  \n",
       "5157  0.006776      0      1      0      1  \n",
       "\n",
       "[6750 rows x 11 columns]"
      ]
     },
     "execution_count": 67,
     "metadata": {},
     "output_type": "execute_result"
    }
   ],
   "source": [
    "X_train"
   ]
  },
  {
   "cell_type": "code",
   "execution_count": null,
   "metadata": {},
   "outputs": [],
   "source": []
  },
  {
   "cell_type": "code",
   "execution_count": null,
   "metadata": {},
   "outputs": [],
   "source": []
  },
  {
   "cell_type": "code",
   "execution_count": 56,
   "metadata": {},
   "outputs": [
    {
     "name": "stdout",
     "output_type": "stream",
     "text": [
      "Checking whether there is an H2O instance running at http://localhost:54321 ..... not found.\n",
      "Attempting to start a local H2O server...\n",
      "  Java Version: openjdk version \"1.8.0_282\"; OpenJDK Runtime Environment (AdoptOpenJDK)(build 1.8.0_282-b08); OpenJDK 64-Bit Server VM (AdoptOpenJDK)(build 25.282-b08, mixed mode)\n",
      "  Starting server from /Users/jaeyoungkim/.local/lib/python3.7/site-packages/h2o/backend/bin/h2o.jar\n",
      "  Ice root: /var/folders/27/fcv785895zb4wczv3dzgn3gh0000gn/T/tmp7tf_e9va\n",
      "  JVM stdout: /var/folders/27/fcv785895zb4wczv3dzgn3gh0000gn/T/tmp7tf_e9va/h2o_jaeyoungkim_started_from_python.out\n",
      "  JVM stderr: /var/folders/27/fcv785895zb4wczv3dzgn3gh0000gn/T/tmp7tf_e9va/h2o_jaeyoungkim_started_from_python.err\n",
      "  Server is running at http://127.0.0.1:54321\n",
      "Connecting to H2O server at http://127.0.0.1:54321 ... successful.\n"
     ]
    },
    {
     "data": {
      "text/html": [
       "<div style=\"overflow:auto\"><table style=\"width:50%\"><tr><td>H2O_cluster_uptime:</td>\n",
       "<td>03 secs</td></tr>\n",
       "<tr><td>H2O_cluster_timezone:</td>\n",
       "<td>Asia/Seoul</td></tr>\n",
       "<tr><td>H2O_data_parsing_timezone:</td>\n",
       "<td>UTC</td></tr>\n",
       "<tr><td>H2O_cluster_version:</td>\n",
       "<td>3.32.0.4</td></tr>\n",
       "<tr><td>H2O_cluster_version_age:</td>\n",
       "<td>24 days </td></tr>\n",
       "<tr><td>H2O_cluster_name:</td>\n",
       "<td>H2O_from_python_jaeyoungkim_yzc4ga</td></tr>\n",
       "<tr><td>H2O_cluster_total_nodes:</td>\n",
       "<td>1</td></tr>\n",
       "<tr><td>H2O_cluster_free_memory:</td>\n",
       "<td>3.556 Gb</td></tr>\n",
       "<tr><td>H2O_cluster_total_cores:</td>\n",
       "<td>8</td></tr>\n",
       "<tr><td>H2O_cluster_allowed_cores:</td>\n",
       "<td>8</td></tr>\n",
       "<tr><td>H2O_cluster_status:</td>\n",
       "<td>accepting new members, healthy</td></tr>\n",
       "<tr><td>H2O_connection_url:</td>\n",
       "<td>http://127.0.0.1:54321</td></tr>\n",
       "<tr><td>H2O_connection_proxy:</td>\n",
       "<td>{\"http\": null, \"https\": null}</td></tr>\n",
       "<tr><td>H2O_internal_security:</td>\n",
       "<td>False</td></tr>\n",
       "<tr><td>H2O_API_Extensions:</td>\n",
       "<td>Amazon S3, XGBoost, Algos, AutoML, Core V3, TargetEncoder, Core V4</td></tr>\n",
       "<tr><td>Python_version:</td>\n",
       "<td>3.7.7 final</td></tr></table></div>"
      ],
      "text/plain": [
       "--------------------------  ------------------------------------------------------------------\n",
       "H2O_cluster_uptime:         03 secs\n",
       "H2O_cluster_timezone:       Asia/Seoul\n",
       "H2O_data_parsing_timezone:  UTC\n",
       "H2O_cluster_version:        3.32.0.4\n",
       "H2O_cluster_version_age:    24 days\n",
       "H2O_cluster_name:           H2O_from_python_jaeyoungkim_yzc4ga\n",
       "H2O_cluster_total_nodes:    1\n",
       "H2O_cluster_free_memory:    3.556 Gb\n",
       "H2O_cluster_total_cores:    8\n",
       "H2O_cluster_allowed_cores:  8\n",
       "H2O_cluster_status:         accepting new members, healthy\n",
       "H2O_connection_url:         http://127.0.0.1:54321\n",
       "H2O_connection_proxy:       {\"http\": null, \"https\": null}\n",
       "H2O_internal_security:      False\n",
       "H2O_API_Extensions:         Amazon S3, XGBoost, Algos, AutoML, Core V3, TargetEncoder, Core V4\n",
       "Python_version:             3.7.7 final\n",
       "--------------------------  ------------------------------------------------------------------"
      ]
     },
     "metadata": {},
     "output_type": "display_data"
    }
   ],
   "source": [
    "\n",
    "import h2o\n",
    "from h2o.automl import H2OAutoMLh2o.init()"
   ]
  },
  {
   "cell_type": "code",
   "execution_count": null,
   "metadata": {},
   "outputs": [],
   "source": [
    "# # Use local data file or download from GitHub\n",
    "# import os\n",
    "# docker_data_path = \"/home/h2o/data/automl/product_backorders.csv\"\n",
    "# if os.path.isfile(docker_data_path):\n",
    "#     data_path = docker_data_path\n",
    "# else:\n",
    "#     data_path = \"https://github.com/h2oai/h2o-tutorials/raw/master/h2o-world-2017/automl/data/product_backorders.csv\""
   ]
  },
  {
   "cell_type": "code",
   "execution_count": 63,
   "metadata": {},
   "outputs": [
    {
     "name": "stdout",
     "output_type": "stream",
     "text": [
      "Parse progress: |█████████████████████████████████████████████████████████| 100%\n"
     ]
    }
   ],
   "source": [
    "# Load data into H2O\n",
    "df = h2o.import_file(\"exercise.csv\")"
   ]
  },
  {
   "cell_type": "code",
   "execution_count": 64,
   "metadata": {},
   "outputs": [
    {
     "name": "stdout",
     "output_type": "stream",
     "text": [
      "Rows:7500\n",
      "Cols:13\n",
      "\n",
      "\n"
     ]
    },
    {
     "data": {
      "text/html": [
       "<table>\n",
       "<thead>\n",
       "<tr><th>       </th><th>C1                </th><th>treatment         </th><th>age              </th><th>blood_pressure    </th><th>gender             </th><th>blood_test         </th><th>family_history   </th><th>TestA              </th><th>TestB                </th><th>GeneC             </th><th>GeneD             </th><th>GeneE              </th><th>GeneF             </th></tr>\n",
       "</thead>\n",
       "<tbody>\n",
       "<tr><td>type   </td><td>int               </td><td>int               </td><td>int              </td><td>real              </td><td>int                </td><td>int                </td><td>int              </td><td>real               </td><td>real                 </td><td>int               </td><td>int               </td><td>int                </td><td>int               </td></tr>\n",
       "<tr><td>mins   </td><td>0.0               </td><td>0.0               </td><td>29.0             </td><td>80.09911354140809 </td><td>0.0                </td><td>0.0                </td><td>-1.0             </td><td>-11.699343936385878</td><td>8.867280077920975e-12</td><td>0.0               </td><td>0.0               </td><td>0.0                </td><td>0.0               </td></tr>\n",
       "<tr><td>mean   </td><td>3749.5            </td><td>0.5525333333333333</td><td>59.978           </td><td>102.05155824183768</td><td>0.3792             </td><td>0.08493333333333333</td><td>-0.634           </td><td>3.983447985872346  </td><td>0.0294085271122937   </td><td>0.4497333333333333</td><td>0.5494666666666667</td><td>0.5506666666666666 </td><td>0.5512            </td></tr>\n",
       "<tr><td>maxs   </td><td>7499.0            </td><td>1.0               </td><td>93.0             </td><td>157.47122574760553</td><td>1.0                </td><td>1.0                </td><td>1.0              </td><td>21.38641208569021  </td><td>0.5486647807612153   </td><td>1.0               </td><td>1.0               </td><td>1.0                </td><td>1.0               </td></tr>\n",
       "<tr><td>sigma  </td><td>2165.2078422174627</td><td>0.4972657424872296</td><td>8.100115076254564</td><td>13.217883677853413</td><td>0.48522031267618815</td><td>0.27880105133539035</td><td>0.500477169295728</td><td>4.1623431382848235 </td><td>0.04484435669986805  </td><td>0.4975000131229109</td><td>0.4975802049555469</td><td>0.49745942984341374</td><td>0.4974048132119627</td></tr>\n",
       "<tr><td>zeros  </td><td>1                 </td><td>3356              </td><td>0                </td><td>0                 </td><td>4656               </td><td>6863               </td><td>2607             </td><td>0                  </td><td>0                    </td><td>4127              </td><td>3379              </td><td>3370               </td><td>3366              </td></tr>\n",
       "<tr><td>missing</td><td>0                 </td><td>0                 </td><td>0                </td><td>0                 </td><td>0                  </td><td>0                  </td><td>0                </td><td>0                  </td><td>0                    </td><td>0                 </td><td>0                 </td><td>0                  </td><td>0                 </td></tr>\n",
       "<tr><td>0      </td><td>0.0               </td><td>0.0               </td><td>64.0             </td><td>103.8208093474858 </td><td>1.0                </td><td>0.0                </td><td>-1.0             </td><td>4.334376450662521  </td><td>0.10521830868268284  </td><td>0.0               </td><td>1.0               </td><td>1.0                </td><td>0.0               </td></tr>\n",
       "<tr><td>1      </td><td>1.0               </td><td>0.0               </td><td>52.0             </td><td>107.07136911578507</td><td>0.0                </td><td>0.0                </td><td>-1.0             </td><td>0.3618465795010217 </td><td>0.04537481472722     </td><td>1.0               </td><td>1.0               </td><td>0.0                </td><td>0.0               </td></tr>\n",
       "<tr><td>2      </td><td>2.0               </td><td>1.0               </td><td>55.0             </td><td>113.11612967856156</td><td>0.0                </td><td>1.0                </td><td>-1.0             </td><td>3.6118421272336696 </td><td>0.0051466523655637805</td><td>0.0               </td><td>0.0               </td><td>0.0                </td><td>1.0               </td></tr>\n",
       "<tr><td>3      </td><td>3.0               </td><td>0.0               </td><td>45.0             </td><td>83.76093238172776 </td><td>0.0                </td><td>0.0                </td><td>0.0              </td><td>-5.28253744951004  </td><td>0.05622628850352135  </td><td>1.0               </td><td>0.0               </td><td>0.0                </td><td>0.0               </td></tr>\n",
       "<tr><td>4      </td><td>4.0               </td><td>0.0               </td><td>58.0             </td><td>131.13593315158855</td><td>0.0                </td><td>0.0                </td><td>-1.0             </td><td>2.787207046451301  </td><td>0.03820838372242956  </td><td>0.0               </td><td>0.0               </td><td>1.0                </td><td>1.0               </td></tr>\n",
       "<tr><td>5      </td><td>5.0               </td><td>0.0               </td><td>73.0             </td><td>89.55941800943556 </td><td>0.0                </td><td>0.0                </td><td>-1.0             </td><td>9.377399377421986  </td><td>0.0007088225262294052</td><td>0.0               </td><td>1.0               </td><td>1.0                </td><td>1.0               </td></tr>\n",
       "<tr><td>6      </td><td>6.0               </td><td>0.0               </td><td>58.0             </td><td>102.09430037381703</td><td>1.0                </td><td>0.0                </td><td>-1.0             </td><td>3.2838888940871436 </td><td>0.04153674881680967  </td><td>0.0               </td><td>1.0               </td><td>0.0                </td><td>1.0               </td></tr>\n",
       "<tr><td>7      </td><td>7.0               </td><td>1.0               </td><td>61.0             </td><td>98.79602177271065 </td><td>1.0                </td><td>0.0                </td><td>0.0              </td><td>5.23744035456547   </td><td>0.002280454864254264 </td><td>1.0               </td><td>0.0               </td><td>0.0                </td><td>1.0               </td></tr>\n",
       "<tr><td>8      </td><td>8.0               </td><td>1.0               </td><td>55.0             </td><td>101.06996184530244</td><td>1.0                </td><td>0.0                </td><td>-1.0             </td><td>-0.5381295729102258</td><td>0.01217920155471974  </td><td>0.0               </td><td>1.0               </td><td>0.0                </td><td>1.0               </td></tr>\n",
       "<tr><td>9      </td><td>9.0               </td><td>1.0               </td><td>51.0             </td><td>95.95939794353625 </td><td>1.0                </td><td>0.0                </td><td>-1.0             </td><td>-0.7522215237519747</td><td>0.0001342128878281184</td><td>1.0               </td><td>1.0               </td><td>0.0                </td><td>1.0               </td></tr>\n",
       "</tbody>\n",
       "</table>"
      ]
     },
     "metadata": {},
     "output_type": "display_data"
    }
   ],
   "source": [
    "df.describe()"
   ]
  },
  {
   "cell_type": "code",
   "execution_count": 65,
   "metadata": {},
   "outputs": [],
   "source": [
    "\n",
    "y = \"treatment\"\n",
    "x = df.columns\n",
    "x.remove(y)\n",
    "# x.remove(\"sku\")"
   ]
  },
  {
   "cell_type": "code",
   "execution_count": 66,
   "metadata": {},
   "outputs": [
    {
     "name": "stdout",
     "output_type": "stream",
     "text": [
      "AutoML progress: |████████████████████████████████████████████████████████| 100%\n"
     ]
    }
   ],
   "source": [
    "aml = H2OAutoML(max_models = 10, seed = 1)\n",
    "aml.train(x = x, y = y, training_frame = df)"
   ]
  },
  {
   "cell_type": "code",
   "execution_count": 67,
   "metadata": {},
   "outputs": [],
   "source": [
    "lb = aml.leaderboard"
   ]
  },
  {
   "cell_type": "code",
   "execution_count": 68,
   "metadata": {},
   "outputs": [
    {
     "data": {
      "text/html": [
       "<table>\n",
       "<thead>\n",
       "<tr><th>model_id                                           </th><th style=\"text-align: right;\">  mean_residual_deviance</th><th style=\"text-align: right;\">    rmse</th><th style=\"text-align: right;\">      mse</th><th style=\"text-align: right;\">     mae</th><th style=\"text-align: right;\">   rmsle</th></tr>\n",
       "</thead>\n",
       "<tbody>\n",
       "<tr><td>StackedEnsemble_AllModels_AutoML_20210226_001534   </td><td style=\"text-align: right;\">               0.0792566</td><td style=\"text-align: right;\">0.281525</td><td style=\"text-align: right;\">0.0792566</td><td style=\"text-align: right;\">0.191054</td><td style=\"text-align: right;\">0.19825 </td></tr>\n",
       "<tr><td>StackedEnsemble_BestOfFamily_AutoML_20210226_001534</td><td style=\"text-align: right;\">               0.0799268</td><td style=\"text-align: right;\">0.282713</td><td style=\"text-align: right;\">0.0799268</td><td style=\"text-align: right;\">0.18835 </td><td style=\"text-align: right;\">0.198911</td></tr>\n",
       "<tr><td>GBM_3_AutoML_20210226_001534                       </td><td style=\"text-align: right;\">               0.0806908</td><td style=\"text-align: right;\">0.284061</td><td style=\"text-align: right;\">0.0806908</td><td style=\"text-align: right;\">0.195885</td><td style=\"text-align: right;\">0.20081 </td></tr>\n",
       "<tr><td>GBM_5_AutoML_20210226_001534                       </td><td style=\"text-align: right;\">               0.0820743</td><td style=\"text-align: right;\">0.286486</td><td style=\"text-align: right;\">0.0820743</td><td style=\"text-align: right;\">0.203103</td><td style=\"text-align: right;\">0.202331</td></tr>\n",
       "<tr><td>GBM_2_AutoML_20210226_001534                       </td><td style=\"text-align: right;\">               0.0825213</td><td style=\"text-align: right;\">0.287265</td><td style=\"text-align: right;\">0.0825213</td><td style=\"text-align: right;\">0.198284</td><td style=\"text-align: right;\">0.202206</td></tr>\n",
       "<tr><td>GBM_1_AutoML_20210226_001534                       </td><td style=\"text-align: right;\">               0.0830446</td><td style=\"text-align: right;\">0.288175</td><td style=\"text-align: right;\">0.0830446</td><td style=\"text-align: right;\">0.20021 </td><td style=\"text-align: right;\">0.203517</td></tr>\n",
       "<tr><td>GBM_4_AutoML_20210226_001534                       </td><td style=\"text-align: right;\">               0.0838084</td><td style=\"text-align: right;\">0.289497</td><td style=\"text-align: right;\">0.0838084</td><td style=\"text-align: right;\">0.197994</td><td style=\"text-align: right;\">0.204292</td></tr>\n",
       "<tr><td>DRF_1_AutoML_20210226_001534                       </td><td style=\"text-align: right;\">               0.0864405</td><td style=\"text-align: right;\">0.294008</td><td style=\"text-align: right;\">0.0864405</td><td style=\"text-align: right;\">0.189574</td><td style=\"text-align: right;\">0.206641</td></tr>\n",
       "<tr><td>XGBoost_3_AutoML_20210226_001534                   </td><td style=\"text-align: right;\">               0.0901842</td><td style=\"text-align: right;\">0.300307</td><td style=\"text-align: right;\">0.0901842</td><td style=\"text-align: right;\">0.219135</td><td style=\"text-align: right;\">0.212727</td></tr>\n",
       "<tr><td>XGBoost_1_AutoML_20210226_001534                   </td><td style=\"text-align: right;\">               0.0999686</td><td style=\"text-align: right;\">0.316178</td><td style=\"text-align: right;\">0.0999686</td><td style=\"text-align: right;\">0.22433 </td><td style=\"text-align: right;\">0.22401 </td></tr>\n",
       "</tbody>\n",
       "</table>"
      ]
     },
     "metadata": {},
     "output_type": "display_data"
    },
    {
     "data": {
      "text/plain": []
     },
     "execution_count": 68,
     "metadata": {},
     "output_type": "execute_result"
    }
   ],
   "source": [
    "lb.head()"
   ]
  },
  {
   "cell_type": "code",
   "execution_count": 69,
   "metadata": {},
   "outputs": [
    {
     "data": {
      "text/html": [
       "<table>\n",
       "<thead>\n",
       "<tr><th>model_id                                           </th><th style=\"text-align: right;\">  mean_residual_deviance</th><th style=\"text-align: right;\">    rmse</th><th style=\"text-align: right;\">      mse</th><th style=\"text-align: right;\">     mae</th><th style=\"text-align: right;\">     rmsle</th></tr>\n",
       "</thead>\n",
       "<tbody>\n",
       "<tr><td>StackedEnsemble_AllModels_AutoML_20210226_001534   </td><td style=\"text-align: right;\">               0.0792566</td><td style=\"text-align: right;\">0.281525</td><td style=\"text-align: right;\">0.0792566</td><td style=\"text-align: right;\">0.191054</td><td style=\"text-align: right;\">  0.19825 </td></tr>\n",
       "<tr><td>StackedEnsemble_BestOfFamily_AutoML_20210226_001534</td><td style=\"text-align: right;\">               0.0799268</td><td style=\"text-align: right;\">0.282713</td><td style=\"text-align: right;\">0.0799268</td><td style=\"text-align: right;\">0.18835 </td><td style=\"text-align: right;\">  0.198911</td></tr>\n",
       "<tr><td>GBM_3_AutoML_20210226_001534                       </td><td style=\"text-align: right;\">               0.0806908</td><td style=\"text-align: right;\">0.284061</td><td style=\"text-align: right;\">0.0806908</td><td style=\"text-align: right;\">0.195885</td><td style=\"text-align: right;\">  0.20081 </td></tr>\n",
       "<tr><td>GBM_5_AutoML_20210226_001534                       </td><td style=\"text-align: right;\">               0.0820743</td><td style=\"text-align: right;\">0.286486</td><td style=\"text-align: right;\">0.0820743</td><td style=\"text-align: right;\">0.203103</td><td style=\"text-align: right;\">  0.202331</td></tr>\n",
       "<tr><td>GBM_2_AutoML_20210226_001534                       </td><td style=\"text-align: right;\">               0.0825213</td><td style=\"text-align: right;\">0.287265</td><td style=\"text-align: right;\">0.0825213</td><td style=\"text-align: right;\">0.198284</td><td style=\"text-align: right;\">  0.202206</td></tr>\n",
       "<tr><td>GBM_1_AutoML_20210226_001534                       </td><td style=\"text-align: right;\">               0.0830446</td><td style=\"text-align: right;\">0.288175</td><td style=\"text-align: right;\">0.0830446</td><td style=\"text-align: right;\">0.20021 </td><td style=\"text-align: right;\">  0.203517</td></tr>\n",
       "<tr><td>GBM_4_AutoML_20210226_001534                       </td><td style=\"text-align: right;\">               0.0838084</td><td style=\"text-align: right;\">0.289497</td><td style=\"text-align: right;\">0.0838084</td><td style=\"text-align: right;\">0.197994</td><td style=\"text-align: right;\">  0.204292</td></tr>\n",
       "<tr><td>DRF_1_AutoML_20210226_001534                       </td><td style=\"text-align: right;\">               0.0864405</td><td style=\"text-align: right;\">0.294008</td><td style=\"text-align: right;\">0.0864405</td><td style=\"text-align: right;\">0.189574</td><td style=\"text-align: right;\">  0.206641</td></tr>\n",
       "<tr><td>XGBoost_3_AutoML_20210226_001534                   </td><td style=\"text-align: right;\">               0.0901842</td><td style=\"text-align: right;\">0.300307</td><td style=\"text-align: right;\">0.0901842</td><td style=\"text-align: right;\">0.219135</td><td style=\"text-align: right;\">  0.212727</td></tr>\n",
       "<tr><td>XGBoost_1_AutoML_20210226_001534                   </td><td style=\"text-align: right;\">               0.0999686</td><td style=\"text-align: right;\">0.316178</td><td style=\"text-align: right;\">0.0999686</td><td style=\"text-align: right;\">0.22433 </td><td style=\"text-align: right;\">  0.22401 </td></tr>\n",
       "<tr><td>XGBoost_2_AutoML_20210226_001534                   </td><td style=\"text-align: right;\">               0.108238 </td><td style=\"text-align: right;\">0.328996</td><td style=\"text-align: right;\">0.108238 </td><td style=\"text-align: right;\">0.236815</td><td style=\"text-align: right;\">  0.233646</td></tr>\n",
       "<tr><td>GLM_1_AutoML_20210226_001534                       </td><td style=\"text-align: right;\">               0.155145 </td><td style=\"text-align: right;\">0.393885</td><td style=\"text-align: right;\">0.155145 </td><td style=\"text-align: right;\">0.330627</td><td style=\"text-align: right;\">nan       </td></tr>\n",
       "</tbody>\n",
       "</table>"
      ]
     },
     "metadata": {},
     "output_type": "display_data"
    },
    {
     "data": {
      "text/plain": []
     },
     "execution_count": 69,
     "metadata": {},
     "output_type": "execute_result"
    }
   ],
   "source": [
    "lb.head(rows=lb.nrows)"
   ]
  },
  {
   "cell_type": "code",
   "execution_count": 70,
   "metadata": {},
   "outputs": [
    {
     "name": "stderr",
     "output_type": "stream",
     "text": [
      "/Users/jaeyoungkim/.local/lib/python3.7/site-packages/h2o/estimators/stackedensemble.py:821: H2ODeprecationWarning: The usage of stacked_ensemble.metalearner()['name'] will be deprecated. Metalearner now returns the metalearner object. If you need to get the 'name' please use stacked_ensemble.metalearner().model_id\n",
      "  H2ODeprecationWarning\n"
     ]
    }
   ],
   "source": [
    "# Get model ids for all models in the AutoML Leaderboard\n",
    "model_ids = list(aml.leaderboard['model_id'].as_data_frame().iloc[:,0])\n",
    "# Get the \"All Models\" Stacked Ensemble model\n",
    "se = h2o.get_model([mid for mid in model_ids if \"StackedEnsemble_AllModels\" in mid][0])\n",
    "# Get the Stacked Ensemble metalearner model\n",
    "metalearner = h2o.get_model(se.metalearner()['name'])"
   ]
  },
  {
   "cell_type": "code",
   "execution_count": 71,
   "metadata": {},
   "outputs": [
    {
     "data": {
      "text/plain": [
       "{'Intercept': 0.5525333333333334,\n",
       " 'GBM_3_AutoML_20210226_001534': 0.1606993092862077,\n",
       " 'GBM_5_AutoML_20210226_001534': 0.09402395883728289,\n",
       " 'GBM_2_AutoML_20210226_001534': 0.030251924278162968,\n",
       " 'GBM_1_AutoML_20210226_001534': 0.056002347189450734,\n",
       " 'GBM_4_AutoML_20210226_001534': 0.03676438227766428,\n",
       " 'DRF_1_AutoML_20210226_001534': 0.03084001777416907,\n",
       " 'XGBoost_3_AutoML_20210226_001534': 0.0,\n",
       " 'XGBoost_1_AutoML_20210226_001534': 0.004889666896224253,\n",
       " 'XGBoost_2_AutoML_20210226_001534': 0.0,\n",
       " 'GLM_1_AutoML_20210226_001534': 0.0}"
      ]
     },
     "execution_count": 71,
     "metadata": {},
     "output_type": "execute_result"
    }
   ],
   "source": [
    "metalearner.coef_norm()"
   ]
  },
  {
   "cell_type": "code",
   "execution_count": 72,
   "metadata": {},
   "outputs": [
    {
     "data": {
      "image/png": "[encoded data removed]",
      "text/plain": [
       "<Figure size 1008x720 with 1 Axes>"
      ]
     },
     "metadata": {
      "needs_background": "light"
     },
     "output_type": "display_data"
    }
   ],
   "source": [
    "\n",
    "%matplotlib inline\n",
    "metalearner.std_coef_plot()"
   ]
  },
  {
   "cell_type": "code",
   "execution_count": 73,
   "metadata": {},
   "outputs": [
    {
     "data": {
      "text/plain": [
       "'/Users/jaeyoungkim/Desktop/usc/DSCI - 552/hw2/code/product_backorders_model_bin/StackedEnsemble_AllModels_AutoML_20210226_001534'"
      ]
     },
     "execution_count": 73,
     "metadata": {},
     "output_type": "execute_result"
    }
   ],
   "source": [
    "h2o.save_model(aml.leader, path = \"./product_backorders_model_bin\")"
   ]
  },
  {
   "cell_type": "code",
   "execution_count": 74,
   "metadata": {},
   "outputs": [
    {
     "data": {
      "text/plain": [
       "'/Users/jaeyoungkim/Desktop/usc/DSCI - 552/hw2/code/StackedEnsemble_AllModels_AutoML_20210226_001534.zip'"
      ]
     },
     "execution_count": 74,
     "metadata": {},
     "output_type": "execute_result"
    }
   ],
   "source": [
    "aml.leader.download_mojo(path = \"./\")"
   ]
  },
  {
   "cell_type": "code",
   "execution_count": 75,
   "metadata": {},
   "outputs": [
    {
     "name": "stdout",
     "output_type": "stream",
     "text": [
      "Model Details\n",
      "=============\n",
      "H2OStackedEnsembleEstimator :  Stacked Ensemble\n",
      "Model Key:  StackedEnsemble_AllModels_AutoML_20210226_001534\n",
      "\n",
      "No model summary for this model\n",
      "\n",
      "ModelMetricsRegressionGLM: stackedensemble\n",
      "** Reported on train data. **\n",
      "\n",
      "MSE: 0.038942966478797796\n",
      "RMSE: 0.19733972351961426\n",
      "MAE: 0.13173401302103105\n",
      "RMSLE: 0.14071044271516095\n",
      "R^2: 0.842489373579708\n",
      "Mean Residual Deviance: 0.038942966478797796\n",
      "Null degrees of freedom: 7499\n",
      "Residual degrees of freedom: 7492\n",
      "Null deviance: 1854.3018666666628\n",
      "Residual deviance: 292.07224859098346\n",
      "AIC: -3040.350260776932\n",
      "\n",
      "ModelMetricsRegressionGLM: stackedensemble\n",
      "** Reported on cross-validation data. **\n",
      "\n",
      "MSE: 0.07925657529532551\n",
      "RMSE: 0.28152544342443636\n",
      "MAE: 0.19105359930478777\n",
      "RMSLE: 0.19824971450759046\n",
      "R^2: 0.679434980139727\n",
      "Mean Residual Deviance: 0.07925657529532551\n",
      "Null degrees of freedom: 7499\n",
      "Residual degrees of freedom: 7492\n",
      "Null deviance: 1854.7392333679504\n",
      "Residual deviance: 594.4243147149414\n",
      "AIC: 2289.0912432678633\n"
     ]
    },
    {
     "data": {
      "text/plain": []
     },
     "execution_count": 75,
     "metadata": {},
     "output_type": "execute_result"
    }
   ],
   "source": [
    "aml.leader.predict"
   ]
  },
  {
   "cell_type": "code",
   "execution_count": 77,
   "metadata": {},
   "outputs": [],
   "source": [
    "data.to_csv(\"train.csv\")\n",
    "test.to_csv(\"test.csv\")"
   ]
  },
  {
   "cell_type": "code",
   "execution_count": 130,
   "metadata": {},
   "outputs": [
    {
     "name": "stdout",
     "output_type": "stream",
     "text": [
      "Checking whether there is an H2O instance running at http://localhost:54321 . connected.\n"
     ]
    },
    {
     "data": {
      "text/html": [
       "<div style=\"overflow:auto\"><table style=\"width:50%\"><tr><td>H2O_cluster_uptime:</td>\n",
       "<td>43 mins 47 secs</td></tr>\n",
       "<tr><td>H2O_cluster_timezone:</td>\n",
       "<td>Asia/Seoul</td></tr>\n",
       "<tr><td>H2O_data_parsing_timezone:</td>\n",
       "<td>UTC</td></tr>\n",
       "<tr><td>H2O_cluster_version:</td>\n",
       "<td>3.32.0.4</td></tr>\n",
       "<tr><td>H2O_cluster_version_age:</td>\n",
       "<td>24 days </td></tr>\n",
       "<tr><td>H2O_cluster_name:</td>\n",
       "<td>H2O_from_python_jaeyoungkim_yzc4ga</td></tr>\n",
       "<tr><td>H2O_cluster_total_nodes:</td>\n",
       "<td>1</td></tr>\n",
       "<tr><td>H2O_cluster_free_memory:</td>\n",
       "<td>3.417 Gb</td></tr>\n",
       "<tr><td>H2O_cluster_total_cores:</td>\n",
       "<td>8</td></tr>\n",
       "<tr><td>H2O_cluster_allowed_cores:</td>\n",
       "<td>8</td></tr>\n",
       "<tr><td>H2O_cluster_status:</td>\n",
       "<td>locked, healthy</td></tr>\n",
       "<tr><td>H2O_connection_url:</td>\n",
       "<td>http://localhost:54321</td></tr>\n",
       "<tr><td>H2O_connection_proxy:</td>\n",
       "<td>{\"http\": null, \"https\": null}</td></tr>\n",
       "<tr><td>H2O_internal_security:</td>\n",
       "<td>False</td></tr>\n",
       "<tr><td>H2O_API_Extensions:</td>\n",
       "<td>Amazon S3, XGBoost, Algos, AutoML, Core V3, TargetEncoder, Core V4</td></tr>\n",
       "<tr><td>Python_version:</td>\n",
       "<td>3.7.7 final</td></tr></table></div>"
      ],
      "text/plain": [
       "--------------------------  ------------------------------------------------------------------\n",
       "H2O_cluster_uptime:         43 mins 47 secs\n",
       "H2O_cluster_timezone:       Asia/Seoul\n",
       "H2O_data_parsing_timezone:  UTC\n",
       "H2O_cluster_version:        3.32.0.4\n",
       "H2O_cluster_version_age:    24 days\n",
       "H2O_cluster_name:           H2O_from_python_jaeyoungkim_yzc4ga\n",
       "H2O_cluster_total_nodes:    1\n",
       "H2O_cluster_free_memory:    3.417 Gb\n",
       "H2O_cluster_total_cores:    8\n",
       "H2O_cluster_allowed_cores:  8\n",
       "H2O_cluster_status:         locked, healthy\n",
       "H2O_connection_url:         http://localhost:54321\n",
       "H2O_connection_proxy:       {\"http\": null, \"https\": null}\n",
       "H2O_internal_security:      False\n",
       "H2O_API_Extensions:         Amazon S3, XGBoost, Algos, AutoML, Core V3, TargetEncoder, Core V4\n",
       "Python_version:             3.7.7 final\n",
       "--------------------------  ------------------------------------------------------------------"
      ]
     },
     "metadata": {},
     "output_type": "display_data"
    },
    {
     "name": "stdout",
     "output_type": "stream",
     "text": [
      "Parse progress: |█████████████████████████████████████████████████████████| 100%\n"
     ]
    }
   ],
   "source": [
    "import h2o\n",
    "from h2o.automl import H2OAutoML\n",
    "\n",
    "h2o.init()\n",
    "\n",
    "\n",
    "# Import a sample binary outcome train/test set into H2O\n",
    "# train = h2o.import_file(\"train.csv\")\n",
    "# test = h2o.import_file(\"test.csv\")\n",
    "\n",
    "train = h2o.import_file(input_file_path+\"ps2_public.csv\")"
   ]
  },
  {
   "cell_type": "code",
   "execution_count": 129,
   "metadata": {},
   "outputs": [],
   "source": [
    "test = pd.read_csv(input_file_path+\"ps2_kaggle_predict.csv\")"
   ]
  },
  {
   "cell_type": "code",
   "execution_count": 123,
   "metadata": {},
   "outputs": [
    {
     "data": {
      "text/html": [
       "<div>\n",
       "<style scoped>\n",
       "    .dataframe tbody tr th:only-of-type {\n",
       "        vertical-align: middle;\n",
       "    }\n",
       "\n",
       "    .dataframe tbody tr th {\n",
       "        vertical-align: top;\n",
       "    }\n",
       "\n",
       "    .dataframe thead th {\n",
       "        text-align: right;\n",
       "    }\n",
       "</style>\n",
       "<table border=\"1\" class=\"dataframe\">\n",
       "  <thead>\n",
       "    <tr style=\"text-align: right;\">\n",
       "      <th></th>\n",
       "      <th>Id</th>\n",
       "      <th>age</th>\n",
       "      <th>blood_pressure</th>\n",
       "      <th>gender</th>\n",
       "      <th>blood_test</th>\n",
       "      <th>family_history</th>\n",
       "      <th>TestA</th>\n",
       "      <th>TestB</th>\n",
       "      <th>GeneC</th>\n",
       "      <th>GeneD</th>\n",
       "      <th>GeneE</th>\n",
       "      <th>GeneF</th>\n",
       "    </tr>\n",
       "  </thead>\n",
       "  <tbody>\n",
       "    <tr>\n",
       "      <th>0</th>\n",
       "      <td>0</td>\n",
       "      <td>53</td>\n",
       "      <td>115.102446</td>\n",
       "      <td>non-female</td>\n",
       "      <td>positive</td>\n",
       "      <td>False</td>\n",
       "      <td>-0.021825</td>\n",
       "      <td>-0.194379</td>\n",
       "      <td>active</td>\n",
       "      <td>1</td>\n",
       "      <td>0</td>\n",
       "      <td>1</td>\n",
       "    </tr>\n",
       "    <tr>\n",
       "      <th>1</th>\n",
       "      <td>1</td>\n",
       "      <td>64</td>\n",
       "      <td>128.260954</td>\n",
       "      <td>female</td>\n",
       "      <td>negative</td>\n",
       "      <td>False</td>\n",
       "      <td>7.678080</td>\n",
       "      <td>0.194778</td>\n",
       "      <td>not active</td>\n",
       "      <td>1</td>\n",
       "      <td>0</td>\n",
       "      <td>1</td>\n",
       "    </tr>\n",
       "    <tr>\n",
       "      <th>2</th>\n",
       "      <td>2</td>\n",
       "      <td>60</td>\n",
       "      <td>94.202505</td>\n",
       "      <td>female</td>\n",
       "      <td>negative</td>\n",
       "      <td>False</td>\n",
       "      <td>2.476105</td>\n",
       "      <td>-0.105892</td>\n",
       "      <td>active</td>\n",
       "      <td>1</td>\n",
       "      <td>0</td>\n",
       "      <td>0</td>\n",
       "    </tr>\n",
       "    <tr>\n",
       "      <th>3</th>\n",
       "      <td>3</td>\n",
       "      <td>61</td>\n",
       "      <td>101.630800</td>\n",
       "      <td>female</td>\n",
       "      <td>negative</td>\n",
       "      <td>False</td>\n",
       "      <td>3.497286</td>\n",
       "      <td>0.186162</td>\n",
       "      <td>not active</td>\n",
       "      <td>1</td>\n",
       "      <td>1</td>\n",
       "      <td>1</td>\n",
       "    </tr>\n",
       "    <tr>\n",
       "      <th>4</th>\n",
       "      <td>4</td>\n",
       "      <td>69</td>\n",
       "      <td>120.710802</td>\n",
       "      <td>non-female</td>\n",
       "      <td>negative</td>\n",
       "      <td>False</td>\n",
       "      <td>9.781353</td>\n",
       "      <td>-0.135467</td>\n",
       "      <td>active</td>\n",
       "      <td>1</td>\n",
       "      <td>1</td>\n",
       "      <td>1</td>\n",
       "    </tr>\n",
       "    <tr>\n",
       "      <th>...</th>\n",
       "      <td>...</td>\n",
       "      <td>...</td>\n",
       "      <td>...</td>\n",
       "      <td>...</td>\n",
       "      <td>...</td>\n",
       "      <td>...</td>\n",
       "      <td>...</td>\n",
       "      <td>...</td>\n",
       "      <td>...</td>\n",
       "      <td>...</td>\n",
       "      <td>...</td>\n",
       "      <td>...</td>\n",
       "    </tr>\n",
       "    <tr>\n",
       "      <th>7495</th>\n",
       "      <td>7495</td>\n",
       "      <td>46</td>\n",
       "      <td>110.536559</td>\n",
       "      <td>female</td>\n",
       "      <td>negative</td>\n",
       "      <td>False</td>\n",
       "      <td>-1.987730</td>\n",
       "      <td>-0.213866</td>\n",
       "      <td>not active</td>\n",
       "      <td>0</td>\n",
       "      <td>1</td>\n",
       "      <td>1</td>\n",
       "    </tr>\n",
       "    <tr>\n",
       "      <th>7496</th>\n",
       "      <td>7496</td>\n",
       "      <td>66</td>\n",
       "      <td>94.140814</td>\n",
       "      <td>female</td>\n",
       "      <td>negative</td>\n",
       "      <td>False</td>\n",
       "      <td>7.635846</td>\n",
       "      <td>0.043677</td>\n",
       "      <td>not active</td>\n",
       "      <td>0</td>\n",
       "      <td>1</td>\n",
       "      <td>0</td>\n",
       "    </tr>\n",
       "    <tr>\n",
       "      <th>7497</th>\n",
       "      <td>7497</td>\n",
       "      <td>56</td>\n",
       "      <td>100.499343</td>\n",
       "      <td>female</td>\n",
       "      <td>negative</td>\n",
       "      <td>False</td>\n",
       "      <td>1.861948</td>\n",
       "      <td>0.122588</td>\n",
       "      <td>not active</td>\n",
       "      <td>0</td>\n",
       "      <td>1</td>\n",
       "      <td>1</td>\n",
       "    </tr>\n",
       "    <tr>\n",
       "      <th>7498</th>\n",
       "      <td>7498</td>\n",
       "      <td>64</td>\n",
       "      <td>99.181979</td>\n",
       "      <td>female</td>\n",
       "      <td>negative</td>\n",
       "      <td>False</td>\n",
       "      <td>5.846495</td>\n",
       "      <td>-0.184827</td>\n",
       "      <td>active</td>\n",
       "      <td>1</td>\n",
       "      <td>0</td>\n",
       "      <td>1</td>\n",
       "    </tr>\n",
       "    <tr>\n",
       "      <th>7499</th>\n",
       "      <td>7499</td>\n",
       "      <td>65</td>\n",
       "      <td>125.596468</td>\n",
       "      <td>non-female</td>\n",
       "      <td>negative</td>\n",
       "      <td>False</td>\n",
       "      <td>6.791431</td>\n",
       "      <td>0.031048</td>\n",
       "      <td>not active</td>\n",
       "      <td>1</td>\n",
       "      <td>1</td>\n",
       "      <td>1</td>\n",
       "    </tr>\n",
       "  </tbody>\n",
       "</table>\n",
       "<p>7500 rows × 12 columns</p>\n",
       "</div>"
      ],
      "text/plain": [
       "        Id  age  blood_pressure      gender blood_test  family_history  \\\n",
       "0        0   53      115.102446  non-female   positive           False   \n",
       "1        1   64      128.260954      female   negative           False   \n",
       "2        2   60       94.202505      female   negative           False   \n",
       "3        3   61      101.630800      female   negative           False   \n",
       "4        4   69      120.710802  non-female   negative           False   \n",
       "...    ...  ...             ...         ...        ...             ...   \n",
       "7495  7495   46      110.536559      female   negative           False   \n",
       "7496  7496   66       94.140814      female   negative           False   \n",
       "7497  7497   56      100.499343      female   negative           False   \n",
       "7498  7498   64       99.181979      female   negative           False   \n",
       "7499  7499   65      125.596468  non-female   negative           False   \n",
       "\n",
       "         TestA     TestB       GeneC  GeneD  GeneE  GeneF  \n",
       "0    -0.021825 -0.194379      active      1      0      1  \n",
       "1     7.678080  0.194778  not active      1      0      1  \n",
       "2     2.476105 -0.105892      active      1      0      0  \n",
       "3     3.497286  0.186162  not active      1      1      1  \n",
       "4     9.781353 -0.135467      active      1      1      1  \n",
       "...        ...       ...         ...    ...    ...    ...  \n",
       "7495 -1.987730 -0.213866  not active      0      1      1  \n",
       "7496  7.635846  0.043677  not active      0      1      0  \n",
       "7497  1.861948  0.122588  not active      0      1      1  \n",
       "7498  5.846495 -0.184827      active      1      0      1  \n",
       "7499  6.791431  0.031048  not active      1      1      1  \n",
       "\n",
       "[7500 rows x 12 columns]"
      ]
     },
     "execution_count": 123,
     "metadata": {},
     "output_type": "execute_result"
    }
   ],
   "source": [
    "test"
   ]
  },
  {
   "cell_type": "code",
   "execution_count": 126,
   "metadata": {
    "scrolled": true
   },
   "outputs": [],
   "source": [
    "test.iloc[:,1:].to_csv(\"test1.csv\")"
   ]
  },
  {
   "cell_type": "code",
   "execution_count": 131,
   "metadata": {},
   "outputs": [
    {
     "name": "stdout",
     "output_type": "stream",
     "text": [
      "Parse progress: |█████████████████████████████████████████████████████████| 100%\n"
     ]
    }
   ],
   "source": [
    "test = h2o.import_file(\"test1.csv\")"
   ]
  },
  {
   "cell_type": "code",
   "execution_count": 115,
   "metadata": {},
   "outputs": [],
   "source": [
    "# Identify predictors and response\n",
    "x = train.columns\n",
    "y = \"treatment\"\n",
    "x.remove(y)"
   ]
  },
  {
   "cell_type": "code",
   "execution_count": 116,
   "metadata": {},
   "outputs": [],
   "source": [
    "# For binary classification, response should be a factor\n",
    "train[y] = train[y].asfactor()\n",
    "# test[y] = test[y].asfactor()"
   ]
  },
  {
   "cell_type": "code",
   "execution_count": 155,
   "metadata": {},
   "outputs": [
    {
     "name": "stdout",
     "output_type": "stream",
     "text": [
      "AutoML progress: |████████████████████████████████████████████████████████| 100%\n"
     ]
    }
   ],
   "source": [
    "# Run AutoML for 20 base models (limited to 1 hour max runtime by default)\n",
    "aml = H2OAutoML(max_models=20, seed=2)\n",
    "aml.train(x=x, y=y, training_frame=train)"
   ]
  },
  {
   "cell_type": "code",
   "execution_count": 156,
   "metadata": {},
   "outputs": [
    {
     "data": {
      "text/html": [
       "<table>\n",
       "<thead>\n",
       "<tr><th>model_id                                           </th><th style=\"text-align: right;\">  mean_residual_deviance</th><th style=\"text-align: right;\">    rmse</th><th style=\"text-align: right;\">      mse</th><th style=\"text-align: right;\">     mae</th><th style=\"text-align: right;\">     rmsle</th></tr>\n",
       "</thead>\n",
       "<tbody>\n",
       "<tr><td>StackedEnsemble_BestOfFamily_AutoML_20210226_010854</td><td style=\"text-align: right;\">               0.0717546</td><td style=\"text-align: right;\">0.26787 </td><td style=\"text-align: right;\">0.0717546</td><td style=\"text-align: right;\">0.162062</td><td style=\"text-align: right;\">  0.187906</td></tr>\n",
       "<tr><td>StackedEnsemble_AllModels_AutoML_20210226_010854   </td><td style=\"text-align: right;\">               0.0717551</td><td style=\"text-align: right;\">0.267871</td><td style=\"text-align: right;\">0.0717551</td><td style=\"text-align: right;\">0.16371 </td><td style=\"text-align: right;\">  0.188089</td></tr>\n",
       "<tr><td>DeepLearning_grid__2_AutoML_20210226_010854_model_1</td><td style=\"text-align: right;\">               0.0788601</td><td style=\"text-align: right;\">0.28082 </td><td style=\"text-align: right;\">0.0788601</td><td style=\"text-align: right;\">0.190818</td><td style=\"text-align: right;\">  0.193843</td></tr>\n",
       "<tr><td>GBM_2_AutoML_20210226_010854                       </td><td style=\"text-align: right;\">               0.0798043</td><td style=\"text-align: right;\">0.282497</td><td style=\"text-align: right;\">0.0798043</td><td style=\"text-align: right;\">0.193949</td><td style=\"text-align: right;\">  0.199431</td></tr>\n",
       "<tr><td>DRF_1_AutoML_20210226_010854                       </td><td style=\"text-align: right;\">               0.0809793</td><td style=\"text-align: right;\">0.284569</td><td style=\"text-align: right;\">0.0809793</td><td style=\"text-align: right;\">0.188429</td><td style=\"text-align: right;\">  0.200824</td></tr>\n",
       "<tr><td>GBM_4_AutoML_20210226_010854                       </td><td style=\"text-align: right;\">               0.0812826</td><td style=\"text-align: right;\">0.285101</td><td style=\"text-align: right;\">0.0812826</td><td style=\"text-align: right;\">0.191691</td><td style=\"text-align: right;\">  0.201292</td></tr>\n",
       "<tr><td>GBM_3_AutoML_20210226_010854                       </td><td style=\"text-align: right;\">               0.0832838</td><td style=\"text-align: right;\">0.288589</td><td style=\"text-align: right;\">0.0832838</td><td style=\"text-align: right;\">0.20021 </td><td style=\"text-align: right;\">  0.204207</td></tr>\n",
       "<tr><td>XGBoost_grid__1_AutoML_20210226_010854_model_4     </td><td style=\"text-align: right;\">               0.0842269</td><td style=\"text-align: right;\">0.290219</td><td style=\"text-align: right;\">0.0842269</td><td style=\"text-align: right;\">0.179148</td><td style=\"text-align: right;\">  0.204027</td></tr>\n",
       "<tr><td>GBM_1_AutoML_20210226_010854                       </td><td style=\"text-align: right;\">               0.0843317</td><td style=\"text-align: right;\">0.290399</td><td style=\"text-align: right;\">0.0843317</td><td style=\"text-align: right;\">0.20696 </td><td style=\"text-align: right;\">  0.205701</td></tr>\n",
       "<tr><td>GBM_grid__1_AutoML_20210226_010854_model_2         </td><td style=\"text-align: right;\">               0.0848215</td><td style=\"text-align: right;\">0.291241</td><td style=\"text-align: right;\">0.0848215</td><td style=\"text-align: right;\">0.211912</td><td style=\"text-align: right;\">  0.205086</td></tr>\n",
       "<tr><td>XGBoost_3_AutoML_20210226_010854                   </td><td style=\"text-align: right;\">               0.084911 </td><td style=\"text-align: right;\">0.291395</td><td style=\"text-align: right;\">0.084911 </td><td style=\"text-align: right;\">0.207492</td><td style=\"text-align: right;\">  0.207066</td></tr>\n",
       "<tr><td>GBM_5_AutoML_20210226_010854                       </td><td style=\"text-align: right;\">               0.0853465</td><td style=\"text-align: right;\">0.292141</td><td style=\"text-align: right;\">0.0853465</td><td style=\"text-align: right;\">0.215973</td><td style=\"text-align: right;\">  0.206742</td></tr>\n",
       "<tr><td>XGBoost_grid__1_AutoML_20210226_010854_model_3     </td><td style=\"text-align: right;\">               0.0865023</td><td style=\"text-align: right;\">0.294113</td><td style=\"text-align: right;\">0.0865023</td><td style=\"text-align: right;\">0.210625</td><td style=\"text-align: right;\">  0.208198</td></tr>\n",
       "<tr><td>XGBoost_grid__1_AutoML_20210226_010854_model_2     </td><td style=\"text-align: right;\">               0.0873747</td><td style=\"text-align: right;\">0.295592</td><td style=\"text-align: right;\">0.0873747</td><td style=\"text-align: right;\">0.197545</td><td style=\"text-align: right;\">  0.20867 </td></tr>\n",
       "<tr><td>GBM_grid__1_AutoML_20210226_010854_model_1         </td><td style=\"text-align: right;\">               0.0888862</td><td style=\"text-align: right;\">0.298138</td><td style=\"text-align: right;\">0.0888862</td><td style=\"text-align: right;\">0.217696</td><td style=\"text-align: right;\">  0.211513</td></tr>\n",
       "<tr><td>DeepLearning_1_AutoML_20210226_010854              </td><td style=\"text-align: right;\">               0.0901422</td><td style=\"text-align: right;\">0.300237</td><td style=\"text-align: right;\">0.0901422</td><td style=\"text-align: right;\">0.20707 </td><td style=\"text-align: right;\">  0.211253</td></tr>\n",
       "<tr><td>XGBoost_grid__1_AutoML_20210226_010854_model_1     </td><td style=\"text-align: right;\">               0.0913306</td><td style=\"text-align: right;\">0.30221 </td><td style=\"text-align: right;\">0.0913306</td><td style=\"text-align: right;\">0.198042</td><td style=\"text-align: right;\">  0.213521</td></tr>\n",
       "<tr><td>XGBoost_2_AutoML_20210226_010854                   </td><td style=\"text-align: right;\">               0.0961381</td><td style=\"text-align: right;\">0.310061</td><td style=\"text-align: right;\">0.0961381</td><td style=\"text-align: right;\">0.215122</td><td style=\"text-align: right;\">  0.220929</td></tr>\n",
       "<tr><td>XGBoost_1_AutoML_20210226_010854                   </td><td style=\"text-align: right;\">               0.101259 </td><td style=\"text-align: right;\">0.318212</td><td style=\"text-align: right;\">0.101259 </td><td style=\"text-align: right;\">0.227517</td><td style=\"text-align: right;\">  0.226639</td></tr>\n",
       "<tr><td>XRT_1_AutoML_20210226_010854                       </td><td style=\"text-align: right;\">               0.115563 </td><td style=\"text-align: right;\">0.339946</td><td style=\"text-align: right;\">0.115563 </td><td style=\"text-align: right;\">0.290888</td><td style=\"text-align: right;\">  0.242866</td></tr>\n",
       "<tr><td>DeepLearning_grid__1_AutoML_20210226_010854_model_1</td><td style=\"text-align: right;\">               0.127787 </td><td style=\"text-align: right;\">0.357473</td><td style=\"text-align: right;\">0.127787 </td><td style=\"text-align: right;\">0.259191</td><td style=\"text-align: right;\">nan       </td></tr>\n",
       "<tr><td>GLM_1_AutoML_20210226_010854                       </td><td style=\"text-align: right;\">               0.182749 </td><td style=\"text-align: right;\">0.427491</td><td style=\"text-align: right;\">0.182749 </td><td style=\"text-align: right;\">0.366704</td><td style=\"text-align: right;\">  0.29911 </td></tr>\n",
       "</tbody>\n",
       "</table>"
      ]
     },
     "metadata": {},
     "output_type": "display_data"
    },
    {
     "data": {
      "text/plain": []
     },
     "execution_count": 156,
     "metadata": {},
     "output_type": "execute_result"
    }
   ],
   "source": [
    "# View the AutoML Leaderboard\n",
    "lb = aml.leaderboard\n",
    "lb.head(rows=lb.nrows)  # Print all rows instead of default (10 rows)"
   ]
  },
  {
   "cell_type": "code",
   "execution_count": 161,
   "metadata": {},
   "outputs": [
    {
     "name": "stdout",
     "output_type": "stream",
     "text": [
      "Model Details\n",
      "=============\n",
      "H2OStackedEnsembleEstimator :  Stacked Ensemble\n",
      "Model Key:  StackedEnsemble_BestOfFamily_AutoML_20210226_010854\n",
      "\n",
      "No model summary for this model\n",
      "\n",
      "ModelMetricsRegressionGLM: stackedensemble\n",
      "** Reported on train data. **\n",
      "\n",
      "MSE: 0.039151899070221846\n",
      "RMSE: 0.19786838825396502\n",
      "MAE: 0.11444638306832418\n",
      "RMSLE: 0.13875784860863316\n",
      "R^2: 0.8416443146042256\n",
      "Mean Residual Deviance: 0.039151899070221846\n",
      "Null degrees of freedom: 7499\n",
      "Residual degrees of freedom: 7495\n",
      "Null deviance: 1854.301866666663\n",
      "Residual deviance: 293.63924302666385\n",
      "AIC: -3006.2196282873324\n",
      "\n",
      "ModelMetricsRegressionGLM: stackedensemble\n",
      "** Reported on cross-validation data. **\n",
      "\n",
      "MSE: 0.07175455955074916\n",
      "RMSE: 0.26787041559446084\n",
      "MAE: 0.16206198352264117\n",
      "RMSLE: 0.18790632460241294\n",
      "R^2: 0.7097779998474437\n",
      "Mean Residual Deviance: 0.07175455955074916\n",
      "Null degrees of freedom: 7499\n",
      "Residual degrees of freedom: 7495\n",
      "Null deviance: 1854.5023729795173\n",
      "Residual deviance: 538.1591966306187\n",
      "AIC: 1537.2989084512458\n"
     ]
    },
    {
     "data": {
      "text/plain": []
     },
     "execution_count": 161,
     "metadata": {},
     "output_type": "execute_result"
    }
   ],
   "source": [
    "\n",
    "aml.leader"
   ]
  },
  {
   "cell_type": "code",
   "execution_count": null,
   "metadata": {},
   "outputs": [],
   "source": []
  },
  {
   "cell_type": "code",
   "execution_count": null,
   "metadata": {},
   "outputs": [],
   "source": [
    "# To generate predictions on a test set, you can make predictions\n",
    "# directly on the `\"H2OAutoML\"` object or on the leader model\n",
    "# object directly\n",
    "preds = aml.predict(test)\n",
    "\n",
    "# or:\n",
    "preds = aml.leader.predict(test)"
   ]
  },
  {
   "cell_type": "code",
   "execution_count": 158,
   "metadata": {},
   "outputs": [],
   "source": [
    "## 앙상블\n",
    "\n",
    "# Get model ids for all models in the AutoML Leaderboard\n",
    "model_ids = list(aml.leaderboard['model_id'].as_data_frame().iloc[:,0])\n",
    "# Get the \"All Models\" Stacked Ensemble model\n",
    "se = h2o.get_model([mid for mid in model_ids if \"StackedEnsemble_AllModels\" in mid][0])\n",
    "# Get the Stacked Ensemble metalearner model\n",
    "metalearner = h2o.get_model(se.metalearner()['name'])"
   ]
  },
  {
   "cell_type": "code",
   "execution_count": 162,
   "metadata": {},
   "outputs": [
    {
     "name": "stdout",
     "output_type": "stream",
     "text": [
      "stackedensemble prediction progress: |████████████████████████████████████| 100%\n"
     ]
    }
   ],
   "source": [
    "preds = aml.leader.predict(test)"
   ]
  },
  {
   "cell_type": "code",
   "execution_count": 167,
   "metadata": {},
   "outputs": [
    {
     "name": "stdout",
     "output_type": "stream",
     "text": [
      "stackedensemble prediction progress: |████████████████████████████████████| 100%\n"
     ]
    }
   ],
   "source": [
    "preds = se.predict(test)"
   ]
  },
  {
   "cell_type": "code",
   "execution_count": 168,
   "metadata": {
    "scrolled": true
   },
   "outputs": [
    {
     "data": {
      "text/plain": [
       "0       0.121732\n",
       "1       0.457748\n",
       "2       0.931138\n",
       "3       0.193886\n",
       "4       0.041292\n",
       "          ...   \n",
       "7495    0.300308\n",
       "7496    0.909554\n",
       "7497    0.992855\n",
       "7498    0.301197\n",
       "7499    0.088618\n",
       "Name: predict, Length: 7500, dtype: float64"
      ]
     },
     "execution_count": 168,
     "metadata": {},
     "output_type": "execute_result"
    }
   ],
   "source": [
    "h2o.as_list(preds)[\"predict\"]"
   ]
  },
  {
   "cell_type": "code",
   "execution_count": 169,
   "metadata": {},
   "outputs": [
    {
     "data": {
      "text/plain": [
       "0       0.121732\n",
       "1       0.457748\n",
       "2       0.931138\n",
       "3       0.193886\n",
       "4       0.041292\n",
       "          ...   \n",
       "7495    0.300308\n",
       "7496    0.909554\n",
       "7497    0.992855\n",
       "7498    0.301197\n",
       "7499    0.088618\n",
       "Name: predict, Length: 7500, dtype: float64"
      ]
     },
     "execution_count": 169,
     "metadata": {},
     "output_type": "execute_result"
    }
   ],
   "source": [
    "h2o.as_list(preds)[\"predict\"]"
   ]
  },
  {
   "cell_type": "code",
   "execution_count": 170,
   "metadata": {},
   "outputs": [],
   "source": [
    "def ftn(x):\n",
    "    if x>=0.5:\n",
    "        return 1\n",
    "    else:\n",
    "        return 0\n",
    "predictions = [ftn(x) for x in h2o.as_list(preds)[\"predict\"]]"
   ]
  },
  {
   "cell_type": "code",
   "execution_count": 171,
   "metadata": {},
   "outputs": [],
   "source": [
    "a = pd.read_csv(input_file_path+\"ps2_kaggle_predict.csv\")\n",
    "\n",
    "result =pd.DataFrame()\n",
    "\n",
    "result[\"Id\"] = a.iloc[:,0]\n",
    "\n",
    "# result[\"predicted\"] = h2o.as_list(preds)[\"predict\"]\n",
    "result[\"predicted\"] = predictions\n",
    "\n",
    "result = result.set_index(\"Id\")\n",
    "\n",
    "result.to_csv(\"submission_automl.csv\")"
   ]
  },
  {
   "cell_type": "code",
   "execution_count": 104,
   "metadata": {},
   "outputs": [],
   "source": [
    "a = pd.read_csv(input_file_path+\"ps2_kaggle_predict.csv\")"
   ]
  },
  {
   "cell_type": "code",
   "execution_count": 105,
   "metadata": {},
   "outputs": [
    {
     "data": {
      "text/plain": [
       "0          0\n",
       "1          1\n",
       "2          2\n",
       "3          3\n",
       "4          4\n",
       "        ... \n",
       "7495    7495\n",
       "7496    7496\n",
       "7497    7497\n",
       "7498    7498\n",
       "7499    7499\n",
       "Name: Id, Length: 7500, dtype: int64"
      ]
     },
     "execution_count": 105,
     "metadata": {},
     "output_type": "execute_result"
    }
   ],
   "source": [
    "a.iloc[:,0]"
   ]
  },
  {
   "cell_type": "code",
   "execution_count": null,
   "metadata": {},
   "outputs": [],
   "source": []
  }
 ],
 "metadata": {
  "kernelspec": {
   "display_name": "Python 3",
   "language": "python",
   "name": "python3"
  },
  "language_info": {
   "codemirror_mode": {
    "name": "ipython",
    "version": 3
   },
   "file_extension": ".py",
   "mimetype": "text/x-python",
   "name": "python",
   "nbconvert_exporter": "python",
   "pygments_lexer": "ipython3",
   "version": "3.7.7"
  }
 },
 "nbformat": 4,
 "nbformat_minor": 4
}
