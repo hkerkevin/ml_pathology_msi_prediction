{
 "cells": [
  {
   "cell_type": "code",
   "execution_count": 67,
   "metadata": {},
   "outputs": [],
   "source": [
    "import pandas as pd\n",
    "import numpy as np\n",
    "import matplotlib.pyplot as plt\n",
    "%matplotlib inline\n",
    "from sklearn.decomposition import PCA\n",
    "from sklearn.neighbors import KNeighborsClassifier\n",
    "from sklearn.model_selection import train_test_split\n",
    "from sklearn.metrics import classification_report, confusion_matrix, roc_auc_score, roc_curve, auc, f1_score\n",
    "from imblearn.over_sampling import SMOTE\n",
    "from sklearn.linear_model import LogisticRegression\n",
    "from sklearn.linear_model import SGDClassifier\n",
    "import statsmodels.api as sm\n",
    "\n",
    "from mlxtend.evaluate import confusion_matrix\n",
    "from mlxtend.plotting import plot_confusion_matrix\n",
    "import seaborn as sns"
   ]
  },
  {
   "cell_type": "code",
   "execution_count": 68,
   "metadata": {},
   "outputs": [],
   "source": [
    "def get_auc_scores(clf, X_train, X_test, y_train, y_test):\n",
    "    '''Prints the AUC scores for training and testing data\n",
    "    and returns testing score'''\n",
    "\n",
    "    y_train_score = clf.predict_proba(X_train)[:, 1]\n",
    "    y_test_score = clf.predict_proba(X_test)[:, 1]\n",
    "    print('Training AUC:' , roc_auc_score(y_train, y_train_score))\n",
    "    print('Testing AUC: ', roc_auc_score(y_test, y_test_score))\n",
    "    \n",
    "    return y_test_score\n",
    "\n",
    "\n",
    "\n",
    "def plot_roc_curve(y_test, y_test_score):\n",
    "    '''Plot ROC curve for testing data'''\n",
    "    fpr, tpr, _ = roc_curve(y_test, y_test_score)\n",
    "    roc_auc = auc(fpr, tpr)\n",
    "    plt.figure()\n",
    "    plt.plot(fpr, tpr, label='ROC curve (area = %0.2f)' % roc_auc)\n",
    "#     plt.plot([0, 1], [0, 1], 'k — ')\n",
    "    plt.xlim([0.0, 1.0])\n",
    "    plt.ylim([0.0, 1.05])\n",
    "    plt.xlabel('False Positive Rate')\n",
    "    plt.ylabel('True Positive Rate')\n",
    "    plt.title('Receiver operating characteristic')\n",
    "    plt.legend(loc='lower right')\n",
    "    plt.show()\n",
    "\n",
    "#https://medium.com/swlh/how-to-code-and-evaluate-of-decision-trees-2d94093b3c1a"
   ]
  },
  {
   "cell_type": "code",
   "execution_count": 69,
   "metadata": {},
   "outputs": [],
   "source": [
    "path = pd.read_csv(\"../Data/cleansed_final.csv\")"
   ]
  },
  {
   "cell_type": "code",
   "execution_count": 71,
   "metadata": {},
   "outputs": [],
   "source": [
    "final = path[[\"MSI\",\"Under50\",\"TILS\", \"Stage12\", \"Signet\", \"RightSide\",\"NoNecrosis\", \"Mucin\", \"ModDiff\", \"HistHet\", \"Female\", \"Expansile\", \"CrohnMissing\", \"Crohn\", \"AngioLymph\"]]"
   ]
  },
  {
   "cell_type": "code",
   "execution_count": 72,
   "metadata": {},
   "outputs": [],
   "source": [
    "# dont use NoNecrosis; turn the feature handling around"
   ]
  },
  {
   "cell_type": "code",
   "execution_count": 73,
   "metadata": {
    "scrolled": true
   },
   "outputs": [
    {
     "data": {
      "text/plain": [
       "0    1603\n",
       "1     307\n",
       "Name: MSI, dtype: int64"
      ]
     },
     "execution_count": 73,
     "metadata": {},
     "output_type": "execute_result"
    }
   ],
   "source": [
    "final[\"MSI\"].value_counts()"
   ]
  },
  {
   "cell_type": "code",
   "execution_count": 74,
   "metadata": {},
   "outputs": [],
   "source": [
    "## fix random seed\n",
    "import random\n",
    "random.seed(1)"
   ]
  },
  {
   "cell_type": "code",
   "execution_count": 75,
   "metadata": {},
   "outputs": [],
   "source": [
    "X = final.drop(\"MSI\", axis=1)"
   ]
  },
  {
   "cell_type": "code",
   "execution_count": 76,
   "metadata": {},
   "outputs": [],
   "source": [
    "y = final[\"MSI\"]"
   ]
  },
  {
   "cell_type": "code",
   "execution_count": 77,
   "metadata": {},
   "outputs": [],
   "source": [
    "## train test val\n",
    "## 81 : 9 : 10\n",
    "X_train, X_test, y_train, y_test = train_test_split(\n",
    "    X, y, test_size=0.1, random_state=1)\n",
    "\n",
    "X_train, X_val, y_train, y_val = train_test_split(\n",
    "    X_train, y_train, test_size=0.1, random_state=1)"
   ]
  },
  {
   "cell_type": "code",
   "execution_count": 78,
   "metadata": {},
   "outputs": [],
   "source": [
    "# X_train, X_test, y_train, y_test = train_test_split(X,y ,test_size=.3, random_state=1)"
   ]
  },
  {
   "cell_type": "code",
   "execution_count": 79,
   "metadata": {},
   "outputs": [],
   "source": [
    "## use smote to deal with imbalanced data by oversampling\n",
    "oversample = SMOTE(random_state = 170)\n",
    "X_smote, y_smote = oversample.fit_resample(X_train, y_train)"
   ]
  },
  {
   "cell_type": "code",
   "execution_count": 40,
   "metadata": {},
   "outputs": [],
   "source": [
    "def forward_feature_selection(x_train, x_cv, y_train, y_cv):\n",
    "    '''\n",
    "    Forward feature selction based on AIC and pvalue\n",
    "    Filter pval <0.05 on univariate analysis\n",
    "    Then get features which made lower aic then before adding the feature\n",
    "    '''\n",
    "    x_train[\"intercept\"] = 1\n",
    "    x_cv[\"intercept\"] = 1\n",
    "\n",
    "    feature_list_with_good_pval = []\n",
    "    for feature in x_train.columns:\n",
    "        if feature != \"intercept\":\n",
    "            model = sm.Logit(y_train, x_train[[\"intercept\", feature]]).fit()\n",
    "#             print(feature)\n",
    "#             print(\"Pvalue : \",model.pvalues[feature])\n",
    "            if model.pvalues[feature]<=0.05:\n",
    "                feature_list_with_good_pval.append(feature)\n",
    "            \n",
    "    \n",
    "    feature_set = [\"intercept\"]\n",
    "    for num_features in range(len(feature_list_with_good_pval)):\n",
    "        metric_list = [] # Choose appropriate metric based on business problem\n",
    "        for feature in feature_list_with_good_pval:\n",
    "            old_aic = sm.Logit(y_train, x_train[feature_set]).fit().aic\n",
    "            if feature not in feature_set:\n",
    "                f_set = feature_set.copy()\n",
    "                f_set.append(feature)\n",
    "                model = sm.Logit(y_train, x_train[f_set]).fit()\n",
    "                if old_aic>model.aic:\n",
    "                    metric_list.append((model.aic,feature))\n",
    "        metric_list.sort(key=lambda x : x[0], reverse = False) # In case metric follows “the more, the merrier”\n",
    "        print(metric_list)\n",
    "        try:\n",
    "            feature_set.append(metric_list[0][1])\n",
    "        except:\n",
    "            break\n",
    "    return feature_set"
   ]
  },
  {
   "cell_type": "code",
   "execution_count": 41,
   "metadata": {
    "scrolled": true
   },
   "outputs": [
    {
     "name": "stdout",
     "output_type": "stream",
     "text": [
      "Optimization terminated successfully.\n",
      "         Current function value: 0.690649\n",
      "         Iterations 4\n",
      "Optimization terminated successfully.\n",
      "         Current function value: 0.654919\n",
      "         Iterations 4\n",
      "Optimization terminated successfully.\n",
      "         Current function value: 0.691687\n",
      "         Iterations 3\n",
      "Optimization terminated successfully.\n",
      "         Current function value: 0.692387\n",
      "         Iterations 4\n",
      "Optimization terminated successfully.\n",
      "         Current function value: 0.669849\n",
      "         Iterations 4\n",
      "Optimization terminated successfully.\n",
      "         Current function value: 0.671644\n",
      "         Iterations 5\n",
      "Optimization terminated successfully.\n",
      "         Current function value: 0.676853\n",
      "         Iterations 4\n",
      "Optimization terminated successfully.\n",
      "         Current function value: 0.656129\n",
      "         Iterations 5\n",
      "Optimization terminated successfully.\n",
      "         Current function value: 0.692103\n",
      "         Iterations 4\n",
      "Optimization terminated successfully.\n",
      "         Current function value: 0.686442\n",
      "         Iterations 4\n",
      "Optimization terminated successfully.\n",
      "         Current function value: 0.683629\n",
      "         Iterations 4\n",
      "Optimization terminated successfully.\n",
      "         Current function value: 0.693104\n",
      "         Iterations 3\n",
      "Optimization terminated successfully.\n",
      "         Current function value: 0.690897\n",
      "         Iterations 3\n",
      "Optimization terminated successfully.\n",
      "         Current function value: 0.690473\n",
      "         Iterations 4\n",
      "Optimization terminated successfully.\n",
      "         Current function value: 0.693147\n",
      "         Iterations 1\n",
      "Optimization terminated successfully.\n",
      "         Current function value: 0.690649\n",
      "         Iterations 4\n",
      "Optimization terminated successfully.\n",
      "         Current function value: 0.693147\n",
      "         Iterations 1\n",
      "Optimization terminated successfully.\n",
      "         Current function value: 0.654919\n",
      "         Iterations 4\n",
      "Optimization terminated successfully.\n",
      "         Current function value: 0.693147\n",
      "         Iterations 1\n",
      "Optimization terminated successfully.\n",
      "         Current function value: 0.691687\n",
      "         Iterations 3\n",
      "Optimization terminated successfully.\n",
      "         Current function value: 0.693147\n",
      "         Iterations 1\n",
      "Optimization terminated successfully.\n",
      "         Current function value: 0.669849\n",
      "         Iterations 4\n",
      "Optimization terminated successfully.\n",
      "         Current function value: 0.693147\n",
      "         Iterations 1\n",
      "Optimization terminated successfully.\n",
      "         Current function value: 0.671644\n",
      "         Iterations 5\n",
      "Optimization terminated successfully.\n",
      "         Current function value: 0.693147\n",
      "         Iterations 1\n",
      "Optimization terminated successfully.\n",
      "         Current function value: 0.676853\n",
      "         Iterations 4\n",
      "Optimization terminated successfully.\n",
      "         Current function value: 0.693147\n",
      "         Iterations 1\n",
      "Optimization terminated successfully.\n",
      "         Current function value: 0.656129\n",
      "         Iterations 5\n",
      "Optimization terminated successfully.\n",
      "         Current function value: 0.693147\n",
      "         Iterations 1\n",
      "Optimization terminated successfully.\n",
      "         Current function value: 0.692103\n",
      "         Iterations 4\n",
      "Optimization terminated successfully.\n",
      "         Current function value: 0.693147\n",
      "         Iterations 1\n",
      "Optimization terminated successfully.\n",
      "         Current function value: 0.686442\n",
      "         Iterations 4\n",
      "Optimization terminated successfully.\n",
      "         Current function value: 0.693147\n",
      "         Iterations 1\n",
      "Optimization terminated successfully.\n",
      "         Current function value: 0.683629\n",
      "         Iterations 4\n",
      "Optimization terminated successfully.\n",
      "         Current function value: 0.693147\n",
      "         Iterations 1\n",
      "Optimization terminated successfully.\n",
      "         Current function value: 0.690897\n",
      "         Iterations 3\n",
      "Optimization terminated successfully.\n",
      "         Current function value: 0.693147\n",
      "         Iterations 1\n",
      "Optimization terminated successfully.\n",
      "         Current function value: 0.690473\n",
      "         Iterations 4\n",
      "[(3401.7200077202388, 'TILS'), (3407.9961768398935, 'ModDiff'), (3479.1765137968546, 'RightSide'), (3488.4873224989124, 'NoNecrosis'), (3515.514112509205, 'Mucin'), (3550.6685213438886, 'Expansile'), (3565.263299361608, 'Female'), (3586.175152750712, 'AngioLymph'), (3587.087523201417, 'Under50'), (3588.374987379922, 'Crohn'), (3592.4736388418223, 'Stage12'), (3594.628300814794, 'HistHet')]\n",
      "Optimization terminated successfully.\n",
      "         Current function value: 0.654919\n",
      "         Iterations 4\n",
      "Optimization terminated successfully.\n",
      "         Current function value: 0.653733\n",
      "         Iterations 5\n",
      "Optimization terminated successfully.\n",
      "         Current function value: 0.654919\n",
      "         Iterations 4\n",
      "Optimization terminated successfully.\n",
      "         Current function value: 0.654919\n",
      "         Iterations 4\n",
      "Optimization terminated successfully.\n",
      "         Current function value: 0.654873\n",
      "         Iterations 4\n",
      "Optimization terminated successfully.\n",
      "         Current function value: 0.654919\n",
      "         Iterations 4\n",
      "Optimization terminated successfully.\n",
      "         Current function value: 0.643715\n",
      "         Iterations 5\n",
      "Optimization terminated successfully.\n",
      "         Current function value: 0.654919\n",
      "         Iterations 4\n",
      "Optimization terminated successfully.\n",
      "         Current function value: 0.641536\n",
      "         Iterations 5\n",
      "Optimization terminated successfully.\n",
      "         Current function value: 0.654919\n",
      "         Iterations 4\n",
      "Optimization terminated successfully.\n",
      "         Current function value: 0.648149\n",
      "         Iterations 5\n",
      "Optimization terminated successfully.\n",
      "         Current function value: 0.654919\n",
      "         Iterations 4\n",
      "Optimization terminated successfully.\n",
      "         Current function value: 0.636641\n",
      "         Iterations 5\n",
      "Optimization terminated successfully.\n",
      "         Current function value: 0.654919\n",
      "         Iterations 4\n",
      "Optimization terminated successfully.\n",
      "         Current function value: 0.654850\n",
      "         Iterations 4\n",
      "Optimization terminated successfully.\n",
      "         Current function value: 0.654919\n",
      "         Iterations 4\n",
      "Optimization terminated successfully.\n",
      "         Current function value: 0.648934\n",
      "         Iterations 5\n",
      "Optimization terminated successfully.\n",
      "         Current function value: 0.654919\n",
      "         Iterations 4\n",
      "Optimization terminated successfully.\n",
      "         Current function value: 0.653543\n",
      "         Iterations 4\n",
      "Optimization terminated successfully.\n",
      "         Current function value: 0.654919\n",
      "         Iterations 4\n",
      "Optimization terminated successfully.\n",
      "         Current function value: 0.654599\n",
      "         Iterations 4\n",
      "Optimization terminated successfully.\n",
      "         Current function value: 0.654919\n",
      "         Iterations 4\n",
      "Optimization terminated successfully.\n",
      "         Current function value: 0.654677\n",
      "         Iterations 4\n",
      "[(3308.895848001318, 'ModDiff'), (3334.2905816796447, 'NoNecrosis'), (3345.591208481889, 'RightSide'), (3368.59547070417, 'Mucin'), (3372.667570731604, 'Female'), (3396.580135616328, 'Expansile'), (3397.5654922385766, 'Under50')]\n",
      "Optimization terminated successfully.\n",
      "         Current function value: 0.636641\n",
      "         Iterations 5\n",
      "Optimization terminated successfully.\n",
      "         Current function value: 0.635654\n",
      "         Iterations 5\n",
      "Optimization terminated successfully.\n",
      "         Current function value: 0.636641\n",
      "         Iterations 5\n",
      "Optimization terminated successfully.\n",
      "         Current function value: 0.636641\n",
      "         Iterations 5\n",
      "Optimization terminated successfully.\n",
      "         Current function value: 0.636435\n",
      "         Iterations 5\n",
      "Optimization terminated successfully.\n",
      "         Current function value: 0.636641\n",
      "         Iterations 5\n",
      "Optimization terminated successfully.\n",
      "         Current function value: 0.629685\n",
      "         Iterations 5\n",
      "Optimization terminated successfully.\n",
      "         Current function value: 0.636641\n",
      "         Iterations 5\n",
      "Optimization terminated successfully.\n",
      "         Current function value: 0.632734\n",
      "         Iterations 5\n",
      "Optimization terminated successfully.\n",
      "         Current function value: 0.636641\n",
      "         Iterations 5\n",
      "Optimization terminated successfully.\n",
      "         Current function value: 0.635014\n",
      "         Iterations 5\n",
      "Optimization terminated successfully.\n",
      "         Current function value: 0.636641\n",
      "         Iterations 5\n",
      "Optimization terminated successfully.\n",
      "         Current function value: 0.636641\n",
      "         Iterations 5\n",
      "Optimization terminated successfully.\n",
      "         Current function value: 0.636371\n",
      "         Iterations 5\n",
      "Optimization terminated successfully.\n",
      "         Current function value: 0.636641\n",
      "         Iterations 5\n",
      "Optimization terminated successfully.\n",
      "         Current function value: 0.631563\n",
      "         Iterations 5\n",
      "Optimization terminated successfully.\n",
      "         Current function value: 0.636641\n",
      "         Iterations 5\n",
      "Optimization terminated successfully.\n",
      "         Current function value: 0.636001\n",
      "         Iterations 5\n",
      "Optimization terminated successfully.\n",
      "         Current function value: 0.636641\n",
      "         Iterations 5\n",
      "Optimization terminated successfully.\n",
      "         Current function value: 0.636491\n",
      "         Iterations 5\n",
      "Optimization terminated successfully.\n",
      "         Current function value: 0.636641\n",
      "         Iterations 5\n",
      "Optimization terminated successfully.\n",
      "         Current function value: 0.636124\n",
      "         Iterations 5\n",
      "[(3274.8081793239344, 'RightSide'), (3284.546837234293, 'Female'), (3290.6239553597215, 'NoNecrosis'), (3302.452662826414, 'Mucin'), (3305.7712703370007, 'Under50'), (3307.5744269852084, 'Expansile'), (3308.213637734103, 'AngioLymph')]\n",
      "Optimization terminated successfully.\n",
      "         Current function value: 0.629685\n",
      "         Iterations 5\n",
      "Optimization terminated successfully.\n",
      "         Current function value: 0.628731\n",
      "         Iterations 5\n",
      "Optimization terminated successfully.\n",
      "         Current function value: 0.629685\n",
      "         Iterations 5\n",
      "Optimization terminated successfully.\n",
      "         Current function value: 0.629685\n",
      "         Iterations 5\n",
      "Optimization terminated successfully.\n",
      "         Current function value: 0.629628\n",
      "         Iterations 5\n",
      "Optimization terminated successfully.\n",
      "         Current function value: 0.629685\n",
      "         Iterations 5\n",
      "Optimization terminated successfully.\n",
      "         Current function value: 0.629685\n",
      "         Iterations 5\n",
      "Optimization terminated successfully.\n",
      "         Current function value: 0.626347\n",
      "         Iterations 5\n",
      "Optimization terminated successfully.\n",
      "         Current function value: 0.629685\n",
      "         Iterations 5\n",
      "Optimization terminated successfully.\n",
      "         Current function value: 0.628941\n",
      "         Iterations 5\n",
      "Optimization terminated successfully.\n",
      "         Current function value: 0.629685\n",
      "         Iterations 5\n",
      "Optimization terminated successfully.\n",
      "         Current function value: 0.629685\n",
      "         Iterations 5\n",
      "Optimization terminated successfully.\n",
      "         Current function value: 0.628932\n",
      "         Iterations 5\n",
      "Optimization terminated successfully.\n",
      "         Current function value: 0.629685\n",
      "         Iterations 5\n",
      "Optimization terminated successfully.\n",
      "         Current function value: 0.625962\n",
      "         Iterations 5\n",
      "Optimization terminated successfully.\n",
      "         Current function value: 0.629685\n",
      "         Iterations 5\n",
      "Optimization terminated successfully.\n",
      "         Current function value: 0.629398\n",
      "         Iterations 5\n",
      "Optimization terminated successfully.\n",
      "         Current function value: 0.629685\n",
      "         Iterations 5\n",
      "Optimization terminated successfully.\n",
      "         Current function value: 0.629670\n",
      "         Iterations 5\n",
      "Optimization terminated successfully.\n",
      "         Current function value: 0.629685\n",
      "         Iterations 5\n",
      "Optimization terminated successfully.\n",
      "         Current function value: 0.629342\n",
      "         Iterations 5\n",
      "[(3257.4895334334215, 'Female'), (3259.486982995453, 'NoNecrosis'), (3271.8572509116066, 'Under50'), (3272.897060112622, 'HistHet'), (3272.9437421168877, 'Mucin')]\n",
      "Optimization terminated successfully.\n",
      "         Current function value: 0.625962\n",
      "         Iterations 5\n",
      "Optimization terminated successfully.\n",
      "         Current function value: 0.624787\n",
      "         Iterations 5\n",
      "Optimization terminated successfully.\n",
      "         Current function value: 0.625962\n",
      "         Iterations 5\n",
      "Optimization terminated successfully.\n",
      "         Current function value: 0.625962\n",
      "         Iterations 5\n",
      "Optimization terminated successfully.\n",
      "         Current function value: 0.625931\n",
      "         Iterations 5\n",
      "Optimization terminated successfully.\n",
      "         Current function value: 0.625962\n",
      "         Iterations 5\n",
      "Optimization terminated successfully.\n",
      "         Current function value: 0.625962\n",
      "         Iterations 5\n",
      "Optimization terminated successfully.\n",
      "         Current function value: 0.622787\n",
      "         Iterations 5\n",
      "Optimization terminated successfully.\n",
      "         Current function value: 0.625962\n",
      "         Iterations 5\n"
     ]
    },
    {
     "name": "stdout",
     "output_type": "stream",
     "text": [
      "Optimization terminated successfully.\n",
      "         Current function value: 0.625408\n",
      "         Iterations 5\n",
      "Optimization terminated successfully.\n",
      "         Current function value: 0.625962\n",
      "         Iterations 5\n",
      "Optimization terminated successfully.\n",
      "         Current function value: 0.625962\n",
      "         Iterations 5\n",
      "Optimization terminated successfully.\n",
      "         Current function value: 0.625118\n",
      "         Iterations 5\n",
      "Optimization terminated successfully.\n",
      "         Current function value: 0.625962\n",
      "         Iterations 5\n",
      "Optimization terminated successfully.\n",
      "         Current function value: 0.625962\n",
      "         Iterations 5\n",
      "Optimization terminated successfully.\n",
      "         Current function value: 0.625648\n",
      "         Iterations 5\n",
      "Optimization terminated successfully.\n",
      "         Current function value: 0.625962\n",
      "         Iterations 5\n",
      "Optimization terminated successfully.\n",
      "         Current function value: 0.625936\n",
      "         Iterations 5\n",
      "Optimization terminated successfully.\n",
      "         Current function value: 0.625962\n",
      "         Iterations 5\n",
      "Optimization terminated successfully.\n",
      "         Current function value: 0.625663\n",
      "         Iterations 5\n",
      "[(3243.018292777919, 'NoNecrosis'), (3253.395631881689, 'Under50'), (3255.1147403948985, 'HistHet'), (3256.6147955456845, 'Mucin')]\n",
      "Optimization terminated successfully.\n",
      "         Current function value: 0.622787\n",
      "         Iterations 5\n",
      "Optimization terminated successfully.\n",
      "         Current function value: 0.621470\n",
      "         Iterations 5\n",
      "Optimization terminated successfully.\n",
      "         Current function value: 0.622787\n",
      "         Iterations 5\n",
      "Optimization terminated successfully.\n",
      "         Current function value: 0.622787\n",
      "         Iterations 5\n",
      "Optimization terminated successfully.\n",
      "         Current function value: 0.622763\n",
      "         Iterations 5\n",
      "Optimization terminated successfully.\n",
      "         Current function value: 0.622787\n",
      "         Iterations 5\n",
      "Optimization terminated successfully.\n",
      "         Current function value: 0.622787\n",
      "         Iterations 5\n",
      "Optimization terminated successfully.\n",
      "         Current function value: 0.622787\n",
      "         Iterations 5\n",
      "Optimization terminated successfully.\n",
      "         Current function value: 0.622723\n",
      "         Iterations 5\n",
      "Optimization terminated successfully.\n",
      "         Current function value: 0.622787\n",
      "         Iterations 5\n",
      "Optimization terminated successfully.\n",
      "         Current function value: 0.622787\n",
      "         Iterations 5\n",
      "Optimization terminated successfully.\n",
      "         Current function value: 0.621679\n",
      "         Iterations 5\n",
      "Optimization terminated successfully.\n",
      "         Current function value: 0.622787\n",
      "         Iterations 5\n",
      "Optimization terminated successfully.\n",
      "         Current function value: 0.622787\n",
      "         Iterations 5\n",
      "Optimization terminated successfully.\n",
      "         Current function value: 0.622570\n",
      "         Iterations 5\n",
      "Optimization terminated successfully.\n",
      "         Current function value: 0.622787\n",
      "         Iterations 5\n",
      "Optimization terminated successfully.\n",
      "         Current function value: 0.622780\n",
      "         Iterations 5\n",
      "Optimization terminated successfully.\n",
      "         Current function value: 0.622787\n",
      "         Iterations 5\n",
      "Optimization terminated successfully.\n",
      "         Current function value: 0.622419\n",
      "         Iterations 5\n",
      "[(3238.1880524817657, 'Under50'), (3239.2691808240206, 'HistHet')]\n",
      "Optimization terminated successfully.\n",
      "         Current function value: 0.621470\n",
      "         Iterations 5\n",
      "Optimization terminated successfully.\n",
      "         Current function value: 0.621470\n",
      "         Iterations 5\n",
      "Optimization terminated successfully.\n",
      "         Current function value: 0.621470\n",
      "         Iterations 5\n",
      "Optimization terminated successfully.\n",
      "         Current function value: 0.621455\n",
      "         Iterations 5\n",
      "Optimization terminated successfully.\n",
      "         Current function value: 0.621470\n",
      "         Iterations 5\n",
      "Optimization terminated successfully.\n",
      "         Current function value: 0.621470\n",
      "         Iterations 5\n",
      "Optimization terminated successfully.\n",
      "         Current function value: 0.621470\n",
      "         Iterations 5\n",
      "Optimization terminated successfully.\n",
      "         Current function value: 0.621408\n",
      "         Iterations 5\n",
      "Optimization terminated successfully.\n",
      "         Current function value: 0.621470\n",
      "         Iterations 5\n",
      "Optimization terminated successfully.\n",
      "         Current function value: 0.621470\n",
      "         Iterations 5\n",
      "Optimization terminated successfully.\n",
      "         Current function value: 0.620388\n",
      "         Iterations 5\n",
      "Optimization terminated successfully.\n",
      "         Current function value: 0.621470\n",
      "         Iterations 5\n",
      "Optimization terminated successfully.\n",
      "         Current function value: 0.621470\n",
      "         Iterations 5\n",
      "Optimization terminated successfully.\n",
      "         Current function value: 0.621328\n",
      "         Iterations 5\n",
      "Optimization terminated successfully.\n",
      "         Current function value: 0.621470\n",
      "         Iterations 5\n",
      "Optimization terminated successfully.\n",
      "         Current function value: 0.621454\n",
      "         Iterations 5\n",
      "Optimization terminated successfully.\n",
      "         Current function value: 0.621470\n",
      "         Iterations 5\n",
      "Optimization terminated successfully.\n",
      "         Current function value: 0.621148\n",
      "         Iterations 5\n",
      "[(3234.5725210751225, 'HistHet')]\n",
      "Optimization terminated successfully.\n",
      "         Current function value: 0.620388\n",
      "         Iterations 5\n",
      "Optimization terminated successfully.\n",
      "         Current function value: 0.620388\n",
      "         Iterations 5\n",
      "Optimization terminated successfully.\n",
      "         Current function value: 0.620388\n",
      "         Iterations 5\n",
      "Optimization terminated successfully.\n",
      "         Current function value: 0.620388\n",
      "         Iterations 5\n",
      "Optimization terminated successfully.\n",
      "         Current function value: 0.620388\n",
      "         Iterations 5\n",
      "Optimization terminated successfully.\n",
      "         Current function value: 0.620388\n",
      "         Iterations 5\n",
      "Optimization terminated successfully.\n",
      "         Current function value: 0.620388\n",
      "         Iterations 5\n",
      "Optimization terminated successfully.\n",
      "         Current function value: 0.620147\n",
      "         Iterations 5\n",
      "Optimization terminated successfully.\n",
      "         Current function value: 0.620388\n",
      "         Iterations 5\n",
      "Optimization terminated successfully.\n",
      "         Current function value: 0.620388\n",
      "         Iterations 5\n",
      "Optimization terminated successfully.\n",
      "         Current function value: 0.620388\n",
      "         Iterations 5\n",
      "Optimization terminated successfully.\n",
      "         Current function value: 0.620388\n",
      "         Iterations 5\n",
      "Optimization terminated successfully.\n",
      "         Current function value: 0.620284\n",
      "         Iterations 5\n",
      "Optimization terminated successfully.\n",
      "         Current function value: 0.620388\n",
      "         Iterations 5\n",
      "Optimization terminated successfully.\n",
      "         Current function value: 0.620348\n",
      "         Iterations 5\n",
      "Optimization terminated successfully.\n",
      "         Current function value: 0.620388\n",
      "         Iterations 5\n",
      "Optimization terminated successfully.\n",
      "         Current function value: 0.620217\n",
      "         Iterations 5\n",
      "[]\n"
     ]
    }
   ],
   "source": [
    "forward_selected_feature_list = forward_feature_selection(X_smote, X_val, y_smote, y_val)"
   ]
  },
  {
   "cell_type": "code",
   "execution_count": 42,
   "metadata": {},
   "outputs": [
    {
     "data": {
      "text/plain": [
       "['intercept',\n",
       " 'TILS',\n",
       " 'ModDiff',\n",
       " 'RightSide',\n",
       " 'Female',\n",
       " 'NoNecrosis',\n",
       " 'Under50',\n",
       " 'HistHet']"
      ]
     },
     "execution_count": 42,
     "metadata": {},
     "output_type": "execute_result"
    }
   ],
   "source": [
    "## forward selected features\n",
    "forward_selected_feature_list "
   ]
  },
  {
   "cell_type": "code",
   "execution_count": 80,
   "metadata": {},
   "outputs": [
    {
     "name": "stdout",
     "output_type": "stream",
     "text": [
      "Optimization terminated successfully.\n",
      "         Current function value: 0.632207\n",
      "         Iterations 5\n"
     ]
    },
    {
     "data": {
      "text/html": [
       "<table class=\"simpletable\">\n",
       "<caption>Logit Regression Results</caption>\n",
       "<tr>\n",
       "  <th>Dep. Variable:</th>          <td>MSI</td>       <th>  No. Observations:  </th>  <td>  2594</td>  \n",
       "</tr>\n",
       "<tr>\n",
       "  <th>Model:</th>                 <td>Logit</td>      <th>  Df Residuals:      </th>  <td>  2580</td>  \n",
       "</tr>\n",
       "<tr>\n",
       "  <th>Method:</th>                 <td>MLE</td>       <th>  Df Model:          </th>  <td>    13</td>  \n",
       "</tr>\n",
       "<tr>\n",
       "  <th>Date:</th>            <td>Thu, 01 Apr 2021</td> <th>  Pseudo R-squ.:     </th>  <td>0.08792</td> \n",
       "</tr>\n",
       "<tr>\n",
       "  <th>Time:</th>                <td>11:23:51</td>     <th>  Log-Likelihood:    </th> <td> -1639.9</td> \n",
       "</tr>\n",
       "<tr>\n",
       "  <th>converged:</th>             <td>True</td>       <th>  LL-Null:           </th> <td> -1798.0</td> \n",
       "</tr>\n",
       "<tr>\n",
       "  <th>Covariance Type:</th>     <td>nonrobust</td>    <th>  LLR p-value:       </th> <td>9.944e-60</td>\n",
       "</tr>\n",
       "</table>\n",
       "<table class=\"simpletable\">\n",
       "<tr>\n",
       "        <td></td>          <th>coef</th>     <th>std err</th>      <th>z</th>      <th>P>|z|</th>  <th>[0.025</th>    <th>0.975]</th>  \n",
       "</tr>\n",
       "<tr>\n",
       "  <th>Under50</th>      <td>   -0.6638</td> <td>    0.192</td> <td>   -3.460</td> <td> 0.001</td> <td>   -1.040</td> <td>   -0.288</td>\n",
       "</tr>\n",
       "<tr>\n",
       "  <th>TILS</th>         <td>    0.7135</td> <td>    0.097</td> <td>    7.392</td> <td> 0.000</td> <td>    0.524</td> <td>    0.903</td>\n",
       "</tr>\n",
       "<tr>\n",
       "  <th>Stage12</th>      <td>   -0.3638</td> <td>    0.087</td> <td>   -4.169</td> <td> 0.000</td> <td>   -0.535</td> <td>   -0.193</td>\n",
       "</tr>\n",
       "<tr>\n",
       "  <th>Signet</th>       <td>   -0.1353</td> <td>    0.309</td> <td>   -0.438</td> <td> 0.662</td> <td>   -0.741</td> <td>    0.471</td>\n",
       "</tr>\n",
       "<tr>\n",
       "  <th>RightSide</th>    <td>    0.3861</td> <td>    0.091</td> <td>    4.257</td> <td> 0.000</td> <td>    0.208</td> <td>    0.564</td>\n",
       "</tr>\n",
       "<tr>\n",
       "  <th>NoNecrosis</th>   <td>    0.4513</td> <td>    0.121</td> <td>    3.732</td> <td> 0.000</td> <td>    0.214</td> <td>    0.688</td>\n",
       "</tr>\n",
       "<tr>\n",
       "  <th>Mucin</th>        <td>    0.1487</td> <td>    0.113</td> <td>    1.316</td> <td> 0.188</td> <td>   -0.073</td> <td>    0.370</td>\n",
       "</tr>\n",
       "<tr>\n",
       "  <th>ModDiff</th>      <td>    0.5840</td> <td>    0.109</td> <td>    5.348</td> <td> 0.000</td> <td>    0.370</td> <td>    0.798</td>\n",
       "</tr>\n",
       "<tr>\n",
       "  <th>HistHet</th>      <td>   -0.3822</td> <td>    0.161</td> <td>   -2.367</td> <td> 0.018</td> <td>   -0.699</td> <td>   -0.066</td>\n",
       "</tr>\n",
       "<tr>\n",
       "  <th>Female</th>       <td>    0.1577</td> <td>    0.080</td> <td>    1.960</td> <td> 0.050</td> <td> 3.76e-05</td> <td>    0.315</td>\n",
       "</tr>\n",
       "<tr>\n",
       "  <th>Expansile</th>    <td>   -0.3164</td> <td>    0.094</td> <td>   -3.371</td> <td> 0.001</td> <td>   -0.500</td> <td>   -0.132</td>\n",
       "</tr>\n",
       "<tr>\n",
       "  <th>CrohnMissing</th> <td>   -0.3308</td> <td>    0.120</td> <td>   -2.756</td> <td> 0.006</td> <td>   -0.566</td> <td>   -0.096</td>\n",
       "</tr>\n",
       "<tr>\n",
       "  <th>Crohn</th>        <td>   -0.1866</td> <td>    0.093</td> <td>   -2.005</td> <td> 0.045</td> <td>   -0.369</td> <td>   -0.004</td>\n",
       "</tr>\n",
       "<tr>\n",
       "  <th>AngioLymph</th>   <td>   -0.5957</td> <td>    0.118</td> <td>   -5.048</td> <td> 0.000</td> <td>   -0.827</td> <td>   -0.364</td>\n",
       "</tr>\n",
       "</table>"
      ],
      "text/plain": [
       "<class 'statsmodels.iolib.summary.Summary'>\n",
       "\"\"\"\n",
       "                           Logit Regression Results                           \n",
       "==============================================================================\n",
       "Dep. Variable:                    MSI   No. Observations:                 2594\n",
       "Model:                          Logit   Df Residuals:                     2580\n",
       "Method:                           MLE   Df Model:                           13\n",
       "Date:                Thu, 01 Apr 2021   Pseudo R-squ.:                 0.08792\n",
       "Time:                        11:23:51   Log-Likelihood:                -1639.9\n",
       "converged:                       True   LL-Null:                       -1798.0\n",
       "Covariance Type:            nonrobust   LLR p-value:                 9.944e-60\n",
       "================================================================================\n",
       "                   coef    std err          z      P>|z|      [0.025      0.975]\n",
       "--------------------------------------------------------------------------------\n",
       "Under50         -0.6638      0.192     -3.460      0.001      -1.040      -0.288\n",
       "TILS             0.7135      0.097      7.392      0.000       0.524       0.903\n",
       "Stage12         -0.3638      0.087     -4.169      0.000      -0.535      -0.193\n",
       "Signet          -0.1353      0.309     -0.438      0.662      -0.741       0.471\n",
       "RightSide        0.3861      0.091      4.257      0.000       0.208       0.564\n",
       "NoNecrosis       0.4513      0.121      3.732      0.000       0.214       0.688\n",
       "Mucin            0.1487      0.113      1.316      0.188      -0.073       0.370\n",
       "ModDiff          0.5840      0.109      5.348      0.000       0.370       0.798\n",
       "HistHet         -0.3822      0.161     -2.367      0.018      -0.699      -0.066\n",
       "Female           0.1577      0.080      1.960      0.050    3.76e-05       0.315\n",
       "Expansile       -0.3164      0.094     -3.371      0.001      -0.500      -0.132\n",
       "CrohnMissing    -0.3308      0.120     -2.756      0.006      -0.566      -0.096\n",
       "Crohn           -0.1866      0.093     -2.005      0.045      -0.369      -0.004\n",
       "AngioLymph      -0.5957      0.118     -5.048      0.000      -0.827      -0.364\n",
       "================================================================================\n",
       "\"\"\""
      ]
     },
     "execution_count": 80,
     "metadata": {},
     "output_type": "execute_result"
    }
   ],
   "source": [
    "# regressor = sm.Logit(y_smote, X_smote)\n",
    "model = sm.Logit(y_smote ,X_smote[forward_selected_feature_list]).fit()\n",
    "model.summary()\n"
   ]
  },
  {
   "cell_type": "code",
   "execution_count": null,
   "metadata": {},
   "outputs": [],
   "source": []
  },
  {
   "cell_type": "code",
   "execution_count": 44,
   "metadata": {},
   "outputs": [
    {
     "data": {
      "text/plain": [
       "'intercept'"
      ]
     },
     "execution_count": 44,
     "metadata": {},
     "output_type": "execute_result"
    }
   ],
   "source": [
    "forward_selected_feature_list.pop(0)"
   ]
  },
  {
   "cell_type": "code",
   "execution_count": 45,
   "metadata": {},
   "outputs": [
    {
     "data": {
      "text/plain": [
       "['TILS', 'ModDiff', 'RightSide', 'Female', 'NoNecrosis', 'Under50', 'HistHet']"
      ]
     },
     "execution_count": 45,
     "metadata": {},
     "output_type": "execute_result"
    }
   ],
   "source": [
    "forward_selected_feature_list"
   ]
  },
  {
   "cell_type": "code",
   "execution_count": 81,
   "metadata": {},
   "outputs": [],
   "source": [
    "model = LogisticRegression()   \n",
    "\n",
    "model.fit(X_smote, y_smote)\n",
    "pred = model.predict(X_test)    "
   ]
  },
  {
   "cell_type": "code",
   "execution_count": 82,
   "metadata": {},
   "outputs": [
    {
     "name": "stdout",
     "output_type": "stream",
     "text": [
      "Training AUC: 0.7053903528039618\n",
      "Testing AUC:  0.6091549295774649\n"
     ]
    },
    {
     "data": {
      "text/plain": [
       "array([0.36930398, 0.30600954, 0.48254092, 0.26908959, 0.57009611,\n",
       "       0.49181797, 0.63005814, 0.36304458, 0.73636637, 0.46500075,\n",
       "       0.44573446, 0.52435189, 0.48184591, 0.41942234, 0.38956665,\n",
       "       0.76257698, 0.86622094, 0.68753766, 0.55862139, 0.2810873 ,\n",
       "       0.69450792, 0.38317245, 0.27295479, 0.26117809, 0.73642207,\n",
       "       0.4551375 , 0.27423565, 0.38956665, 0.46023201, 0.28788885,\n",
       "       0.71940505, 0.25011772, 0.48378653, 0.2810873 , 0.28788885,\n",
       "       0.46023201, 0.33863149, 0.46023201, 0.27963609, 0.38307444,\n",
       "       0.35370749, 0.66518619, 0.45848666, 0.51383549, 0.4834552 ,\n",
       "       0.54748689, 0.54908309, 0.51804708, 0.28239151, 0.30737994,\n",
       "       0.27833967, 0.33615505, 0.19482051, 0.49694455, 0.36453623,\n",
       "       0.27963609, 0.7123725 , 0.28239151, 0.73415163, 0.27963609,\n",
       "       0.78342967, 0.42441361, 0.45353971, 0.54213784, 0.6499716 ,\n",
       "       0.54748689, 0.28239151, 0.54748689, 0.46496088, 0.33615505,\n",
       "       0.38137601, 0.4834552 , 0.1979901 , 0.49195173, 0.44349572,\n",
       "       0.45353971, 0.36304458, 0.56860866, 0.35837665, 0.2443036 ,\n",
       "       0.23297799, 0.65455342, 0.28788885, 0.36453623, 0.36453623,\n",
       "       0.521995  , 0.26338505, 0.56321632, 0.50515338, 0.86622094,\n",
       "       0.35552944, 0.60595956, 0.63466848, 0.70406623, 0.36453623,\n",
       "       0.71196722, 0.27423565, 0.58359875, 0.37503366, 0.25011772,\n",
       "       0.60005682, 0.36453623, 0.33261778, 0.53001047, 0.6577036 ,\n",
       "       0.7123725 , 0.26463736, 0.57864157, 0.26117809, 0.57864157,\n",
       "       0.38353081, 0.48184591, 0.28239151, 0.63125031, 0.3991288 ,\n",
       "       0.3991288 , 0.48142441, 0.38307444, 0.78310192, 0.35989687,\n",
       "       0.37080638, 0.43046217, 0.77773492, 0.59231803, 0.42019952,\n",
       "       0.36453623, 0.71188217, 0.48559147, 0.57009611, 0.28239151,\n",
       "       0.36138293, 0.38353081, 0.40379209, 0.36138293, 0.24031312,\n",
       "       0.47511596, 0.84305025, 0.47672345, 0.34007639, 0.36349114,\n",
       "       0.35518217, 0.25993637, 0.53519447, 0.53848347, 0.35518217,\n",
       "       0.38307444, 0.31714888, 0.25521022, 0.2810873 , 0.36453623,\n",
       "       0.51572157, 0.2810873 , 0.44236773, 0.2810873 , 0.66366484,\n",
       "       0.45353971, 0.36121237, 0.41858804, 0.43012369, 0.2810873 ,\n",
       "       0.36930398, 0.73636637, 0.41185883, 0.65906804, 0.27963609,\n",
       "       0.25600744, 0.39100161, 0.39731639, 0.81623578, 0.28239151,\n",
       "       0.85527881, 0.36453623])"
      ]
     },
     "execution_count": 82,
     "metadata": {},
     "output_type": "execute_result"
    }
   ],
   "source": [
    "get_auc_scores(model, X_smote, X_val, y_smote, y_val)"
   ]
  },
  {
   "cell_type": "code",
   "execution_count": 48,
   "metadata": {},
   "outputs": [
    {
     "name": "stdout",
     "output_type": "stream",
     "text": [
      "Training AUC: 0.7049338102459326\n",
      "Testing AUC:  0.6118544600938967\n"
     ]
    },
    {
     "data": {
      "image/png": "[encoded data removed]",
      "text/plain": [
       "<Figure size 432x288 with 1 Axes>"
      ]
     },
     "metadata": {
      "needs_background": "light"
     },
     "output_type": "display_data"
    }
   ],
   "source": [
    "plot_roc_curve(y_val, get_auc_scores(model, X_smote[forward_selected_feature_list], X_val[forward_selected_feature_list], y_smote, y_val))\n"
   ]
  },
  {
   "cell_type": "code",
   "execution_count": 83,
   "metadata": {},
   "outputs": [
    {
     "name": "stdout",
     "output_type": "stream",
     "text": [
      "Training AUC: 0.7053903528039618\n",
      "Testing AUC:  0.7548554652213189\n"
     ]
    },
    {
     "data": {
      "image/png": "[encoded data removed]",
      "text/plain": [
       "<Figure size 432x288 with 1 Axes>"
      ]
     },
     "metadata": {
      "needs_background": "light"
     },
     "output_type": "display_data"
    }
   ],
   "source": [
    "plot_roc_curve(y_test, get_auc_scores(model, X_smote, X_test, y_smote, y_test))\n"
   ]
  },
  {
   "cell_type": "markdown",
   "metadata": {},
   "source": [
    "# Ridge"
   ]
  },
  {
   "cell_type": "code",
   "execution_count": 51,
   "metadata": {},
   "outputs": [],
   "source": [
    "model = LogisticRegression(penalty='l2', solver='liblinear')   \n",
    "\n",
    "model.fit(X_smote[forward_selected_feature_list], y_smote)\n",
    "pred = model.predict(X_test[forward_selected_feature_list])  "
   ]
  },
  {
   "cell_type": "code",
   "execution_count": 52,
   "metadata": {},
   "outputs": [
    {
     "name": "stdout",
     "output_type": "stream",
     "text": [
      "Training AUC: 0.7049338102459326\n",
      "Testing AUC:  0.6118544600938967\n"
     ]
    },
    {
     "data": {
      "text/plain": [
       "array([0.35538796, 0.27454847, 0.45435045, 0.27454847, 0.53894748,\n",
       "       0.45356081, 0.63002731, 0.35538796, 0.71697101, 0.47078896,\n",
       "       0.47078896, 0.51046844, 0.47078896, 0.47078896, 0.35538796,\n",
       "       0.78879991, 0.85768183, 0.71697101, 0.57252671, 0.27454847,\n",
       "       0.6957737 , 0.35538796, 0.27454847, 0.27454847, 0.78879991,\n",
       "       0.45356081, 0.27454847, 0.35538796, 0.45356081, 0.27454847,\n",
       "       0.6957737 , 0.27454847, 0.47377795, 0.27454847, 0.27454847,\n",
       "       0.45356081, 0.35538796, 0.45356081, 0.27454847, 0.3791388 ,\n",
       "       0.35538796, 0.66114377, 0.46113462, 0.47377795, 0.47078896,\n",
       "       0.5473413 , 0.5473413 , 0.5473413 , 0.27454847, 0.27454847,\n",
       "       0.27454847, 0.35538796, 0.19047262, 0.47377795, 0.35538796,\n",
       "       0.27454847, 0.71697101, 0.27454847, 0.74540056, 0.27454847,\n",
       "       0.78679505, 0.45356081, 0.45356081, 0.57252671, 0.66114377,\n",
       "       0.5473413 , 0.27454847, 0.5473413 , 0.49931223, 0.35538796,\n",
       "       0.3791388 , 0.47078896, 0.19047262, 0.51046844, 0.45356081,\n",
       "       0.45356081, 0.35538796, 0.57252671, 0.38196589, 0.25526726,\n",
       "       0.27454847, 0.66114377, 0.27454847, 0.35538796, 0.35538796,\n",
       "       0.51046844, 0.25526726, 0.5870969 , 0.47078896, 0.85768183,\n",
       "       0.3791388 , 0.62722753, 0.66114377, 0.68624487, 0.35538796,\n",
       "       0.69897697, 0.27454847, 0.57545925, 0.3791388 , 0.27454847,\n",
       "       0.61088286, 0.35538796, 0.35538796, 0.54813043, 0.66114377,\n",
       "       0.71697101, 0.25526726, 0.5473413 , 0.27454847, 0.5473413 ,\n",
       "       0.3791388 , 0.47078896, 0.27454847, 0.62722753, 0.41718308,\n",
       "       0.41718308, 0.48661761, 0.3791388 , 0.78679505, 0.35538796,\n",
       "       0.35538796, 0.45356081, 0.80532904, 0.63002731, 0.41718308,\n",
       "       0.35538796, 0.7200409 , 0.5359661 , 0.53894748, 0.27454847,\n",
       "       0.35538796, 0.3791388 , 0.3700497 , 0.35538796, 0.27454847,\n",
       "       0.47078896, 0.85768183, 0.47078896, 0.35538796, 0.35538796,\n",
       "       0.35538796, 0.27454847, 0.49931223, 0.5359661 , 0.35538796,\n",
       "       0.3791388 , 0.34727216, 0.27454847, 0.27454847, 0.35538796,\n",
       "       0.5359661 , 0.27454847, 0.47078896, 0.27454847, 0.63002731,\n",
       "       0.45356081, 0.3791388 , 0.38919567, 0.41718308, 0.27454847,\n",
       "       0.35538796, 0.71697101, 0.3791388 , 0.63002731, 0.27454847,\n",
       "       0.27454847, 0.3791388 , 0.3700497 , 0.80532904, 0.27454847,\n",
       "       0.85768183, 0.35538796])"
      ]
     },
     "execution_count": 52,
     "metadata": {},
     "output_type": "execute_result"
    }
   ],
   "source": [
    "get_auc_scores(model, X_smote[forward_selected_feature_list], X_val[forward_selected_feature_list], y_smote, y_val)"
   ]
  },
  {
   "cell_type": "code",
   "execution_count": 53,
   "metadata": {},
   "outputs": [
    {
     "name": "stdout",
     "output_type": "stream",
     "text": [
      "best roc_auc parameter :  0.028\n",
      "ROC_AUC SCORE :  0.6120892018779343\n",
      "\n"
     ]
    }
   ],
   "source": [
    "## hyper parameter tuning\n",
    "clf = LogisticRegression(penalty='l2',  solver='liblinear')\n",
    "\n",
    "\n",
    "\n",
    "best_roc_auc = -10**10\n",
    "\n",
    "roc_auc_list = []\n",
    "\n",
    "param_list = []\n",
    "\n",
    "\n",
    "\n",
    "\n",
    "parameters = np.arange(0.001,1,0.001)\n",
    "for param in parameters:\n",
    "    clf.set_params(C=param)\n",
    "    clf.fit(X_smote[forward_selected_feature_list], y_smote)\n",
    "    y_test_score = clf.predict_proba(X_val[forward_selected_feature_list])[:, 1]\n",
    "    \n",
    "    roc_auc_result = roc_auc_score(y_val, y_test_score)\n",
    "    \n",
    "    roc_auc_list.append(roc_auc_result)\n",
    "    param_list.append(param)\n",
    "    \n",
    "    if roc_auc_result>best_roc_auc:\n",
    "        best_roc_auc = roc_auc_result\n",
    "        best_roc_auc_param = param\n",
    "        \n",
    "        \n",
    "        \n",
    "print(\"best roc_auc parameter : \",best_roc_auc_param)\n",
    "print(\"ROC_AUC SCORE : \", best_roc_auc)\n",
    "print()\n",
    "\n"
   ]
  },
  {
   "cell_type": "code",
   "execution_count": 54,
   "metadata": {},
   "outputs": [
    {
     "data": {
      "text/plain": [
       "LogisticRegression(C=0.028, solver='liblinear')"
      ]
     },
     "execution_count": 54,
     "metadata": {},
     "output_type": "execute_result"
    }
   ],
   "source": [
    "clf = LogisticRegression(penalty='l2',  solver='liblinear', C = 0.028)\n",
    "clf.fit(X_smote[forward_selected_feature_list], y_smote)"
   ]
  },
  {
   "cell_type": "code",
   "execution_count": 111,
   "metadata": {
    "scrolled": true
   },
   "outputs": [
    {
     "name": "stdout",
     "output_type": "stream",
     "text": [
      "Training AUC: 0.7028668851492295\n",
      "Testing AUC:  0.6120892018779343\n"
     ]
    },
    {
     "data": {
      "image/png": "[encoded data removed]",
      "text/plain": [
       "<Figure size 432x288 with 1 Axes>"
      ]
     },
     "metadata": {
      "needs_background": "light"
     },
     "output_type": "display_data"
    }
   ],
   "source": [
    "plot_roc_curve(y_val, get_auc_scores(clf, X_smote[forward_selected_feature_list], X_val[forward_selected_feature_list], y_smote, y_val))\n"
   ]
  },
  {
   "cell_type": "code",
   "execution_count": 56,
   "metadata": {
    "scrolled": true
   },
   "outputs": [
    {
     "name": "stdout",
     "output_type": "stream",
     "text": [
      "Training AUC: 0.7028668851492295\n",
      "Testing AUC:  0.7654697380307137\n"
     ]
    },
    {
     "data": {
      "image/png": "[encoded data removed]",
      "text/plain": [
       "<Figure size 432x288 with 1 Axes>"
      ]
     },
     "metadata": {
      "needs_background": "light"
     },
     "output_type": "display_data"
    }
   ],
   "source": [
    "plot_roc_curve(y_test, get_auc_scores(clf, X_smote[forward_selected_feature_list], X_test[forward_selected_feature_list], y_smote, y_test))\n"
   ]
  },
  {
   "cell_type": "markdown",
   "metadata": {},
   "source": [
    "# Lasso"
   ]
  },
  {
   "cell_type": "code",
   "execution_count": 57,
   "metadata": {},
   "outputs": [],
   "source": [
    "model = LogisticRegression(penalty='l1', solver='liblinear')  \n",
    "\n",
    "model.fit(X_smote[forward_selected_feature_list], y_smote)\n",
    "pred = model.predict(X_val[forward_selected_feature_list])  "
   ]
  },
  {
   "cell_type": "code",
   "execution_count": 58,
   "metadata": {},
   "outputs": [],
   "source": [
    "def get_auc_scores(clf, X_train, X_test, y_train, y_test):\n",
    "    '''Prints the AUC scores for training and testing data\n",
    "    and returns testing score'''\n",
    "\n",
    "    y_train_score = clf.predict_proba(X_train)[:, 1]\n",
    "    y_test_score = clf.predict_proba(X_test)[:, 1]\n",
    "    print('Training AUC:' , roc_auc_score(y_train, y_train_score))\n",
    "    print('Testing AUC: ', roc_auc_score(y_test, y_test_score))\n",
    "    \n",
    "    return y_test_score\n"
   ]
  },
  {
   "cell_type": "code",
   "execution_count": 59,
   "metadata": {},
   "outputs": [
    {
     "name": "stdout",
     "output_type": "stream",
     "text": [
      "best roc_auc parameter :  1.02\n",
      "ROC_AUC SCORE :  0.6118544600938967\n",
      "\n"
     ]
    }
   ],
   "source": [
    "## hyperparameter tuning\n",
    "clf = LogisticRegression(penalty='l1',  solver='liblinear')\n",
    "\n",
    "\n",
    "\n",
    "best_roc_auc = -10**10\n",
    "\n",
    "roc_auc_list = []\n",
    "\n",
    "param_list = []\n",
    "\n",
    "\n",
    "\n",
    "\n",
    "parameters = np.arange(1,3,0.01)\n",
    "for param in parameters:\n",
    "    clf.set_params(C=param)\n",
    "    clf.fit(X_smote[forward_selected_feature_list], y_smote)\n",
    "    y_test_score = clf.predict_proba(X_val[forward_selected_feature_list])[:, 1]\n",
    "    \n",
    "    roc_auc_result = roc_auc_score(y_val, y_test_score)\n",
    "    \n",
    "    roc_auc_list.append(roc_auc_result)\n",
    "    param_list.append(param)\n",
    "    \n",
    "    if roc_auc_result>best_roc_auc:\n",
    "        best_roc_auc = roc_auc_result\n",
    "        best_roc_auc_param = param\n",
    "        \n",
    "        \n",
    "print(\"best roc_auc parameter : \",best_roc_auc_param)\n",
    "print(\"ROC_AUC SCORE : \", best_roc_auc)\n",
    "print()\n",
    "\n"
   ]
  },
  {
   "cell_type": "code",
   "execution_count": 60,
   "metadata": {},
   "outputs": [
    {
     "data": {
      "text/plain": [
       "LogisticRegression(C=1.02, penalty='l1', solver='liblinear')"
      ]
     },
     "execution_count": 60,
     "metadata": {},
     "output_type": "execute_result"
    }
   ],
   "source": [
    "clf = LogisticRegression(penalty='l1',  solver='liblinear', C = 1.02)\n",
    "clf.fit(X_smote[forward_selected_feature_list], y_smote)"
   ]
  },
  {
   "cell_type": "code",
   "execution_count": 61,
   "metadata": {},
   "outputs": [
    {
     "data": {
      "text/html": [
       "<div>\n",
       "<style scoped>\n",
       "    .dataframe tbody tr th:only-of-type {\n",
       "        vertical-align: middle;\n",
       "    }\n",
       "\n",
       "    .dataframe tbody tr th {\n",
       "        vertical-align: top;\n",
       "    }\n",
       "\n",
       "    .dataframe thead th {\n",
       "        text-align: right;\n",
       "    }\n",
       "</style>\n",
       "<table border=\"1\" class=\"dataframe\">\n",
       "  <thead>\n",
       "    <tr style=\"text-align: right;\">\n",
       "      <th></th>\n",
       "      <th>TILS</th>\n",
       "      <th>ModDiff</th>\n",
       "      <th>RightSide</th>\n",
       "      <th>Female</th>\n",
       "      <th>NoNecrosis</th>\n",
       "      <th>Under50</th>\n",
       "      <th>HistHet</th>\n",
       "    </tr>\n",
       "  </thead>\n",
       "  <tbody>\n",
       "    <tr>\n",
       "      <th>0</th>\n",
       "      <td>1</td>\n",
       "      <td>1</td>\n",
       "      <td>1</td>\n",
       "      <td>1</td>\n",
       "      <td>1</td>\n",
       "      <td>0</td>\n",
       "      <td>1</td>\n",
       "    </tr>\n",
       "    <tr>\n",
       "      <th>1</th>\n",
       "      <td>0</td>\n",
       "      <td>0</td>\n",
       "      <td>1</td>\n",
       "      <td>0</td>\n",
       "      <td>0</td>\n",
       "      <td>0</td>\n",
       "      <td>0</td>\n",
       "    </tr>\n",
       "    <tr>\n",
       "      <th>2</th>\n",
       "      <td>0</td>\n",
       "      <td>1</td>\n",
       "      <td>1</td>\n",
       "      <td>1</td>\n",
       "      <td>1</td>\n",
       "      <td>0</td>\n",
       "      <td>1</td>\n",
       "    </tr>\n",
       "    <tr>\n",
       "      <th>3</th>\n",
       "      <td>1</td>\n",
       "      <td>0</td>\n",
       "      <td>0</td>\n",
       "      <td>0</td>\n",
       "      <td>1</td>\n",
       "      <td>0</td>\n",
       "      <td>0</td>\n",
       "    </tr>\n",
       "    <tr>\n",
       "      <th>4</th>\n",
       "      <td>0</td>\n",
       "      <td>0</td>\n",
       "      <td>1</td>\n",
       "      <td>1</td>\n",
       "      <td>0</td>\n",
       "      <td>0</td>\n",
       "      <td>0</td>\n",
       "    </tr>\n",
       "    <tr>\n",
       "      <th>...</th>\n",
       "      <td>...</td>\n",
       "      <td>...</td>\n",
       "      <td>...</td>\n",
       "      <td>...</td>\n",
       "      <td>...</td>\n",
       "      <td>...</td>\n",
       "      <td>...</td>\n",
       "    </tr>\n",
       "    <tr>\n",
       "      <th>2589</th>\n",
       "      <td>1</td>\n",
       "      <td>1</td>\n",
       "      <td>1</td>\n",
       "      <td>1</td>\n",
       "      <td>1</td>\n",
       "      <td>0</td>\n",
       "      <td>0</td>\n",
       "    </tr>\n",
       "    <tr>\n",
       "      <th>2590</th>\n",
       "      <td>0</td>\n",
       "      <td>1</td>\n",
       "      <td>0</td>\n",
       "      <td>0</td>\n",
       "      <td>1</td>\n",
       "      <td>0</td>\n",
       "      <td>0</td>\n",
       "    </tr>\n",
       "    <tr>\n",
       "      <th>2591</th>\n",
       "      <td>1</td>\n",
       "      <td>1</td>\n",
       "      <td>1</td>\n",
       "      <td>1</td>\n",
       "      <td>1</td>\n",
       "      <td>0</td>\n",
       "      <td>0</td>\n",
       "    </tr>\n",
       "    <tr>\n",
       "      <th>2592</th>\n",
       "      <td>1</td>\n",
       "      <td>1</td>\n",
       "      <td>1</td>\n",
       "      <td>1</td>\n",
       "      <td>1</td>\n",
       "      <td>0</td>\n",
       "      <td>1</td>\n",
       "    </tr>\n",
       "    <tr>\n",
       "      <th>2593</th>\n",
       "      <td>0</td>\n",
       "      <td>0</td>\n",
       "      <td>0</td>\n",
       "      <td>1</td>\n",
       "      <td>0</td>\n",
       "      <td>0</td>\n",
       "      <td>0</td>\n",
       "    </tr>\n",
       "  </tbody>\n",
       "</table>\n",
       "<p>2594 rows × 7 columns</p>\n",
       "</div>"
      ],
      "text/plain": [
       "      TILS  ModDiff  RightSide  Female  NoNecrosis  Under50  HistHet\n",
       "0        1        1          1       1           1        0        1\n",
       "1        0        0          1       0           0        0        0\n",
       "2        0        1          1       1           1        0        1\n",
       "3        1        0          0       0           1        0        0\n",
       "4        0        0          1       1           0        0        0\n",
       "...    ...      ...        ...     ...         ...      ...      ...\n",
       "2589     1        1          1       1           1        0        0\n",
       "2590     0        1          0       0           1        0        0\n",
       "2591     1        1          1       1           1        0        0\n",
       "2592     1        1          1       1           1        0        1\n",
       "2593     0        0          0       1           0        0        0\n",
       "\n",
       "[2594 rows x 7 columns]"
      ]
     },
     "execution_count": 61,
     "metadata": {},
     "output_type": "execute_result"
    }
   ],
   "source": [
    " X_smote[forward_selected_feature_list]"
   ]
  },
  {
   "cell_type": "code",
   "execution_count": 62,
   "metadata": {
    "scrolled": false
   },
   "outputs": [
    {
     "name": "stdout",
     "output_type": "stream",
     "text": [
      "Training AUC: 0.7051222529424108\n",
      "Testing AUC:  0.6118544600938967\n"
     ]
    },
    {
     "data": {
      "image/png": "[encoded data removed]",
      "text/plain": [
       "<Figure size 432x288 with 1 Axes>"
      ]
     },
     "metadata": {
      "needs_background": "light"
     },
     "output_type": "display_data"
    }
   ],
   "source": [
    "plot_roc_curve(y_val, get_auc_scores(clf, X_smote[forward_selected_feature_list], X_val[forward_selected_feature_list], y_smote, y_val))\n"
   ]
  },
  {
   "cell_type": "code",
   "execution_count": 63,
   "metadata": {},
   "outputs": [
    {
     "name": "stdout",
     "output_type": "stream",
     "text": [
      "Training AUC: 0.7051222529424108\n",
      "Testing AUC:  0.7530487804878049\n"
     ]
    },
    {
     "data": {
      "image/png": "[encoded data removed]",
      "text/plain": [
       "<Figure size 432x288 with 1 Axes>"
      ]
     },
     "metadata": {
      "needs_background": "light"
     },
     "output_type": "display_data"
    }
   ],
   "source": [
    "plot_roc_curve(y_test, get_auc_scores(clf, X_smote[forward_selected_feature_list], X_test[forward_selected_feature_list], y_smote, y_test))\n"
   ]
  },
  {
   "cell_type": "code",
   "execution_count": null,
   "metadata": {},
   "outputs": [],
   "source": []
  },
  {
   "cell_type": "markdown",
   "metadata": {},
   "source": [
    "# Elastic net"
   ]
  },
  {
   "cell_type": "code",
   "execution_count": 130,
   "metadata": {},
   "outputs": [
    {
     "name": "stdout",
     "output_type": "stream",
     "text": [
      "best roc_auc parameter :  (0.41000000000000003, 0.09)\n",
      "ROC_AUC SCORE :  0.6582159624413144\n",
      "\n"
     ]
    }
   ],
   "source": [
    "## hyperparameter tuning\n",
    "clf = SGDClassifier(loss='log', penalty='elasticnet')\n",
    "#                                         alpha=0.0001, l1_ratio=0.15)\n",
    "\n",
    "\n",
    "\n",
    "best_roc_auc = -10**10\n",
    "\n",
    "roc_auc_list = []\n",
    "\n",
    "param_list = []\n",
    "\n",
    "\n",
    "\n",
    "\n",
    "parameters_alpha = np.arange(0.01,2,0.1)\n",
    "parameters_l1 = np.arange(0.01,1,0.01)\n",
    "\n",
    "for param1 in parameters_alpha:\n",
    "    for param2 in parameters_l1:\n",
    "        clf.set_params(alpha = param1, l1_ratio = param2 )\n",
    "        clf.fit(X_smote[forward_selected_feature_list], y_smote)\n",
    "        y_test_score = clf.predict_proba(X_val[forward_selected_feature_list])[:, 1]\n",
    "\n",
    "        roc_auc_result = roc_auc_score(y_val, y_test_score)\n",
    "\n",
    "        roc_auc_list.append(roc_auc_result)\n",
    "        param_list.append(param)\n",
    "\n",
    "        if roc_auc_result>best_roc_auc:\n",
    "            best_roc_auc = roc_auc_result\n",
    "            best_roc_auc_param = (param1, param2)\n",
    "        \n",
    "        \n",
    "print(\"best roc_auc parameter : \",best_roc_auc_param)\n",
    "print(\"ROC_AUC SCORE : \", best_roc_auc)\n",
    "print()\n",
    "\n"
   ]
  },
  {
   "cell_type": "code",
   "execution_count": 64,
   "metadata": {},
   "outputs": [
    {
     "data": {
      "text/plain": [
       "SGDClassifier(alpha=0.41, l1_ratio=0.09, loss='log', penalty='elasticnet')"
      ]
     },
     "execution_count": 64,
     "metadata": {},
     "output_type": "execute_result"
    }
   ],
   "source": [
    "clf = SGDClassifier(loss='log', penalty='elasticnet', alpha = 0.41, l1_ratio = 0.09)\n",
    "clf.fit(X_smote[forward_selected_feature_list], y_smote)"
   ]
  },
  {
   "cell_type": "code",
   "execution_count": 65,
   "metadata": {},
   "outputs": [
    {
     "name": "stdout",
     "output_type": "stream",
     "text": [
      "Training AUC: 0.6840778999517895\n",
      "Testing AUC:  0.7846657633243\n"
     ]
    },
    {
     "data": {
      "text/plain": [
       "array([0.52481048, 0.49844667, 0.50431136, 0.50431136, 0.49062077,\n",
       "       0.49844667, 0.49062077, 0.51213608, 0.50331202, 0.49062077,\n",
       "       0.49844667, 0.49844667, 0.50331202, 0.49062077, 0.49062077,\n",
       "       0.50431136, 0.49062077, 0.49844667, 0.49844667, 0.49062077,\n",
       "       0.49844667, 0.49844667, 0.49844667, 0.49844667, 0.49062077,\n",
       "       0.51113723, 0.49062077, 0.49062077, 0.50331202, 0.49062077,\n",
       "       0.51113723, 0.49062077, 0.50431136, 0.51113723, 0.49062077,\n",
       "       0.49844667, 0.49062077, 0.51113723, 0.49062077, 0.50431136,\n",
       "       0.49062077, 0.49844667, 0.51699732, 0.49062077, 0.49844667,\n",
       "       0.49062077, 0.52481048, 0.49062077, 0.51699732, 0.49062077,\n",
       "       0.51213608, 0.50331202, 0.49062077, 0.49062077, 0.50331202,\n",
       "       0.51113723, 0.49062077, 0.49062077, 0.49844667, 0.50431136,\n",
       "       0.49062077, 0.49062077, 0.49844667, 0.49844667, 0.50431136,\n",
       "       0.49062077, 0.49844667, 0.49062077, 0.49844667, 0.49844667,\n",
       "       0.52481048, 0.49062077, 0.49062077, 0.50331202, 0.50331202,\n",
       "       0.50331202, 0.49062077, 0.49844667, 0.52481048, 0.49062077,\n",
       "       0.51699732, 0.49062077, 0.49844667, 0.51699732, 0.50431136,\n",
       "       0.49062077, 0.49844667, 0.49844667, 0.51213608, 0.50331202,\n",
       "       0.50431136, 0.49844667, 0.51113723, 0.49062077, 0.50431136,\n",
       "       0.49062077, 0.49062077, 0.49062077, 0.49062077, 0.51113723,\n",
       "       0.51113723, 0.49844667, 0.51213608, 0.49844667, 0.52481048,\n",
       "       0.50331202, 0.50331202, 0.51113723, 0.49062077, 0.49844667,\n",
       "       0.49062077, 0.51699732, 0.49062077, 0.52481048, 0.50431136,\n",
       "       0.49844667, 0.52481048, 0.49844667, 0.49062077, 0.49062077,\n",
       "       0.52481048, 0.49062077, 0.51699732, 0.51699732, 0.49062077,\n",
       "       0.50331202, 0.49062077, 0.50331202, 0.50431136, 0.50331202,\n",
       "       0.49062077, 0.51699732, 0.49844667, 0.49062077, 0.51113723,\n",
       "       0.49062077, 0.51699732, 0.49844667, 0.49844667, 0.51213608,\n",
       "       0.51213608, 0.49062077, 0.51113723, 0.50431136, 0.51699732,\n",
       "       0.51699732, 0.50431136, 0.49062077, 0.49844667, 0.49844667,\n",
       "       0.49062077, 0.50331202, 0.49062077, 0.49062077, 0.49844667,\n",
       "       0.52481048, 0.49062077, 0.49062077, 0.49062077, 0.49844667,\n",
       "       0.49062077, 0.49062077, 0.49062077, 0.52481048, 0.49062077,\n",
       "       0.51213608, 0.49062077, 0.49062077, 0.49062077, 0.49062077,\n",
       "       0.49062077, 0.49062077, 0.49062077, 0.50331202, 0.49844667,\n",
       "       0.49062077, 0.51699732, 0.49062077, 0.49844667, 0.49844667,\n",
       "       0.49062077, 0.52481048, 0.49062077, 0.49062077, 0.49062077,\n",
       "       0.49844667, 0.50331202, 0.49062077, 0.49062077, 0.49844667,\n",
       "       0.50431136])"
      ]
     },
     "execution_count": 65,
     "metadata": {},
     "output_type": "execute_result"
    }
   ],
   "source": [
    "get_auc_scores(clf, X_smote[forward_selected_feature_list], X_test[forward_selected_feature_list], y_smote, y_test)"
   ]
  },
  {
   "cell_type": "code",
   "execution_count": 66,
   "metadata": {},
   "outputs": [
    {
     "name": "stdout",
     "output_type": "stream",
     "text": [
      "Training AUC: 0.6840778999517895\n",
      "Testing AUC:  0.7846657633243\n"
     ]
    },
    {
     "data": {
      "image/png": "[encoded data removed]",
      "text/plain": [
       "<Figure size 432x288 with 1 Axes>"
      ]
     },
     "metadata": {
      "needs_background": "light"
     },
     "output_type": "display_data"
    }
   ],
   "source": [
    "plot_roc_curve(y_test, get_auc_scores(clf, X_smote[forward_selected_feature_list], X_test[forward_selected_feature_list], y_smote, y_test))\n"
   ]
  },
  {
   "cell_type": "code",
   "execution_count": null,
   "metadata": {},
   "outputs": [],
   "source": []
  }
 ],
 "metadata": {
  "kernelspec": {
   "display_name": "Python 3",
   "language": "python",
   "name": "python3"
  },
  "language_info": {
   "codemirror_mode": {
    "name": "ipython",
    "version": 3
   },
   "file_extension": ".py",
   "mimetype": "text/x-python",
   "name": "python",
   "nbconvert_exporter": "python",
   "pygments_lexer": "ipython3",
   "version": "3.7.7"
  }
 },
 "nbformat": 4,
 "nbformat_minor": 2
}
